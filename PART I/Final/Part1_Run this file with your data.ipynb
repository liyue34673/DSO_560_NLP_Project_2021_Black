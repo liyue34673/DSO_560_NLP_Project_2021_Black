{
 "cells": [
  {
   "cell_type": "markdown",
   "id": "after-rates",
   "metadata": {},
   "source": [
    "## Instructions:\n",
    "\n",
    "This notebook contains our final model. You can replace the dataset name with your owns but the same category. Then run the file from start to end. Thanks!"
   ]
  },
  {
   "cell_type": "code",
   "execution_count": 1,
   "id": "killing-finder",
   "metadata": {},
   "outputs": [],
   "source": [
    "import pandas as pd\n",
    "import numpy as np\n",
    "import re\n",
    "import spacy\n",
    "from scipy.spatial.distance import cosine\n",
    "import nltk\n",
    "import string\n",
    "from nltk import word_tokenize\n",
    "from nltk.corpus import stopwords\n",
    "from sklearn.feature_extraction.text import CountVectorizer\n",
    "from keras.utils import to_categorical\n",
    "from sklearn.preprocessing import LabelEncoder\n",
    "from sklearn.feature_extraction.text import TfidfVectorizer\n",
    "\n",
    "from sklearn.model_selection import train_test_split\n",
    "from sklearn.linear_model import LogisticRegression\n",
    "from sklearn.multiclass import OneVsRestClassifier\n",
    "from sklearn.metrics import confusion_matrix\n",
    "\n",
    "from lightgbm import LGBMClassifier\n",
    "from sklearn.tree import DecisionTreeClassifier\n",
    "from sklearn.neighbors import KNeighborsClassifier\n",
    "from sklearn.neural_network import MLPClassifier\n",
    "from sklearn.ensemble import RandomForestClassifier\n",
    "\n",
    "from sklearn.model_selection import cross_val_score,KFold, StratifiedKFold\n",
    "from sklearn.decomposition import PCA\n",
    "from sklearn.preprocessing import StandardScaler\n",
    "\n",
    "from keras.preprocessing.text import Tokenizer\n",
    "from typing import List\n",
    "from keras.preprocessing.sequence import pad_sequences\n",
    "from keras.utils import to_categorical\n",
    "from sklearn.preprocessing import LabelEncoder\n",
    "from keras.layers.recurrent import SimpleRNN\n",
    "from keras.layers import Flatten, Masking\n",
    "\n",
    "from numpy import array, argmax, asarray, zeros\n",
    "\n",
    "import keras\n",
    "from keras.layers.recurrent import SimpleRNN, LSTM\n",
    "from keras.layers import Flatten, Masking, Embedding\n",
    "from keras.layers import Activation, Dense\n",
    "from tensorflow.python.framework.ops import disable_eager_execution\n",
    "from keras.models import Sequential                                       \n",
    "from keras.utils.vis_utils import plot_model\n",
    "from keras.layers import Input\n",
    "from keras.layers.merge import Concatenate\n",
    "from keras.models import Model\n",
    "\n",
    "import warnings\n",
    "warnings.filterwarnings('ignore')"
   ]
  },
  {
   "cell_type": "markdown",
   "id": "intensive-rough",
   "metadata": {},
   "source": [
    "# Load Dataset"
   ]
  },
  {
   "cell_type": "markdown",
   "id": "interstate-testament",
   "metadata": {},
   "source": [
    "## Product"
   ]
  },
  {
   "cell_type": "code",
   "execution_count": 2,
   "id": "critical-corps",
   "metadata": {},
   "outputs": [
    {
     "name": "stdout",
     "output_type": "stream",
     "text": [
      "CPU times: user 13.3 s, sys: 249 ms, total: 13.6 s\n",
      "Wall time: 13.7 s\n"
     ]
    },
    {
     "data": {
      "text/html": [
       "<div>\n",
       "<style scoped>\n",
       "    .dataframe tbody tr th:only-of-type {\n",
       "        vertical-align: middle;\n",
       "    }\n",
       "\n",
       "    .dataframe tbody tr th {\n",
       "        vertical-align: top;\n",
       "    }\n",
       "\n",
       "    .dataframe thead th {\n",
       "        text-align: right;\n",
       "    }\n",
       "</style>\n",
       "<table border=\"1\" class=\"dataframe\">\n",
       "  <thead>\n",
       "    <tr style=\"text-align: right;\">\n",
       "      <th></th>\n",
       "      <th>product_id</th>\n",
       "      <th>brand</th>\n",
       "      <th>brand_category</th>\n",
       "      <th>name</th>\n",
       "      <th>details</th>\n",
       "      <th>created_at</th>\n",
       "      <th>brand_canonical_url</th>\n",
       "      <th>description</th>\n",
       "      <th>brand_description</th>\n",
       "      <th>brand_name</th>\n",
       "      <th>product_active</th>\n",
       "    </tr>\n",
       "  </thead>\n",
       "  <tbody>\n",
       "    <tr>\n",
       "      <th>0</th>\n",
       "      <td>01EX0PN4J9WRNZH5F93YEX6QAF</td>\n",
       "      <td>Two</td>\n",
       "      <td>Unknown</td>\n",
       "      <td>Khadi Stripe Shirt-our signature shirt</td>\n",
       "      <td>NaN</td>\n",
       "      <td>2021-01-27 01:17:19.305 UTC</td>\n",
       "      <td>https://two-nyc.myshopify.com/products/white-k...</td>\n",
       "      <td>Our signature khadi shirt\\navailable in black ...</td>\n",
       "      <td>Our signature khadi shirt\\n\\navailable in blac...</td>\n",
       "      <td>Khadi Stripe Shirt-our signature shirt</td>\n",
       "      <td>True</td>\n",
       "    </tr>\n",
       "    <tr>\n",
       "      <th>1</th>\n",
       "      <td>01F0C4SKZV6YXS3265JMC39NXW</td>\n",
       "      <td>Collina Strada</td>\n",
       "      <td>Unknown</td>\n",
       "      <td>RUFFLE MARKET DRESS LOOPY PINK SISTINE TOMATO</td>\n",
       "      <td>NaN</td>\n",
       "      <td>2021-03-09 18:43:10.457 UTC</td>\n",
       "      <td>https://collina-strada-2.myshopify.com/product...</td>\n",
       "      <td>Mid-length dress with ruffles and adjustable s...</td>\n",
       "      <td>Mid-length dress with ruffles and adjustable s...</td>\n",
       "      <td>RUFFLE MARKET DRESS LOOPY PINK SISTINE TOMATO</td>\n",
       "      <td>True</td>\n",
       "    </tr>\n",
       "    <tr>\n",
       "      <th>2</th>\n",
       "      <td>01EY4Y1BW8VZW51BWG5VZY82XW</td>\n",
       "      <td>Cariuma</td>\n",
       "      <td>Unknown</td>\n",
       "      <td>IBI Slip On Raw Red Knit Sneaker Women</td>\n",
       "      <td>NaN</td>\n",
       "      <td>2021-02-10 02:58:59.591 UTC</td>\n",
       "      <td>https://cariuma.myshopify.com/products/ibi-sli...</td>\n",
       "      <td>IBI Slip On Raw Red Knit Sneaker Women</td>\n",
       "      <td>IBI Slip On Raw Red Knit Sneaker Women</td>\n",
       "      <td>IBI Slip On Raw Red Knit Sneaker Women</td>\n",
       "      <td>False</td>\n",
       "    </tr>\n",
       "  </tbody>\n",
       "</table>\n",
       "</div>"
      ],
      "text/plain": [
       "                   product_id           brand brand_category  \\\n",
       "0  01EX0PN4J9WRNZH5F93YEX6QAF             Two        Unknown   \n",
       "1  01F0C4SKZV6YXS3265JMC39NXW  Collina Strada        Unknown   \n",
       "2  01EY4Y1BW8VZW51BWG5VZY82XW         Cariuma        Unknown   \n",
       "\n",
       "                                            name details  \\\n",
       "0         Khadi Stripe Shirt-our signature shirt     NaN   \n",
       "1  RUFFLE MARKET DRESS LOOPY PINK SISTINE TOMATO     NaN   \n",
       "2         IBI Slip On Raw Red Knit Sneaker Women     NaN   \n",
       "\n",
       "                    created_at  \\\n",
       "0  2021-01-27 01:17:19.305 UTC   \n",
       "1  2021-03-09 18:43:10.457 UTC   \n",
       "2  2021-02-10 02:58:59.591 UTC   \n",
       "\n",
       "                                 brand_canonical_url  \\\n",
       "0  https://two-nyc.myshopify.com/products/white-k...   \n",
       "1  https://collina-strada-2.myshopify.com/product...   \n",
       "2  https://cariuma.myshopify.com/products/ibi-sli...   \n",
       "\n",
       "                                         description  \\\n",
       "0  Our signature khadi shirt\\navailable in black ...   \n",
       "1  Mid-length dress with ruffles and adjustable s...   \n",
       "2             IBI Slip On Raw Red Knit Sneaker Women   \n",
       "\n",
       "                                   brand_description  \\\n",
       "0  Our signature khadi shirt\\n\\navailable in blac...   \n",
       "1  Mid-length dress with ruffles and adjustable s...   \n",
       "2             IBI Slip On Raw Red Knit Sneaker Women   \n",
       "\n",
       "                                      brand_name  product_active  \n",
       "0         Khadi Stripe Shirt-our signature shirt            True  \n",
       "1  RUFFLE MARKET DRESS LOOPY PINK SISTINE TOMATO            True  \n",
       "2         IBI Slip On Raw Red Knit Sneaker Women           False  "
      ]
     },
     "execution_count": 2,
     "metadata": {},
     "output_type": "execute_result"
    }
   ],
   "source": [
    "%%time\n",
    "# load product information\n",
    "product = pd.read_excel('Behold+product+data+04262021.xlsx')\n",
    "product.head(3)"
   ]
  },
  {
   "cell_type": "code",
   "execution_count": 3,
   "id": "systematic-klein",
   "metadata": {},
   "outputs": [
    {
     "name": "stdout",
     "output_type": "stream",
     "text": [
      "<class 'pandas.core.frame.DataFrame'>\n",
      "RangeIndex: 61355 entries, 0 to 61354\n",
      "Data columns (total 11 columns):\n",
      " #   Column               Non-Null Count  Dtype \n",
      "---  ------               --------------  ----- \n",
      " 0   product_id           61355 non-null  object\n",
      " 1   brand                61355 non-null  object\n",
      " 2   brand_category       60896 non-null  object\n",
      " 3   name                 61354 non-null  object\n",
      " 4   details              9200 non-null   object\n",
      " 5   created_at           61355 non-null  object\n",
      " 6   brand_canonical_url  61355 non-null  object\n",
      " 7   description          51238 non-null  object\n",
      " 8   brand_description    51234 non-null  object\n",
      " 9   brand_name           61354 non-null  object\n",
      " 10  product_active       61355 non-null  bool  \n",
      "dtypes: bool(1), object(10)\n",
      "memory usage: 4.7+ MB\n"
     ]
    }
   ],
   "source": [
    "product.info()"
   ]
  },
  {
   "cell_type": "markdown",
   "id": "artificial-cartoon",
   "metadata": {},
   "source": [
    "## Brand"
   ]
  },
  {
   "cell_type": "code",
   "execution_count": 4,
   "id": "great-stand",
   "metadata": {},
   "outputs": [
    {
     "data": {
      "text/html": [
       "<div>\n",
       "<style scoped>\n",
       "    .dataframe tbody tr th:only-of-type {\n",
       "        vertical-align: middle;\n",
       "    }\n",
       "\n",
       "    .dataframe tbody tr th {\n",
       "        vertical-align: top;\n",
       "    }\n",
       "\n",
       "    .dataframe thead th {\n",
       "        text-align: right;\n",
       "    }\n",
       "</style>\n",
       "<table border=\"1\" class=\"dataframe\">\n",
       "  <thead>\n",
       "    <tr style=\"text-align: right;\">\n",
       "      <th></th>\n",
       "      <th>brand_id</th>\n",
       "      <th>brand</th>\n",
       "      <th>brand_value</th>\n",
       "      <th>bio</th>\n",
       "      <th>quote</th>\n",
       "      <th>quote_attribute</th>\n",
       "      <th>intro</th>\n",
       "      <th>lifestyle_copy</th>\n",
       "      <th>short_bio</th>\n",
       "      <th>listing_bio</th>\n",
       "    </tr>\n",
       "  </thead>\n",
       "  <tbody>\n",
       "    <tr>\n",
       "      <th>0</th>\n",
       "      <td>01ESKR0CH2KYC7KBNTN0S38EQA</td>\n",
       "      <td>Mari Giudicelli</td>\n",
       "      <td>Handmade / Artisan Crafted</td>\n",
       "      <td>NaN</td>\n",
       "      <td>NaN</td>\n",
       "      <td>NaN</td>\n",
       "      <td>NaN</td>\n",
       "      <td>NaN</td>\n",
       "      <td>NaN</td>\n",
       "      <td>Behold Mari Giudicelli! This Brazilian shoe de...</td>\n",
       "    </tr>\n",
       "    <tr>\n",
       "      <th>1</th>\n",
       "      <td>01ESKR0CH2KYC7KBNTN0S38EQA</td>\n",
       "      <td>Mari Giudicelli</td>\n",
       "      <td>Sustainable</td>\n",
       "      <td>NaN</td>\n",
       "      <td>NaN</td>\n",
       "      <td>NaN</td>\n",
       "      <td>NaN</td>\n",
       "      <td>NaN</td>\n",
       "      <td>NaN</td>\n",
       "      <td>Behold Mari Giudicelli! This Brazilian shoe de...</td>\n",
       "    </tr>\n",
       "    <tr>\n",
       "      <th>2</th>\n",
       "      <td>01ESKR0CH2KYC7KBNTN0S38EQA</td>\n",
       "      <td>Mari Giudicelli</td>\n",
       "      <td>Women Owned</td>\n",
       "      <td>NaN</td>\n",
       "      <td>NaN</td>\n",
       "      <td>NaN</td>\n",
       "      <td>NaN</td>\n",
       "      <td>NaN</td>\n",
       "      <td>NaN</td>\n",
       "      <td>Behold Mari Giudicelli! This Brazilian shoe de...</td>\n",
       "    </tr>\n",
       "  </tbody>\n",
       "</table>\n",
       "</div>"
      ],
      "text/plain": [
       "                     brand_id            brand                 brand_value  \\\n",
       "0  01ESKR0CH2KYC7KBNTN0S38EQA  Mari Giudicelli  Handmade / Artisan Crafted   \n",
       "1  01ESKR0CH2KYC7KBNTN0S38EQA  Mari Giudicelli                 Sustainable   \n",
       "2  01ESKR0CH2KYC7KBNTN0S38EQA  Mari Giudicelli                 Women Owned   \n",
       "\n",
       "   bio quote quote_attribute intro lifestyle_copy short_bio  \\\n",
       "0  NaN   NaN             NaN   NaN            NaN       NaN   \n",
       "1  NaN   NaN             NaN   NaN            NaN       NaN   \n",
       "2  NaN   NaN             NaN   NaN            NaN       NaN   \n",
       "\n",
       "                                         listing_bio  \n",
       "0  Behold Mari Giudicelli! This Brazilian shoe de...  \n",
       "1  Behold Mari Giudicelli! This Brazilian shoe de...  \n",
       "2  Behold Mari Giudicelli! This Brazilian shoe de...  "
      ]
     },
     "execution_count": 4,
     "metadata": {},
     "output_type": "execute_result"
    }
   ],
   "source": [
    "# load brand information\n",
    "brand = pd.read_csv('behold_brands USC.csv')\n",
    "brand.head(3)"
   ]
  },
  {
   "cell_type": "code",
   "execution_count": 5,
   "id": "variable-increase",
   "metadata": {},
   "outputs": [
    {
     "name": "stdout",
     "output_type": "stream",
     "text": [
      "<class 'pandas.core.frame.DataFrame'>\n",
      "RangeIndex: 162 entries, 0 to 161\n",
      "Data columns (total 10 columns):\n",
      " #   Column           Non-Null Count  Dtype \n",
      "---  ------           --------------  ----- \n",
      " 0   brand_id         162 non-null    object\n",
      " 1   brand            162 non-null    object\n",
      " 2   brand_value      154 non-null    object\n",
      " 3   bio              157 non-null    object\n",
      " 4   quote            157 non-null    object\n",
      " 5   quote_attribute  154 non-null    object\n",
      " 6   intro            154 non-null    object\n",
      " 7   lifestyle_copy   156 non-null    object\n",
      " 8   short_bio        157 non-null    object\n",
      " 9   listing_bio      157 non-null    object\n",
      "dtypes: object(10)\n",
      "memory usage: 12.8+ KB\n"
     ]
    }
   ],
   "source": [
    "brand.info()"
   ]
  },
  {
   "cell_type": "markdown",
   "id": "three-investigator",
   "metadata": {},
   "source": [
    "## Outfit"
   ]
  },
  {
   "cell_type": "code",
   "execution_count": 6,
   "id": "sufficient-referral",
   "metadata": {},
   "outputs": [
    {
     "data": {
      "text/html": [
       "<div>\n",
       "<style scoped>\n",
       "    .dataframe tbody tr th:only-of-type {\n",
       "        vertical-align: middle;\n",
       "    }\n",
       "\n",
       "    .dataframe tbody tr th {\n",
       "        vertical-align: top;\n",
       "    }\n",
       "\n",
       "    .dataframe thead th {\n",
       "        text-align: right;\n",
       "    }\n",
       "</style>\n",
       "<table border=\"1\" class=\"dataframe\">\n",
       "  <thead>\n",
       "    <tr style=\"text-align: right;\">\n",
       "      <th></th>\n",
       "      <th>outfit_id</th>\n",
       "      <th>product_id</th>\n",
       "      <th>outfit_item_type</th>\n",
       "      <th>brand</th>\n",
       "      <th>product_full_name</th>\n",
       "    </tr>\n",
       "  </thead>\n",
       "  <tbody>\n",
       "    <tr>\n",
       "      <th>0</th>\n",
       "      <td>01DDBHC62ES5K80P0KYJ56AM2T</td>\n",
       "      <td>01DMBRYVA2P5H24WK0HTK4R0A1</td>\n",
       "      <td>bottom</td>\n",
       "      <td>Eileen Fisher</td>\n",
       "      <td>Slim Knit Skirt</td>\n",
       "    </tr>\n",
       "    <tr>\n",
       "      <th>1</th>\n",
       "      <td>01DDBHC62ES5K80P0KYJ56AM2T</td>\n",
       "      <td>01DMBRYVA2PEPWFTT7RMP5AA1T</td>\n",
       "      <td>top</td>\n",
       "      <td>Eileen Fisher</td>\n",
       "      <td>Rib Mock Neck Tank</td>\n",
       "    </tr>\n",
       "    <tr>\n",
       "      <th>2</th>\n",
       "      <td>01DDBHC62ES5K80P0KYJ56AM2T</td>\n",
       "      <td>01DMBRYVA2S5T9W793F4CY41HE</td>\n",
       "      <td>accessory1</td>\n",
       "      <td>kate spade new york</td>\n",
       "      <td>medium margaux leather satchel</td>\n",
       "    </tr>\n",
       "    <tr>\n",
       "      <th>3</th>\n",
       "      <td>01DDBHC62ES5K80P0KYJ56AM2T</td>\n",
       "      <td>01DMBRYVA2ZFDYRYY5TRQZJTBD</td>\n",
       "      <td>shoe</td>\n",
       "      <td>Tory Burch</td>\n",
       "      <td>Penelope Mid Cap Toe Pump</td>\n",
       "    </tr>\n",
       "    <tr>\n",
       "      <th>4</th>\n",
       "      <td>01DMHCX50CFX5YNG99F3Y65GQW</td>\n",
       "      <td>01DMBRYVA2P5H24WK0HTK4R0A1</td>\n",
       "      <td>bottom</td>\n",
       "      <td>Eileen Fisher</td>\n",
       "      <td>Slim Knit Skirt</td>\n",
       "    </tr>\n",
       "  </tbody>\n",
       "</table>\n",
       "</div>"
      ],
      "text/plain": [
       "                    outfit_id                  product_id outfit_item_type  \\\n",
       "0  01DDBHC62ES5K80P0KYJ56AM2T  01DMBRYVA2P5H24WK0HTK4R0A1           bottom   \n",
       "1  01DDBHC62ES5K80P0KYJ56AM2T  01DMBRYVA2PEPWFTT7RMP5AA1T              top   \n",
       "2  01DDBHC62ES5K80P0KYJ56AM2T  01DMBRYVA2S5T9W793F4CY41HE       accessory1   \n",
       "3  01DDBHC62ES5K80P0KYJ56AM2T  01DMBRYVA2ZFDYRYY5TRQZJTBD             shoe   \n",
       "4  01DMHCX50CFX5YNG99F3Y65GQW  01DMBRYVA2P5H24WK0HTK4R0A1           bottom   \n",
       "\n",
       "                 brand               product_full_name  \n",
       "0        Eileen Fisher                 Slim Knit Skirt  \n",
       "1        Eileen Fisher              Rib Mock Neck Tank  \n",
       "2  kate spade new york  medium margaux leather satchel  \n",
       "3           Tory Burch       Penelope Mid Cap Toe Pump  \n",
       "4        Eileen Fisher                 Slim Knit Skirt  "
      ]
     },
     "execution_count": 6,
     "metadata": {},
     "output_type": "execute_result"
    }
   ],
   "source": [
    "outfit = pd.read_csv('outfit_combinations USC.csv')\n",
    "outfit.head(5)"
   ]
  },
  {
   "cell_type": "code",
   "execution_count": 7,
   "id": "exempt-carrier",
   "metadata": {},
   "outputs": [
    {
     "name": "stdout",
     "output_type": "stream",
     "text": [
      "<class 'pandas.core.frame.DataFrame'>\n",
      "RangeIndex: 5291 entries, 0 to 5290\n",
      "Data columns (total 5 columns):\n",
      " #   Column             Non-Null Count  Dtype \n",
      "---  ------             --------------  ----- \n",
      " 0   outfit_id          5291 non-null   object\n",
      " 1   product_id         5291 non-null   object\n",
      " 2   outfit_item_type   5291 non-null   object\n",
      " 3   brand              5291 non-null   object\n",
      " 4   product_full_name  5291 non-null   object\n",
      "dtypes: object(5)\n",
      "memory usage: 206.8+ KB\n"
     ]
    }
   ],
   "source": [
    "outfit.info()"
   ]
  },
  {
   "cell_type": "markdown",
   "id": "recovered-rapid",
   "metadata": {},
   "source": [
    "## Expert Tags"
   ]
  },
  {
   "cell_type": "code",
   "execution_count": 8,
   "id": "lyric-atmosphere",
   "metadata": {},
   "outputs": [
    {
     "data": {
      "text/html": [
       "<div>\n",
       "<style scoped>\n",
       "    .dataframe tbody tr th:only-of-type {\n",
       "        vertical-align: middle;\n",
       "    }\n",
       "\n",
       "    .dataframe tbody tr th {\n",
       "        vertical-align: top;\n",
       "    }\n",
       "\n",
       "    .dataframe thead th {\n",
       "        text-align: right;\n",
       "    }\n",
       "</style>\n",
       "<table border=\"1\" class=\"dataframe\">\n",
       "  <thead>\n",
       "    <tr style=\"text-align: right;\">\n",
       "      <th></th>\n",
       "      <th>product_id</th>\n",
       "      <th>product_color_id</th>\n",
       "      <th>attribute_name</th>\n",
       "      <th>attribute_value</th>\n",
       "    </tr>\n",
       "  </thead>\n",
       "  <tbody>\n",
       "    <tr>\n",
       "      <th>0</th>\n",
       "      <td>01E5ZXP5H0BTEZT9QD2HRZJ47A</td>\n",
       "      <td>01E5ZXP5JCREDC7WJVMWHK5Q40</td>\n",
       "      <td>materialclothing</td>\n",
       "      <td>linenblend</td>\n",
       "    </tr>\n",
       "    <tr>\n",
       "      <th>1</th>\n",
       "      <td>01E5ZXP5H0BTEZT9QD2HRZJ47A</td>\n",
       "      <td>01E5ZXP5JCREDC7WJVMWHK5Q40</td>\n",
       "      <td>materialclothing</td>\n",
       "      <td>cottonblend</td>\n",
       "    </tr>\n",
       "    <tr>\n",
       "      <th>2</th>\n",
       "      <td>01E5ZXP5H0BTEZT9QD2HRZJ47A</td>\n",
       "      <td>01E5ZXP5JCREDC7WJVMWHK5Q40</td>\n",
       "      <td>style</td>\n",
       "      <td>modern</td>\n",
       "    </tr>\n",
       "  </tbody>\n",
       "</table>\n",
       "</div>"
      ],
      "text/plain": [
       "                   product_id            product_color_id    attribute_name  \\\n",
       "0  01E5ZXP5H0BTEZT9QD2HRZJ47A  01E5ZXP5JCREDC7WJVMWHK5Q40  materialclothing   \n",
       "1  01E5ZXP5H0BTEZT9QD2HRZJ47A  01E5ZXP5JCREDC7WJVMWHK5Q40  materialclothing   \n",
       "2  01E5ZXP5H0BTEZT9QD2HRZJ47A  01E5ZXP5JCREDC7WJVMWHK5Q40             style   \n",
       "\n",
       "  attribute_value  \n",
       "0      linenblend  \n",
       "1     cottonblend  \n",
       "2          modern  "
      ]
     },
     "execution_count": 8,
     "metadata": {},
     "output_type": "execute_result"
    }
   ],
   "source": [
    "tags = pd.read_csv('usc_additional_tags USC.csv')\n",
    "tags.head(3)"
   ]
  },
  {
   "cell_type": "code",
   "execution_count": 9,
   "id": "saving-first",
   "metadata": {},
   "outputs": [
    {
     "name": "stdout",
     "output_type": "stream",
     "text": [
      "<class 'pandas.core.frame.DataFrame'>\n",
      "RangeIndex: 97420 entries, 0 to 97419\n",
      "Data columns (total 4 columns):\n",
      " #   Column            Non-Null Count  Dtype \n",
      "---  ------            --------------  ----- \n",
      " 0   product_id        97420 non-null  object\n",
      " 1   product_color_id  97420 non-null  object\n",
      " 2   attribute_name    97420 non-null  object\n",
      " 3   attribute_value   97420 non-null  object\n",
      "dtypes: object(4)\n",
      "memory usage: 3.0+ MB\n"
     ]
    }
   ],
   "source": [
    "tags.info()"
   ]
  },
  {
   "cell_type": "markdown",
   "id": "expressed-premiere",
   "metadata": {},
   "source": [
    "# EDA"
   ]
  },
  {
   "cell_type": "markdown",
   "id": "brutal-syndrome",
   "metadata": {},
   "source": [
    "There is no duplicate product id in product.csv"
   ]
  },
  {
   "cell_type": "code",
   "execution_count": 10,
   "id": "damaged-simon",
   "metadata": {},
   "outputs": [
    {
     "data": {
      "text/plain": [
       "True"
      ]
     },
     "execution_count": 10,
     "metadata": {},
     "output_type": "execute_result"
    }
   ],
   "source": [
    "len(product.product_id.unique())==len(product)"
   ]
  },
  {
   "cell_type": "markdown",
   "id": "mounted-modification",
   "metadata": {},
   "source": [
    "We have more brands in product.csv compared to brand.csv and outfit.csv"
   ]
  },
  {
   "cell_type": "code",
   "execution_count": 11,
   "id": "unknown-enclosure",
   "metadata": {},
   "outputs": [
    {
     "data": {
      "text/plain": [
       "386"
      ]
     },
     "execution_count": 11,
     "metadata": {},
     "output_type": "execute_result"
    }
   ],
   "source": [
    "# number of unique brands in product.csv\n",
    "len(product.brand.unique())"
   ]
  },
  {
   "cell_type": "code",
   "execution_count": 12,
   "id": "duplicate-glass",
   "metadata": {},
   "outputs": [
    {
     "data": {
      "text/plain": [
       "74"
      ]
     },
     "execution_count": 12,
     "metadata": {},
     "output_type": "execute_result"
    }
   ],
   "source": [
    "# number of unique brands in brand.csv\n",
    "len(brand.brand.unique())"
   ]
  },
  {
   "cell_type": "code",
   "execution_count": 13,
   "id": "advanced-button",
   "metadata": {},
   "outputs": [
    {
     "data": {
      "text/plain": [
       "306"
      ]
     },
     "execution_count": 13,
     "metadata": {},
     "output_type": "execute_result"
    }
   ],
   "source": [
    "# number of unique brands in outfit.csv\n",
    "len(outfit.brand.unique())"
   ]
  },
  {
   "cell_type": "markdown",
   "id": "ready-gamma",
   "metadata": {},
   "source": [
    "There are 6 different brand values which could be set as a new feature later on"
   ]
  },
  {
   "cell_type": "code",
   "execution_count": 14,
   "id": "useful-publisher",
   "metadata": {},
   "outputs": [
    {
     "data": {
      "text/plain": [
       "Women Owned                   47\n",
       "Emerging                      41\n",
       "Handmade / Artisan Crafted    29\n",
       "Sustainable                   27\n",
       "BIPOC Owned                    6\n",
       "Vegan                          4\n",
       "Name: brand_value, dtype: int64"
      ]
     },
     "execution_count": 14,
     "metadata": {},
     "output_type": "execute_result"
    }
   ],
   "source": [
    "brand.brand_value.value_counts()"
   ]
  },
  {
   "cell_type": "markdown",
   "id": "assured-dollar",
   "metadata": {},
   "source": [
    "There are 7 different outfit item types, and five different outfit types:\n",
    "- shoe\n",
    "- accessory\n",
    "- top\n",
    "- bottom\n",
    "- onepiece"
   ]
  },
  {
   "cell_type": "code",
   "execution_count": 15,
   "id": "polish-fusion",
   "metadata": {},
   "outputs": [
    {
     "data": {
      "text/plain": [
       "shoe          1149\n",
       "accessory1    1064\n",
       "accessory2     978\n",
       "top            950\n",
       "bottom         928\n",
       "onepiece       221\n",
       "accessory3       1\n",
       "Name: outfit_item_type, dtype: int64"
      ]
     },
     "execution_count": 15,
     "metadata": {},
     "output_type": "execute_result"
    }
   ],
   "source": [
    "outfit.outfit_item_type.value_counts()"
   ]
  },
  {
   "cell_type": "markdown",
   "id": "finnish-semiconductor",
   "metadata": {},
   "source": [
    "There are 86 different attribute types, each type is assocaites with several values. Attributes could be added to features for different products later on."
   ]
  },
  {
   "cell_type": "code",
   "execution_count": 16,
   "id": "transsexual-cardiff",
   "metadata": {},
   "outputs": [
    {
     "data": {
      "text/plain": [
       "86"
      ]
     },
     "execution_count": 16,
     "metadata": {},
     "output_type": "execute_result"
    }
   ],
   "source": [
    "len(tags.attribute_name.unique())"
   ]
  },
  {
   "cell_type": "code",
   "execution_count": 17,
   "id": "printable-writing",
   "metadata": {},
   "outputs": [
    {
     "data": {
      "text/plain": [
       "style               14462\n",
       "occasion            12624\n",
       "materialclothing     5589\n",
       "category             5522\n",
       "primarycolor         5466\n",
       "gender               5433\n",
       "fit                  3814\n",
       "sizing               3701\n",
       "drycleanonly         3488\n",
       "sleevelength         2619\n",
       "additionalcolor      2572\n",
       "neckline             2417\n",
       "lengthtop            1837\n",
       "pattern              1604\n",
       "subcategorytop       1387\n",
       "uppermaterial        1252\n",
       "subcategoryshoe      1246\n",
       "shoewidth            1221\n",
       "toestyle             1217\n",
       "closureshoe          1163\n",
       "Name: attribute_name, dtype: int64"
      ]
     },
     "execution_count": 17,
     "metadata": {},
     "output_type": "execute_result"
    }
   ],
   "source": [
    "tags.attribute_name.value_counts()[:20]"
   ]
  },
  {
   "cell_type": "markdown",
   "id": "imposed-orlando",
   "metadata": {},
   "source": [
    "# Part 1: classification"
   ]
  },
  {
   "cell_type": "markdown",
   "id": "changed-throw",
   "metadata": {},
   "source": [
    "**Problem Statement:**\n",
    ">A common problem for Behold is the extremely manual classification of new products \n",
    "    into their specific brands. Behold has supplier relationships from many global clothing \n",
    "    vendors and marketplaces, but has found that the bottleneck for scaling out the number \n",
    "    of products they can sell is identifying the brands associated with each new product. Use \n",
    "    the brands’ biographical description (behold_brands.csv), product descriptions\n",
    "    (products.csv) and any externally collected metadata, **build an NLP classification\n",
    "    model to predict which brand a new product should be assigned**"
   ]
  },
  {
   "cell_type": "markdown",
   "id": "handmade-milan",
   "metadata": {},
   "source": [
    "**Solution Pipeline:**\n",
    "\n",
    "1. Preprocess the text (e.g., lemmatization, grouping, tokenize)\n",
    "2. Feature engineering (e.g., using tags, product attributes)\n",
    "    - Feature creation\n",
    "3. Vectorization (either via count vectorization or via embeddings)\n",
    "4. train/test split and modeling (try different models and compare the performance)"
   ]
  },
  {
   "cell_type": "markdown",
   "id": "inner-fever",
   "metadata": {},
   "source": [
    "## Preprocessing"
   ]
  },
  {
   "cell_type": "code",
   "execution_count": 18,
   "id": "legal-uniform",
   "metadata": {},
   "outputs": [
    {
     "name": "stdout",
     "output_type": "stream",
     "text": [
      "CPU times: user 1.44 s, sys: 812 ms, total: 2.25 s\n",
      "Wall time: 2.87 s\n"
     ]
    }
   ],
   "source": [
    "%%time\n",
    "## need to download 'en_core_web_lg' first\n",
    "nlp = spacy.load('en_core_web_lg',disable=['ner','parser'])"
   ]
  },
  {
   "cell_type": "markdown",
   "id": "otherwise-dynamics",
   "metadata": {},
   "source": [
    "### lemmatization"
   ]
  },
  {
   "cell_type": "code",
   "execution_count": 19,
   "id": "fifty-brick",
   "metadata": {},
   "outputs": [],
   "source": [
    "def spacy_lem(data, field):\n",
    "    '''\n",
    "    do lemmatization for data[field]\n",
    "    '''\n",
    "    for i in range(len(data)):\n",
    "        if type(data.loc[i,field])==str:\n",
    "            rows = []\n",
    "            doc = nlp(data.loc[i,field])\n",
    "            for token in doc:\n",
    "                rows.append(token.lemma_)\n",
    "            data.loc[i,field] = ' '.join(rows)"
   ]
  },
  {
   "cell_type": "code",
   "execution_count": 20,
   "id": "after-details",
   "metadata": {},
   "outputs": [
    {
     "name": "stdout",
     "output_type": "stream",
     "text": [
      "CPU times: user 15min 4s, sys: 23.2 s, total: 15min 27s\n",
      "Wall time: 15min 30s\n"
     ]
    }
   ],
   "source": [
    "%%time\n",
    "for field in ['description','details','name','brand_category']:\n",
    "    spacy_lem(product,field)"
   ]
  },
  {
   "cell_type": "code",
   "execution_count": 21,
   "id": "macro-weekly",
   "metadata": {},
   "outputs": [
    {
     "name": "stdout",
     "output_type": "stream",
     "text": [
      "CPU times: user 4.7 s, sys: 134 ms, total: 4.83 s\n",
      "Wall time: 4.86 s\n"
     ]
    }
   ],
   "source": [
    "%%time\n",
    "for field in brand.columns[2:]:\n",
    "    spacy_lem(brand,field)"
   ]
  },
  {
   "cell_type": "code",
   "execution_count": 22,
   "id": "gentle-principle",
   "metadata": {},
   "outputs": [],
   "source": [
    "product_cp = product.copy()\n",
    "brand_cp = brand.copy()"
   ]
  },
  {
   "cell_type": "markdown",
   "id": "secret-bearing",
   "metadata": {},
   "source": [
    "### Regex Cleaning"
   ]
  },
  {
   "cell_type": "code",
   "execution_count": 23,
   "id": "sweet-productivity",
   "metadata": {},
   "outputs": [],
   "source": [
    "def removePunctuation(text, punctuations=string.punctuation+\"``\"+\"’\"+\"”\"):\n",
    "    words=nltk.word_tokenize(text)\n",
    "    newWords = [word for word in words if word.lower() not in punctuations]\n",
    "    cleanedText = \" \".join(newWords)\n",
    "    return cleanedText"
   ]
  },
  {
   "cell_type": "code",
   "execution_count": 24,
   "id": "architectural-lindsay",
   "metadata": {},
   "outputs": [],
   "source": [
    "nltk_stopwords = set(stopwords.words(\"English\"))\n",
    "def removeStopwords(text, stopwords=nltk_stopwords):\n",
    "    words = nltk.word_tokenize(text)\n",
    "    newWords = [word for word in words if word.lower() not in stopwords]\n",
    "    cleanedText = \" \".join(newWords)\n",
    "    return cleanedText"
   ]
  },
  {
   "cell_type": "code",
   "execution_count": 25,
   "id": "extraordinary-suffering",
   "metadata": {},
   "outputs": [
    {
     "name": "stdout",
     "output_type": "stream",
     "text": [
      "CPU times: user 41.6 s, sys: 111 ms, total: 41.7 s\n",
      "Wall time: 41.8 s\n"
     ]
    }
   ],
   "source": [
    "%%time\n",
    "for col in ['description','details']:\n",
    "    product[col] = product[col].str.replace('\\s\\s',' ')\n",
    "    product[col] = product[col].fillna('UNKNOWN_TOKEN')\n",
    "    product[col] = product[col].apply(removePunctuation)\n",
    "    product[col] = product[col].apply(removeStopwords)\n",
    "\n",
    "for col in brand.columns[2:]:\n",
    "    brand[col] = brand[col].str.replace('\\s\\s',' ')\n",
    "    brand[col] = brand[col].fillna('UNKNOWN_TOKEN')\n",
    "    brand[col] = brand[col].apply(removePunctuation)\n",
    "    brand[col] = brand[col].apply(removeStopwords)"
   ]
  },
  {
   "cell_type": "markdown",
   "id": "medium-illustration",
   "metadata": {},
   "source": [
    "## Feature Engineering"
   ]
  },
  {
   "cell_type": "markdown",
   "id": "completed-daisy",
   "metadata": {},
   "source": [
    "### Concatenating data"
   ]
  },
  {
   "cell_type": "code",
   "execution_count": 26,
   "id": "careful-trainer",
   "metadata": {},
   "outputs": [
    {
     "data": {
      "text/html": [
       "<div>\n",
       "<style scoped>\n",
       "    .dataframe tbody tr th:only-of-type {\n",
       "        vertical-align: middle;\n",
       "    }\n",
       "\n",
       "    .dataframe tbody tr th {\n",
       "        vertical-align: top;\n",
       "    }\n",
       "\n",
       "    .dataframe thead th {\n",
       "        text-align: right;\n",
       "    }\n",
       "</style>\n",
       "<table border=\"1\" class=\"dataframe\">\n",
       "  <thead>\n",
       "    <tr style=\"text-align: right;\">\n",
       "      <th></th>\n",
       "      <th>brand</th>\n",
       "      <th>value_brand</th>\n",
       "      <th>bio</th>\n",
       "      <th>quote</th>\n",
       "      <th>quote_attribute</th>\n",
       "      <th>intro</th>\n",
       "      <th>lifestyle_copy</th>\n",
       "      <th>short_bio</th>\n",
       "      <th>listing_bio</th>\n",
       "    </tr>\n",
       "  </thead>\n",
       "  <tbody>\n",
       "    <tr>\n",
       "      <th>107</th>\n",
       "      <td>Merlette</td>\n",
       "      <td>[sustainable, Handmade Artisan Crafted, woman,...</td>\n",
       "      <td>honor responsibility come bring new design wor...</td>\n",
       "      <td>thing pack know wear</td>\n",
       "      <td>New York Times</td>\n",
       "      <td>Merlette Brooklyn base atelier create thoughtf...</td>\n",
       "      <td>Marina Cortbawi create piece woman keep come b...</td>\n",
       "      <td>Merlette New York</td>\n",
       "      <td>behold Merlette Brooklyn base atelier found Ma...</td>\n",
       "    </tr>\n",
       "    <tr>\n",
       "      <th>43</th>\n",
       "      <td>Chufy</td>\n",
       "      <td>[woman, sustainable, emerge]</td>\n",
       "      <td>launch 2017 Chufy feature ready wear infuse hi...</td>\n",
       "      <td>real voyage discovery consist seek new landsca...</td>\n",
       "      <td>Marcel Proust</td>\n",
       "      <td>season Chufy focus new destination culture col...</td>\n",
       "      <td>sunset beach flow dress ...</td>\n",
       "      <td>discover Chufy 's travel inspire collection</td>\n",
       "      <td>behold Chufy found well season traveler style ...</td>\n",
       "    </tr>\n",
       "    <tr>\n",
       "      <th>51</th>\n",
       "      <td>E.L.V. Denim</td>\n",
       "      <td>[sustainable, emerge, woman, Handmade Artisan ...</td>\n",
       "      <td>work local atelier East London Anna Foster ens...</td>\n",
       "      <td>sustainability ultimate part marry aesthetic w...</td>\n",
       "      <td>Anna Foster Founder Creative Director</td>\n",
       "      <td>E.L.V DENIM take unwanted jean destine landfil...</td>\n",
       "      <td>Boyfriend Jean staple wardrobe style unique je...</td>\n",
       "      <td>zero waste upcycled denim brand design produce...</td>\n",
       "      <td>behold E.L.V Denim stand East London Vintage b...</td>\n",
       "    </tr>\n",
       "  </tbody>\n",
       "</table>\n",
       "</div>"
      ],
      "text/plain": [
       "            brand                                        value_brand  \\\n",
       "107      Merlette  [sustainable, Handmade Artisan Crafted, woman,...   \n",
       "43          Chufy                       [woman, sustainable, emerge]   \n",
       "51   E.L.V. Denim  [sustainable, emerge, woman, Handmade Artisan ...   \n",
       "\n",
       "                                                   bio  \\\n",
       "107  honor responsibility come bring new design wor...   \n",
       "43   launch 2017 Chufy feature ready wear infuse hi...   \n",
       "51   work local atelier East London Anna Foster ens...   \n",
       "\n",
       "                                                 quote  \\\n",
       "107                               thing pack know wear   \n",
       "43   real voyage discovery consist seek new landsca...   \n",
       "51   sustainability ultimate part marry aesthetic w...   \n",
       "\n",
       "                           quote_attribute  \\\n",
       "107                         New York Times   \n",
       "43                           Marcel Proust   \n",
       "51   Anna Foster Founder Creative Director   \n",
       "\n",
       "                                                 intro  \\\n",
       "107  Merlette Brooklyn base atelier create thoughtf...   \n",
       "43   season Chufy focus new destination culture col...   \n",
       "51   E.L.V DENIM take unwanted jean destine landfil...   \n",
       "\n",
       "                                        lifestyle_copy  \\\n",
       "107  Marina Cortbawi create piece woman keep come b...   \n",
       "43                         sunset beach flow dress ...   \n",
       "51   Boyfriend Jean staple wardrobe style unique je...   \n",
       "\n",
       "                                             short_bio  \\\n",
       "107                                  Merlette New York   \n",
       "43         discover Chufy 's travel inspire collection   \n",
       "51   zero waste upcycled denim brand design produce...   \n",
       "\n",
       "                                           listing_bio  \n",
       "107  behold Merlette Brooklyn base atelier found Ma...  \n",
       "43   behold Chufy found well season traveler style ...  \n",
       "51   behold E.L.V Denim stand East London Vintage b...  "
      ]
     },
     "execution_count": 26,
     "metadata": {},
     "output_type": "execute_result"
    }
   ],
   "source": [
    "# put different brand values into one columns\n",
    "df = brand.groupby('brand').agg({'brand_value':list}).reset_index().rename(columns = {'brand_value':'value_brand'})\n",
    "df_brand = df.merge(brand,on='brand',how='left')[['brand', 'value_brand', 'bio', 'quote',\n",
    "       'quote_attribute', 'intro', 'lifestyle_copy', 'short_bio',\n",
    "       'listing_bio']]\n",
    "df_brand.sample(3)"
   ]
  },
  {
   "cell_type": "code",
   "execution_count": 27,
   "id": "regulated-lying",
   "metadata": {},
   "outputs": [
    {
     "data": {
      "text/html": [
       "<div>\n",
       "<style scoped>\n",
       "    .dataframe tbody tr th:only-of-type {\n",
       "        vertical-align: middle;\n",
       "    }\n",
       "\n",
       "    .dataframe tbody tr th {\n",
       "        vertical-align: top;\n",
       "    }\n",
       "\n",
       "    .dataframe thead th {\n",
       "        text-align: right;\n",
       "    }\n",
       "</style>\n",
       "<table border=\"1\" class=\"dataframe\">\n",
       "  <thead>\n",
       "    <tr style=\"text-align: right;\">\n",
       "      <th></th>\n",
       "      <th>product_id</th>\n",
       "      <th>brand</th>\n",
       "      <th>brand_category</th>\n",
       "      <th>name</th>\n",
       "      <th>details</th>\n",
       "      <th>created_at</th>\n",
       "      <th>brand_canonical_url</th>\n",
       "      <th>description</th>\n",
       "      <th>brand_description</th>\n",
       "      <th>brand_name</th>\n",
       "      <th>product_active</th>\n",
       "      <th>value_brand</th>\n",
       "      <th>bio</th>\n",
       "      <th>quote</th>\n",
       "      <th>quote_attribute</th>\n",
       "      <th>intro</th>\n",
       "      <th>lifestyle_copy</th>\n",
       "      <th>short_bio</th>\n",
       "      <th>listing_bio</th>\n",
       "    </tr>\n",
       "  </thead>\n",
       "  <tbody>\n",
       "    <tr>\n",
       "      <th>0</th>\n",
       "      <td>01EX0PN4J9WRNZH5F93YEX6QAF</td>\n",
       "      <td>Two</td>\n",
       "      <td>unknown</td>\n",
       "      <td>Khadi Stripe Shirt - our signature shirt</td>\n",
       "      <td>UNKNOWN_TOKEN</td>\n",
       "      <td>2021-01-27 01:17:19.305 UTC</td>\n",
       "      <td>https://two-nyc.myshopify.com/products/white-k...</td>\n",
       "      <td>signature khadi shirt available black white ea...</td>\n",
       "      <td>Our signature khadi shirt\\n\\navailable in blac...</td>\n",
       "      <td>Khadi Stripe Shirt-our signature shirt</td>\n",
       "      <td>True</td>\n",
       "      <td>[sustainable, Handmade Artisan Crafted, woman]</td>\n",
       "      <td>two modern minimalist take caftan tunic easy d...</td>\n",
       "      <td>two emphasize importance sustainable craftsman...</td>\n",
       "      <td>Monica Patel Cohn Designer founder</td>\n",
       "      <td>chic modern piece gorgeous handwoven fabric</td>\n",
       "      <td>think two feel certain energy bliss calm warmt...</td>\n",
       "      <td>art Sari</td>\n",
       "      <td>behold two founder Monica Patel Cohn launch fr...</td>\n",
       "    </tr>\n",
       "    <tr>\n",
       "      <th>1</th>\n",
       "      <td>01F0C4SKZV6YXS3265JMC39NXW</td>\n",
       "      <td>Collina Strada</td>\n",
       "      <td>unknown</td>\n",
       "      <td>ruffle market dress LOOPY PINK SISTINE TOMATO</td>\n",
       "      <td>UNKNOWN_TOKEN</td>\n",
       "      <td>2021-03-09 18:43:10.457 UTC</td>\n",
       "      <td>https://collina-strada-2.myshopify.com/product...</td>\n",
       "      <td>mid length dress ruffle adjustable strap bias ...</td>\n",
       "      <td>Mid-length dress with ruffles and adjustable s...</td>\n",
       "      <td>RUFFLE MARKET DRESS LOOPY PINK SISTINE TOMATO</td>\n",
       "      <td>True</td>\n",
       "      <td>[woman, emerge]</td>\n",
       "      <td>well ready wear collection Collina Strada plat...</td>\n",
       "      <td>season season goal remain encourage self refle...</td>\n",
       "      <td>Hillary Taymour</td>\n",
       "      <td>Collina Strada platform social issue awareness...</td>\n",
       "      <td>Collina Strada embody humor youth brand dna fi...</td>\n",
       "      <td>easy wear clothe imbue fearlessly fluid attitude</td>\n",
       "      <td>behold Hillary Taymor master tie dye ethical w...</td>\n",
       "    </tr>\n",
       "  </tbody>\n",
       "</table>\n",
       "</div>"
      ],
      "text/plain": [
       "                   product_id           brand brand_category  \\\n",
       "0  01EX0PN4J9WRNZH5F93YEX6QAF             Two        unknown   \n",
       "1  01F0C4SKZV6YXS3265JMC39NXW  Collina Strada        unknown   \n",
       "\n",
       "                                            name        details  \\\n",
       "0       Khadi Stripe Shirt - our signature shirt  UNKNOWN_TOKEN   \n",
       "1  ruffle market dress LOOPY PINK SISTINE TOMATO  UNKNOWN_TOKEN   \n",
       "\n",
       "                    created_at  \\\n",
       "0  2021-01-27 01:17:19.305 UTC   \n",
       "1  2021-03-09 18:43:10.457 UTC   \n",
       "\n",
       "                                 brand_canonical_url  \\\n",
       "0  https://two-nyc.myshopify.com/products/white-k...   \n",
       "1  https://collina-strada-2.myshopify.com/product...   \n",
       "\n",
       "                                         description  \\\n",
       "0  signature khadi shirt available black white ea...   \n",
       "1  mid length dress ruffle adjustable strap bias ...   \n",
       "\n",
       "                                   brand_description  \\\n",
       "0  Our signature khadi shirt\\n\\navailable in blac...   \n",
       "1  Mid-length dress with ruffles and adjustable s...   \n",
       "\n",
       "                                      brand_name  product_active  \\\n",
       "0         Khadi Stripe Shirt-our signature shirt            True   \n",
       "1  RUFFLE MARKET DRESS LOOPY PINK SISTINE TOMATO            True   \n",
       "\n",
       "                                      value_brand  \\\n",
       "0  [sustainable, Handmade Artisan Crafted, woman]   \n",
       "1                                 [woman, emerge]   \n",
       "\n",
       "                                                 bio  \\\n",
       "0  two modern minimalist take caftan tunic easy d...   \n",
       "1  well ready wear collection Collina Strada plat...   \n",
       "\n",
       "                                               quote  \\\n",
       "0  two emphasize importance sustainable craftsman...   \n",
       "1  season season goal remain encourage self refle...   \n",
       "\n",
       "                      quote_attribute  \\\n",
       "0  Monica Patel Cohn Designer founder   \n",
       "1                     Hillary Taymour   \n",
       "\n",
       "                                               intro  \\\n",
       "0        chic modern piece gorgeous handwoven fabric   \n",
       "1  Collina Strada platform social issue awareness...   \n",
       "\n",
       "                                      lifestyle_copy  \\\n",
       "0  think two feel certain energy bliss calm warmt...   \n",
       "1  Collina Strada embody humor youth brand dna fi...   \n",
       "\n",
       "                                          short_bio  \\\n",
       "0                                          art Sari   \n",
       "1  easy wear clothe imbue fearlessly fluid attitude   \n",
       "\n",
       "                                         listing_bio  \n",
       "0  behold two founder Monica Patel Cohn launch fr...  \n",
       "1  behold Hillary Taymor master tie dye ethical w...  "
      ]
     },
     "execution_count": 27,
     "metadata": {},
     "output_type": "execute_result"
    }
   ],
   "source": [
    "# combine product and brand\n",
    "product_brand = product.merge(df_brand,on='brand',how='left')\n",
    "product_brand = product_brand.drop_duplicates(subset=['product_id'], keep='first', inplace=False).\\\n",
    "                reset_index().drop(columns=['index'])\n",
    "product_brand.head(2)"
   ]
  },
  {
   "cell_type": "code",
   "execution_count": 28,
   "id": "lasting-boards",
   "metadata": {},
   "outputs": [
    {
     "data": {
      "text/plain": [
       "(61355, 19)"
      ]
     },
     "execution_count": 28,
     "metadata": {},
     "output_type": "execute_result"
    }
   ],
   "source": [
    "product_brand.shape"
   ]
  },
  {
   "cell_type": "code",
   "execution_count": 29,
   "id": "attractive-committee",
   "metadata": {},
   "outputs": [
    {
     "data": {
      "text/html": [
       "<div>\n",
       "<style scoped>\n",
       "    .dataframe tbody tr th:only-of-type {\n",
       "        vertical-align: middle;\n",
       "    }\n",
       "\n",
       "    .dataframe tbody tr th {\n",
       "        vertical-align: top;\n",
       "    }\n",
       "\n",
       "    .dataframe thead th {\n",
       "        text-align: right;\n",
       "    }\n",
       "</style>\n",
       "<table border=\"1\" class=\"dataframe\">\n",
       "  <thead>\n",
       "    <tr style=\"text-align: right;\">\n",
       "      <th></th>\n",
       "      <th>product_id</th>\n",
       "      <th>product_color_id</th>\n",
       "      <th>attribute_name</th>\n",
       "      <th>attribute_value</th>\n",
       "      <th>attribute_pair</th>\n",
       "    </tr>\n",
       "  </thead>\n",
       "  <tbody>\n",
       "    <tr>\n",
       "      <th>0</th>\n",
       "      <td>01E5ZXP5H0BTEZT9QD2HRZJ47A</td>\n",
       "      <td>01E5ZXP5JCREDC7WJVMWHK5Q40</td>\n",
       "      <td>materialclothing</td>\n",
       "      <td>linenblend</td>\n",
       "      <td>materialclothing: linenblend</td>\n",
       "    </tr>\n",
       "  </tbody>\n",
       "</table>\n",
       "</div>"
      ],
      "text/plain": [
       "                   product_id            product_color_id    attribute_name  \\\n",
       "0  01E5ZXP5H0BTEZT9QD2HRZJ47A  01E5ZXP5JCREDC7WJVMWHK5Q40  materialclothing   \n",
       "\n",
       "  attribute_value                attribute_pair  \n",
       "0      linenblend  materialclothing: linenblend  "
      ]
     },
     "execution_count": 29,
     "metadata": {},
     "output_type": "execute_result"
    }
   ],
   "source": [
    "tags['attribute_pair']=tags['attribute_name']+\": \"+tags['attribute_value']\n",
    "tags.head(1)"
   ]
  },
  {
   "cell_type": "code",
   "execution_count": 30,
   "id": "pleased-priest",
   "metadata": {},
   "outputs": [
    {
     "data": {
      "text/html": [
       "<div>\n",
       "<style scoped>\n",
       "    .dataframe tbody tr th:only-of-type {\n",
       "        vertical-align: middle;\n",
       "    }\n",
       "\n",
       "    .dataframe tbody tr th {\n",
       "        vertical-align: top;\n",
       "    }\n",
       "\n",
       "    .dataframe thead th {\n",
       "        text-align: right;\n",
       "    }\n",
       "</style>\n",
       "<table border=\"1\" class=\"dataframe\">\n",
       "  <thead>\n",
       "    <tr style=\"text-align: right;\">\n",
       "      <th></th>\n",
       "      <th>product_id</th>\n",
       "      <th>attribute_pair</th>\n",
       "    </tr>\n",
       "  </thead>\n",
       "  <tbody>\n",
       "    <tr>\n",
       "      <th>3423</th>\n",
       "      <td>01E4VDXNV313XWGVQ8GCEWKN1W</td>\n",
       "      <td>[primarycolor: beiges, style: modern, material...</td>\n",
       "    </tr>\n",
       "    <tr>\n",
       "      <th>982</th>\n",
       "      <td>01E2FDJ3CQ5A8F7H6DSTPYHW07</td>\n",
       "      <td>[primarycolor: blacks, materialclothing: alpac...</td>\n",
       "    </tr>\n",
       "    <tr>\n",
       "      <th>1580</th>\n",
       "      <td>01E2KY7HRN6JPXV45NHF5FV9G7</td>\n",
       "      <td>[primarycolor: blacks, materialclothing: woolb...</td>\n",
       "    </tr>\n",
       "  </tbody>\n",
       "</table>\n",
       "</div>"
      ],
      "text/plain": [
       "                      product_id  \\\n",
       "3423  01E4VDXNV313XWGVQ8GCEWKN1W   \n",
       "982   01E2FDJ3CQ5A8F7H6DSTPYHW07   \n",
       "1580  01E2KY7HRN6JPXV45NHF5FV9G7   \n",
       "\n",
       "                                         attribute_pair  \n",
       "3423  [primarycolor: beiges, style: modern, material...  \n",
       "982   [primarycolor: blacks, materialclothing: alpac...  \n",
       "1580  [primarycolor: blacks, materialclothing: woolb...  "
      ]
     },
     "execution_count": 30,
     "metadata": {},
     "output_type": "execute_result"
    }
   ],
   "source": [
    "tag_combined = tags.groupby('product_id').agg({'attribute_pair':list}).reset_index()\n",
    "tag_combined.sample(3)"
   ]
  },
  {
   "cell_type": "code",
   "execution_count": 31,
   "id": "endangered-works",
   "metadata": {},
   "outputs": [
    {
     "data": {
      "text/plain": [
       "product_id             0\n",
       "brand                  0\n",
       "brand_category       459\n",
       "name                   1\n",
       "details                0\n",
       "description            0\n",
       "value_brand        18680\n",
       "bio                18680\n",
       "quote              18680\n",
       "quote_attribute    18680\n",
       "intro              18680\n",
       "lifestyle_copy     18680\n",
       "short_bio          18680\n",
       "listing_bio        18680\n",
       "attribute_pair     57575\n",
       "dtype: int64"
      ]
     },
     "execution_count": 31,
     "metadata": {},
     "output_type": "execute_result"
    }
   ],
   "source": [
    "product_tag_brand = product_brand.merge(tag_combined,on='product_id',how='left')\n",
    "product_tag_brand = product_tag_brand.drop(columns=['created_at',\n",
    "                                                    'brand_canonical_url','brand_description',\n",
    "                                                    'brand_name','product_active'\n",
    "                                                   ])\n",
    "product_tag_brand.isna().sum()"
   ]
  },
  {
   "cell_type": "code",
   "execution_count": 32,
   "id": "passive-defeat",
   "metadata": {},
   "outputs": [
    {
     "data": {
      "text/plain": [
       "(61355, 15)"
      ]
     },
     "execution_count": 32,
     "metadata": {},
     "output_type": "execute_result"
    }
   ],
   "source": [
    "product_tag_brand.shape"
   ]
  },
  {
   "cell_type": "code",
   "execution_count": 33,
   "id": "stuffed-battle",
   "metadata": {},
   "outputs": [],
   "source": [
    "product_tag_brand = product_tag_brand.fillna('UNKNOWN_TOKEN')"
   ]
  },
  {
   "cell_type": "markdown",
   "id": "interstate-formula",
   "metadata": {},
   "source": [
    "### Feature Creation"
   ]
  },
  {
   "cell_type": "code",
   "execution_count": 34,
   "id": "alert-tourism",
   "metadata": {},
   "outputs": [
    {
     "data": {
      "text/html": [
       "<div>\n",
       "<style scoped>\n",
       "    .dataframe tbody tr th:only-of-type {\n",
       "        vertical-align: middle;\n",
       "    }\n",
       "\n",
       "    .dataframe tbody tr th {\n",
       "        vertical-align: top;\n",
       "    }\n",
       "\n",
       "    .dataframe thead th {\n",
       "        text-align: right;\n",
       "    }\n",
       "</style>\n",
       "<table border=\"1\" class=\"dataframe\">\n",
       "  <thead>\n",
       "    <tr style=\"text-align: right;\">\n",
       "      <th></th>\n",
       "      <th>product_id</th>\n",
       "      <th>brand</th>\n",
       "      <th>brand_category</th>\n",
       "      <th>name</th>\n",
       "      <th>details</th>\n",
       "      <th>description</th>\n",
       "      <th>value_brand</th>\n",
       "      <th>bio</th>\n",
       "      <th>quote</th>\n",
       "      <th>quote_attribute</th>\n",
       "      <th>intro</th>\n",
       "      <th>lifestyle_copy</th>\n",
       "      <th>short_bio</th>\n",
       "      <th>listing_bio</th>\n",
       "      <th>attribute_pair</th>\n",
       "    </tr>\n",
       "  </thead>\n",
       "  <tbody>\n",
       "    <tr>\n",
       "      <th>0</th>\n",
       "      <td>01EX0PN4J9WRNZH5F93YEX6QAF</td>\n",
       "      <td>Two</td>\n",
       "      <td>unknown</td>\n",
       "      <td>Khadi Stripe Shirt - our signature shirt</td>\n",
       "      <td>UNKNOWN_TOKEN</td>\n",
       "      <td>signature khadi shirt available black white ea...</td>\n",
       "      <td>[sustainable, Handmade Artisan Crafted, woman]</td>\n",
       "      <td>two modern minimalist take caftan tunic easy d...</td>\n",
       "      <td>two emphasize importance sustainable craftsman...</td>\n",
       "      <td>Monica Patel Cohn Designer founder</td>\n",
       "      <td>chic modern piece gorgeous handwoven fabric</td>\n",
       "      <td>think two feel certain energy bliss calm warmt...</td>\n",
       "      <td>art Sari</td>\n",
       "      <td>behold two founder Monica Patel Cohn launch fr...</td>\n",
       "      <td>UNKNOWN_TOKEN</td>\n",
       "    </tr>\n",
       "    <tr>\n",
       "      <th>1</th>\n",
       "      <td>01F0C4SKZV6YXS3265JMC39NXW</td>\n",
       "      <td>Collina Strada</td>\n",
       "      <td>unknown</td>\n",
       "      <td>ruffle market dress LOOPY PINK SISTINE TOMATO</td>\n",
       "      <td>UNKNOWN_TOKEN</td>\n",
       "      <td>mid length dress ruffle adjustable strap bias ...</td>\n",
       "      <td>[woman, emerge]</td>\n",
       "      <td>well ready wear collection Collina Strada plat...</td>\n",
       "      <td>season season goal remain encourage self refle...</td>\n",
       "      <td>Hillary Taymour</td>\n",
       "      <td>Collina Strada platform social issue awareness...</td>\n",
       "      <td>Collina Strada embody humor youth brand dna fi...</td>\n",
       "      <td>easy wear clothe imbue fearlessly fluid attitude</td>\n",
       "      <td>behold Hillary Taymor master tie dye ethical w...</td>\n",
       "      <td>UNKNOWN_TOKEN</td>\n",
       "    </tr>\n",
       "    <tr>\n",
       "      <th>2</th>\n",
       "      <td>01EY4Y1BW8VZW51BWG5VZY82XW</td>\n",
       "      <td>Cariuma</td>\n",
       "      <td>unknown</td>\n",
       "      <td>ibi slip on Raw Red Knit Sneaker woman</td>\n",
       "      <td>UNKNOWN_TOKEN</td>\n",
       "      <td>ibi slip Raw Red Knit Sneaker woman</td>\n",
       "      <td>[BIPOC, emerge, Handmade Artisan Crafted, sust...</td>\n",
       "      <td>embrace personal style status quo trend empowe...</td>\n",
       "      <td>CARIUMA end search truly sustainable ultra com...</td>\n",
       "      <td>forbe</td>\n",
       "      <td>believe style comfort sustainability synonymou...</td>\n",
       "      <td>CARIUMA sustainability style comfort synonymou...</td>\n",
       "      <td>believe make thing way well people planet</td>\n",
       "      <td>behold Cariuma brazilian brand found good frie...</td>\n",
       "      <td>UNKNOWN_TOKEN</td>\n",
       "    </tr>\n",
       "  </tbody>\n",
       "</table>\n",
       "</div>"
      ],
      "text/plain": [
       "                   product_id           brand brand_category  \\\n",
       "0  01EX0PN4J9WRNZH5F93YEX6QAF             Two        unknown   \n",
       "1  01F0C4SKZV6YXS3265JMC39NXW  Collina Strada        unknown   \n",
       "2  01EY4Y1BW8VZW51BWG5VZY82XW         Cariuma        unknown   \n",
       "\n",
       "                                            name        details  \\\n",
       "0       Khadi Stripe Shirt - our signature shirt  UNKNOWN_TOKEN   \n",
       "1  ruffle market dress LOOPY PINK SISTINE TOMATO  UNKNOWN_TOKEN   \n",
       "2         ibi slip on Raw Red Knit Sneaker woman  UNKNOWN_TOKEN   \n",
       "\n",
       "                                         description  \\\n",
       "0  signature khadi shirt available black white ea...   \n",
       "1  mid length dress ruffle adjustable strap bias ...   \n",
       "2                ibi slip Raw Red Knit Sneaker woman   \n",
       "\n",
       "                                         value_brand  \\\n",
       "0     [sustainable, Handmade Artisan Crafted, woman]   \n",
       "1                                    [woman, emerge]   \n",
       "2  [BIPOC, emerge, Handmade Artisan Crafted, sust...   \n",
       "\n",
       "                                                 bio  \\\n",
       "0  two modern minimalist take caftan tunic easy d...   \n",
       "1  well ready wear collection Collina Strada plat...   \n",
       "2  embrace personal style status quo trend empowe...   \n",
       "\n",
       "                                               quote  \\\n",
       "0  two emphasize importance sustainable craftsman...   \n",
       "1  season season goal remain encourage self refle...   \n",
       "2  CARIUMA end search truly sustainable ultra com...   \n",
       "\n",
       "                      quote_attribute  \\\n",
       "0  Monica Patel Cohn Designer founder   \n",
       "1                     Hillary Taymour   \n",
       "2                               forbe   \n",
       "\n",
       "                                               intro  \\\n",
       "0        chic modern piece gorgeous handwoven fabric   \n",
       "1  Collina Strada platform social issue awareness...   \n",
       "2  believe style comfort sustainability synonymou...   \n",
       "\n",
       "                                      lifestyle_copy  \\\n",
       "0  think two feel certain energy bliss calm warmt...   \n",
       "1  Collina Strada embody humor youth brand dna fi...   \n",
       "2  CARIUMA sustainability style comfort synonymou...   \n",
       "\n",
       "                                          short_bio  \\\n",
       "0                                          art Sari   \n",
       "1  easy wear clothe imbue fearlessly fluid attitude   \n",
       "2         believe make thing way well people planet   \n",
       "\n",
       "                                         listing_bio attribute_pair  \n",
       "0  behold two founder Monica Patel Cohn launch fr...  UNKNOWN_TOKEN  \n",
       "1  behold Hillary Taymor master tie dye ethical w...  UNKNOWN_TOKEN  \n",
       "2  behold Cariuma brazilian brand found good frie...  UNKNOWN_TOKEN  "
      ]
     },
     "execution_count": 34,
     "metadata": {},
     "output_type": "execute_result"
    }
   ],
   "source": [
    "product_tag_brand.head(3)"
   ]
  },
  {
   "cell_type": "code",
   "execution_count": 35,
   "id": "personalized-convergence",
   "metadata": {},
   "outputs": [],
   "source": [
    "# manufacturing location features\n",
    "pd.set_option('display.max_rows', 30)\n",
    "location = product_tag_brand['description'].str.\\\n",
    "       extract(r'\\b(?:made|make)\\s?(?:in)?\\s?(?!Lark|Organic|Cardigan|Charli|ATM|Holiday|Fall|Far)([A-Z]\\w+\\s?(?!Dry|Emeline|Michelle|Stretch|Models?|Style|Fit|Cotton|Swim|Crown|Madeleine|Phoebe|Limited|Army|Ally|Width|Knitted|Embossed|Regular|Ella|Micro)(?:[A-Z][a-z]\\w+)?)\\b')\n",
    "product_tag_brand['manuf_location'] = location[0]"
   ]
  },
  {
   "cell_type": "code",
   "execution_count": 36,
   "id": "material-metropolitan",
   "metadata": {},
   "outputs": [],
   "source": [
    "# change from list to str\n",
    "product_tag_brand['value_brand'] = [\" \".join(i) if i!='UNKNOWN_TOKEN' else 'UNKNOWN_TOKEN' for i in product_tag_brand['value_brand']]"
   ]
  },
  {
   "cell_type": "code",
   "execution_count": 37,
   "id": "graphic-anxiety",
   "metadata": {},
   "outputs": [],
   "source": [
    "# brand value features （!!could only be used for part 2 problem）\n",
    "product_tag_brand['is_handmade'] = ~pd.isna(product_tag_brand['value_brand'].str.extract(r'\\b(Handmade)\\b'))\n",
    "product_tag_brand['is_artisan_crafted'] = ~pd.isna(product_tag_brand['value_brand'].str.extract(r'\\b(Artisan Crafted)\\b'))\n",
    "product_tag_brand['is_sustainable'] = ~pd.isna(product_tag_brand['value_brand'].str.extract(r'\\b(sustainable)\\b'))\n",
    "product_tag_brand['is_emerging'] = ~pd.isna(product_tag_brand['value_brand'].str.extract(r'\\b(emerge)\\b'))\n",
    "product_tag_brand['is_vegan'] = ~pd.isna(product_tag_brand['value_brand'].str.extract(r'\\b(Vegan)\\b'))\n",
    "product_tag_brand['is_BIPOC'] = ~pd.isna(product_tag_brand['value_brand'].str.extract(r'\\b(BIPOC)\\b'))\n",
    "product_tag_brand['is_woman_owned'] = ~pd.isna(product_tag_brand['value_brand'].str.extract(r'\\b(woman)\\b'))"
   ]
  },
  {
   "cell_type": "code",
   "execution_count": 38,
   "id": "forward-secretary",
   "metadata": {},
   "outputs": [],
   "source": [
    "# change from list to str\n",
    "product_tag_brand['attribute_pair'] = [\" \".join(i) if i!='UNKNOWN_TOKEN' else 'UNKNOWN_TOKEN' for i in product_tag_brand['attribute_pair']]"
   ]
  },
  {
   "cell_type": "code",
   "execution_count": 39,
   "id": "specialized-justice",
   "metadata": {},
   "outputs": [],
   "source": [
    "# occassion features\n",
    "product_tag_brand['is_beach'] = ~pd.isna(product_tag_brand['description'].str.extract(r'\\b(beach)\\b')) + (~pd.isna(product_tag_brand['details'].str.extract(r'\\b(beach)\\b')))\n",
    "product_tag_brand['is_city'] = pd.notna(product_tag_brand['description'].str.extract(r'\\b(city)\\b')) + pd.notna(product_tag_brand['details'].str.extract(r'\\b(city)\\b'))\n",
    "product_tag_brand['is_holiday'] = pd.notna(product_tag_brand['description'].str.extract(r'\\b((?:vacation|holiday|getaway|weekend))\\b')) + pd.notna(product_tag_brand['details'].str.extract(r'\\b((?:vacation|holiday|getaway|weekend))\\b'))\n",
    "product_tag_brand['is_romance'] = pd.notna(product_tag_brand['description'].str.extract(r'\\b((?:romantic|romance))\\b')) + pd.notna(product_tag_brand['details'].str.extract(r'\\b((?:romantic|romance))\\b'))\n",
    "product_tag_brand['is_chic'] = pd.notna(product_tag_brand['description'].str.extract(r'\\b(chic)\\b')) + pd.notna(product_tag_brand['details'].str.extract(r'\\b(chic)\\b'))\n",
    "product_tag_brand['is_comfortable'] = pd.notna(product_tag_brand['description'].str.extract(r'\\b((?:comfort|cozy))\\b')) + pd.notna(product_tag_brand['details'].str.extract(r'\\b((?:comfort|cozy))\\b'))\n",
    "product_tag_brand['is_weekday'] = pd.notna(product_tag_brand['description'].str.extract(r'\\b((?:weekday))\\b')) + pd.notna(product_tag_brand['details'].str.extract(r'\\b((?:weekday))\\b'))\n",
    "product_tag_brand['is_asymmetrical'] = pd.notna(product_tag_brand['description'].str.extract(r'\\b((?:asymmetrical))\\b')) + pd.notna(product_tag_brand['details'].str.extract(r'\\b((?:asymmetrical))\\b'))\n",
    "product_tag_brand['is_timeless'] = pd.notna(product_tag_brand['description'].str.extract(r'\\b((?:timeless))\\b')) + pd.notna(product_tag_brand['details'].str.extract(r'\\b((?:timeless))\\b'))\n",
    "product_tag_brand['is_classic'] = pd.notna(product_tag_brand['description'].str.extract(r'\\b((?:classics?))\\b')) + pd.notna(product_tag_brand['details'].str.extract(r'\\b((?:classics?))\\b'))\n",
    "product_tag_brand['is_swim'] = pd.notna(product_tag_brand['description'].str.extract(r'\\b((?:swim|swimming))\\b')) + pd.notna(product_tag_brand['details'].str.extract(r'\\b((?:swim|swimming))\\b'))\n",
    "product_tag_brand['is_casual'] = pd.notna(product_tag_brand['description'].str.extract(r'\\b((?:casual))\\b')) + pd.notna(product_tag_brand['details'].str.extract(r'\\b((?:casual))\\b'))\n",
    "product_tag_brand['is_pajama'] = pd.notna(product_tag_brand['description'].str.extract(r'\\b((?:pajama))\\b')) + pd.notna(product_tag_brand['details'].str.extract(r'\\b((?:pajama))\\b'))\n",
    "product_tag_brand['is_sophisticated'] = pd.notna(product_tag_brand['description'].str.extract(r'\\b((?:sophisticated?))\\b')) + pd.notna(product_tag_brand['details'].str.extract(r'\\b((?:sophisticated?))\\b'))\n",
    "product_tag_brand['is_modern'] = pd.notna(product_tag_brand['description'].str.extract(r'\\b((?:modern|contemporary))\\b')) + pd.notna(product_tag_brand['details'].str.extract(r'\\b((?:modern|contemporary))\\b'))"
   ]
  },
  {
   "cell_type": "code",
   "execution_count": 40,
   "id": "three-cookie",
   "metadata": {},
   "outputs": [],
   "source": [
    "# material features\n",
    "pd.set_option('display.max_rows', 30)\n",
    "material = product_tag_brand['description'].str.extract(r'\\b(100\\s\\w+)\\b')\n",
    "product_tag_brand['material'] = material[0].str.lower()"
   ]
  },
  {
   "cell_type": "code",
   "execution_count": 41,
   "id": "adjacent-belarus",
   "metadata": {},
   "outputs": [
    {
     "data": {
      "text/html": [
       "<div>\n",
       "<style scoped>\n",
       "    .dataframe tbody tr th:only-of-type {\n",
       "        vertical-align: middle;\n",
       "    }\n",
       "\n",
       "    .dataframe tbody tr th {\n",
       "        vertical-align: top;\n",
       "    }\n",
       "\n",
       "    .dataframe thead th {\n",
       "        text-align: right;\n",
       "    }\n",
       "</style>\n",
       "<table border=\"1\" class=\"dataframe\">\n",
       "  <thead>\n",
       "    <tr style=\"text-align: right;\">\n",
       "      <th></th>\n",
       "      <th>product_id</th>\n",
       "      <th>brand</th>\n",
       "      <th>brand_category</th>\n",
       "      <th>name</th>\n",
       "      <th>details</th>\n",
       "      <th>description</th>\n",
       "      <th>value_brand</th>\n",
       "      <th>bio</th>\n",
       "      <th>quote</th>\n",
       "      <th>quote_attribute</th>\n",
       "      <th>...</th>\n",
       "      <th>is_weekday</th>\n",
       "      <th>is_asymmetrical</th>\n",
       "      <th>is_timeless</th>\n",
       "      <th>is_classic</th>\n",
       "      <th>is_swim</th>\n",
       "      <th>is_casual</th>\n",
       "      <th>is_pajama</th>\n",
       "      <th>is_sophisticated</th>\n",
       "      <th>is_modern</th>\n",
       "      <th>material</th>\n",
       "    </tr>\n",
       "  </thead>\n",
       "  <tbody>\n",
       "    <tr>\n",
       "      <th>10824</th>\n",
       "      <td>01EF50P99SZR3NKYJCA9A824KK</td>\n",
       "      <td>lemlem</td>\n",
       "      <td>unknown</td>\n",
       "      <td>Eshe Twist Turban</td>\n",
       "      <td>UNKNOWN_TOKEN</td>\n",
       "      <td>complete LEMLEM look ESHETWIST TURBAN feature ...</td>\n",
       "      <td>sustainable BIPOC woman Handmade Artisan Craft...</td>\n",
       "      <td>lemlem woman 's resort wear brand make entirel...</td>\n",
       "      <td>want inject energy fuel back artisan artisanal...</td>\n",
       "      <td>Liya Kebede</td>\n",
       "      <td>...</td>\n",
       "      <td>False</td>\n",
       "      <td>False</td>\n",
       "      <td>False</td>\n",
       "      <td>False</td>\n",
       "      <td>False</td>\n",
       "      <td>False</td>\n",
       "      <td>False</td>\n",
       "      <td>False</td>\n",
       "      <td>False</td>\n",
       "      <td>100 cotton</td>\n",
       "    </tr>\n",
       "    <tr>\n",
       "      <th>48869</th>\n",
       "      <td>01ED57W56PCQBEWPYXDP6QT49D</td>\n",
       "      <td>lemlem</td>\n",
       "      <td>unknown</td>\n",
       "      <td>boy Selina Short Sleeve Popover - Blue</td>\n",
       "      <td>UNKNOWN_TOKEN</td>\n",
       "      <td>style details boy Selina Short Sleeve Popover ...</td>\n",
       "      <td>sustainable BIPOC woman Handmade Artisan Craft...</td>\n",
       "      <td>lemlem woman 's resort wear brand make entirel...</td>\n",
       "      <td>want inject energy fuel back artisan artisanal...</td>\n",
       "      <td>Liya Kebede</td>\n",
       "      <td>...</td>\n",
       "      <td>False</td>\n",
       "      <td>False</td>\n",
       "      <td>False</td>\n",
       "      <td>False</td>\n",
       "      <td>False</td>\n",
       "      <td>False</td>\n",
       "      <td>False</td>\n",
       "      <td>False</td>\n",
       "      <td>False</td>\n",
       "      <td>NaN</td>\n",
       "    </tr>\n",
       "    <tr>\n",
       "      <th>19577</th>\n",
       "      <td>01F3E1T87SWSMMFMQENWZB9V2Y</td>\n",
       "      <td>Want Les Essentiels</td>\n",
       "      <td>unknown</td>\n",
       "      <td>Pelli Ankle Socks</td>\n",
       "      <td>UNKNOWN_TOKEN</td>\n",
       "      <td>Pelli Ankle Socks equal part essential indulge...</td>\n",
       "      <td>UNKNOWN_TOKEN</td>\n",
       "      <td>UNKNOWN_TOKEN</td>\n",
       "      <td>UNKNOWN_TOKEN</td>\n",
       "      <td>UNKNOWN_TOKEN</td>\n",
       "      <td>...</td>\n",
       "      <td>False</td>\n",
       "      <td>False</td>\n",
       "      <td>False</td>\n",
       "      <td>True</td>\n",
       "      <td>False</td>\n",
       "      <td>False</td>\n",
       "      <td>False</td>\n",
       "      <td>False</td>\n",
       "      <td>False</td>\n",
       "      <td>NaN</td>\n",
       "    </tr>\n",
       "  </tbody>\n",
       "</table>\n",
       "<p>3 rows × 39 columns</p>\n",
       "</div>"
      ],
      "text/plain": [
       "                       product_id                brand brand_category  \\\n",
       "10824  01EF50P99SZR3NKYJCA9A824KK               lemlem        unknown   \n",
       "48869  01ED57W56PCQBEWPYXDP6QT49D               lemlem        unknown   \n",
       "19577  01F3E1T87SWSMMFMQENWZB9V2Y  Want Les Essentiels        unknown   \n",
       "\n",
       "                                         name        details  \\\n",
       "10824                       Eshe Twist Turban  UNKNOWN_TOKEN   \n",
       "48869  boy Selina Short Sleeve Popover - Blue  UNKNOWN_TOKEN   \n",
       "19577                       Pelli Ankle Socks  UNKNOWN_TOKEN   \n",
       "\n",
       "                                             description  \\\n",
       "10824  complete LEMLEM look ESHETWIST TURBAN feature ...   \n",
       "48869  style details boy Selina Short Sleeve Popover ...   \n",
       "19577  Pelli Ankle Socks equal part essential indulge...   \n",
       "\n",
       "                                             value_brand  \\\n",
       "10824  sustainable BIPOC woman Handmade Artisan Craft...   \n",
       "48869  sustainable BIPOC woman Handmade Artisan Craft...   \n",
       "19577                                      UNKNOWN_TOKEN   \n",
       "\n",
       "                                                     bio  \\\n",
       "10824  lemlem woman 's resort wear brand make entirel...   \n",
       "48869  lemlem woman 's resort wear brand make entirel...   \n",
       "19577                                      UNKNOWN_TOKEN   \n",
       "\n",
       "                                                   quote quote_attribute  ...  \\\n",
       "10824  want inject energy fuel back artisan artisanal...     Liya Kebede  ...   \n",
       "48869  want inject energy fuel back artisan artisanal...     Liya Kebede  ...   \n",
       "19577                                      UNKNOWN_TOKEN   UNKNOWN_TOKEN  ...   \n",
       "\n",
       "      is_weekday is_asymmetrical is_timeless is_classic is_swim is_casual  \\\n",
       "10824      False           False       False      False   False     False   \n",
       "48869      False           False       False      False   False     False   \n",
       "19577      False           False       False       True   False     False   \n",
       "\n",
       "       is_pajama  is_sophisticated  is_modern    material  \n",
       "10824      False             False      False  100 cotton  \n",
       "48869      False             False      False         NaN  \n",
       "19577      False             False      False         NaN  \n",
       "\n",
       "[3 rows x 39 columns]"
      ]
     },
     "execution_count": 41,
     "metadata": {},
     "output_type": "execute_result"
    }
   ],
   "source": [
    "product_tag_brand.sample(3)"
   ]
  },
  {
   "cell_type": "markdown",
   "id": "authorized-victory",
   "metadata": {},
   "source": [
    "### Grouping"
   ]
  },
  {
   "cell_type": "code",
   "execution_count": 42,
   "id": "protected-brazil",
   "metadata": {},
   "outputs": [],
   "source": [
    "# 'manuf_location'\n",
    "product_tag_brand.manuf_location = product_tag_brand.manuf_location.str.replace(r'\\bLA\\b','Los Angeles')\n",
    "product_tag_brand.manuf_location = product_tag_brand.manuf_location.str.replace(r'\\bNY｜NYC\\b','New York')\n",
    "product_tag_brand.manuf_location = product_tag_brand.manuf_location.str.replace(r'\\bUS\\b','USA')\n",
    "product_tag_brand.manuf_location = product_tag_brand.manuf_location.str.replace(r'\\bItalian|ItalySmall\\b','Italy')\n",
    "product_tag_brand.manuf_location = product_tag_brand.manuf_location.str.replace(r'\\bCN\\b','China')"
   ]
  },
  {
   "cell_type": "code",
   "execution_count": 43,
   "id": "structural-indicator",
   "metadata": {},
   "outputs": [],
   "source": [
    "df=product_tag_brand.copy()"
   ]
  },
  {
   "cell_type": "code",
   "execution_count": 44,
   "id": "impressed-personality",
   "metadata": {},
   "outputs": [],
   "source": [
    "df.fillna('UNKNOWN_TOKEN',inplace=True)\n",
    "df.brand = df.brand.astype(str)"
   ]
  },
  {
   "cell_type": "code",
   "execution_count": 45,
   "id": "prostate-press",
   "metadata": {},
   "outputs": [
    {
     "data": {
      "text/html": [
       "<div>\n",
       "<style scoped>\n",
       "    .dataframe tbody tr th:only-of-type {\n",
       "        vertical-align: middle;\n",
       "    }\n",
       "\n",
       "    .dataframe tbody tr th {\n",
       "        vertical-align: top;\n",
       "    }\n",
       "\n",
       "    .dataframe thead th {\n",
       "        text-align: right;\n",
       "    }\n",
       "</style>\n",
       "<table border=\"1\" class=\"dataframe\">\n",
       "  <thead>\n",
       "    <tr style=\"text-align: right;\">\n",
       "      <th></th>\n",
       "      <th>product_id</th>\n",
       "      <th>brand</th>\n",
       "      <th>brand_category</th>\n",
       "      <th>name</th>\n",
       "      <th>details</th>\n",
       "      <th>description</th>\n",
       "      <th>value_brand</th>\n",
       "      <th>bio</th>\n",
       "      <th>quote</th>\n",
       "      <th>quote_attribute</th>\n",
       "      <th>...</th>\n",
       "      <th>is_weekday</th>\n",
       "      <th>is_asymmetrical</th>\n",
       "      <th>is_timeless</th>\n",
       "      <th>is_classic</th>\n",
       "      <th>is_swim</th>\n",
       "      <th>is_casual</th>\n",
       "      <th>is_pajama</th>\n",
       "      <th>is_sophisticated</th>\n",
       "      <th>is_modern</th>\n",
       "      <th>material</th>\n",
       "    </tr>\n",
       "  </thead>\n",
       "  <tbody>\n",
       "    <tr>\n",
       "      <th>0</th>\n",
       "      <td>01EX0PN4J9WRNZH5F93YEX6QAF</td>\n",
       "      <td>Two</td>\n",
       "      <td>unknown</td>\n",
       "      <td>Khadi Stripe Shirt - our signature shirt</td>\n",
       "      <td>UNKNOWN_TOKEN</td>\n",
       "      <td>signature khadi shirt available black white ea...</td>\n",
       "      <td>sustainable Handmade Artisan Crafted woman</td>\n",
       "      <td>two modern minimalist take caftan tunic easy d...</td>\n",
       "      <td>two emphasize importance sustainable craftsman...</td>\n",
       "      <td>Monica Patel Cohn Designer founder</td>\n",
       "      <td>...</td>\n",
       "      <td>False</td>\n",
       "      <td>False</td>\n",
       "      <td>False</td>\n",
       "      <td>False</td>\n",
       "      <td>False</td>\n",
       "      <td>False</td>\n",
       "      <td>False</td>\n",
       "      <td>False</td>\n",
       "      <td>False</td>\n",
       "      <td>UNKNOWN_TOKEN</td>\n",
       "    </tr>\n",
       "    <tr>\n",
       "      <th>1</th>\n",
       "      <td>01F0C4SKZV6YXS3265JMC39NXW</td>\n",
       "      <td>Collina Strada</td>\n",
       "      <td>unknown</td>\n",
       "      <td>ruffle market dress LOOPY PINK SISTINE TOMATO</td>\n",
       "      <td>UNKNOWN_TOKEN</td>\n",
       "      <td>mid length dress ruffle adjustable strap bias ...</td>\n",
       "      <td>woman emerge</td>\n",
       "      <td>well ready wear collection Collina Strada plat...</td>\n",
       "      <td>season season goal remain encourage self refle...</td>\n",
       "      <td>Hillary Taymour</td>\n",
       "      <td>...</td>\n",
       "      <td>False</td>\n",
       "      <td>False</td>\n",
       "      <td>False</td>\n",
       "      <td>False</td>\n",
       "      <td>False</td>\n",
       "      <td>False</td>\n",
       "      <td>False</td>\n",
       "      <td>False</td>\n",
       "      <td>False</td>\n",
       "      <td>100 rose</td>\n",
       "    </tr>\n",
       "    <tr>\n",
       "      <th>2</th>\n",
       "      <td>01EY4Y1BW8VZW51BWG5VZY82XW</td>\n",
       "      <td>Cariuma</td>\n",
       "      <td>unknown</td>\n",
       "      <td>ibi slip on Raw Red Knit Sneaker woman</td>\n",
       "      <td>UNKNOWN_TOKEN</td>\n",
       "      <td>ibi slip Raw Red Knit Sneaker woman</td>\n",
       "      <td>BIPOC emerge Handmade Artisan Crafted sustainable</td>\n",
       "      <td>embrace personal style status quo trend empowe...</td>\n",
       "      <td>CARIUMA end search truly sustainable ultra com...</td>\n",
       "      <td>forbe</td>\n",
       "      <td>...</td>\n",
       "      <td>False</td>\n",
       "      <td>False</td>\n",
       "      <td>False</td>\n",
       "      <td>False</td>\n",
       "      <td>False</td>\n",
       "      <td>False</td>\n",
       "      <td>False</td>\n",
       "      <td>False</td>\n",
       "      <td>False</td>\n",
       "      <td>UNKNOWN_TOKEN</td>\n",
       "    </tr>\n",
       "    <tr>\n",
       "      <th>3</th>\n",
       "      <td>01EY50E27A0P5V6KCW01XPDB43</td>\n",
       "      <td>Cariuma</td>\n",
       "      <td>unknown</td>\n",
       "      <td>ibi slip on Black Knit Sneaker woman</td>\n",
       "      <td>UNKNOWN_TOKEN</td>\n",
       "      <td>ibi slip Black Knit Sneaker woman</td>\n",
       "      <td>BIPOC emerge Handmade Artisan Crafted sustainable</td>\n",
       "      <td>embrace personal style status quo trend empowe...</td>\n",
       "      <td>CARIUMA end search truly sustainable ultra com...</td>\n",
       "      <td>forbe</td>\n",
       "      <td>...</td>\n",
       "      <td>False</td>\n",
       "      <td>False</td>\n",
       "      <td>False</td>\n",
       "      <td>False</td>\n",
       "      <td>False</td>\n",
       "      <td>False</td>\n",
       "      <td>False</td>\n",
       "      <td>False</td>\n",
       "      <td>False</td>\n",
       "      <td>UNKNOWN_TOKEN</td>\n",
       "    </tr>\n",
       "    <tr>\n",
       "      <th>4</th>\n",
       "      <td>01EY6DWHC2W5HPNEGXKEJ4A1CX</td>\n",
       "      <td>Cariuma</td>\n",
       "      <td>unknown</td>\n",
       "      <td>CATIBA PRO Skate Black Suede and Canvas Contra...</td>\n",
       "      <td>UNKNOWN_TOKEN</td>\n",
       "      <td>UNKNOWN_TOKEN</td>\n",
       "      <td>BIPOC emerge Handmade Artisan Crafted sustainable</td>\n",
       "      <td>embrace personal style status quo trend empowe...</td>\n",
       "      <td>CARIUMA end search truly sustainable ultra com...</td>\n",
       "      <td>forbe</td>\n",
       "      <td>...</td>\n",
       "      <td>False</td>\n",
       "      <td>False</td>\n",
       "      <td>False</td>\n",
       "      <td>False</td>\n",
       "      <td>False</td>\n",
       "      <td>False</td>\n",
       "      <td>False</td>\n",
       "      <td>False</td>\n",
       "      <td>False</td>\n",
       "      <td>UNKNOWN_TOKEN</td>\n",
       "    </tr>\n",
       "  </tbody>\n",
       "</table>\n",
       "<p>5 rows × 39 columns</p>\n",
       "</div>"
      ],
      "text/plain": [
       "                   product_id           brand brand_category  \\\n",
       "0  01EX0PN4J9WRNZH5F93YEX6QAF             Two        unknown   \n",
       "1  01F0C4SKZV6YXS3265JMC39NXW  Collina Strada        unknown   \n",
       "2  01EY4Y1BW8VZW51BWG5VZY82XW         Cariuma        unknown   \n",
       "3  01EY50E27A0P5V6KCW01XPDB43         Cariuma        unknown   \n",
       "4  01EY6DWHC2W5HPNEGXKEJ4A1CX         Cariuma        unknown   \n",
       "\n",
       "                                                name        details  \\\n",
       "0           Khadi Stripe Shirt - our signature shirt  UNKNOWN_TOKEN   \n",
       "1      ruffle market dress LOOPY PINK SISTINE TOMATO  UNKNOWN_TOKEN   \n",
       "2             ibi slip on Raw Red Knit Sneaker woman  UNKNOWN_TOKEN   \n",
       "3               ibi slip on Black Knit Sneaker woman  UNKNOWN_TOKEN   \n",
       "4  CATIBA PRO Skate Black Suede and Canvas Contra...  UNKNOWN_TOKEN   \n",
       "\n",
       "                                         description  \\\n",
       "0  signature khadi shirt available black white ea...   \n",
       "1  mid length dress ruffle adjustable strap bias ...   \n",
       "2                ibi slip Raw Red Knit Sneaker woman   \n",
       "3                  ibi slip Black Knit Sneaker woman   \n",
       "4                                      UNKNOWN_TOKEN   \n",
       "\n",
       "                                         value_brand  \\\n",
       "0         sustainable Handmade Artisan Crafted woman   \n",
       "1                                       woman emerge   \n",
       "2  BIPOC emerge Handmade Artisan Crafted sustainable   \n",
       "3  BIPOC emerge Handmade Artisan Crafted sustainable   \n",
       "4  BIPOC emerge Handmade Artisan Crafted sustainable   \n",
       "\n",
       "                                                 bio  \\\n",
       "0  two modern minimalist take caftan tunic easy d...   \n",
       "1  well ready wear collection Collina Strada plat...   \n",
       "2  embrace personal style status quo trend empowe...   \n",
       "3  embrace personal style status quo trend empowe...   \n",
       "4  embrace personal style status quo trend empowe...   \n",
       "\n",
       "                                               quote  \\\n",
       "0  two emphasize importance sustainable craftsman...   \n",
       "1  season season goal remain encourage self refle...   \n",
       "2  CARIUMA end search truly sustainable ultra com...   \n",
       "3  CARIUMA end search truly sustainable ultra com...   \n",
       "4  CARIUMA end search truly sustainable ultra com...   \n",
       "\n",
       "                      quote_attribute  ... is_weekday is_asymmetrical  \\\n",
       "0  Monica Patel Cohn Designer founder  ...      False           False   \n",
       "1                     Hillary Taymour  ...      False           False   \n",
       "2                               forbe  ...      False           False   \n",
       "3                               forbe  ...      False           False   \n",
       "4                               forbe  ...      False           False   \n",
       "\n",
       "  is_timeless is_classic is_swim is_casual  is_pajama  is_sophisticated  \\\n",
       "0       False      False   False     False      False             False   \n",
       "1       False      False   False     False      False             False   \n",
       "2       False      False   False     False      False             False   \n",
       "3       False      False   False     False      False             False   \n",
       "4       False      False   False     False      False             False   \n",
       "\n",
       "   is_modern       material  \n",
       "0      False  UNKNOWN_TOKEN  \n",
       "1      False       100 rose  \n",
       "2      False  UNKNOWN_TOKEN  \n",
       "3      False  UNKNOWN_TOKEN  \n",
       "4      False  UNKNOWN_TOKEN  \n",
       "\n",
       "[5 rows x 39 columns]"
      ]
     },
     "execution_count": 45,
     "metadata": {},
     "output_type": "execute_result"
    }
   ],
   "source": [
    "df.brand_category = df.brand_category.str.replace('Unknown','UNKNOWN_TOKEN')\n",
    "df.head()"
   ]
  },
  {
   "cell_type": "code",
   "execution_count": 46,
   "id": "insured-insulation",
   "metadata": {},
   "outputs": [],
   "source": [
    "df.to_csv('after_feature_creation.csv',index=None)"
   ]
  },
  {
   "cell_type": "code",
   "execution_count": 47,
   "id": "lovely-tumor",
   "metadata": {},
   "outputs": [],
   "source": [
    "df = pd.read_csv('after_feature_creation.csv')"
   ]
  },
  {
   "cell_type": "markdown",
   "id": "direct-looking",
   "metadata": {},
   "source": [
    "### Onehot encoding"
   ]
  },
  {
   "cell_type": "code",
   "execution_count": 48,
   "id": "registered-occurrence",
   "metadata": {},
   "outputs": [],
   "source": [
    "# one-hot encoding\n",
    "combined = pd.get_dummies(df[['manuf_location', 'is_beach', 'is_city', 'is_holiday',\n",
    "       'is_romance', 'is_chic', 'is_comfortable', 'is_weekday',\n",
    "       'is_asymmetrical', 'is_timeless', 'is_classic', 'is_swim', 'is_casual',\n",
    "       'is_pajama', 'is_sophisticated', 'is_modern', 'material']])"
   ]
  },
  {
   "cell_type": "code",
   "execution_count": 49,
   "id": "enhanced-manchester",
   "metadata": {},
   "outputs": [],
   "source": [
    "onehot_df = np.concatenate([df[['brand']],combined],axis=1)"
   ]
  },
  {
   "cell_type": "code",
   "execution_count": 50,
   "id": "relevant-beverage",
   "metadata": {},
   "outputs": [
    {
     "data": {
      "text/plain": [
       "(61355, 686)"
      ]
     },
     "execution_count": 50,
     "metadata": {},
     "output_type": "execute_result"
    }
   ],
   "source": [
    "combined.shape"
   ]
  },
  {
   "cell_type": "markdown",
   "id": "composite-flooring",
   "metadata": {},
   "source": [
    "### Word embedding"
   ]
  },
  {
   "cell_type": "code",
   "execution_count": 51,
   "id": "flying-angel",
   "metadata": {},
   "outputs": [],
   "source": [
    "# e.g. docs = df['description']\n",
    "# using glove.txt\n",
    "def word_embedding(docs):\n",
    "    '''\n",
    "    input: docs (e.g., df['description']) needed to do word embedding\n",
    "    output: corresponding vectors\n",
    "    '''\n",
    "    # Tokenize the Text\n",
    "    tokenizer = Tokenizer(num_words=10000, oov_token=\"UNKNOWN_TOKEN\")\n",
    "    tokenizer.fit_on_texts(docs)\n",
    "\n",
    "    # Integer Encode Tokens\n",
    "    def integer_encode_documents(docs, tokenizer):\n",
    "        return tokenizer.texts_to_sequences(docs)\n",
    "\n",
    "    # Get Max Length Per Token\n",
    "    def get_max_token_length_per_doc(docs: List[List[str]])-> int:\n",
    "        return max(list(map(lambda x: len(x.split()), docs)))\n",
    "    ## get the max length in terms of token length\n",
    "    max_length = get_max_token_length_per_doc(docs)\n",
    "\n",
    "    MAX_SEQUENCE_LENGTH = 300\n",
    "    ## integer encode the documents\n",
    "    encoded_docs = integer_encode_documents(docs, tokenizer)\n",
    "    ## this is a list of lists, the numbers represent the index position of that word.\n",
    "    ## for instance, 33 means the 33rd word in the vocabulary\n",
    "    padded_docs = pad_sequences(encoded_docs, maxlen=MAX_SEQUENCE_LENGTH, padding='post')\n",
    "    \n",
    "    def load_glove_vectors():\n",
    "        embeddings_index = {}\n",
    "        with open('glove.6B.100d.txt') as f:\n",
    "            for line in f:\n",
    "                values = line.split()\n",
    "                word = values[0]\n",
    "                coefs = asarray(values[1:], dtype='float32')\n",
    "                embeddings_index[word] = coefs\n",
    "        print('Loaded %s word vectors.' % len(embeddings_index))\n",
    "        return embeddings_index\n",
    "    embeddings_index = load_glove_vectors()\n",
    "    \n",
    "    VOCAB_SIZE = int(len(tokenizer.word_index) * 1.1)\n",
    "    \n",
    "    # create a weight matrix for words in training docs\n",
    "    embedding_matrix = zeros((VOCAB_SIZE, 100))\n",
    "    for word, i in tokenizer.word_index.items():\n",
    "        embedding_vector = embeddings_index.get(word)\n",
    "        if embedding_vector is not None: # check that it is an actual word that we have embeddings for\n",
    "            embedding_matrix[i] = embedding_vector    \n",
    "\n",
    "    \n",
    "    return tokenizer, padded_docs, embedding_matrix, MAX_SEQUENCE_LENGTH"
   ]
  },
  {
   "cell_type": "code",
   "execution_count": 52,
   "id": "sharing-clear",
   "metadata": {},
   "outputs": [],
   "source": [
    "# don't use pre-trained embeddings\n",
    "def word_embedding_2(docs):\n",
    "    '''\n",
    "    input: docs (e.g., df['description','details']) needed to do word embedding\n",
    "    output: corresponding vectors\n",
    "    '''\n",
    "    # Tokenize the Text\n",
    "    tokenizer = Tokenizer(num_words=10000, oov_token=\"UNKNOWN_TOKEN\")\n",
    "    tokenizer.fit_on_texts(docs)\n",
    "\n",
    "    # Integer Encode Tokens\n",
    "    def integer_encode_documents(docs, tokenizer):\n",
    "        return tokenizer.texts_to_sequences(docs)\n",
    "\n",
    "    # Get Max Length Per Token\n",
    "    def get_max_token_length_per_doc(docs: List[List[str]])-> int:\n",
    "        return max(list(map(lambda x: len(x.split()), docs)))\n",
    "    ## get the max length in terms of token length\n",
    "    max_length = get_max_token_length_per_doc(docs)\n",
    "\n",
    "    MAX_SEQUENCE_LENGTH = 300\n",
    "    ## integer encode the documents\n",
    "    encoded_docs = integer_encode_documents(docs, tokenizer)\n",
    "    ## this is a list of lists, the numbers represent the index position of that word.\n",
    "    ## for instance, 33 means the 33rd word in the vocabulary\n",
    "    padded_docs = pad_sequences(encoded_docs, maxlen=MAX_SEQUENCE_LENGTH, padding='post')\n",
    "    \n",
    "    return tokenizer, padded_docs, MAX_SEQUENCE_LENGTH"
   ]
  },
  {
   "cell_type": "markdown",
   "id": "dried-timing",
   "metadata": {},
   "source": [
    "## Modeling"
   ]
  },
  {
   "cell_type": "code",
   "execution_count": 53,
   "id": "amazing-scottish",
   "metadata": {
    "scrolled": true
   },
   "outputs": [
    {
     "data": {
      "text/plain": [
       "7 For All Mankind       0.146867\n",
       "Rails                   0.046679\n",
       "Intentionally Blank     0.041301\n",
       "A.L.C.                  0.034097\n",
       "Rachel Comey            0.033917\n",
       "                          ...   \n",
       "Two                     0.004629\n",
       "Eleven Six              0.004564\n",
       "Citizens of Humanity    0.004531\n",
       "EMME PARSONS            0.004352\n",
       "Banjanan                0.004238\n",
       "Name: brand, Length: 50, dtype: float64"
      ]
     },
     "execution_count": 53,
     "metadata": {},
     "output_type": "execute_result"
    }
   ],
   "source": [
    "# before assigining 'other' category for brand\n",
    "df['brand'].value_counts(normalize=True)[:50]"
   ]
  },
  {
   "cell_type": "code",
   "execution_count": 54,
   "id": "continued-render",
   "metadata": {},
   "outputs": [],
   "source": [
    "top50 = df['brand'].value_counts(normalize=True)[:50].index\n",
    "def intop50(df):\n",
    "    updatebrand = []\n",
    "    for brand in df:\n",
    "        if brand not in top50:\n",
    "            updatebrand.append('other')\n",
    "        else:\n",
    "            updatebrand.append(brand)\n",
    "    return updatebrand"
   ]
  },
  {
   "cell_type": "markdown",
   "id": "driving-correlation",
   "metadata": {},
   "source": [
    "Before we start training, let's take a look at the relative distribution of counts for cities. Baseline performance accuracy for this model should be the largest value **~14.7%**. You can get this accuracy by predicting the model."
   ]
  },
  {
   "cell_type": "code",
   "execution_count": 55,
   "id": "timely-belly",
   "metadata": {
    "scrolled": true
   },
   "outputs": [
    {
     "data": {
      "text/plain": [
       "7 For All Mankind       0.146867\n",
       "other                   0.142515\n",
       "Rails                   0.046679\n",
       "Intentionally Blank     0.041301\n",
       "A.L.C.                  0.034097\n",
       "                          ...   \n",
       "Two                     0.004629\n",
       "Eleven Six              0.004564\n",
       "Citizens of Humanity    0.004531\n",
       "EMME PARSONS            0.004352\n",
       "Banjanan                0.004238\n",
       "Name: brand, Length: 51, dtype: float64"
      ]
     },
     "execution_count": 55,
     "metadata": {},
     "output_type": "execute_result"
    }
   ],
   "source": [
    "df['brand'] = intop50(df['brand'])\n",
    "df['brand'].value_counts(normalize=True)"
   ]
  },
  {
   "cell_type": "code",
   "execution_count": 56,
   "id": "coated-century",
   "metadata": {},
   "outputs": [],
   "source": [
    "labels = df['brand']\n",
    "encoder = LabelEncoder()\n",
    "labels_encoded = to_categorical(encoder.fit_transform(labels))"
   ]
  },
  {
   "cell_type": "markdown",
   "id": "international-stocks",
   "metadata": {},
   "source": [
    "### Final Model: 96.308%"
   ]
  },
  {
   "cell_type": "markdown",
   "id": "invalid-questionnaire",
   "metadata": {},
   "source": [
    "Based on previous attempts, DNN model performs the best after word-embedding. Therefore, we decided to use it as our final model."
   ]
  },
  {
   "cell_type": "code",
   "execution_count": 57,
   "id": "digital-extension",
   "metadata": {},
   "outputs": [],
   "source": [
    "# define the model\n",
    "def DNN(VOCAB_SIZE,EMBEDDING_SIZE,MAX_SEQUENCE_LENGTH):\n",
    "    model = Sequential()\n",
    "    model.add(Embedding(VOCAB_SIZE, EMBEDDING_SIZE, input_length=MAX_SEQUENCE_LENGTH))\n",
    "    model.add(Flatten()) \n",
    "    model.add(Dense(51, activation='sigmoid')) \n",
    "    return model"
   ]
  },
  {
   "cell_type": "code",
   "execution_count": 59,
   "id": "controlled-writing",
   "metadata": {},
   "outputs": [
    {
     "name": "stdout",
     "output_type": "stream",
     "text": [
      "Epoch 1/20\n",
      "1381/1381 [==============================] - 32s 23ms/step - loss: 0.0577 - acc: 0.5752 - val_loss: 0.0114 - val_acc: 0.9334\n",
      "Epoch 2/20\n",
      "1381/1381 [==============================] - 31s 23ms/step - loss: 0.0072 - acc: 0.9600 - val_loss: 0.0075 - val_acc: 0.9544\n",
      "Epoch 3/20\n",
      "1381/1381 [==============================] - 31s 23ms/step - loss: 0.0031 - acc: 0.9824 - val_loss: 0.0069 - val_acc: 0.9586\n",
      "Epoch 4/20\n",
      "1381/1381 [==============================] - 32s 23ms/step - loss: 0.0018 - acc: 0.9897 - val_loss: 0.0064 - val_acc: 0.9623\n",
      "Epoch 5/20\n",
      "1381/1381 [==============================] - 32s 23ms/step - loss: 0.0012 - acc: 0.9921 - val_loss: 0.0069 - val_acc: 0.9619\n",
      "Epoch 6/20\n",
      "1381/1381 [==============================] - 32s 23ms/step - loss: 8.7449e-04 - acc: 0.9945 - val_loss: 0.0076 - val_acc: 0.9617\n",
      "Epoch 7/20\n",
      "1381/1381 [==============================] - 32s 23ms/step - loss: 6.4238e-04 - acc: 0.9959 - val_loss: 0.0082 - val_acc: 0.9621\n",
      "Epoch 8/20\n",
      "1381/1381 [==============================] - 32s 23ms/step - loss: 5.4989e-04 - acc: 0.9961 - val_loss: 0.0090 - val_acc: 0.9623\n",
      "Epoch 9/20\n",
      "1381/1381 [==============================] - 31s 22ms/step - loss: 4.2849e-04 - acc: 0.9972 - val_loss: 0.0085 - val_acc: 0.9615\n",
      "Epoch 10/20\n",
      "1381/1381 [==============================] - 31s 23ms/step - loss: 4.0076e-04 - acc: 0.9968 - val_loss: 0.0099 - val_acc: 0.9611\n",
      "Epoch 11/20\n",
      "1381/1381 [==============================] - 32s 23ms/step - loss: 3.2246e-04 - acc: 0.9974 - val_loss: 0.0094 - val_acc: 0.9633\n",
      "Epoch 12/20\n",
      "1381/1381 [==============================] - 31s 23ms/step - loss: 2.8757e-04 - acc: 0.9976 - val_loss: 0.0103 - val_acc: 0.9591\n",
      "Epoch 13/20\n",
      "1381/1381 [==============================] - 32s 23ms/step - loss: 2.9088e-04 - acc: 0.9973 - val_loss: 0.0099 - val_acc: 0.9599\n",
      "Epoch 14/20\n",
      "1381/1381 [==============================] - 32s 23ms/step - loss: 2.9752e-04 - acc: 0.9970 - val_loss: 0.0108 - val_acc: 0.9605\n",
      "Epoch 15/20\n",
      "1381/1381 [==============================] - 32s 23ms/step - loss: 2.7165e-04 - acc: 0.9972 - val_loss: 0.0118 - val_acc: 0.9593\n",
      "Epoch 16/20\n",
      "1381/1381 [==============================] - 32s 23ms/step - loss: 2.6094e-04 - acc: 0.9974 - val_loss: 0.0113 - val_acc: 0.9601\n",
      "Epoch 17/20\n",
      "1381/1381 [==============================] - 32s 23ms/step - loss: 2.6891e-04 - acc: 0.9973 - val_loss: 0.0120 - val_acc: 0.9584\n",
      "Epoch 18/20\n",
      "1381/1381 [==============================] - 32s 23ms/step - loss: 2.9368e-04 - acc: 0.9970 - val_loss: 0.0122 - val_acc: 0.9599\n",
      "Epoch 19/20\n",
      "1381/1381 [==============================] - 32s 23ms/step - loss: 2.9159e-04 - acc: 0.9970 - val_loss: 0.0121 - val_acc: 0.9580\n",
      "Epoch 20/20\n",
      "1381/1381 [==============================] - 32s 23ms/step - loss: 2.7117e-04 - acc: 0.9975 - val_loss: 0.0123 - val_acc: 0.9603\n",
      "CPU times: user 37min 21s, sys: 7min 20s, total: 44min 41s\n",
      "Wall time: 10min 42s\n"
     ]
    },
    {
     "data": {
      "text/plain": [
       "<tensorflow.python.keras.callbacks.History at 0x7fd7b75102e0>"
      ]
     },
     "execution_count": 59,
     "metadata": {},
     "output_type": "execute_result"
    }
   ],
   "source": [
    "%%time\n",
    "X = df['description']+' '+df['name']+' '+df['details']+' '+ df['attribute_pair']+' '+df['brand_category']\n",
    "\n",
    "tokenizer, padded_docs, MAX_SEQUENCE_LENGTH = word_embedding_2(X)\n",
    "VOCAB_SIZE = int(len(tokenizer.word_index) * 1.1)\n",
    "EMBEDDING_SIZE = 100\n",
    "\n",
    "final_dnn = DNN(VOCAB_SIZE,EMBEDDING_SIZE,MAX_SEQUENCE_LENGTH)\n",
    "final_dnn.compile(optimizer='adam', loss='binary_crossentropy', metrics=['acc'])\n",
    "X_train, X_test, y_train, y_test = train_test_split(padded_docs, labels_encoded, test_size=0.2,stratify=labels_encoded,random_state=2021)\n",
    "# fit the model\n",
    "final_dnn.fit(X_train, y_train, validation_split = 0.1, epochs=20, verbose=1)"
   ]
  },
  {
   "cell_type": "code",
   "execution_count": 60,
   "id": "prime-basement",
   "metadata": {},
   "outputs": [
    {
     "name": "stdout",
     "output_type": "stream",
     "text": [
      "384/384 [==============================] - 1s 2ms/step - loss: 0.0112 - acc: 0.9631\n",
      "-----------------------\n",
      "Accuracy: 96.308368\n"
     ]
    }
   ],
   "source": [
    "# evaluate the model\n",
    "loss, accuracy = final_dnn.evaluate(X_test, y_test, verbose=1) # it's on training data\n",
    "\n",
    "print('-----------------------')\n",
    "print('Accuracy: %f' % (accuracy*100))"
   ]
  },
  {
   "cell_type": "code",
   "execution_count": 63,
   "id": "honey-campbell",
   "metadata": {},
   "outputs": [],
   "source": [
    "prediction = final_dnn.predict_classes(X_test)"
   ]
  },
  {
   "cell_type": "code",
   "execution_count": 65,
   "id": "controversial-herald",
   "metadata": {},
   "outputs": [
    {
     "data": {
      "text/plain": [
       "array(['Chufy', 'other', '7 For All Mankind', ..., 'Cynthia Rowley',\n",
       "       'other', 'Outerknown'], dtype=object)"
      ]
     },
     "execution_count": 65,
     "metadata": {},
     "output_type": "execute_result"
    }
   ],
   "source": [
    "predict = encoder.inverse_transform(prediction)\n",
    "predict"
   ]
  },
  {
   "cell_type": "code",
   "execution_count": 67,
   "id": "loose-poverty",
   "metadata": {},
   "outputs": [],
   "source": [
    "actual = y_test.argmax(1)\n",
    "actual_brand = encoder.inverse_transform(actual)"
   ]
  },
  {
   "cell_type": "code",
   "execution_count": 69,
   "id": "committed-brooks",
   "metadata": {},
   "outputs": [
    {
     "data": {
      "text/html": [
       "<div>\n",
       "<style scoped>\n",
       "    .dataframe tbody tr th:only-of-type {\n",
       "        vertical-align: middle;\n",
       "    }\n",
       "\n",
       "    .dataframe tbody tr th {\n",
       "        vertical-align: top;\n",
       "    }\n",
       "\n",
       "    .dataframe thead th {\n",
       "        text-align: right;\n",
       "    }\n",
       "</style>\n",
       "<table border=\"1\" class=\"dataframe\">\n",
       "  <thead>\n",
       "    <tr style=\"text-align: right;\">\n",
       "      <th></th>\n",
       "      <th>actual</th>\n",
       "      <th>predict</th>\n",
       "    </tr>\n",
       "  </thead>\n",
       "  <tbody>\n",
       "    <tr>\n",
       "      <th>0</th>\n",
       "      <td>Chufy</td>\n",
       "      <td>Chufy</td>\n",
       "    </tr>\n",
       "    <tr>\n",
       "      <th>1</th>\n",
       "      <td>other</td>\n",
       "      <td>other</td>\n",
       "    </tr>\n",
       "    <tr>\n",
       "      <th>2</th>\n",
       "      <td>7 For All Mankind</td>\n",
       "      <td>7 For All Mankind</td>\n",
       "    </tr>\n",
       "    <tr>\n",
       "      <th>3</th>\n",
       "      <td>7 For All Mankind</td>\n",
       "      <td>7 For All Mankind</td>\n",
       "    </tr>\n",
       "    <tr>\n",
       "      <th>4</th>\n",
       "      <td>7 For All Mankind</td>\n",
       "      <td>7 For All Mankind</td>\n",
       "    </tr>\n",
       "    <tr>\n",
       "      <th>...</th>\n",
       "      <td>...</td>\n",
       "      <td>...</td>\n",
       "    </tr>\n",
       "    <tr>\n",
       "      <th>12266</th>\n",
       "      <td>7 For All Mankind</td>\n",
       "      <td>7 For All Mankind</td>\n",
       "    </tr>\n",
       "    <tr>\n",
       "      <th>12267</th>\n",
       "      <td>Misa</td>\n",
       "      <td>Misa</td>\n",
       "    </tr>\n",
       "    <tr>\n",
       "      <th>12268</th>\n",
       "      <td>Cynthia Rowley</td>\n",
       "      <td>Cynthia Rowley</td>\n",
       "    </tr>\n",
       "    <tr>\n",
       "      <th>12269</th>\n",
       "      <td>other</td>\n",
       "      <td>other</td>\n",
       "    </tr>\n",
       "    <tr>\n",
       "      <th>12270</th>\n",
       "      <td>Outerknown</td>\n",
       "      <td>Outerknown</td>\n",
       "    </tr>\n",
       "  </tbody>\n",
       "</table>\n",
       "<p>12271 rows × 2 columns</p>\n",
       "</div>"
      ],
      "text/plain": [
       "                  actual            predict\n",
       "0                  Chufy              Chufy\n",
       "1                  other              other\n",
       "2      7 For All Mankind  7 For All Mankind\n",
       "3      7 For All Mankind  7 For All Mankind\n",
       "4      7 For All Mankind  7 For All Mankind\n",
       "...                  ...                ...\n",
       "12266  7 For All Mankind  7 For All Mankind\n",
       "12267               Misa               Misa\n",
       "12268     Cynthia Rowley     Cynthia Rowley\n",
       "12269              other              other\n",
       "12270         Outerknown         Outerknown\n",
       "\n",
       "[12271 rows x 2 columns]"
      ]
     },
     "execution_count": 69,
     "metadata": {},
     "output_type": "execute_result"
    }
   ],
   "source": [
    "results = pd.DataFrame({'actual':actual_brand,'predict':predict})\n",
    "results"
   ]
  },
  {
   "cell_type": "code",
   "execution_count": 70,
   "id": "amazing-carolina",
   "metadata": {},
   "outputs": [],
   "source": [
    "results['predict_true']=(results['actual']==results['predict'])"
   ]
  },
  {
   "cell_type": "code",
   "execution_count": 71,
   "id": "timely-charles",
   "metadata": {
    "scrolled": true
   },
   "outputs": [
    {
     "data": {
      "text/plain": [
       "actual\n",
       "6397                   0.953846\n",
       "7 For All Mankind      0.991676\n",
       "A.L.C.                 0.930788\n",
       "ANINE BING             0.838235\n",
       "ASTR the Label         0.961340\n",
       "                         ...   \n",
       "Varley US              0.988764\n",
       "Want Les Essentiels    0.887324\n",
       "Whit                   0.918367\n",
       "lemlem                 0.958791\n",
       "other                  0.971984\n",
       "Name: predict_true, Length: 51, dtype: float64"
      ]
     },
     "execution_count": 71,
     "metadata": {},
     "output_type": "execute_result"
    }
   ],
   "source": [
    "results.groupby(['actual'])['predict_true'].mean()"
   ]
  }
 ],
 "metadata": {
  "kernelspec": {
   "display_name": "Python 3",
   "language": "python",
   "name": "python3"
  },
  "language_info": {
   "codemirror_mode": {
    "name": "ipython",
    "version": 3
   },
   "file_extension": ".py",
   "mimetype": "text/x-python",
   "name": "python",
   "nbconvert_exporter": "python",
   "pygments_lexer": "ipython3",
   "version": "3.8.2"
  },
  "toc": {
   "base_numbering": 1,
   "nav_menu": {},
   "number_sections": true,
   "sideBar": true,
   "skip_h1_title": false,
   "title_cell": "Table of Contents",
   "title_sidebar": "Contents",
   "toc_cell": false,
   "toc_position": {
    "height": "576px",
    "left": "685px",
    "top": "66px",
    "width": "289px"
   },
   "toc_section_display": true,
   "toc_window_display": true
  }
 },
 "nbformat": 4,
 "nbformat_minor": 5
}
