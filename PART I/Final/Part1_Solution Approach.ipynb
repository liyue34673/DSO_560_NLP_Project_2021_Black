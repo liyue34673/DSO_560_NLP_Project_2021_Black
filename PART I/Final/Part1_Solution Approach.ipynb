{
 "cells": [
  {
   "cell_type": "markdown",
   "id": "enclosed-payment",
   "metadata": {},
   "source": [
    "### Part 1 \n",
    "#### Objective: \n",
    "Build an NLP classification model to predict which brand a new product should be assigned.\n",
    "\n",
    "#### Procedure:\n",
    "\n",
    "1. Preprocessing: lemmatization; regex cleaning (remove punctutaion, stopwords)\n",
    "2. Feature engineering: \n",
    "\n",
    "&nbsp;&nbsp;&nbsp;&nbsp;&nbsp;&nbsp; a. Combine all the files: product, brand and two tags and form a full table: product_tag_brand; drop unnecessary columns\n",
    "<br>&nbsp;&nbsp;&nbsp;&nbsp;&nbsp;&nbsp; b. Create new features by extracting strings from 'brand value' and description'\n",
    "\n",
    "3. Vectorization: we have tried different methods: \n",
    "\n",
    "&nbsp;&nbsp;&nbsp;&nbsp;&nbsp;&nbsp; a. count vectorization \n",
    "<br>&nbsp;&nbsp;&nbsp;&nbsp;&nbsp;&nbsp; b. tf-idf\n",
    "<br>&nbsp;&nbsp;&nbsp;&nbsp;&nbsp;&nbsp; c. word embedding \n",
    "\n",
    "4. train/test split and modeling \n",
    "<br> The idea in this part is that we would like to try various models with different inputs and to see which one returns the highest accuarcy. \n",
    "<br> We chose to take top 50 brands and group everything else as other. And the Baseline performance accuracy for this model should be the largest value ~14.7%.\n",
    "\n",
    "#### A. Count Vectorization: \n",
    "For the following models, we used count vectorization for feature extraction.\n",
    "1. The mean accuracy with 10-fold cross-validation for logistic regression with only 'description' as predictor variable is 0.865. \n",
    "2. The accuracy for random forest with only 'description' as input is 0.877. \n",
    "3. The accuracy for neural network with only 'description' as input is 0.883. \n",
    "4. The accuracy for logistic regression with 'description','details', 'name', 'category' and 'attribute_pair' as inputs is 0.948\n",
    "5. The accuracy for logistic regression withuse 'description','details', 'name', 'category', 'attribute_pair' and created features as inputs is 0.952. \n",
    "\n",
    "##### The highest accuracy we found when we employed count vectorization is 0.952. \n",
    "\n",
    "#### B. if-idf: \n",
    "\n",
    "- We have tried both bigram and unigram, and they do not predict well. We use 'description','details', 'name', 'category', 'attribute_pair' and created features as predictors. The accuracy given by logistic regression with OneVsRestClassifier (multiclass strategy) is 0.922. \n",
    "\n",
    "#### C. Word Embedding:\n",
    "1. The accuracy for RNN with only 'description' as input is 0.770. \n",
    "2. The accuracy for LSTM with only 'description' as input is 0.844.\n",
    "3. The accuracy for deep learning Neural Network with 'description','details', 'name', 'category' and 'attribute_pair' as inputs is 0.870. \n",
    "4. The accuracy for RNN with 'description','details', 'name', 'category' and 'attribute_pair' as inputs is 0.803. \n",
    "5. The accuracy for LSTM with 'description','details', 'name', 'category' and 'attribute_pair' as inputs is 0.928\n",
    "\n",
    "#### Compiled Model after word embeding\n",
    "\n",
    "- For the next model, we used 'description','details', 'name', 'category', 'attribute_pair' and created features. \n",
    "- We first combined the data, then preprocess the text input and categorical input separately. We put both inputs into the deep learning LSTM model. This complied model reached a test accuracy of 0.843.\n",
    "\n",
    "#### Winner Model \n",
    "- Based on the multiple attempts presented previously, we found that DNN model performed the best after word-embedding. \n",
    "- We used 'description', 'name', 'details', 'attribute_pair', 'brand_category' as our predictor variables. \n",
    "- This model returned an accuracy of ~0.964. "
   ]
  },
  {
   "cell_type": "code",
   "execution_count": 1,
   "id": "killing-finder",
   "metadata": {},
   "outputs": [],
   "source": [
    "import pandas as pd\n",
    "import numpy as np\n",
    "import re\n",
    "import spacy\n",
    "from scipy.spatial.distance import cosine\n",
    "import nltk\n",
    "import string\n",
    "from nltk import word_tokenize\n",
    "from nltk.corpus import stopwords\n",
    "from sklearn.feature_extraction.text import CountVectorizer\n",
    "from keras.utils import to_categorical\n",
    "from sklearn.preprocessing import LabelEncoder\n",
    "from sklearn.feature_extraction.text import TfidfVectorizer\n",
    "\n",
    "from sklearn.model_selection import train_test_split\n",
    "from sklearn.linear_model import LogisticRegression\n",
    "from sklearn.multiclass import OneVsRestClassifier\n",
    "from sklearn.metrics import confusion_matrix\n",
    "\n",
    "from lightgbm import LGBMClassifier\n",
    "from sklearn.tree import DecisionTreeClassifier\n",
    "from sklearn.neighbors import KNeighborsClassifier\n",
    "from sklearn.neural_network import MLPClassifier\n",
    "from sklearn.ensemble import RandomForestClassifier\n",
    "\n",
    "from sklearn.model_selection import cross_val_score,KFold, StratifiedKFold\n",
    "from sklearn.decomposition import PCA\n",
    "from sklearn.preprocessing import StandardScaler\n",
    "\n",
    "from keras.preprocessing.text import Tokenizer\n",
    "from typing import List\n",
    "from keras.preprocessing.sequence import pad_sequences\n",
    "from keras.utils import to_categorical\n",
    "from sklearn.preprocessing import LabelEncoder\n",
    "from keras.layers.recurrent import SimpleRNN\n",
    "from keras.layers import Flatten, Masking\n",
    "\n",
    "from numpy import array, argmax, asarray, zeros\n",
    "\n",
    "import keras\n",
    "from keras.layers.recurrent import SimpleRNN, LSTM\n",
    "from keras.layers import Flatten, Masking, Embedding\n",
    "from keras.layers import Activation, Dense\n",
    "from tensorflow.python.framework.ops import disable_eager_execution\n",
    "from keras.models import Sequential                                       \n",
    "from keras.utils.vis_utils import plot_model\n",
    "from keras.layers import Input\n",
    "from keras.layers.merge import Concatenate\n",
    "from keras.models import Model\n",
    "\n",
    "import warnings\n",
    "warnings.filterwarnings('ignore')"
   ]
  },
  {
   "cell_type": "markdown",
   "id": "intensive-rough",
   "metadata": {},
   "source": [
    "# Load Dataset"
   ]
  },
  {
   "cell_type": "markdown",
   "id": "interstate-testament",
   "metadata": {},
   "source": [
    "## Product"
   ]
  },
  {
   "cell_type": "code",
   "execution_count": 2,
   "id": "critical-corps",
   "metadata": {},
   "outputs": [
    {
     "name": "stdout",
     "output_type": "stream",
     "text": [
      "CPU times: user 13.7 s, sys: 286 ms, total: 14 s\n",
      "Wall time: 14.2 s\n"
     ]
    },
    {
     "data": {
      "text/html": [
       "<div>\n",
       "<style scoped>\n",
       "    .dataframe tbody tr th:only-of-type {\n",
       "        vertical-align: middle;\n",
       "    }\n",
       "\n",
       "    .dataframe tbody tr th {\n",
       "        vertical-align: top;\n",
       "    }\n",
       "\n",
       "    .dataframe thead th {\n",
       "        text-align: right;\n",
       "    }\n",
       "</style>\n",
       "<table border=\"1\" class=\"dataframe\">\n",
       "  <thead>\n",
       "    <tr style=\"text-align: right;\">\n",
       "      <th></th>\n",
       "      <th>product_id</th>\n",
       "      <th>brand</th>\n",
       "      <th>brand_category</th>\n",
       "      <th>name</th>\n",
       "      <th>details</th>\n",
       "      <th>created_at</th>\n",
       "      <th>brand_canonical_url</th>\n",
       "      <th>description</th>\n",
       "      <th>brand_description</th>\n",
       "      <th>brand_name</th>\n",
       "      <th>product_active</th>\n",
       "    </tr>\n",
       "  </thead>\n",
       "  <tbody>\n",
       "    <tr>\n",
       "      <th>0</th>\n",
       "      <td>01EX0PN4J9WRNZH5F93YEX6QAF</td>\n",
       "      <td>Two</td>\n",
       "      <td>Unknown</td>\n",
       "      <td>Khadi Stripe Shirt-our signature shirt</td>\n",
       "      <td>NaN</td>\n",
       "      <td>2021-01-27 01:17:19.305 UTC</td>\n",
       "      <td>https://two-nyc.myshopify.com/products/white-k...</td>\n",
       "      <td>Our signature khadi shirt\\navailable in black ...</td>\n",
       "      <td>Our signature khadi shirt\\n\\navailable in blac...</td>\n",
       "      <td>Khadi Stripe Shirt-our signature shirt</td>\n",
       "      <td>True</td>\n",
       "    </tr>\n",
       "    <tr>\n",
       "      <th>1</th>\n",
       "      <td>01F0C4SKZV6YXS3265JMC39NXW</td>\n",
       "      <td>Collina Strada</td>\n",
       "      <td>Unknown</td>\n",
       "      <td>RUFFLE MARKET DRESS LOOPY PINK SISTINE TOMATO</td>\n",
       "      <td>NaN</td>\n",
       "      <td>2021-03-09 18:43:10.457 UTC</td>\n",
       "      <td>https://collina-strada-2.myshopify.com/product...</td>\n",
       "      <td>Mid-length dress with ruffles and adjustable s...</td>\n",
       "      <td>Mid-length dress with ruffles and adjustable s...</td>\n",
       "      <td>RUFFLE MARKET DRESS LOOPY PINK SISTINE TOMATO</td>\n",
       "      <td>True</td>\n",
       "    </tr>\n",
       "    <tr>\n",
       "      <th>2</th>\n",
       "      <td>01EY4Y1BW8VZW51BWG5VZY82XW</td>\n",
       "      <td>Cariuma</td>\n",
       "      <td>Unknown</td>\n",
       "      <td>IBI Slip On Raw Red Knit Sneaker Women</td>\n",
       "      <td>NaN</td>\n",
       "      <td>2021-02-10 02:58:59.591 UTC</td>\n",
       "      <td>https://cariuma.myshopify.com/products/ibi-sli...</td>\n",
       "      <td>IBI Slip On Raw Red Knit Sneaker Women</td>\n",
       "      <td>IBI Slip On Raw Red Knit Sneaker Women</td>\n",
       "      <td>IBI Slip On Raw Red Knit Sneaker Women</td>\n",
       "      <td>False</td>\n",
       "    </tr>\n",
       "  </tbody>\n",
       "</table>\n",
       "</div>"
      ],
      "text/plain": [
       "                   product_id           brand brand_category  \\\n",
       "0  01EX0PN4J9WRNZH5F93YEX6QAF             Two        Unknown   \n",
       "1  01F0C4SKZV6YXS3265JMC39NXW  Collina Strada        Unknown   \n",
       "2  01EY4Y1BW8VZW51BWG5VZY82XW         Cariuma        Unknown   \n",
       "\n",
       "                                            name details  \\\n",
       "0         Khadi Stripe Shirt-our signature shirt     NaN   \n",
       "1  RUFFLE MARKET DRESS LOOPY PINK SISTINE TOMATO     NaN   \n",
       "2         IBI Slip On Raw Red Knit Sneaker Women     NaN   \n",
       "\n",
       "                    created_at  \\\n",
       "0  2021-01-27 01:17:19.305 UTC   \n",
       "1  2021-03-09 18:43:10.457 UTC   \n",
       "2  2021-02-10 02:58:59.591 UTC   \n",
       "\n",
       "                                 brand_canonical_url  \\\n",
       "0  https://two-nyc.myshopify.com/products/white-k...   \n",
       "1  https://collina-strada-2.myshopify.com/product...   \n",
       "2  https://cariuma.myshopify.com/products/ibi-sli...   \n",
       "\n",
       "                                         description  \\\n",
       "0  Our signature khadi shirt\\navailable in black ...   \n",
       "1  Mid-length dress with ruffles and adjustable s...   \n",
       "2             IBI Slip On Raw Red Knit Sneaker Women   \n",
       "\n",
       "                                   brand_description  \\\n",
       "0  Our signature khadi shirt\\n\\navailable in blac...   \n",
       "1  Mid-length dress with ruffles and adjustable s...   \n",
       "2             IBI Slip On Raw Red Knit Sneaker Women   \n",
       "\n",
       "                                      brand_name  product_active  \n",
       "0         Khadi Stripe Shirt-our signature shirt            True  \n",
       "1  RUFFLE MARKET DRESS LOOPY PINK SISTINE TOMATO            True  \n",
       "2         IBI Slip On Raw Red Knit Sneaker Women           False  "
      ]
     },
     "execution_count": 2,
     "metadata": {},
     "output_type": "execute_result"
    }
   ],
   "source": [
    "%%time\n",
    "# load product information\n",
    "product = pd.read_excel('Behold+product+data+04262021.xlsx')\n",
    "product.head(3)"
   ]
  },
  {
   "cell_type": "code",
   "execution_count": 3,
   "id": "systematic-klein",
   "metadata": {},
   "outputs": [
    {
     "name": "stdout",
     "output_type": "stream",
     "text": [
      "<class 'pandas.core.frame.DataFrame'>\n",
      "RangeIndex: 61355 entries, 0 to 61354\n",
      "Data columns (total 11 columns):\n",
      " #   Column               Non-Null Count  Dtype \n",
      "---  ------               --------------  ----- \n",
      " 0   product_id           61355 non-null  object\n",
      " 1   brand                61355 non-null  object\n",
      " 2   brand_category       60896 non-null  object\n",
      " 3   name                 61354 non-null  object\n",
      " 4   details              9200 non-null   object\n",
      " 5   created_at           61355 non-null  object\n",
      " 6   brand_canonical_url  61355 non-null  object\n",
      " 7   description          51238 non-null  object\n",
      " 8   brand_description    51234 non-null  object\n",
      " 9   brand_name           61354 non-null  object\n",
      " 10  product_active       61355 non-null  bool  \n",
      "dtypes: bool(1), object(10)\n",
      "memory usage: 4.7+ MB\n"
     ]
    }
   ],
   "source": [
    "product.info()"
   ]
  },
  {
   "cell_type": "markdown",
   "id": "artificial-cartoon",
   "metadata": {},
   "source": [
    "## Brand"
   ]
  },
  {
   "cell_type": "code",
   "execution_count": 4,
   "id": "great-stand",
   "metadata": {},
   "outputs": [
    {
     "data": {
      "text/html": [
       "<div>\n",
       "<style scoped>\n",
       "    .dataframe tbody tr th:only-of-type {\n",
       "        vertical-align: middle;\n",
       "    }\n",
       "\n",
       "    .dataframe tbody tr th {\n",
       "        vertical-align: top;\n",
       "    }\n",
       "\n",
       "    .dataframe thead th {\n",
       "        text-align: right;\n",
       "    }\n",
       "</style>\n",
       "<table border=\"1\" class=\"dataframe\">\n",
       "  <thead>\n",
       "    <tr style=\"text-align: right;\">\n",
       "      <th></th>\n",
       "      <th>brand_id</th>\n",
       "      <th>brand</th>\n",
       "      <th>brand_value</th>\n",
       "      <th>bio</th>\n",
       "      <th>quote</th>\n",
       "      <th>quote_attribute</th>\n",
       "      <th>intro</th>\n",
       "      <th>lifestyle_copy</th>\n",
       "      <th>short_bio</th>\n",
       "      <th>listing_bio</th>\n",
       "    </tr>\n",
       "  </thead>\n",
       "  <tbody>\n",
       "    <tr>\n",
       "      <th>0</th>\n",
       "      <td>01ESKR0CH2KYC7KBNTN0S38EQA</td>\n",
       "      <td>Mari Giudicelli</td>\n",
       "      <td>Handmade / Artisan Crafted</td>\n",
       "      <td>NaN</td>\n",
       "      <td>NaN</td>\n",
       "      <td>NaN</td>\n",
       "      <td>NaN</td>\n",
       "      <td>NaN</td>\n",
       "      <td>NaN</td>\n",
       "      <td>Behold Mari Giudicelli! This Brazilian shoe de...</td>\n",
       "    </tr>\n",
       "    <tr>\n",
       "      <th>1</th>\n",
       "      <td>01ESKR0CH2KYC7KBNTN0S38EQA</td>\n",
       "      <td>Mari Giudicelli</td>\n",
       "      <td>Sustainable</td>\n",
       "      <td>NaN</td>\n",
       "      <td>NaN</td>\n",
       "      <td>NaN</td>\n",
       "      <td>NaN</td>\n",
       "      <td>NaN</td>\n",
       "      <td>NaN</td>\n",
       "      <td>Behold Mari Giudicelli! This Brazilian shoe de...</td>\n",
       "    </tr>\n",
       "    <tr>\n",
       "      <th>2</th>\n",
       "      <td>01ESKR0CH2KYC7KBNTN0S38EQA</td>\n",
       "      <td>Mari Giudicelli</td>\n",
       "      <td>Women Owned</td>\n",
       "      <td>NaN</td>\n",
       "      <td>NaN</td>\n",
       "      <td>NaN</td>\n",
       "      <td>NaN</td>\n",
       "      <td>NaN</td>\n",
       "      <td>NaN</td>\n",
       "      <td>Behold Mari Giudicelli! This Brazilian shoe de...</td>\n",
       "    </tr>\n",
       "  </tbody>\n",
       "</table>\n",
       "</div>"
      ],
      "text/plain": [
       "                     brand_id            brand                 brand_value  \\\n",
       "0  01ESKR0CH2KYC7KBNTN0S38EQA  Mari Giudicelli  Handmade / Artisan Crafted   \n",
       "1  01ESKR0CH2KYC7KBNTN0S38EQA  Mari Giudicelli                 Sustainable   \n",
       "2  01ESKR0CH2KYC7KBNTN0S38EQA  Mari Giudicelli                 Women Owned   \n",
       "\n",
       "   bio quote quote_attribute intro lifestyle_copy short_bio  \\\n",
       "0  NaN   NaN             NaN   NaN            NaN       NaN   \n",
       "1  NaN   NaN             NaN   NaN            NaN       NaN   \n",
       "2  NaN   NaN             NaN   NaN            NaN       NaN   \n",
       "\n",
       "                                         listing_bio  \n",
       "0  Behold Mari Giudicelli! This Brazilian shoe de...  \n",
       "1  Behold Mari Giudicelli! This Brazilian shoe de...  \n",
       "2  Behold Mari Giudicelli! This Brazilian shoe de...  "
      ]
     },
     "execution_count": 4,
     "metadata": {},
     "output_type": "execute_result"
    }
   ],
   "source": [
    "# load brand information\n",
    "brand = pd.read_csv('behold_brands USC.csv')\n",
    "brand.head(3)"
   ]
  },
  {
   "cell_type": "code",
   "execution_count": 5,
   "id": "variable-increase",
   "metadata": {},
   "outputs": [
    {
     "name": "stdout",
     "output_type": "stream",
     "text": [
      "<class 'pandas.core.frame.DataFrame'>\n",
      "RangeIndex: 162 entries, 0 to 161\n",
      "Data columns (total 10 columns):\n",
      " #   Column           Non-Null Count  Dtype \n",
      "---  ------           --------------  ----- \n",
      " 0   brand_id         162 non-null    object\n",
      " 1   brand            162 non-null    object\n",
      " 2   brand_value      154 non-null    object\n",
      " 3   bio              157 non-null    object\n",
      " 4   quote            157 non-null    object\n",
      " 5   quote_attribute  154 non-null    object\n",
      " 6   intro            154 non-null    object\n",
      " 7   lifestyle_copy   156 non-null    object\n",
      " 8   short_bio        157 non-null    object\n",
      " 9   listing_bio      157 non-null    object\n",
      "dtypes: object(10)\n",
      "memory usage: 12.8+ KB\n"
     ]
    }
   ],
   "source": [
    "brand.info()"
   ]
  },
  {
   "cell_type": "markdown",
   "id": "three-investigator",
   "metadata": {},
   "source": [
    "## Outfit"
   ]
  },
  {
   "cell_type": "code",
   "execution_count": 6,
   "id": "sufficient-referral",
   "metadata": {},
   "outputs": [
    {
     "data": {
      "text/html": [
       "<div>\n",
       "<style scoped>\n",
       "    .dataframe tbody tr th:only-of-type {\n",
       "        vertical-align: middle;\n",
       "    }\n",
       "\n",
       "    .dataframe tbody tr th {\n",
       "        vertical-align: top;\n",
       "    }\n",
       "\n",
       "    .dataframe thead th {\n",
       "        text-align: right;\n",
       "    }\n",
       "</style>\n",
       "<table border=\"1\" class=\"dataframe\">\n",
       "  <thead>\n",
       "    <tr style=\"text-align: right;\">\n",
       "      <th></th>\n",
       "      <th>outfit_id</th>\n",
       "      <th>product_id</th>\n",
       "      <th>outfit_item_type</th>\n",
       "      <th>brand</th>\n",
       "      <th>product_full_name</th>\n",
       "    </tr>\n",
       "  </thead>\n",
       "  <tbody>\n",
       "    <tr>\n",
       "      <th>0</th>\n",
       "      <td>01DDBHC62ES5K80P0KYJ56AM2T</td>\n",
       "      <td>01DMBRYVA2P5H24WK0HTK4R0A1</td>\n",
       "      <td>bottom</td>\n",
       "      <td>Eileen Fisher</td>\n",
       "      <td>Slim Knit Skirt</td>\n",
       "    </tr>\n",
       "    <tr>\n",
       "      <th>1</th>\n",
       "      <td>01DDBHC62ES5K80P0KYJ56AM2T</td>\n",
       "      <td>01DMBRYVA2PEPWFTT7RMP5AA1T</td>\n",
       "      <td>top</td>\n",
       "      <td>Eileen Fisher</td>\n",
       "      <td>Rib Mock Neck Tank</td>\n",
       "    </tr>\n",
       "    <tr>\n",
       "      <th>2</th>\n",
       "      <td>01DDBHC62ES5K80P0KYJ56AM2T</td>\n",
       "      <td>01DMBRYVA2S5T9W793F4CY41HE</td>\n",
       "      <td>accessory1</td>\n",
       "      <td>kate spade new york</td>\n",
       "      <td>medium margaux leather satchel</td>\n",
       "    </tr>\n",
       "    <tr>\n",
       "      <th>3</th>\n",
       "      <td>01DDBHC62ES5K80P0KYJ56AM2T</td>\n",
       "      <td>01DMBRYVA2ZFDYRYY5TRQZJTBD</td>\n",
       "      <td>shoe</td>\n",
       "      <td>Tory Burch</td>\n",
       "      <td>Penelope Mid Cap Toe Pump</td>\n",
       "    </tr>\n",
       "    <tr>\n",
       "      <th>4</th>\n",
       "      <td>01DMHCX50CFX5YNG99F3Y65GQW</td>\n",
       "      <td>01DMBRYVA2P5H24WK0HTK4R0A1</td>\n",
       "      <td>bottom</td>\n",
       "      <td>Eileen Fisher</td>\n",
       "      <td>Slim Knit Skirt</td>\n",
       "    </tr>\n",
       "  </tbody>\n",
       "</table>\n",
       "</div>"
      ],
      "text/plain": [
       "                    outfit_id                  product_id outfit_item_type  \\\n",
       "0  01DDBHC62ES5K80P0KYJ56AM2T  01DMBRYVA2P5H24WK0HTK4R0A1           bottom   \n",
       "1  01DDBHC62ES5K80P0KYJ56AM2T  01DMBRYVA2PEPWFTT7RMP5AA1T              top   \n",
       "2  01DDBHC62ES5K80P0KYJ56AM2T  01DMBRYVA2S5T9W793F4CY41HE       accessory1   \n",
       "3  01DDBHC62ES5K80P0KYJ56AM2T  01DMBRYVA2ZFDYRYY5TRQZJTBD             shoe   \n",
       "4  01DMHCX50CFX5YNG99F3Y65GQW  01DMBRYVA2P5H24WK0HTK4R0A1           bottom   \n",
       "\n",
       "                 brand               product_full_name  \n",
       "0        Eileen Fisher                 Slim Knit Skirt  \n",
       "1        Eileen Fisher              Rib Mock Neck Tank  \n",
       "2  kate spade new york  medium margaux leather satchel  \n",
       "3           Tory Burch       Penelope Mid Cap Toe Pump  \n",
       "4        Eileen Fisher                 Slim Knit Skirt  "
      ]
     },
     "execution_count": 6,
     "metadata": {},
     "output_type": "execute_result"
    }
   ],
   "source": [
    "outfit = pd.read_csv('outfit_combinations USC.csv')\n",
    "outfit.head(5)"
   ]
  },
  {
   "cell_type": "code",
   "execution_count": 7,
   "id": "exempt-carrier",
   "metadata": {},
   "outputs": [
    {
     "name": "stdout",
     "output_type": "stream",
     "text": [
      "<class 'pandas.core.frame.DataFrame'>\n",
      "RangeIndex: 5291 entries, 0 to 5290\n",
      "Data columns (total 5 columns):\n",
      " #   Column             Non-Null Count  Dtype \n",
      "---  ------             --------------  ----- \n",
      " 0   outfit_id          5291 non-null   object\n",
      " 1   product_id         5291 non-null   object\n",
      " 2   outfit_item_type   5291 non-null   object\n",
      " 3   brand              5291 non-null   object\n",
      " 4   product_full_name  5291 non-null   object\n",
      "dtypes: object(5)\n",
      "memory usage: 206.8+ KB\n"
     ]
    }
   ],
   "source": [
    "outfit.info()"
   ]
  },
  {
   "cell_type": "markdown",
   "id": "recovered-rapid",
   "metadata": {},
   "source": [
    "## Expert Tags"
   ]
  },
  {
   "cell_type": "code",
   "execution_count": 8,
   "id": "lyric-atmosphere",
   "metadata": {},
   "outputs": [
    {
     "data": {
      "text/html": [
       "<div>\n",
       "<style scoped>\n",
       "    .dataframe tbody tr th:only-of-type {\n",
       "        vertical-align: middle;\n",
       "    }\n",
       "\n",
       "    .dataframe tbody tr th {\n",
       "        vertical-align: top;\n",
       "    }\n",
       "\n",
       "    .dataframe thead th {\n",
       "        text-align: right;\n",
       "    }\n",
       "</style>\n",
       "<table border=\"1\" class=\"dataframe\">\n",
       "  <thead>\n",
       "    <tr style=\"text-align: right;\">\n",
       "      <th></th>\n",
       "      <th>product_id</th>\n",
       "      <th>product_color_id</th>\n",
       "      <th>attribute_name</th>\n",
       "      <th>attribute_value</th>\n",
       "    </tr>\n",
       "  </thead>\n",
       "  <tbody>\n",
       "    <tr>\n",
       "      <th>0</th>\n",
       "      <td>01E5ZXP5H0BTEZT9QD2HRZJ47A</td>\n",
       "      <td>01E5ZXP5JCREDC7WJVMWHK5Q40</td>\n",
       "      <td>materialclothing</td>\n",
       "      <td>linenblend</td>\n",
       "    </tr>\n",
       "    <tr>\n",
       "      <th>1</th>\n",
       "      <td>01E5ZXP5H0BTEZT9QD2HRZJ47A</td>\n",
       "      <td>01E5ZXP5JCREDC7WJVMWHK5Q40</td>\n",
       "      <td>materialclothing</td>\n",
       "      <td>cottonblend</td>\n",
       "    </tr>\n",
       "    <tr>\n",
       "      <th>2</th>\n",
       "      <td>01E5ZXP5H0BTEZT9QD2HRZJ47A</td>\n",
       "      <td>01E5ZXP5JCREDC7WJVMWHK5Q40</td>\n",
       "      <td>style</td>\n",
       "      <td>modern</td>\n",
       "    </tr>\n",
       "  </tbody>\n",
       "</table>\n",
       "</div>"
      ],
      "text/plain": [
       "                   product_id            product_color_id    attribute_name  \\\n",
       "0  01E5ZXP5H0BTEZT9QD2HRZJ47A  01E5ZXP5JCREDC7WJVMWHK5Q40  materialclothing   \n",
       "1  01E5ZXP5H0BTEZT9QD2HRZJ47A  01E5ZXP5JCREDC7WJVMWHK5Q40  materialclothing   \n",
       "2  01E5ZXP5H0BTEZT9QD2HRZJ47A  01E5ZXP5JCREDC7WJVMWHK5Q40             style   \n",
       "\n",
       "  attribute_value  \n",
       "0      linenblend  \n",
       "1     cottonblend  \n",
       "2          modern  "
      ]
     },
     "execution_count": 8,
     "metadata": {},
     "output_type": "execute_result"
    }
   ],
   "source": [
    "tags = pd.read_csv('usc_additional_tags USC.csv')\n",
    "tags.head(3)"
   ]
  },
  {
   "cell_type": "code",
   "execution_count": 9,
   "id": "saving-first",
   "metadata": {},
   "outputs": [
    {
     "name": "stdout",
     "output_type": "stream",
     "text": [
      "<class 'pandas.core.frame.DataFrame'>\n",
      "RangeIndex: 97420 entries, 0 to 97419\n",
      "Data columns (total 4 columns):\n",
      " #   Column            Non-Null Count  Dtype \n",
      "---  ------            --------------  ----- \n",
      " 0   product_id        97420 non-null  object\n",
      " 1   product_color_id  97420 non-null  object\n",
      " 2   attribute_name    97420 non-null  object\n",
      " 3   attribute_value   97420 non-null  object\n",
      "dtypes: object(4)\n",
      "memory usage: 3.0+ MB\n"
     ]
    }
   ],
   "source": [
    "tags.info()"
   ]
  },
  {
   "cell_type": "markdown",
   "id": "expressed-premiere",
   "metadata": {},
   "source": [
    "# EDA"
   ]
  },
  {
   "cell_type": "markdown",
   "id": "brutal-syndrome",
   "metadata": {},
   "source": [
    "There is no duplicate product id in product.csv"
   ]
  },
  {
   "cell_type": "code",
   "execution_count": 10,
   "id": "damaged-simon",
   "metadata": {},
   "outputs": [
    {
     "data": {
      "text/plain": [
       "True"
      ]
     },
     "execution_count": 10,
     "metadata": {},
     "output_type": "execute_result"
    }
   ],
   "source": [
    "len(product.product_id.unique())==len(product)"
   ]
  },
  {
   "cell_type": "markdown",
   "id": "mounted-modification",
   "metadata": {},
   "source": [
    "We have more brands in product.csv compared to brand.csv and outfit.csv"
   ]
  },
  {
   "cell_type": "code",
   "execution_count": 11,
   "id": "unknown-enclosure",
   "metadata": {},
   "outputs": [
    {
     "data": {
      "text/plain": [
       "386"
      ]
     },
     "execution_count": 11,
     "metadata": {},
     "output_type": "execute_result"
    }
   ],
   "source": [
    "# number of unique brands in product.csv\n",
    "len(product.brand.unique())"
   ]
  },
  {
   "cell_type": "code",
   "execution_count": 12,
   "id": "duplicate-glass",
   "metadata": {},
   "outputs": [
    {
     "data": {
      "text/plain": [
       "74"
      ]
     },
     "execution_count": 12,
     "metadata": {},
     "output_type": "execute_result"
    }
   ],
   "source": [
    "# number of unique brands in brand.csv\n",
    "len(brand.brand.unique())"
   ]
  },
  {
   "cell_type": "code",
   "execution_count": 13,
   "id": "advanced-button",
   "metadata": {},
   "outputs": [
    {
     "data": {
      "text/plain": [
       "306"
      ]
     },
     "execution_count": 13,
     "metadata": {},
     "output_type": "execute_result"
    }
   ],
   "source": [
    "# number of unique brands in outfit.csv\n",
    "len(outfit.brand.unique())"
   ]
  },
  {
   "cell_type": "markdown",
   "id": "ready-gamma",
   "metadata": {},
   "source": [
    "There are 6 different brand values which could be set as a new feature later on"
   ]
  },
  {
   "cell_type": "code",
   "execution_count": 14,
   "id": "useful-publisher",
   "metadata": {},
   "outputs": [
    {
     "data": {
      "text/plain": [
       "Women Owned                   47\n",
       "Emerging                      41\n",
       "Handmade / Artisan Crafted    29\n",
       "Sustainable                   27\n",
       "BIPOC Owned                    6\n",
       "Vegan                          4\n",
       "Name: brand_value, dtype: int64"
      ]
     },
     "execution_count": 14,
     "metadata": {},
     "output_type": "execute_result"
    }
   ],
   "source": [
    "brand.brand_value.value_counts()"
   ]
  },
  {
   "cell_type": "markdown",
   "id": "assured-dollar",
   "metadata": {},
   "source": [
    "There are 7 different outfit item types, and five different outfit types:\n",
    "- shoe\n",
    "- accessory\n",
    "- top\n",
    "- bottom\n",
    "- onepiece"
   ]
  },
  {
   "cell_type": "code",
   "execution_count": 15,
   "id": "polish-fusion",
   "metadata": {},
   "outputs": [
    {
     "data": {
      "text/plain": [
       "shoe          1149\n",
       "accessory1    1064\n",
       "accessory2     978\n",
       "top            950\n",
       "bottom         928\n",
       "onepiece       221\n",
       "accessory3       1\n",
       "Name: outfit_item_type, dtype: int64"
      ]
     },
     "execution_count": 15,
     "metadata": {},
     "output_type": "execute_result"
    }
   ],
   "source": [
    "outfit.outfit_item_type.value_counts()"
   ]
  },
  {
   "cell_type": "markdown",
   "id": "finnish-semiconductor",
   "metadata": {},
   "source": [
    "There are 86 different attribute types, each type is assocaites with several values. Attributes could be added to features for different products later on."
   ]
  },
  {
   "cell_type": "code",
   "execution_count": 16,
   "id": "transsexual-cardiff",
   "metadata": {},
   "outputs": [
    {
     "data": {
      "text/plain": [
       "86"
      ]
     },
     "execution_count": 16,
     "metadata": {},
     "output_type": "execute_result"
    }
   ],
   "source": [
    "len(tags.attribute_name.unique())"
   ]
  },
  {
   "cell_type": "code",
   "execution_count": 17,
   "id": "printable-writing",
   "metadata": {},
   "outputs": [
    {
     "data": {
      "text/plain": [
       "style               14462\n",
       "occasion            12624\n",
       "materialclothing     5589\n",
       "category             5522\n",
       "primarycolor         5466\n",
       "gender               5433\n",
       "fit                  3814\n",
       "sizing               3701\n",
       "drycleanonly         3488\n",
       "sleevelength         2619\n",
       "additionalcolor      2572\n",
       "neckline             2417\n",
       "lengthtop            1837\n",
       "pattern              1604\n",
       "subcategorytop       1387\n",
       "uppermaterial        1252\n",
       "subcategoryshoe      1246\n",
       "shoewidth            1221\n",
       "toestyle             1217\n",
       "closureshoe          1163\n",
       "Name: attribute_name, dtype: int64"
      ]
     },
     "execution_count": 17,
     "metadata": {},
     "output_type": "execute_result"
    }
   ],
   "source": [
    "tags.attribute_name.value_counts()[:20]"
   ]
  },
  {
   "cell_type": "markdown",
   "id": "imposed-orlando",
   "metadata": {},
   "source": [
    "# Part 1: classification"
   ]
  },
  {
   "cell_type": "markdown",
   "id": "changed-throw",
   "metadata": {},
   "source": [
    "**Problem Statement:**\n",
    ">A common problem for Behold is the extremely manual classification of new products \n",
    "    into their specific brands. Behold has supplier relationships from many global clothing \n",
    "    vendors and marketplaces, but has found that the bottleneck for scaling out the number \n",
    "    of products they can sell is identifying the brands associated with each new product. Use \n",
    "    the brands’ biographical description (behold_brands.csv), product descriptions\n",
    "    (products.csv) and any externally collected metadata, **build an NLP classification\n",
    "    model to predict which brand a new product should be assigned**"
   ]
  },
  {
   "cell_type": "markdown",
   "id": "handmade-milan",
   "metadata": {},
   "source": [
    "**Solution Pipeline:**\n",
    "\n",
    "1. Preprocess the text (e.g., lemmatization, grouping, tokenize)\n",
    "2. Feature engineering (e.g., using tags, product attributes)\n",
    "    - Feature creation\n",
    "3. Vectorization (either via count vectorization or via embeddings)\n",
    "4. train/test split and modeling (try different models and compare the performance)"
   ]
  },
  {
   "cell_type": "markdown",
   "id": "inner-fever",
   "metadata": {},
   "source": [
    "## Preprocessing"
   ]
  },
  {
   "cell_type": "code",
   "execution_count": 18,
   "id": "legal-uniform",
   "metadata": {},
   "outputs": [
    {
     "name": "stdout",
     "output_type": "stream",
     "text": [
      "CPU times: user 1.47 s, sys: 786 ms, total: 2.25 s\n",
      "Wall time: 2.63 s\n"
     ]
    }
   ],
   "source": [
    "%%time\n",
    "## need to download 'en_core_web_lg' first\n",
    "nlp = spacy.load('en_core_web_lg',disable=['ner','parser'])"
   ]
  },
  {
   "cell_type": "markdown",
   "id": "otherwise-dynamics",
   "metadata": {},
   "source": [
    "### lemmatization"
   ]
  },
  {
   "cell_type": "code",
   "execution_count": 19,
   "id": "fifty-brick",
   "metadata": {},
   "outputs": [],
   "source": [
    "def spacy_lem(data, field):\n",
    "    '''\n",
    "    do lemmatization for data[field]\n",
    "    '''\n",
    "    for i in range(len(data)):\n",
    "        if type(data.loc[i,field])==str:\n",
    "            rows = []\n",
    "            doc = nlp(data.loc[i,field])\n",
    "            for token in doc:\n",
    "                rows.append(token.lemma_)\n",
    "            data.loc[i,field] = ' '.join(rows)"
   ]
  },
  {
   "cell_type": "code",
   "execution_count": 21,
   "id": "after-details",
   "metadata": {},
   "outputs": [
    {
     "name": "stdout",
     "output_type": "stream",
     "text": [
      "CPU times: user 16min 14s, sys: 25.7 s, total: 16min 40s\n",
      "Wall time: 16min 50s\n"
     ]
    }
   ],
   "source": [
    "%%time\n",
    "for field in ['description','details','name','brand_category']:\n",
    "    spacy_lem(product,field)"
   ]
  },
  {
   "cell_type": "code",
   "execution_count": 22,
   "id": "macro-weekly",
   "metadata": {},
   "outputs": [
    {
     "name": "stdout",
     "output_type": "stream",
     "text": [
      "CPU times: user 4.49 s, sys: 121 ms, total: 4.61 s\n",
      "Wall time: 4.64 s\n"
     ]
    }
   ],
   "source": [
    "%%time\n",
    "for field in brand.columns[2:]:\n",
    "    spacy_lem(brand,field)"
   ]
  },
  {
   "cell_type": "code",
   "execution_count": 23,
   "id": "gentle-principle",
   "metadata": {},
   "outputs": [],
   "source": [
    "product_cp = product.copy()\n",
    "brand_cp = brand.copy()"
   ]
  },
  {
   "cell_type": "markdown",
   "id": "secret-bearing",
   "metadata": {},
   "source": [
    "### Regex Cleaning"
   ]
  },
  {
   "cell_type": "code",
   "execution_count": 24,
   "id": "sweet-productivity",
   "metadata": {},
   "outputs": [],
   "source": [
    "def removePunctuation(text, punctuations=string.punctuation+\"``\"+\"’\"+\"”\"):\n",
    "    words=nltk.word_tokenize(text)\n",
    "    newWords = [word for word in words if word.lower() not in punctuations]\n",
    "    cleanedText = \" \".join(newWords)\n",
    "    return cleanedText"
   ]
  },
  {
   "cell_type": "code",
   "execution_count": 25,
   "id": "architectural-lindsay",
   "metadata": {},
   "outputs": [],
   "source": [
    "nltk_stopwords = set(stopwords.words(\"English\"))\n",
    "def removeStopwords(text, stopwords=nltk_stopwords):\n",
    "    words = nltk.word_tokenize(text)\n",
    "    newWords = [word for word in words if word.lower() not in stopwords]\n",
    "    cleanedText = \" \".join(newWords)\n",
    "    return cleanedText"
   ]
  },
  {
   "cell_type": "code",
   "execution_count": 26,
   "id": "extraordinary-suffering",
   "metadata": {},
   "outputs": [
    {
     "name": "stdout",
     "output_type": "stream",
     "text": [
      "CPU times: user 43.4 s, sys: 118 ms, total: 43.5 s\n",
      "Wall time: 43.6 s\n"
     ]
    }
   ],
   "source": [
    "%%time\n",
    "for col in ['description','details']:\n",
    "    product[col] = product[col].str.replace('\\s\\s',' ')\n",
    "    product[col] = product[col].fillna('UNKNOWN_TOKEN')\n",
    "    product[col] = product[col].apply(removePunctuation)\n",
    "    product[col] = product[col].apply(removeStopwords)\n",
    "\n",
    "for col in brand.columns[2:]:\n",
    "    brand[col] = brand[col].str.replace('\\s\\s',' ')\n",
    "    brand[col] = brand[col].fillna('UNKNOWN_TOKEN')\n",
    "    brand[col] = brand[col].apply(removePunctuation)\n",
    "    brand[col] = brand[col].apply(removeStopwords)"
   ]
  },
  {
   "cell_type": "markdown",
   "id": "medium-illustration",
   "metadata": {},
   "source": [
    "## Feature Engineering"
   ]
  },
  {
   "cell_type": "markdown",
   "id": "completed-daisy",
   "metadata": {},
   "source": [
    "### Concatenating data"
   ]
  },
  {
   "cell_type": "code",
   "execution_count": 27,
   "id": "careful-trainer",
   "metadata": {},
   "outputs": [
    {
     "data": {
      "text/html": [
       "<div>\n",
       "<style scoped>\n",
       "    .dataframe tbody tr th:only-of-type {\n",
       "        vertical-align: middle;\n",
       "    }\n",
       "\n",
       "    .dataframe tbody tr th {\n",
       "        vertical-align: top;\n",
       "    }\n",
       "\n",
       "    .dataframe thead th {\n",
       "        text-align: right;\n",
       "    }\n",
       "</style>\n",
       "<table border=\"1\" class=\"dataframe\">\n",
       "  <thead>\n",
       "    <tr style=\"text-align: right;\">\n",
       "      <th></th>\n",
       "      <th>brand</th>\n",
       "      <th>value_brand</th>\n",
       "      <th>bio</th>\n",
       "      <th>quote</th>\n",
       "      <th>quote_attribute</th>\n",
       "      <th>intro</th>\n",
       "      <th>lifestyle_copy</th>\n",
       "      <th>short_bio</th>\n",
       "      <th>listing_bio</th>\n",
       "    </tr>\n",
       "  </thead>\n",
       "  <tbody>\n",
       "    <tr>\n",
       "      <th>15</th>\n",
       "      <td>Andrea Iyamah</td>\n",
       "      <td>[woman, emerge, BIPOC]</td>\n",
       "      <td>Andrea Iyamah nigerian fashion designer Andrea...</td>\n",
       "      <td>design inspire Cultural Story</td>\n",
       "      <td>UNKNOWN_TOKEN</td>\n",
       "      <td>UNKNOWN_TOKEN</td>\n",
       "      <td>ARIFA High Waist Bikini SS20</td>\n",
       "      <td>design inspire Cultural Story</td>\n",
       "      <td>behold Andrea Iyamah Nigerian Toronto base swi...</td>\n",
       "    </tr>\n",
       "    <tr>\n",
       "      <th>156</th>\n",
       "      <td>Zonarch</td>\n",
       "      <td>[sustainable, emerge, vegan, woman, Handmade A...</td>\n",
       "      <td>Zonarch swimwear brand dedicate change way hol...</td>\n",
       "      <td>sustainable California swimwear brand offer ha...</td>\n",
       "      <td>WWD</td>\n",
       "      <td>Zonarch go sustainably craft swim holiday esse...</td>\n",
       "      <td>Zonarch 's Coco top Laetitia Bottom Stripe</td>\n",
       "      <td>Á La Holiday</td>\n",
       "      <td>behold Zonarch swimwear brand fresh scene alre...</td>\n",
       "    </tr>\n",
       "    <tr>\n",
       "      <th>159</th>\n",
       "      <td>lemlem</td>\n",
       "      <td>[sustainable, BIPOC, woman, Handmade Artisan C...</td>\n",
       "      <td>lemlem woman 's resort wear brand make entirel...</td>\n",
       "      <td>want inject energy fuel back artisan artisanal...</td>\n",
       "      <td>Liya Kebede</td>\n",
       "      <td>found 2007 Liya Kebede lemlem entirely make Et...</td>\n",
       "      <td>lemlem Zoya Tunic Dress</td>\n",
       "      <td>lemlem artisan drive resortwear brand make Africa</td>\n",
       "      <td>behold LemLem found unstoppable supermodel Liy...</td>\n",
       "    </tr>\n",
       "  </tbody>\n",
       "</table>\n",
       "</div>"
      ],
      "text/plain": [
       "             brand                                        value_brand  \\\n",
       "15   Andrea Iyamah                             [woman, emerge, BIPOC]   \n",
       "156        Zonarch  [sustainable, emerge, vegan, woman, Handmade A...   \n",
       "159         lemlem  [sustainable, BIPOC, woman, Handmade Artisan C...   \n",
       "\n",
       "                                                   bio  \\\n",
       "15   Andrea Iyamah nigerian fashion designer Andrea...   \n",
       "156  Zonarch swimwear brand dedicate change way hol...   \n",
       "159  lemlem woman 's resort wear brand make entirel...   \n",
       "\n",
       "                                                 quote quote_attribute  \\\n",
       "15                       design inspire Cultural Story   UNKNOWN_TOKEN   \n",
       "156  sustainable California swimwear brand offer ha...             WWD   \n",
       "159  want inject energy fuel back artisan artisanal...     Liya Kebede   \n",
       "\n",
       "                                                 intro  \\\n",
       "15                                       UNKNOWN_TOKEN   \n",
       "156  Zonarch go sustainably craft swim holiday esse...   \n",
       "159  found 2007 Liya Kebede lemlem entirely make Et...   \n",
       "\n",
       "                                 lifestyle_copy  \\\n",
       "15                 ARIFA High Waist Bikini SS20   \n",
       "156  Zonarch 's Coco top Laetitia Bottom Stripe   \n",
       "159                     lemlem Zoya Tunic Dress   \n",
       "\n",
       "                                             short_bio  \\\n",
       "15                       design inspire Cultural Story   \n",
       "156                                       Á La Holiday   \n",
       "159  lemlem artisan drive resortwear brand make Africa   \n",
       "\n",
       "                                           listing_bio  \n",
       "15   behold Andrea Iyamah Nigerian Toronto base swi...  \n",
       "156  behold Zonarch swimwear brand fresh scene alre...  \n",
       "159  behold LemLem found unstoppable supermodel Liy...  "
      ]
     },
     "execution_count": 27,
     "metadata": {},
     "output_type": "execute_result"
    }
   ],
   "source": [
    "# put different brand values into one columns\n",
    "df = brand.groupby('brand').agg({'brand_value':list}).reset_index().rename(columns = {'brand_value':'value_brand'})\n",
    "df_brand = df.merge(brand,on='brand',how='left')[['brand', 'value_brand', 'bio', 'quote',\n",
    "       'quote_attribute', 'intro', 'lifestyle_copy', 'short_bio',\n",
    "       'listing_bio']]\n",
    "df_brand.sample(3)"
   ]
  },
  {
   "cell_type": "code",
   "execution_count": 28,
   "id": "regulated-lying",
   "metadata": {},
   "outputs": [
    {
     "data": {
      "text/html": [
       "<div>\n",
       "<style scoped>\n",
       "    .dataframe tbody tr th:only-of-type {\n",
       "        vertical-align: middle;\n",
       "    }\n",
       "\n",
       "    .dataframe tbody tr th {\n",
       "        vertical-align: top;\n",
       "    }\n",
       "\n",
       "    .dataframe thead th {\n",
       "        text-align: right;\n",
       "    }\n",
       "</style>\n",
       "<table border=\"1\" class=\"dataframe\">\n",
       "  <thead>\n",
       "    <tr style=\"text-align: right;\">\n",
       "      <th></th>\n",
       "      <th>product_id</th>\n",
       "      <th>brand</th>\n",
       "      <th>brand_category</th>\n",
       "      <th>name</th>\n",
       "      <th>details</th>\n",
       "      <th>created_at</th>\n",
       "      <th>brand_canonical_url</th>\n",
       "      <th>description</th>\n",
       "      <th>brand_description</th>\n",
       "      <th>brand_name</th>\n",
       "      <th>product_active</th>\n",
       "      <th>value_brand</th>\n",
       "      <th>bio</th>\n",
       "      <th>quote</th>\n",
       "      <th>quote_attribute</th>\n",
       "      <th>intro</th>\n",
       "      <th>lifestyle_copy</th>\n",
       "      <th>short_bio</th>\n",
       "      <th>listing_bio</th>\n",
       "    </tr>\n",
       "  </thead>\n",
       "  <tbody>\n",
       "    <tr>\n",
       "      <th>0</th>\n",
       "      <td>01EX0PN4J9WRNZH5F93YEX6QAF</td>\n",
       "      <td>Two</td>\n",
       "      <td>Unknown</td>\n",
       "      <td>Khadi Stripe Shirt-our signature shirt</td>\n",
       "      <td>UNKNOWN_TOKEN</td>\n",
       "      <td>2021-01-27 01:17:19.305 UTC</td>\n",
       "      <td>https://two-nyc.myshopify.com/products/white-k...</td>\n",
       "      <td>signature khadi shirt available black white ea...</td>\n",
       "      <td>Our signature khadi shirt\\n\\navailable in blac...</td>\n",
       "      <td>Khadi Stripe Shirt-our signature shirt</td>\n",
       "      <td>True</td>\n",
       "      <td>[sustainable, Handmade Artisan Crafted, woman]</td>\n",
       "      <td>two modern minimalist take caftan tunic easy d...</td>\n",
       "      <td>two emphasize importance sustainable craftsman...</td>\n",
       "      <td>Monica Patel Cohn Designer founder</td>\n",
       "      <td>chic modern piece gorgeous handwoven fabric</td>\n",
       "      <td>think two feel certain energy bliss calm warmt...</td>\n",
       "      <td>art Sari</td>\n",
       "      <td>behold two founder Monica Patel Cohn launch fr...</td>\n",
       "    </tr>\n",
       "    <tr>\n",
       "      <th>1</th>\n",
       "      <td>01F0C4SKZV6YXS3265JMC39NXW</td>\n",
       "      <td>Collina Strada</td>\n",
       "      <td>Unknown</td>\n",
       "      <td>RUFFLE MARKET DRESS LOOPY PINK SISTINE TOMATO</td>\n",
       "      <td>UNKNOWN_TOKEN</td>\n",
       "      <td>2021-03-09 18:43:10.457 UTC</td>\n",
       "      <td>https://collina-strada-2.myshopify.com/product...</td>\n",
       "      <td>mid length dress ruffle adjustable strap bias ...</td>\n",
       "      <td>Mid-length dress with ruffles and adjustable s...</td>\n",
       "      <td>RUFFLE MARKET DRESS LOOPY PINK SISTINE TOMATO</td>\n",
       "      <td>True</td>\n",
       "      <td>[woman, emerge]</td>\n",
       "      <td>well ready wear collection Collina Strada plat...</td>\n",
       "      <td>season season goal remain encourage self refle...</td>\n",
       "      <td>Hillary Taymour</td>\n",
       "      <td>Collina Strada platform social issue awareness...</td>\n",
       "      <td>Collina Strada embody humor youth brand dna fi...</td>\n",
       "      <td>easy wear clothe imbue fearlessly fluid attitude</td>\n",
       "      <td>behold Hillary Taymor master tie dye ethical w...</td>\n",
       "    </tr>\n",
       "  </tbody>\n",
       "</table>\n",
       "</div>"
      ],
      "text/plain": [
       "                   product_id           brand brand_category  \\\n",
       "0  01EX0PN4J9WRNZH5F93YEX6QAF             Two        Unknown   \n",
       "1  01F0C4SKZV6YXS3265JMC39NXW  Collina Strada        Unknown   \n",
       "\n",
       "                                            name        details  \\\n",
       "0         Khadi Stripe Shirt-our signature shirt  UNKNOWN_TOKEN   \n",
       "1  RUFFLE MARKET DRESS LOOPY PINK SISTINE TOMATO  UNKNOWN_TOKEN   \n",
       "\n",
       "                    created_at  \\\n",
       "0  2021-01-27 01:17:19.305 UTC   \n",
       "1  2021-03-09 18:43:10.457 UTC   \n",
       "\n",
       "                                 brand_canonical_url  \\\n",
       "0  https://two-nyc.myshopify.com/products/white-k...   \n",
       "1  https://collina-strada-2.myshopify.com/product...   \n",
       "\n",
       "                                         description  \\\n",
       "0  signature khadi shirt available black white ea...   \n",
       "1  mid length dress ruffle adjustable strap bias ...   \n",
       "\n",
       "                                   brand_description  \\\n",
       "0  Our signature khadi shirt\\n\\navailable in blac...   \n",
       "1  Mid-length dress with ruffles and adjustable s...   \n",
       "\n",
       "                                      brand_name  product_active  \\\n",
       "0         Khadi Stripe Shirt-our signature shirt            True   \n",
       "1  RUFFLE MARKET DRESS LOOPY PINK SISTINE TOMATO            True   \n",
       "\n",
       "                                      value_brand  \\\n",
       "0  [sustainable, Handmade Artisan Crafted, woman]   \n",
       "1                                 [woman, emerge]   \n",
       "\n",
       "                                                 bio  \\\n",
       "0  two modern minimalist take caftan tunic easy d...   \n",
       "1  well ready wear collection Collina Strada plat...   \n",
       "\n",
       "                                               quote  \\\n",
       "0  two emphasize importance sustainable craftsman...   \n",
       "1  season season goal remain encourage self refle...   \n",
       "\n",
       "                      quote_attribute  \\\n",
       "0  Monica Patel Cohn Designer founder   \n",
       "1                     Hillary Taymour   \n",
       "\n",
       "                                               intro  \\\n",
       "0        chic modern piece gorgeous handwoven fabric   \n",
       "1  Collina Strada platform social issue awareness...   \n",
       "\n",
       "                                      lifestyle_copy  \\\n",
       "0  think two feel certain energy bliss calm warmt...   \n",
       "1  Collina Strada embody humor youth brand dna fi...   \n",
       "\n",
       "                                          short_bio  \\\n",
       "0                                          art Sari   \n",
       "1  easy wear clothe imbue fearlessly fluid attitude   \n",
       "\n",
       "                                         listing_bio  \n",
       "0  behold two founder Monica Patel Cohn launch fr...  \n",
       "1  behold Hillary Taymor master tie dye ethical w...  "
      ]
     },
     "execution_count": 28,
     "metadata": {},
     "output_type": "execute_result"
    }
   ],
   "source": [
    "# combine product and brand\n",
    "product_brand = product.merge(df_brand,on='brand',how='left')\n",
    "product_brand = product_brand.drop_duplicates(subset=['product_id'], keep='first', inplace=False).\\\n",
    "                reset_index().drop(columns=['index'])\n",
    "product_brand.head(2)"
   ]
  },
  {
   "cell_type": "code",
   "execution_count": 29,
   "id": "lasting-boards",
   "metadata": {},
   "outputs": [
    {
     "data": {
      "text/plain": [
       "(61355, 19)"
      ]
     },
     "execution_count": 29,
     "metadata": {},
     "output_type": "execute_result"
    }
   ],
   "source": [
    "product_brand.shape"
   ]
  },
  {
   "cell_type": "code",
   "execution_count": 30,
   "id": "attractive-committee",
   "metadata": {},
   "outputs": [
    {
     "data": {
      "text/html": [
       "<div>\n",
       "<style scoped>\n",
       "    .dataframe tbody tr th:only-of-type {\n",
       "        vertical-align: middle;\n",
       "    }\n",
       "\n",
       "    .dataframe tbody tr th {\n",
       "        vertical-align: top;\n",
       "    }\n",
       "\n",
       "    .dataframe thead th {\n",
       "        text-align: right;\n",
       "    }\n",
       "</style>\n",
       "<table border=\"1\" class=\"dataframe\">\n",
       "  <thead>\n",
       "    <tr style=\"text-align: right;\">\n",
       "      <th></th>\n",
       "      <th>product_id</th>\n",
       "      <th>product_color_id</th>\n",
       "      <th>attribute_name</th>\n",
       "      <th>attribute_value</th>\n",
       "      <th>attribute_pair</th>\n",
       "    </tr>\n",
       "  </thead>\n",
       "  <tbody>\n",
       "    <tr>\n",
       "      <th>0</th>\n",
       "      <td>01E5ZXP5H0BTEZT9QD2HRZJ47A</td>\n",
       "      <td>01E5ZXP5JCREDC7WJVMWHK5Q40</td>\n",
       "      <td>materialclothing</td>\n",
       "      <td>linenblend</td>\n",
       "      <td>materialclothing: linenblend</td>\n",
       "    </tr>\n",
       "  </tbody>\n",
       "</table>\n",
       "</div>"
      ],
      "text/plain": [
       "                   product_id            product_color_id    attribute_name  \\\n",
       "0  01E5ZXP5H0BTEZT9QD2HRZJ47A  01E5ZXP5JCREDC7WJVMWHK5Q40  materialclothing   \n",
       "\n",
       "  attribute_value                attribute_pair  \n",
       "0      linenblend  materialclothing: linenblend  "
      ]
     },
     "execution_count": 30,
     "metadata": {},
     "output_type": "execute_result"
    }
   ],
   "source": [
    "tags['attribute_pair']=tags['attribute_name']+\": \"+tags['attribute_value']\n",
    "tags.head(1)"
   ]
  },
  {
   "cell_type": "code",
   "execution_count": 31,
   "id": "pleased-priest",
   "metadata": {},
   "outputs": [
    {
     "data": {
      "text/html": [
       "<div>\n",
       "<style scoped>\n",
       "    .dataframe tbody tr th:only-of-type {\n",
       "        vertical-align: middle;\n",
       "    }\n",
       "\n",
       "    .dataframe tbody tr th {\n",
       "        vertical-align: top;\n",
       "    }\n",
       "\n",
       "    .dataframe thead th {\n",
       "        text-align: right;\n",
       "    }\n",
       "</style>\n",
       "<table border=\"1\" class=\"dataframe\">\n",
       "  <thead>\n",
       "    <tr style=\"text-align: right;\">\n",
       "      <th></th>\n",
       "      <th>product_id</th>\n",
       "      <th>attribute_pair</th>\n",
       "    </tr>\n",
       "  </thead>\n",
       "  <tbody>\n",
       "    <tr>\n",
       "      <th>2187</th>\n",
       "      <td>01E2M3R94F8RHX3HJH75PP52BM</td>\n",
       "      <td>[pattern: logo, primarycolor: lightbrowns, mat...</td>\n",
       "    </tr>\n",
       "    <tr>\n",
       "      <th>3030</th>\n",
       "      <td>01E4RTTHB2BFZGSR3FZR503ZH1</td>\n",
       "      <td>[primarycolor: blacks, style: modern, material...</td>\n",
       "    </tr>\n",
       "    <tr>\n",
       "      <th>988</th>\n",
       "      <td>01E2FDK4K4BP3WYYW8YKAHTEYX</td>\n",
       "      <td>[primarycolor: blacks, style: edgy, materialcl...</td>\n",
       "    </tr>\n",
       "  </tbody>\n",
       "</table>\n",
       "</div>"
      ],
      "text/plain": [
       "                      product_id  \\\n",
       "2187  01E2M3R94F8RHX3HJH75PP52BM   \n",
       "3030  01E4RTTHB2BFZGSR3FZR503ZH1   \n",
       "988   01E2FDK4K4BP3WYYW8YKAHTEYX   \n",
       "\n",
       "                                         attribute_pair  \n",
       "2187  [pattern: logo, primarycolor: lightbrowns, mat...  \n",
       "3030  [primarycolor: blacks, style: modern, material...  \n",
       "988   [primarycolor: blacks, style: edgy, materialcl...  "
      ]
     },
     "execution_count": 31,
     "metadata": {},
     "output_type": "execute_result"
    }
   ],
   "source": [
    "tag_combined = tags.groupby('product_id').agg({'attribute_pair':list}).reset_index()\n",
    "tag_combined.sample(3)"
   ]
  },
  {
   "cell_type": "code",
   "execution_count": 32,
   "id": "endangered-works",
   "metadata": {},
   "outputs": [
    {
     "data": {
      "text/plain": [
       "product_id             0\n",
       "brand                  0\n",
       "brand_category       459\n",
       "name                   1\n",
       "details                0\n",
       "description            0\n",
       "value_brand        18680\n",
       "bio                18680\n",
       "quote              18680\n",
       "quote_attribute    18680\n",
       "intro              18680\n",
       "lifestyle_copy     18680\n",
       "short_bio          18680\n",
       "listing_bio        18680\n",
       "attribute_pair     57575\n",
       "dtype: int64"
      ]
     },
     "execution_count": 32,
     "metadata": {},
     "output_type": "execute_result"
    }
   ],
   "source": [
    "product_tag_brand = product_brand.merge(tag_combined,on='product_id',how='left')\n",
    "product_tag_brand = product_tag_brand.drop(columns=['created_at',\n",
    "                                                    'brand_canonical_url','brand_description',\n",
    "                                                    'brand_name','product_active'\n",
    "                                                   ])\n",
    "product_tag_brand.isna().sum()"
   ]
  },
  {
   "cell_type": "code",
   "execution_count": 33,
   "id": "passive-defeat",
   "metadata": {},
   "outputs": [
    {
     "data": {
      "text/plain": [
       "(61355, 15)"
      ]
     },
     "execution_count": 33,
     "metadata": {},
     "output_type": "execute_result"
    }
   ],
   "source": [
    "product_tag_brand.shape"
   ]
  },
  {
   "cell_type": "code",
   "execution_count": 34,
   "id": "stuffed-battle",
   "metadata": {},
   "outputs": [],
   "source": [
    "product_tag_brand = product_tag_brand.fillna('UNKNOWN_TOKEN')"
   ]
  },
  {
   "cell_type": "markdown",
   "id": "interstate-formula",
   "metadata": {},
   "source": [
    "### Feature Creation"
   ]
  },
  {
   "cell_type": "code",
   "execution_count": 35,
   "id": "alert-tourism",
   "metadata": {},
   "outputs": [
    {
     "data": {
      "text/html": [
       "<div>\n",
       "<style scoped>\n",
       "    .dataframe tbody tr th:only-of-type {\n",
       "        vertical-align: middle;\n",
       "    }\n",
       "\n",
       "    .dataframe tbody tr th {\n",
       "        vertical-align: top;\n",
       "    }\n",
       "\n",
       "    .dataframe thead th {\n",
       "        text-align: right;\n",
       "    }\n",
       "</style>\n",
       "<table border=\"1\" class=\"dataframe\">\n",
       "  <thead>\n",
       "    <tr style=\"text-align: right;\">\n",
       "      <th></th>\n",
       "      <th>product_id</th>\n",
       "      <th>brand</th>\n",
       "      <th>brand_category</th>\n",
       "      <th>name</th>\n",
       "      <th>details</th>\n",
       "      <th>description</th>\n",
       "      <th>value_brand</th>\n",
       "      <th>bio</th>\n",
       "      <th>quote</th>\n",
       "      <th>quote_attribute</th>\n",
       "      <th>intro</th>\n",
       "      <th>lifestyle_copy</th>\n",
       "      <th>short_bio</th>\n",
       "      <th>listing_bio</th>\n",
       "      <th>attribute_pair</th>\n",
       "    </tr>\n",
       "  </thead>\n",
       "  <tbody>\n",
       "    <tr>\n",
       "      <th>0</th>\n",
       "      <td>01EX0PN4J9WRNZH5F93YEX6QAF</td>\n",
       "      <td>Two</td>\n",
       "      <td>Unknown</td>\n",
       "      <td>Khadi Stripe Shirt-our signature shirt</td>\n",
       "      <td>UNKNOWN_TOKEN</td>\n",
       "      <td>signature khadi shirt available black white ea...</td>\n",
       "      <td>[sustainable, Handmade Artisan Crafted, woman]</td>\n",
       "      <td>two modern minimalist take caftan tunic easy d...</td>\n",
       "      <td>two emphasize importance sustainable craftsman...</td>\n",
       "      <td>Monica Patel Cohn Designer founder</td>\n",
       "      <td>chic modern piece gorgeous handwoven fabric</td>\n",
       "      <td>think two feel certain energy bliss calm warmt...</td>\n",
       "      <td>art Sari</td>\n",
       "      <td>behold two founder Monica Patel Cohn launch fr...</td>\n",
       "      <td>UNKNOWN_TOKEN</td>\n",
       "    </tr>\n",
       "    <tr>\n",
       "      <th>1</th>\n",
       "      <td>01F0C4SKZV6YXS3265JMC39NXW</td>\n",
       "      <td>Collina Strada</td>\n",
       "      <td>Unknown</td>\n",
       "      <td>RUFFLE MARKET DRESS LOOPY PINK SISTINE TOMATO</td>\n",
       "      <td>UNKNOWN_TOKEN</td>\n",
       "      <td>mid length dress ruffle adjustable strap bias ...</td>\n",
       "      <td>[woman, emerge]</td>\n",
       "      <td>well ready wear collection Collina Strada plat...</td>\n",
       "      <td>season season goal remain encourage self refle...</td>\n",
       "      <td>Hillary Taymour</td>\n",
       "      <td>Collina Strada platform social issue awareness...</td>\n",
       "      <td>Collina Strada embody humor youth brand dna fi...</td>\n",
       "      <td>easy wear clothe imbue fearlessly fluid attitude</td>\n",
       "      <td>behold Hillary Taymor master tie dye ethical w...</td>\n",
       "      <td>UNKNOWN_TOKEN</td>\n",
       "    </tr>\n",
       "    <tr>\n",
       "      <th>2</th>\n",
       "      <td>01EY4Y1BW8VZW51BWG5VZY82XW</td>\n",
       "      <td>Cariuma</td>\n",
       "      <td>Unknown</td>\n",
       "      <td>IBI Slip On Raw Red Knit Sneaker Women</td>\n",
       "      <td>UNKNOWN_TOKEN</td>\n",
       "      <td>ibi slip Raw Red Knit Sneaker woman</td>\n",
       "      <td>[BIPOC, emerge, Handmade Artisan Crafted, sust...</td>\n",
       "      <td>embrace personal style status quo trend empowe...</td>\n",
       "      <td>CARIUMA end search truly sustainable ultra com...</td>\n",
       "      <td>forbe</td>\n",
       "      <td>believe style comfort sustainability synonymou...</td>\n",
       "      <td>CARIUMA sustainability style comfort synonymou...</td>\n",
       "      <td>believe make thing way well people planet</td>\n",
       "      <td>behold Cariuma brazilian brand found good frie...</td>\n",
       "      <td>UNKNOWN_TOKEN</td>\n",
       "    </tr>\n",
       "  </tbody>\n",
       "</table>\n",
       "</div>"
      ],
      "text/plain": [
       "                   product_id           brand brand_category  \\\n",
       "0  01EX0PN4J9WRNZH5F93YEX6QAF             Two        Unknown   \n",
       "1  01F0C4SKZV6YXS3265JMC39NXW  Collina Strada        Unknown   \n",
       "2  01EY4Y1BW8VZW51BWG5VZY82XW         Cariuma        Unknown   \n",
       "\n",
       "                                            name        details  \\\n",
       "0         Khadi Stripe Shirt-our signature shirt  UNKNOWN_TOKEN   \n",
       "1  RUFFLE MARKET DRESS LOOPY PINK SISTINE TOMATO  UNKNOWN_TOKEN   \n",
       "2         IBI Slip On Raw Red Knit Sneaker Women  UNKNOWN_TOKEN   \n",
       "\n",
       "                                         description  \\\n",
       "0  signature khadi shirt available black white ea...   \n",
       "1  mid length dress ruffle adjustable strap bias ...   \n",
       "2                ibi slip Raw Red Knit Sneaker woman   \n",
       "\n",
       "                                         value_brand  \\\n",
       "0     [sustainable, Handmade Artisan Crafted, woman]   \n",
       "1                                    [woman, emerge]   \n",
       "2  [BIPOC, emerge, Handmade Artisan Crafted, sust...   \n",
       "\n",
       "                                                 bio  \\\n",
       "0  two modern minimalist take caftan tunic easy d...   \n",
       "1  well ready wear collection Collina Strada plat...   \n",
       "2  embrace personal style status quo trend empowe...   \n",
       "\n",
       "                                               quote  \\\n",
       "0  two emphasize importance sustainable craftsman...   \n",
       "1  season season goal remain encourage self refle...   \n",
       "2  CARIUMA end search truly sustainable ultra com...   \n",
       "\n",
       "                      quote_attribute  \\\n",
       "0  Monica Patel Cohn Designer founder   \n",
       "1                     Hillary Taymour   \n",
       "2                               forbe   \n",
       "\n",
       "                                               intro  \\\n",
       "0        chic modern piece gorgeous handwoven fabric   \n",
       "1  Collina Strada platform social issue awareness...   \n",
       "2  believe style comfort sustainability synonymou...   \n",
       "\n",
       "                                      lifestyle_copy  \\\n",
       "0  think two feel certain energy bliss calm warmt...   \n",
       "1  Collina Strada embody humor youth brand dna fi...   \n",
       "2  CARIUMA sustainability style comfort synonymou...   \n",
       "\n",
       "                                          short_bio  \\\n",
       "0                                          art Sari   \n",
       "1  easy wear clothe imbue fearlessly fluid attitude   \n",
       "2         believe make thing way well people planet   \n",
       "\n",
       "                                         listing_bio attribute_pair  \n",
       "0  behold two founder Monica Patel Cohn launch fr...  UNKNOWN_TOKEN  \n",
       "1  behold Hillary Taymor master tie dye ethical w...  UNKNOWN_TOKEN  \n",
       "2  behold Cariuma brazilian brand found good frie...  UNKNOWN_TOKEN  "
      ]
     },
     "execution_count": 35,
     "metadata": {},
     "output_type": "execute_result"
    }
   ],
   "source": [
    "product_tag_brand.head(3)"
   ]
  },
  {
   "cell_type": "code",
   "execution_count": 36,
   "id": "personalized-convergence",
   "metadata": {},
   "outputs": [],
   "source": [
    "# manufacturing location features\n",
    "pd.set_option('display.max_rows', 30)\n",
    "location = product_tag_brand['description'].str.\\\n",
    "       extract(r'\\b(?:made|make)\\s?(?:in)?\\s?(?!Lark|Organic|Cardigan|Charli|ATM|Holiday|Fall|Far)([A-Z]\\w+\\s?(?!Dry|Emeline|Michelle|Stretch|Models?|Style|Fit|Cotton|Swim|Crown|Madeleine|Phoebe|Limited|Army|Ally|Width|Knitted|Embossed|Regular|Ella|Micro)(?:[A-Z][a-z]\\w+)?)\\b')\n",
    "product_tag_brand['manuf_location'] = location[0]"
   ]
  },
  {
   "cell_type": "code",
   "execution_count": 37,
   "id": "material-metropolitan",
   "metadata": {},
   "outputs": [],
   "source": [
    "# change from list to str\n",
    "product_tag_brand['value_brand'] = [\" \".join(i) if i!='UNKNOWN_TOKEN' else 'UNKNOWN_TOKEN' for i in product_tag_brand['value_brand']]"
   ]
  },
  {
   "cell_type": "code",
   "execution_count": 38,
   "id": "graphic-anxiety",
   "metadata": {},
   "outputs": [],
   "source": [
    "# brand value features （!!could only be used for part 2 problem）\n",
    "product_tag_brand['is_handmade'] = ~pd.isna(product_tag_brand['value_brand'].str.extract(r'\\b(Handmade)\\b'))\n",
    "product_tag_brand['is_artisan_crafted'] = ~pd.isna(product_tag_brand['value_brand'].str.extract(r'\\b(Artisan Crafted)\\b'))\n",
    "product_tag_brand['is_sustainable'] = ~pd.isna(product_tag_brand['value_brand'].str.extract(r'\\b(sustainable)\\b'))\n",
    "product_tag_brand['is_emerging'] = ~pd.isna(product_tag_brand['value_brand'].str.extract(r'\\b(emerge)\\b'))\n",
    "product_tag_brand['is_vegan'] = ~pd.isna(product_tag_brand['value_brand'].str.extract(r'\\b(Vegan)\\b'))\n",
    "product_tag_brand['is_BIPOC'] = ~pd.isna(product_tag_brand['value_brand'].str.extract(r'\\b(BIPOC)\\b'))\n",
    "product_tag_brand['is_woman_owned'] = ~pd.isna(product_tag_brand['value_brand'].str.extract(r'\\b(woman)\\b'))"
   ]
  },
  {
   "cell_type": "code",
   "execution_count": 39,
   "id": "forward-secretary",
   "metadata": {},
   "outputs": [],
   "source": [
    "# change from list to str\n",
    "product_tag_brand['attribute_pair'] = [\" \".join(i) if i!='UNKNOWN_TOKEN' else 'UNKNOWN_TOKEN' for i in product_tag_brand['attribute_pair']]"
   ]
  },
  {
   "cell_type": "code",
   "execution_count": 40,
   "id": "specialized-justice",
   "metadata": {},
   "outputs": [],
   "source": [
    "# occassion features\n",
    "product_tag_brand['is_beach'] = ~pd.isna(product_tag_brand['description'].str.extract(r'\\b(beach)\\b')) + (~pd.isna(product_tag_brand['details'].str.extract(r'\\b(beach)\\b')))\n",
    "product_tag_brand['is_city'] = pd.notna(product_tag_brand['description'].str.extract(r'\\b(city)\\b')) + pd.notna(product_tag_brand['details'].str.extract(r'\\b(city)\\b'))\n",
    "product_tag_brand['is_holiday'] = pd.notna(product_tag_brand['description'].str.extract(r'\\b((?:vacation|holiday|getaway|weekend))\\b')) + pd.notna(product_tag_brand['details'].str.extract(r'\\b((?:vacation|holiday|getaway|weekend))\\b'))\n",
    "product_tag_brand['is_romance'] = pd.notna(product_tag_brand['description'].str.extract(r'\\b((?:romantic|romance))\\b')) + pd.notna(product_tag_brand['details'].str.extract(r'\\b((?:romantic|romance))\\b'))\n",
    "product_tag_brand['is_chic'] = pd.notna(product_tag_brand['description'].str.extract(r'\\b(chic)\\b')) + pd.notna(product_tag_brand['details'].str.extract(r'\\b(chic)\\b'))\n",
    "product_tag_brand['is_comfortable'] = pd.notna(product_tag_brand['description'].str.extract(r'\\b((?:comfort|cozy))\\b')) + pd.notna(product_tag_brand['details'].str.extract(r'\\b((?:comfort|cozy))\\b'))\n",
    "product_tag_brand['is_weekday'] = pd.notna(product_tag_brand['description'].str.extract(r'\\b((?:weekday))\\b')) + pd.notna(product_tag_brand['details'].str.extract(r'\\b((?:weekday))\\b'))\n",
    "product_tag_brand['is_asymmetrical'] = pd.notna(product_tag_brand['description'].str.extract(r'\\b((?:asymmetrical))\\b')) + pd.notna(product_tag_brand['details'].str.extract(r'\\b((?:asymmetrical))\\b'))\n",
    "product_tag_brand['is_timeless'] = pd.notna(product_tag_brand['description'].str.extract(r'\\b((?:timeless))\\b')) + pd.notna(product_tag_brand['details'].str.extract(r'\\b((?:timeless))\\b'))\n",
    "product_tag_brand['is_classic'] = pd.notna(product_tag_brand['description'].str.extract(r'\\b((?:classics?))\\b')) + pd.notna(product_tag_brand['details'].str.extract(r'\\b((?:classics?))\\b'))\n",
    "product_tag_brand['is_swim'] = pd.notna(product_tag_brand['description'].str.extract(r'\\b((?:swim|swimming))\\b')) + pd.notna(product_tag_brand['details'].str.extract(r'\\b((?:swim|swimming))\\b'))\n",
    "product_tag_brand['is_casual'] = pd.notna(product_tag_brand['description'].str.extract(r'\\b((?:casual))\\b')) + pd.notna(product_tag_brand['details'].str.extract(r'\\b((?:casual))\\b'))\n",
    "product_tag_brand['is_pajama'] = pd.notna(product_tag_brand['description'].str.extract(r'\\b((?:pajama))\\b')) + pd.notna(product_tag_brand['details'].str.extract(r'\\b((?:pajama))\\b'))\n",
    "product_tag_brand['is_sophisticated'] = pd.notna(product_tag_brand['description'].str.extract(r'\\b((?:sophisticated?))\\b')) + pd.notna(product_tag_brand['details'].str.extract(r'\\b((?:sophisticated?))\\b'))\n",
    "product_tag_brand['is_modern'] = pd.notna(product_tag_brand['description'].str.extract(r'\\b((?:modern|contemporary))\\b')) + pd.notna(product_tag_brand['details'].str.extract(r'\\b((?:modern|contemporary))\\b'))"
   ]
  },
  {
   "cell_type": "code",
   "execution_count": 41,
   "id": "three-cookie",
   "metadata": {},
   "outputs": [],
   "source": [
    "# material features\n",
    "pd.set_option('display.max_rows', 30)\n",
    "material = product_tag_brand['description'].str.extract(r'\\b(100\\s\\w+)\\b')\n",
    "product_tag_brand['material'] = material[0].str.lower()"
   ]
  },
  {
   "cell_type": "code",
   "execution_count": 42,
   "id": "adjacent-belarus",
   "metadata": {},
   "outputs": [
    {
     "data": {
      "text/html": [
       "<div>\n",
       "<style scoped>\n",
       "    .dataframe tbody tr th:only-of-type {\n",
       "        vertical-align: middle;\n",
       "    }\n",
       "\n",
       "    .dataframe tbody tr th {\n",
       "        vertical-align: top;\n",
       "    }\n",
       "\n",
       "    .dataframe thead th {\n",
       "        text-align: right;\n",
       "    }\n",
       "</style>\n",
       "<table border=\"1\" class=\"dataframe\">\n",
       "  <thead>\n",
       "    <tr style=\"text-align: right;\">\n",
       "      <th></th>\n",
       "      <th>product_id</th>\n",
       "      <th>brand</th>\n",
       "      <th>brand_category</th>\n",
       "      <th>name</th>\n",
       "      <th>details</th>\n",
       "      <th>description</th>\n",
       "      <th>value_brand</th>\n",
       "      <th>bio</th>\n",
       "      <th>quote</th>\n",
       "      <th>quote_attribute</th>\n",
       "      <th>...</th>\n",
       "      <th>is_weekday</th>\n",
       "      <th>is_asymmetrical</th>\n",
       "      <th>is_timeless</th>\n",
       "      <th>is_classic</th>\n",
       "      <th>is_swim</th>\n",
       "      <th>is_casual</th>\n",
       "      <th>is_pajama</th>\n",
       "      <th>is_sophisticated</th>\n",
       "      <th>is_modern</th>\n",
       "      <th>material</th>\n",
       "    </tr>\n",
       "  </thead>\n",
       "  <tbody>\n",
       "    <tr>\n",
       "      <th>34740</th>\n",
       "      <td>01EYQ1F5CY3PD0ZVPNBPV96SY1</td>\n",
       "      <td>Rails</td>\n",
       "      <td>Unknown</td>\n",
       "      <td>TAYLIN - BLACK</td>\n",
       "      <td>UNKNOWN_TOKEN</td>\n",
       "      <td>details heavy knit jersey pure cotton sleevele...</td>\n",
       "      <td>UNKNOWN_TOKEN</td>\n",
       "      <td>innovative shirt propel Rails contemporary mar...</td>\n",
       "      <td>collection blend effortless ease California ro...</td>\n",
       "      <td>Jeff Abrams</td>\n",
       "      <td>...</td>\n",
       "      <td>False</td>\n",
       "      <td>False</td>\n",
       "      <td>False</td>\n",
       "      <td>False</td>\n",
       "      <td>False</td>\n",
       "      <td>False</td>\n",
       "      <td>False</td>\n",
       "      <td>False</td>\n",
       "      <td>False</td>\n",
       "      <td>100 cotton</td>\n",
       "    </tr>\n",
       "    <tr>\n",
       "      <th>50228</th>\n",
       "      <td>01EEBGRDRN3GCGN2E53ZAW5D5F</td>\n",
       "      <td>Intentionally Blank</td>\n",
       "      <td>Unknown</td>\n",
       "      <td>ARCHIVE 1353</td>\n",
       "      <td>UNKNOWN_TOKEN</td>\n",
       "      <td>UNKNOWN_TOKEN</td>\n",
       "      <td>UNKNOWN_TOKEN</td>\n",
       "      <td>intentionally create 2014 Los Angeles currentl...</td>\n",
       "      <td>intentionally fill wardrobe footwear closet st...</td>\n",
       "      <td>Ty McBride Founder Creative Director</td>\n",
       "      <td>...</td>\n",
       "      <td>False</td>\n",
       "      <td>False</td>\n",
       "      <td>False</td>\n",
       "      <td>False</td>\n",
       "      <td>False</td>\n",
       "      <td>False</td>\n",
       "      <td>False</td>\n",
       "      <td>False</td>\n",
       "      <td>False</td>\n",
       "      <td>NaN</td>\n",
       "    </tr>\n",
       "    <tr>\n",
       "      <th>12957</th>\n",
       "      <td>01ENBK2KB7K3BB56C48SYP6XEE</td>\n",
       "      <td>Rails</td>\n",
       "      <td>Unknown</td>\n",
       "      <td>HESTON - REVERSIBLE OLIVE HEATHER GREY STRIPE</td>\n",
       "      <td>UNKNOWN_TOKEN</td>\n",
       "      <td>details cozy brush fleece double faced long sl...</td>\n",
       "      <td>UNKNOWN_TOKEN</td>\n",
       "      <td>innovative shirt propel Rails contemporary mar...</td>\n",
       "      <td>collection blend effortless ease California ro...</td>\n",
       "      <td>Jeff Abrams</td>\n",
       "      <td>...</td>\n",
       "      <td>False</td>\n",
       "      <td>False</td>\n",
       "      <td>True</td>\n",
       "      <td>True</td>\n",
       "      <td>False</td>\n",
       "      <td>False</td>\n",
       "      <td>False</td>\n",
       "      <td>False</td>\n",
       "      <td>False</td>\n",
       "      <td>100 cotton</td>\n",
       "    </tr>\n",
       "  </tbody>\n",
       "</table>\n",
       "<p>3 rows × 39 columns</p>\n",
       "</div>"
      ],
      "text/plain": [
       "                       product_id                brand brand_category  \\\n",
       "34740  01EYQ1F5CY3PD0ZVPNBPV96SY1                Rails        Unknown   \n",
       "50228  01EEBGRDRN3GCGN2E53ZAW5D5F  Intentionally Blank        Unknown   \n",
       "12957  01ENBK2KB7K3BB56C48SYP6XEE                Rails        Unknown   \n",
       "\n",
       "                                                name        details  \\\n",
       "34740                                 TAYLIN - BLACK  UNKNOWN_TOKEN   \n",
       "50228                                   ARCHIVE 1353  UNKNOWN_TOKEN   \n",
       "12957  HESTON - REVERSIBLE OLIVE HEATHER GREY STRIPE  UNKNOWN_TOKEN   \n",
       "\n",
       "                                             description    value_brand  \\\n",
       "34740  details heavy knit jersey pure cotton sleevele...  UNKNOWN_TOKEN   \n",
       "50228                                      UNKNOWN_TOKEN  UNKNOWN_TOKEN   \n",
       "12957  details cozy brush fleece double faced long sl...  UNKNOWN_TOKEN   \n",
       "\n",
       "                                                     bio  \\\n",
       "34740  innovative shirt propel Rails contemporary mar...   \n",
       "50228  intentionally create 2014 Los Angeles currentl...   \n",
       "12957  innovative shirt propel Rails contemporary mar...   \n",
       "\n",
       "                                                   quote  \\\n",
       "34740  collection blend effortless ease California ro...   \n",
       "50228  intentionally fill wardrobe footwear closet st...   \n",
       "12957  collection blend effortless ease California ro...   \n",
       "\n",
       "                            quote_attribute  ... is_weekday is_asymmetrical  \\\n",
       "34740                           Jeff Abrams  ...      False           False   \n",
       "50228  Ty McBride Founder Creative Director  ...      False           False   \n",
       "12957                           Jeff Abrams  ...      False           False   \n",
       "\n",
       "      is_timeless is_classic is_swim is_casual  is_pajama  is_sophisticated  \\\n",
       "34740       False      False   False     False      False             False   \n",
       "50228       False      False   False     False      False             False   \n",
       "12957        True       True   False     False      False             False   \n",
       "\n",
       "       is_modern    material  \n",
       "34740      False  100 cotton  \n",
       "50228      False         NaN  \n",
       "12957      False  100 cotton  \n",
       "\n",
       "[3 rows x 39 columns]"
      ]
     },
     "execution_count": 42,
     "metadata": {},
     "output_type": "execute_result"
    }
   ],
   "source": [
    "product_tag_brand.sample(3)"
   ]
  },
  {
   "cell_type": "markdown",
   "id": "authorized-victory",
   "metadata": {},
   "source": [
    "### Grouping"
   ]
  },
  {
   "cell_type": "code",
   "execution_count": 43,
   "id": "protected-brazil",
   "metadata": {},
   "outputs": [],
   "source": [
    "# 'manuf_location'\n",
    "product_tag_brand.manuf_location = product_tag_brand.manuf_location.str.replace(r'\\bLA\\b','Los Angeles')\n",
    "product_tag_brand.manuf_location = product_tag_brand.manuf_location.str.replace(r'\\bNY｜NYC\\b','New York')\n",
    "product_tag_brand.manuf_location = product_tag_brand.manuf_location.str.replace(r'\\bUS\\b','USA')\n",
    "product_tag_brand.manuf_location = product_tag_brand.manuf_location.str.replace(r'\\bItalian|ItalySmall\\b','Italy')\n",
    "product_tag_brand.manuf_location = product_tag_brand.manuf_location.str.replace(r'\\bCN\\b','China')"
   ]
  },
  {
   "cell_type": "code",
   "execution_count": 45,
   "id": "structural-indicator",
   "metadata": {},
   "outputs": [],
   "source": [
    "df=product_tag_brand.copy()"
   ]
  },
  {
   "cell_type": "code",
   "execution_count": 46,
   "id": "impressed-personality",
   "metadata": {},
   "outputs": [],
   "source": [
    "df.fillna('UNKNOWN_TOKEN',inplace=True)\n",
    "df.brand = df.brand.astype(str)"
   ]
  },
  {
   "cell_type": "code",
   "execution_count": 47,
   "id": "prostate-press",
   "metadata": {},
   "outputs": [
    {
     "data": {
      "text/html": [
       "<div>\n",
       "<style scoped>\n",
       "    .dataframe tbody tr th:only-of-type {\n",
       "        vertical-align: middle;\n",
       "    }\n",
       "\n",
       "    .dataframe tbody tr th {\n",
       "        vertical-align: top;\n",
       "    }\n",
       "\n",
       "    .dataframe thead th {\n",
       "        text-align: right;\n",
       "    }\n",
       "</style>\n",
       "<table border=\"1\" class=\"dataframe\">\n",
       "  <thead>\n",
       "    <tr style=\"text-align: right;\">\n",
       "      <th></th>\n",
       "      <th>product_id</th>\n",
       "      <th>brand</th>\n",
       "      <th>brand_category</th>\n",
       "      <th>name</th>\n",
       "      <th>details</th>\n",
       "      <th>description</th>\n",
       "      <th>value_brand</th>\n",
       "      <th>bio</th>\n",
       "      <th>quote</th>\n",
       "      <th>quote_attribute</th>\n",
       "      <th>...</th>\n",
       "      <th>is_weekday</th>\n",
       "      <th>is_asymmetrical</th>\n",
       "      <th>is_timeless</th>\n",
       "      <th>is_classic</th>\n",
       "      <th>is_swim</th>\n",
       "      <th>is_casual</th>\n",
       "      <th>is_pajama</th>\n",
       "      <th>is_sophisticated</th>\n",
       "      <th>is_modern</th>\n",
       "      <th>material</th>\n",
       "    </tr>\n",
       "  </thead>\n",
       "  <tbody>\n",
       "    <tr>\n",
       "      <th>0</th>\n",
       "      <td>01EX0PN4J9WRNZH5F93YEX6QAF</td>\n",
       "      <td>Two</td>\n",
       "      <td>UNKNOWN_TOKEN</td>\n",
       "      <td>Khadi Stripe Shirt-our signature shirt</td>\n",
       "      <td>UNKNOWN_TOKEN</td>\n",
       "      <td>signature khadi shirt available black white ea...</td>\n",
       "      <td>sustainable Handmade Artisan Crafted woman</td>\n",
       "      <td>two modern minimalist take caftan tunic easy d...</td>\n",
       "      <td>two emphasize importance sustainable craftsman...</td>\n",
       "      <td>Monica Patel Cohn Designer founder</td>\n",
       "      <td>...</td>\n",
       "      <td>False</td>\n",
       "      <td>False</td>\n",
       "      <td>False</td>\n",
       "      <td>False</td>\n",
       "      <td>False</td>\n",
       "      <td>False</td>\n",
       "      <td>False</td>\n",
       "      <td>False</td>\n",
       "      <td>False</td>\n",
       "      <td>UNKNOWN_TOKEN</td>\n",
       "    </tr>\n",
       "    <tr>\n",
       "      <th>1</th>\n",
       "      <td>01F0C4SKZV6YXS3265JMC39NXW</td>\n",
       "      <td>Collina Strada</td>\n",
       "      <td>UNKNOWN_TOKEN</td>\n",
       "      <td>RUFFLE MARKET DRESS LOOPY PINK SISTINE TOMATO</td>\n",
       "      <td>UNKNOWN_TOKEN</td>\n",
       "      <td>mid length dress ruffle adjustable strap bias ...</td>\n",
       "      <td>woman emerge</td>\n",
       "      <td>well ready wear collection Collina Strada plat...</td>\n",
       "      <td>season season goal remain encourage self refle...</td>\n",
       "      <td>Hillary Taymour</td>\n",
       "      <td>...</td>\n",
       "      <td>False</td>\n",
       "      <td>False</td>\n",
       "      <td>False</td>\n",
       "      <td>False</td>\n",
       "      <td>False</td>\n",
       "      <td>False</td>\n",
       "      <td>False</td>\n",
       "      <td>False</td>\n",
       "      <td>False</td>\n",
       "      <td>100 rose</td>\n",
       "    </tr>\n",
       "    <tr>\n",
       "      <th>2</th>\n",
       "      <td>01EY4Y1BW8VZW51BWG5VZY82XW</td>\n",
       "      <td>Cariuma</td>\n",
       "      <td>UNKNOWN_TOKEN</td>\n",
       "      <td>IBI Slip On Raw Red Knit Sneaker Women</td>\n",
       "      <td>UNKNOWN_TOKEN</td>\n",
       "      <td>ibi slip Raw Red Knit Sneaker woman</td>\n",
       "      <td>BIPOC emerge Handmade Artisan Crafted sustainable</td>\n",
       "      <td>embrace personal style status quo trend empowe...</td>\n",
       "      <td>CARIUMA end search truly sustainable ultra com...</td>\n",
       "      <td>forbe</td>\n",
       "      <td>...</td>\n",
       "      <td>False</td>\n",
       "      <td>False</td>\n",
       "      <td>False</td>\n",
       "      <td>False</td>\n",
       "      <td>False</td>\n",
       "      <td>False</td>\n",
       "      <td>False</td>\n",
       "      <td>False</td>\n",
       "      <td>False</td>\n",
       "      <td>UNKNOWN_TOKEN</td>\n",
       "    </tr>\n",
       "    <tr>\n",
       "      <th>3</th>\n",
       "      <td>01EY50E27A0P5V6KCW01XPDB43</td>\n",
       "      <td>Cariuma</td>\n",
       "      <td>UNKNOWN_TOKEN</td>\n",
       "      <td>IBI Slip On Black Knit Sneaker Women</td>\n",
       "      <td>UNKNOWN_TOKEN</td>\n",
       "      <td>ibi slip Black Knit Sneaker woman</td>\n",
       "      <td>BIPOC emerge Handmade Artisan Crafted sustainable</td>\n",
       "      <td>embrace personal style status quo trend empowe...</td>\n",
       "      <td>CARIUMA end search truly sustainable ultra com...</td>\n",
       "      <td>forbe</td>\n",
       "      <td>...</td>\n",
       "      <td>False</td>\n",
       "      <td>False</td>\n",
       "      <td>False</td>\n",
       "      <td>False</td>\n",
       "      <td>False</td>\n",
       "      <td>False</td>\n",
       "      <td>False</td>\n",
       "      <td>False</td>\n",
       "      <td>False</td>\n",
       "      <td>UNKNOWN_TOKEN</td>\n",
       "    </tr>\n",
       "    <tr>\n",
       "      <th>4</th>\n",
       "      <td>01EY6DWHC2W5HPNEGXKEJ4A1CX</td>\n",
       "      <td>Cariuma</td>\n",
       "      <td>UNKNOWN_TOKEN</td>\n",
       "      <td>CATIBA PRO Skate Black Suede and Canvas Contra...</td>\n",
       "      <td>UNKNOWN_TOKEN</td>\n",
       "      <td>UNKNOWN_TOKEN</td>\n",
       "      <td>BIPOC emerge Handmade Artisan Crafted sustainable</td>\n",
       "      <td>embrace personal style status quo trend empowe...</td>\n",
       "      <td>CARIUMA end search truly sustainable ultra com...</td>\n",
       "      <td>forbe</td>\n",
       "      <td>...</td>\n",
       "      <td>False</td>\n",
       "      <td>False</td>\n",
       "      <td>False</td>\n",
       "      <td>False</td>\n",
       "      <td>False</td>\n",
       "      <td>False</td>\n",
       "      <td>False</td>\n",
       "      <td>False</td>\n",
       "      <td>False</td>\n",
       "      <td>UNKNOWN_TOKEN</td>\n",
       "    </tr>\n",
       "  </tbody>\n",
       "</table>\n",
       "<p>5 rows × 39 columns</p>\n",
       "</div>"
      ],
      "text/plain": [
       "                   product_id           brand brand_category  \\\n",
       "0  01EX0PN4J9WRNZH5F93YEX6QAF             Two  UNKNOWN_TOKEN   \n",
       "1  01F0C4SKZV6YXS3265JMC39NXW  Collina Strada  UNKNOWN_TOKEN   \n",
       "2  01EY4Y1BW8VZW51BWG5VZY82XW         Cariuma  UNKNOWN_TOKEN   \n",
       "3  01EY50E27A0P5V6KCW01XPDB43         Cariuma  UNKNOWN_TOKEN   \n",
       "4  01EY6DWHC2W5HPNEGXKEJ4A1CX         Cariuma  UNKNOWN_TOKEN   \n",
       "\n",
       "                                                name        details  \\\n",
       "0             Khadi Stripe Shirt-our signature shirt  UNKNOWN_TOKEN   \n",
       "1      RUFFLE MARKET DRESS LOOPY PINK SISTINE TOMATO  UNKNOWN_TOKEN   \n",
       "2             IBI Slip On Raw Red Knit Sneaker Women  UNKNOWN_TOKEN   \n",
       "3               IBI Slip On Black Knit Sneaker Women  UNKNOWN_TOKEN   \n",
       "4  CATIBA PRO Skate Black Suede and Canvas Contra...  UNKNOWN_TOKEN   \n",
       "\n",
       "                                         description  \\\n",
       "0  signature khadi shirt available black white ea...   \n",
       "1  mid length dress ruffle adjustable strap bias ...   \n",
       "2                ibi slip Raw Red Knit Sneaker woman   \n",
       "3                  ibi slip Black Knit Sneaker woman   \n",
       "4                                      UNKNOWN_TOKEN   \n",
       "\n",
       "                                         value_brand  \\\n",
       "0         sustainable Handmade Artisan Crafted woman   \n",
       "1                                       woman emerge   \n",
       "2  BIPOC emerge Handmade Artisan Crafted sustainable   \n",
       "3  BIPOC emerge Handmade Artisan Crafted sustainable   \n",
       "4  BIPOC emerge Handmade Artisan Crafted sustainable   \n",
       "\n",
       "                                                 bio  \\\n",
       "0  two modern minimalist take caftan tunic easy d...   \n",
       "1  well ready wear collection Collina Strada plat...   \n",
       "2  embrace personal style status quo trend empowe...   \n",
       "3  embrace personal style status quo trend empowe...   \n",
       "4  embrace personal style status quo trend empowe...   \n",
       "\n",
       "                                               quote  \\\n",
       "0  two emphasize importance sustainable craftsman...   \n",
       "1  season season goal remain encourage self refle...   \n",
       "2  CARIUMA end search truly sustainable ultra com...   \n",
       "3  CARIUMA end search truly sustainable ultra com...   \n",
       "4  CARIUMA end search truly sustainable ultra com...   \n",
       "\n",
       "                      quote_attribute  ... is_weekday is_asymmetrical  \\\n",
       "0  Monica Patel Cohn Designer founder  ...      False           False   \n",
       "1                     Hillary Taymour  ...      False           False   \n",
       "2                               forbe  ...      False           False   \n",
       "3                               forbe  ...      False           False   \n",
       "4                               forbe  ...      False           False   \n",
       "\n",
       "  is_timeless is_classic is_swim is_casual  is_pajama  is_sophisticated  \\\n",
       "0       False      False   False     False      False             False   \n",
       "1       False      False   False     False      False             False   \n",
       "2       False      False   False     False      False             False   \n",
       "3       False      False   False     False      False             False   \n",
       "4       False      False   False     False      False             False   \n",
       "\n",
       "   is_modern       material  \n",
       "0      False  UNKNOWN_TOKEN  \n",
       "1      False       100 rose  \n",
       "2      False  UNKNOWN_TOKEN  \n",
       "3      False  UNKNOWN_TOKEN  \n",
       "4      False  UNKNOWN_TOKEN  \n",
       "\n",
       "[5 rows x 39 columns]"
      ]
     },
     "execution_count": 47,
     "metadata": {},
     "output_type": "execute_result"
    }
   ],
   "source": [
    "df.brand_category = df.brand_category.str.replace('Unknown','UNKNOWN_TOKEN')\n",
    "df.head()"
   ]
  },
  {
   "cell_type": "code",
   "execution_count": 49,
   "id": "insured-insulation",
   "metadata": {},
   "outputs": [],
   "source": [
    "df.to_csv('after_feature_creation.csv',index=None)"
   ]
  },
  {
   "cell_type": "code",
   "execution_count": 2,
   "id": "lovely-tumor",
   "metadata": {},
   "outputs": [],
   "source": [
    "df = pd.read_csv('after_feature_creation.csv')"
   ]
  },
  {
   "cell_type": "markdown",
   "id": "direct-looking",
   "metadata": {},
   "source": [
    "### Onehot encoding"
   ]
  },
  {
   "cell_type": "code",
   "execution_count": 3,
   "id": "registered-occurrence",
   "metadata": {},
   "outputs": [],
   "source": [
    "# one-hot encoding\n",
    "combined = pd.get_dummies(df[['manuf_location', 'is_beach', 'is_city', 'is_holiday',\n",
    "       'is_romance', 'is_chic', 'is_comfortable', 'is_weekday',\n",
    "       'is_asymmetrical', 'is_timeless', 'is_classic', 'is_swim', 'is_casual',\n",
    "       'is_pajama', 'is_sophisticated', 'is_modern', 'material']])"
   ]
  },
  {
   "cell_type": "code",
   "execution_count": 4,
   "id": "enhanced-manchester",
   "metadata": {},
   "outputs": [],
   "source": [
    "onehot_df = np.concatenate([df[['brand']],combined],axis=1)"
   ]
  },
  {
   "cell_type": "code",
   "execution_count": 5,
   "id": "relevant-beverage",
   "metadata": {},
   "outputs": [
    {
     "data": {
      "text/plain": [
       "(61355, 686)"
      ]
     },
     "execution_count": 5,
     "metadata": {},
     "output_type": "execute_result"
    }
   ],
   "source": [
    "combined.shape"
   ]
  },
  {
   "cell_type": "markdown",
   "id": "empty-offense",
   "metadata": {},
   "source": [
    "## Vectorization"
   ]
  },
  {
   "cell_type": "markdown",
   "id": "acoustic-screw",
   "metadata": {},
   "source": [
    "### Count Vectorization"
   ]
  },
  {
   "cell_type": "code",
   "execution_count": 3,
   "id": "underlying-curtis",
   "metadata": {},
   "outputs": [
    {
     "data": {
      "text/html": [
       "<div>\n",
       "<style scoped>\n",
       "    .dataframe tbody tr th:only-of-type {\n",
       "        vertical-align: middle;\n",
       "    }\n",
       "\n",
       "    .dataframe tbody tr th {\n",
       "        vertical-align: top;\n",
       "    }\n",
       "\n",
       "    .dataframe thead th {\n",
       "        text-align: right;\n",
       "    }\n",
       "</style>\n",
       "<table border=\"1\" class=\"dataframe\">\n",
       "  <thead>\n",
       "    <tr style=\"text-align: right;\">\n",
       "      <th></th>\n",
       "      <th>product_id</th>\n",
       "      <th>brand</th>\n",
       "      <th>brand_category</th>\n",
       "      <th>name</th>\n",
       "      <th>details</th>\n",
       "      <th>description</th>\n",
       "      <th>value_brand</th>\n",
       "      <th>bio</th>\n",
       "      <th>quote</th>\n",
       "      <th>quote_attribute</th>\n",
       "      <th>...</th>\n",
       "      <th>is_weekday</th>\n",
       "      <th>is_asymmetrical</th>\n",
       "      <th>is_timeless</th>\n",
       "      <th>is_classic</th>\n",
       "      <th>is_swim</th>\n",
       "      <th>is_casual</th>\n",
       "      <th>is_pajama</th>\n",
       "      <th>is_sophisticated</th>\n",
       "      <th>is_modern</th>\n",
       "      <th>material</th>\n",
       "    </tr>\n",
       "  </thead>\n",
       "  <tbody>\n",
       "    <tr>\n",
       "      <th>0</th>\n",
       "      <td>01EX0PN4J9WRNZH5F93YEX6QAF</td>\n",
       "      <td>Two</td>\n",
       "      <td>UNKNOWN_TOKEN</td>\n",
       "      <td>Khadi Stripe Shirt-our signature shirt</td>\n",
       "      <td>UNKNOWN_TOKEN</td>\n",
       "      <td>signature khadi shirt available black white ea...</td>\n",
       "      <td>sustainable Handmade Artisan Crafted woman</td>\n",
       "      <td>two modern minimalist take caftan tunic easy d...</td>\n",
       "      <td>two emphasize importance sustainable craftsman...</td>\n",
       "      <td>Monica Patel Cohn Designer founder</td>\n",
       "      <td>...</td>\n",
       "      <td>False</td>\n",
       "      <td>False</td>\n",
       "      <td>False</td>\n",
       "      <td>False</td>\n",
       "      <td>False</td>\n",
       "      <td>False</td>\n",
       "      <td>False</td>\n",
       "      <td>False</td>\n",
       "      <td>False</td>\n",
       "      <td>UNKNOWN_TOKEN</td>\n",
       "    </tr>\n",
       "    <tr>\n",
       "      <th>1</th>\n",
       "      <td>01F0C4SKZV6YXS3265JMC39NXW</td>\n",
       "      <td>Collina Strada</td>\n",
       "      <td>UNKNOWN_TOKEN</td>\n",
       "      <td>RUFFLE MARKET DRESS LOOPY PINK SISTINE TOMATO</td>\n",
       "      <td>UNKNOWN_TOKEN</td>\n",
       "      <td>mid length dress ruffle adjustable strap bias ...</td>\n",
       "      <td>woman emerge</td>\n",
       "      <td>well ready wear collection Collina Strada plat...</td>\n",
       "      <td>season season goal remain encourage self refle...</td>\n",
       "      <td>Hillary Taymour</td>\n",
       "      <td>...</td>\n",
       "      <td>False</td>\n",
       "      <td>False</td>\n",
       "      <td>False</td>\n",
       "      <td>False</td>\n",
       "      <td>False</td>\n",
       "      <td>False</td>\n",
       "      <td>False</td>\n",
       "      <td>False</td>\n",
       "      <td>False</td>\n",
       "      <td>100 rose</td>\n",
       "    </tr>\n",
       "    <tr>\n",
       "      <th>2</th>\n",
       "      <td>01EY4Y1BW8VZW51BWG5VZY82XW</td>\n",
       "      <td>Cariuma</td>\n",
       "      <td>UNKNOWN_TOKEN</td>\n",
       "      <td>IBI Slip On Raw Red Knit Sneaker Women</td>\n",
       "      <td>UNKNOWN_TOKEN</td>\n",
       "      <td>ibi slip Raw Red Knit Sneaker woman</td>\n",
       "      <td>BIPOC emerge Handmade Artisan Crafted sustainable</td>\n",
       "      <td>embrace personal style status quo trend empowe...</td>\n",
       "      <td>CARIUMA end search truly sustainable ultra com...</td>\n",
       "      <td>forbe</td>\n",
       "      <td>...</td>\n",
       "      <td>False</td>\n",
       "      <td>False</td>\n",
       "      <td>False</td>\n",
       "      <td>False</td>\n",
       "      <td>False</td>\n",
       "      <td>False</td>\n",
       "      <td>False</td>\n",
       "      <td>False</td>\n",
       "      <td>False</td>\n",
       "      <td>UNKNOWN_TOKEN</td>\n",
       "    </tr>\n",
       "  </tbody>\n",
       "</table>\n",
       "<p>3 rows × 39 columns</p>\n",
       "</div>"
      ],
      "text/plain": [
       "                   product_id           brand brand_category  \\\n",
       "0  01EX0PN4J9WRNZH5F93YEX6QAF             Two  UNKNOWN_TOKEN   \n",
       "1  01F0C4SKZV6YXS3265JMC39NXW  Collina Strada  UNKNOWN_TOKEN   \n",
       "2  01EY4Y1BW8VZW51BWG5VZY82XW         Cariuma  UNKNOWN_TOKEN   \n",
       "\n",
       "                                            name        details  \\\n",
       "0         Khadi Stripe Shirt-our signature shirt  UNKNOWN_TOKEN   \n",
       "1  RUFFLE MARKET DRESS LOOPY PINK SISTINE TOMATO  UNKNOWN_TOKEN   \n",
       "2         IBI Slip On Raw Red Knit Sneaker Women  UNKNOWN_TOKEN   \n",
       "\n",
       "                                         description  \\\n",
       "0  signature khadi shirt available black white ea...   \n",
       "1  mid length dress ruffle adjustable strap bias ...   \n",
       "2                ibi slip Raw Red Knit Sneaker woman   \n",
       "\n",
       "                                         value_brand  \\\n",
       "0         sustainable Handmade Artisan Crafted woman   \n",
       "1                                       woman emerge   \n",
       "2  BIPOC emerge Handmade Artisan Crafted sustainable   \n",
       "\n",
       "                                                 bio  \\\n",
       "0  two modern minimalist take caftan tunic easy d...   \n",
       "1  well ready wear collection Collina Strada plat...   \n",
       "2  embrace personal style status quo trend empowe...   \n",
       "\n",
       "                                               quote  \\\n",
       "0  two emphasize importance sustainable craftsman...   \n",
       "1  season season goal remain encourage self refle...   \n",
       "2  CARIUMA end search truly sustainable ultra com...   \n",
       "\n",
       "                      quote_attribute  ... is_weekday is_asymmetrical  \\\n",
       "0  Monica Patel Cohn Designer founder  ...      False           False   \n",
       "1                     Hillary Taymour  ...      False           False   \n",
       "2                               forbe  ...      False           False   \n",
       "\n",
       "  is_timeless is_classic is_swim is_casual  is_pajama  is_sophisticated  \\\n",
       "0       False      False   False     False      False             False   \n",
       "1       False      False   False     False      False             False   \n",
       "2       False      False   False     False      False             False   \n",
       "\n",
       "   is_modern       material  \n",
       "0      False  UNKNOWN_TOKEN  \n",
       "1      False       100 rose  \n",
       "2      False  UNKNOWN_TOKEN  \n",
       "\n",
       "[3 rows x 39 columns]"
      ]
     },
     "execution_count": 3,
     "metadata": {},
     "output_type": "execute_result"
    }
   ],
   "source": [
    "df.head(3)"
   ]
  },
  {
   "cell_type": "code",
   "execution_count": 4,
   "id": "offshore-account",
   "metadata": {},
   "outputs": [],
   "source": [
    "df_text = df['description']\n",
    "vectorizer_2 = CountVectorizer(ngram_range=(1, 1), \n",
    "                             stop_words=\"english\", \n",
    "                             max_features=300,\n",
    "                             min_df=2,\n",
    "                             token_pattern='(?u)\\\\b[a-zA-Z][a-zA-Z]+\\\\b')"
   ]
  },
  {
   "cell_type": "markdown",
   "id": "defensive-wheat",
   "metadata": {},
   "source": [
    "### TF-IDF"
   ]
  },
  {
   "cell_type": "code",
   "execution_count": 58,
   "id": "continued-reader",
   "metadata": {},
   "outputs": [],
   "source": [
    "tf_idf_sm = TfidfVectorizer(ngram_range=(1,1),\n",
    "                             token_pattern=r'\\b[a-zA-Z]{3,}\\b',\n",
    "                             max_features=300,\n",
    "                             min_df=2,\n",
    "                             max_df=0.4, stop_words=\"english\")\n",
    "tf_idf_lg = TfidfVectorizer(ngram_range=(2,3),\n",
    "                             token_pattern=r'\\b[a-zA-Z]{3,}\\b',\n",
    "                             max_features=300,\n",
    "                             min_df=2,\n",
    "                             max_df=0.4, stop_words=\"english\")"
   ]
  },
  {
   "cell_type": "markdown",
   "id": "composite-flooring",
   "metadata": {},
   "source": [
    "### Word embedding"
   ]
  },
  {
   "cell_type": "code",
   "execution_count": 9,
   "id": "flying-angel",
   "metadata": {},
   "outputs": [],
   "source": [
    "# e.g. docs = df['description']\n",
    "# using glove.txt\n",
    "def word_embedding(docs):\n",
    "    '''\n",
    "    input: docs (e.g., df['description']) needed to do word embedding\n",
    "    output: corresponding vectors\n",
    "    '''\n",
    "    # Tokenize the Text\n",
    "    tokenizer = Tokenizer(num_words=10000, oov_token=\"UNKNOWN_TOKEN\")\n",
    "    tokenizer.fit_on_texts(docs)\n",
    "\n",
    "    # Integer Encode Tokens\n",
    "    def integer_encode_documents(docs, tokenizer):\n",
    "        return tokenizer.texts_to_sequences(docs)\n",
    "\n",
    "    # Get Max Length Per Token\n",
    "    def get_max_token_length_per_doc(docs: List[List[str]])-> int:\n",
    "        return max(list(map(lambda x: len(x.split()), docs)))\n",
    "    ## get the max length in terms of token length\n",
    "    max_length = get_max_token_length_per_doc(docs)\n",
    "\n",
    "    MAX_SEQUENCE_LENGTH = 300\n",
    "    ## integer encode the documents\n",
    "    encoded_docs = integer_encode_documents(docs, tokenizer)\n",
    "    ## this is a list of lists, the numbers represent the index position of that word.\n",
    "    ## for instance, 33 means the 33rd word in the vocabulary\n",
    "    padded_docs = pad_sequences(encoded_docs, maxlen=MAX_SEQUENCE_LENGTH, padding='post')\n",
    "    \n",
    "    def load_glove_vectors():\n",
    "        embeddings_index = {}\n",
    "        with open('glove.6B.100d.txt') as f:\n",
    "            for line in f:\n",
    "                values = line.split()\n",
    "                word = values[0]\n",
    "                coefs = asarray(values[1:], dtype='float32')\n",
    "                embeddings_index[word] = coefs\n",
    "        print('Loaded %s word vectors.' % len(embeddings_index))\n",
    "        return embeddings_index\n",
    "    embeddings_index = load_glove_vectors()\n",
    "    \n",
    "    VOCAB_SIZE = int(len(tokenizer.word_index) * 1.1)\n",
    "    \n",
    "    # create a weight matrix for words in training docs\n",
    "    embedding_matrix = zeros((VOCAB_SIZE, 100))\n",
    "    for word, i in tokenizer.word_index.items():\n",
    "        embedding_vector = embeddings_index.get(word)\n",
    "        if embedding_vector is not None: # check that it is an actual word that we have embeddings for\n",
    "            embedding_matrix[i] = embedding_vector    \n",
    "\n",
    "    \n",
    "    return tokenizer, padded_docs, embedding_matrix, MAX_SEQUENCE_LENGTH"
   ]
  },
  {
   "cell_type": "code",
   "execution_count": 10,
   "id": "sharing-clear",
   "metadata": {},
   "outputs": [],
   "source": [
    "# don't use pre-trained embeddings\n",
    "def word_embedding_2(docs):\n",
    "    '''\n",
    "    input: docs (e.g., df['description','details']) needed to do word embedding\n",
    "    output: corresponding vectors\n",
    "    '''\n",
    "    # Tokenize the Text\n",
    "    tokenizer = Tokenizer(num_words=10000, oov_token=\"UNKNOWN_TOKEN\")\n",
    "    tokenizer.fit_on_texts(docs)\n",
    "\n",
    "    # Integer Encode Tokens\n",
    "    def integer_encode_documents(docs, tokenizer):\n",
    "        return tokenizer.texts_to_sequences(docs)\n",
    "\n",
    "    # Get Max Length Per Token\n",
    "    def get_max_token_length_per_doc(docs: List[List[str]])-> int:\n",
    "        return max(list(map(lambda x: len(x.split()), docs)))\n",
    "    ## get the max length in terms of token length\n",
    "    max_length = get_max_token_length_per_doc(docs)\n",
    "\n",
    "    MAX_SEQUENCE_LENGTH = 300\n",
    "    ## integer encode the documents\n",
    "    encoded_docs = integer_encode_documents(docs, tokenizer)\n",
    "    ## this is a list of lists, the numbers represent the index position of that word.\n",
    "    ## for instance, 33 means the 33rd word in the vocabulary\n",
    "    padded_docs = pad_sequences(encoded_docs, maxlen=MAX_SEQUENCE_LENGTH, padding='post')\n",
    "    \n",
    "    return tokenizer, padded_docs, MAX_SEQUENCE_LENGTH"
   ]
  },
  {
   "cell_type": "markdown",
   "id": "dried-timing",
   "metadata": {},
   "source": [
    "## Modeling"
   ]
  },
  {
   "cell_type": "code",
   "execution_count": 5,
   "id": "copyrighted-italian",
   "metadata": {},
   "outputs": [],
   "source": [
    "df_copy = df.copy()"
   ]
  },
  {
   "cell_type": "code",
   "execution_count": 6,
   "id": "amazing-scottish",
   "metadata": {
    "scrolled": true
   },
   "outputs": [
    {
     "data": {
      "text/plain": [
       "7 For All Mankind        0.146867\n",
       "Rails                    0.046679\n",
       "Intentionally Blank      0.041301\n",
       "A.L.C.                   0.034097\n",
       "Rachel Comey             0.033917\n",
       "Misa                     0.033086\n",
       "Studio 189               0.031880\n",
       "ASTR the Label           0.031652\n",
       "lemlem                   0.029680\n",
       "Simon Miller             0.023649\n",
       "Cynthia Rowley           0.021954\n",
       "Outerknown               0.021808\n",
       "Chufy                    0.019705\n",
       "Faherty                  0.019624\n",
       "M.M.LaFleur              0.019428\n",
       "Janessa Leone            0.018238\n",
       "Araks                    0.017619\n",
       "Sea                      0.017162\n",
       "BROCHU WALKER            0.016315\n",
       "Tanya Taylor             0.016152\n",
       "Clare V.                 0.015027\n",
       "Nili Lotan               0.011686\n",
       "Les Girls Les Boys       0.011328\n",
       "Prism                    0.010871\n",
       "Sandy Liang              0.010806\n",
       "6397                     0.010627\n",
       "Ancient Greek Sandals    0.010073\n",
       "Alo Yoga                 0.008557\n",
       "Collina Strada           0.008166\n",
       "Whit                     0.007970\n",
       "Batsheva                 0.007889\n",
       "Jenni Kayne              0.007872\n",
       "Varley US                0.007285\n",
       "Frame                    0.006617\n",
       "Aesther Ekme             0.006324\n",
       "Andrea Iyamah            0.005982\n",
       "Want Les Essentiels      0.005786\n",
       "Mother Denim             0.005542\n",
       "ANINE BING               0.005509\n",
       "ATP Atelier              0.005330\n",
       "Cariuma                  0.005281\n",
       "Ciao Lucia               0.005199\n",
       "Gigi Burris              0.004938\n",
       "Christina Lehr           0.004906\n",
       "Esquivel                 0.004792\n",
       "Two                      0.004629\n",
       "Eleven Six               0.004564\n",
       "Citizens of Humanity     0.004531\n",
       "EMME PARSONS             0.004352\n",
       "Banjanan                 0.004238\n",
       "Name: brand, dtype: float64"
      ]
     },
     "execution_count": 6,
     "metadata": {},
     "output_type": "execute_result"
    }
   ],
   "source": [
    "# before assigining 'other' category for brand\n",
    "df['brand'].value_counts(normalize=True)[:50]"
   ]
  },
  {
   "cell_type": "code",
   "execution_count": 6,
   "id": "continued-render",
   "metadata": {},
   "outputs": [],
   "source": [
    "top50 = df['brand'].value_counts(normalize=True)[:50].index\n",
    "def intop50(df):\n",
    "    updatebrand = []\n",
    "    for brand in df:\n",
    "        if brand not in top50:\n",
    "            updatebrand.append('other')\n",
    "        else:\n",
    "            updatebrand.append(brand)\n",
    "    return updatebrand"
   ]
  },
  {
   "cell_type": "markdown",
   "id": "driving-correlation",
   "metadata": {},
   "source": [
    "Before we start training, let's take a look at the relative distribution of counts for cities. Baseline performance accuracy for this model should be the largest value **~14.7%**. You can get this accuracy by predicting the model."
   ]
  },
  {
   "cell_type": "code",
   "execution_count": 7,
   "id": "timely-belly",
   "metadata": {
    "scrolled": true
   },
   "outputs": [
    {
     "data": {
      "text/plain": [
       "7 For All Mankind        0.146867\n",
       "other                    0.142515\n",
       "Rails                    0.046679\n",
       "Intentionally Blank      0.041301\n",
       "A.L.C.                   0.034097\n",
       "Rachel Comey             0.033917\n",
       "Misa                     0.033086\n",
       "Studio 189               0.031880\n",
       "ASTR the Label           0.031652\n",
       "lemlem                   0.029680\n",
       "Simon Miller             0.023649\n",
       "Cynthia Rowley           0.021954\n",
       "Outerknown               0.021808\n",
       "Chufy                    0.019705\n",
       "Faherty                  0.019624\n",
       "M.M.LaFleur              0.019428\n",
       "Janessa Leone            0.018238\n",
       "Araks                    0.017619\n",
       "Sea                      0.017162\n",
       "BROCHU WALKER            0.016315\n",
       "Tanya Taylor             0.016152\n",
       "Clare V.                 0.015027\n",
       "Nili Lotan               0.011686\n",
       "Les Girls Les Boys       0.011328\n",
       "Prism                    0.010871\n",
       "Sandy Liang              0.010806\n",
       "6397                     0.010627\n",
       "Ancient Greek Sandals    0.010073\n",
       "Alo Yoga                 0.008557\n",
       "Collina Strada           0.008166\n",
       "Whit                     0.007970\n",
       "Batsheva                 0.007889\n",
       "Jenni Kayne              0.007872\n",
       "Varley US                0.007285\n",
       "Frame                    0.006617\n",
       "Aesther Ekme             0.006324\n",
       "Andrea Iyamah            0.005982\n",
       "Want Les Essentiels      0.005786\n",
       "Mother Denim             0.005542\n",
       "ANINE BING               0.005509\n",
       "ATP Atelier              0.005330\n",
       "Cariuma                  0.005281\n",
       "Ciao Lucia               0.005199\n",
       "Gigi Burris              0.004938\n",
       "Christina Lehr           0.004906\n",
       "Esquivel                 0.004792\n",
       "Two                      0.004629\n",
       "Eleven Six               0.004564\n",
       "Citizens of Humanity     0.004531\n",
       "EMME PARSONS             0.004352\n",
       "Banjanan                 0.004238\n",
       "Name: brand, dtype: float64"
      ]
     },
     "execution_count": 7,
     "metadata": {},
     "output_type": "execute_result"
    }
   ],
   "source": [
    "df['brand'] = intop50(df['brand'])\n",
    "df['brand'].value_counts(normalize=True)"
   ]
  },
  {
   "cell_type": "code",
   "execution_count": 8,
   "id": "coated-century",
   "metadata": {},
   "outputs": [],
   "source": [
    "labels = df['brand']\n",
    "encoder = LabelEncoder()\n",
    "labels_encoded = to_categorical(encoder.fit_transform(labels))"
   ]
  },
  {
   "cell_type": "markdown",
   "id": "greenhouse-lafayette",
   "metadata": {},
   "source": [
    "### After Count Vectorization: 95.16%"
   ]
  },
  {
   "cell_type": "markdown",
   "id": "selective-zambia",
   "metadata": {},
   "source": [
    "#### use 'description' only"
   ]
  },
  {
   "cell_type": "code",
   "execution_count": 9,
   "id": "progressive-velvet",
   "metadata": {},
   "outputs": [],
   "source": [
    "vectorizer = CountVectorizer(ngram_range=(1, 1), \n",
    "                             stop_words=\"english\", \n",
    "                             max_features=1000,token_pattern='(?u)\\\\b[a-zA-Z][a-zA-Z]+\\\\b')"
   ]
  },
  {
   "cell_type": "code",
   "execution_count": 10,
   "id": "critical-chuck",
   "metadata": {},
   "outputs": [
    {
     "data": {
      "text/plain": [
       "<61355x1000 sparse matrix of type '<class 'numpy.int64'>'\n",
       "\twith 1253040 stored elements in Compressed Sparse Row format>"
      ]
     },
     "execution_count": 10,
     "metadata": {},
     "output_type": "execute_result"
    }
   ],
   "source": [
    "labels = df['brand']\n",
    "df_text = df['description']\n",
    "X_cntVec = vectorizer.fit_transform(df_text)\n",
    "y = labels\n",
    "X_cntVec"
   ]
  },
  {
   "cell_type": "code",
   "execution_count": 11,
   "id": "entertaining-advertising",
   "metadata": {},
   "outputs": [
    {
     "data": {
      "text/html": [
       "<div>\n",
       "<style scoped>\n",
       "    .dataframe tbody tr th:only-of-type {\n",
       "        vertical-align: middle;\n",
       "    }\n",
       "\n",
       "    .dataframe tbody tr th {\n",
       "        vertical-align: top;\n",
       "    }\n",
       "\n",
       "    .dataframe thead th {\n",
       "        text-align: right;\n",
       "    }\n",
       "</style>\n",
       "<table border=\"1\" class=\"dataframe\">\n",
       "  <thead>\n",
       "    <tr style=\"text-align: right;\">\n",
       "      <th></th>\n",
       "      <th>0</th>\n",
       "      <th>1</th>\n",
       "      <th>2</th>\n",
       "      <th>3</th>\n",
       "      <th>4</th>\n",
       "      <th>5</th>\n",
       "      <th>6</th>\n",
       "      <th>7</th>\n",
       "      <th>8</th>\n",
       "      <th>9</th>\n",
       "      <th>...</th>\n",
       "      <th>61345</th>\n",
       "      <th>61346</th>\n",
       "      <th>61347</th>\n",
       "      <th>61348</th>\n",
       "      <th>61349</th>\n",
       "      <th>61350</th>\n",
       "      <th>61351</th>\n",
       "      <th>61352</th>\n",
       "      <th>61353</th>\n",
       "      <th>61354</th>\n",
       "    </tr>\n",
       "  </thead>\n",
       "  <tbody>\n",
       "    <tr>\n",
       "      <th>abstract</th>\n",
       "      <td>0</td>\n",
       "      <td>0</td>\n",
       "      <td>0</td>\n",
       "      <td>0</td>\n",
       "      <td>0</td>\n",
       "      <td>0</td>\n",
       "      <td>0</td>\n",
       "      <td>0</td>\n",
       "      <td>0</td>\n",
       "      <td>0</td>\n",
       "      <td>...</td>\n",
       "      <td>0</td>\n",
       "      <td>0</td>\n",
       "      <td>0</td>\n",
       "      <td>0</td>\n",
       "      <td>0</td>\n",
       "      <td>0</td>\n",
       "      <td>0</td>\n",
       "      <td>0</td>\n",
       "      <td>0</td>\n",
       "      <td>0</td>\n",
       "    </tr>\n",
       "    <tr>\n",
       "      <th>accent</th>\n",
       "      <td>0</td>\n",
       "      <td>0</td>\n",
       "      <td>0</td>\n",
       "      <td>0</td>\n",
       "      <td>0</td>\n",
       "      <td>0</td>\n",
       "      <td>0</td>\n",
       "      <td>0</td>\n",
       "      <td>0</td>\n",
       "      <td>0</td>\n",
       "      <td>...</td>\n",
       "      <td>0</td>\n",
       "      <td>0</td>\n",
       "      <td>0</td>\n",
       "      <td>0</td>\n",
       "      <td>0</td>\n",
       "      <td>0</td>\n",
       "      <td>0</td>\n",
       "      <td>0</td>\n",
       "      <td>0</td>\n",
       "      <td>0</td>\n",
       "    </tr>\n",
       "    <tr>\n",
       "      <th>accentuate</th>\n",
       "      <td>0</td>\n",
       "      <td>0</td>\n",
       "      <td>0</td>\n",
       "      <td>0</td>\n",
       "      <td>0</td>\n",
       "      <td>0</td>\n",
       "      <td>0</td>\n",
       "      <td>0</td>\n",
       "      <td>0</td>\n",
       "      <td>0</td>\n",
       "      <td>...</td>\n",
       "      <td>0</td>\n",
       "      <td>0</td>\n",
       "      <td>0</td>\n",
       "      <td>0</td>\n",
       "      <td>0</td>\n",
       "      <td>0</td>\n",
       "      <td>0</td>\n",
       "      <td>0</td>\n",
       "      <td>0</td>\n",
       "      <td>0</td>\n",
       "    </tr>\n",
       "    <tr>\n",
       "      <th>accept</th>\n",
       "      <td>0</td>\n",
       "      <td>0</td>\n",
       "      <td>0</td>\n",
       "      <td>0</td>\n",
       "      <td>0</td>\n",
       "      <td>0</td>\n",
       "      <td>0</td>\n",
       "      <td>0</td>\n",
       "      <td>0</td>\n",
       "      <td>0</td>\n",
       "      <td>...</td>\n",
       "      <td>0</td>\n",
       "      <td>0</td>\n",
       "      <td>0</td>\n",
       "      <td>0</td>\n",
       "      <td>0</td>\n",
       "      <td>0</td>\n",
       "      <td>0</td>\n",
       "      <td>0</td>\n",
       "      <td>0</td>\n",
       "      <td>0</td>\n",
       "    </tr>\n",
       "    <tr>\n",
       "      <th>accessory</th>\n",
       "      <td>0</td>\n",
       "      <td>0</td>\n",
       "      <td>0</td>\n",
       "      <td>0</td>\n",
       "      <td>0</td>\n",
       "      <td>0</td>\n",
       "      <td>0</td>\n",
       "      <td>0</td>\n",
       "      <td>0</td>\n",
       "      <td>0</td>\n",
       "      <td>...</td>\n",
       "      <td>0</td>\n",
       "      <td>0</td>\n",
       "      <td>0</td>\n",
       "      <td>0</td>\n",
       "      <td>0</td>\n",
       "      <td>0</td>\n",
       "      <td>0</td>\n",
       "      <td>0</td>\n",
       "      <td>0</td>\n",
       "      <td>0</td>\n",
       "    </tr>\n",
       "    <tr>\n",
       "      <th>...</th>\n",
       "      <td>...</td>\n",
       "      <td>...</td>\n",
       "      <td>...</td>\n",
       "      <td>...</td>\n",
       "      <td>...</td>\n",
       "      <td>...</td>\n",
       "      <td>...</td>\n",
       "      <td>...</td>\n",
       "      <td>...</td>\n",
       "      <td>...</td>\n",
       "      <td>...</td>\n",
       "      <td>...</td>\n",
       "      <td>...</td>\n",
       "      <td>...</td>\n",
       "      <td>...</td>\n",
       "      <td>...</td>\n",
       "      <td>...</td>\n",
       "      <td>...</td>\n",
       "      <td>...</td>\n",
       "      <td>...</td>\n",
       "      <td>...</td>\n",
       "    </tr>\n",
       "    <tr>\n",
       "      <th>yellow</th>\n",
       "      <td>0</td>\n",
       "      <td>0</td>\n",
       "      <td>0</td>\n",
       "      <td>0</td>\n",
       "      <td>0</td>\n",
       "      <td>0</td>\n",
       "      <td>0</td>\n",
       "      <td>0</td>\n",
       "      <td>0</td>\n",
       "      <td>0</td>\n",
       "      <td>...</td>\n",
       "      <td>0</td>\n",
       "      <td>0</td>\n",
       "      <td>0</td>\n",
       "      <td>0</td>\n",
       "      <td>0</td>\n",
       "      <td>0</td>\n",
       "      <td>0</td>\n",
       "      <td>0</td>\n",
       "      <td>0</td>\n",
       "      <td>0</td>\n",
       "    </tr>\n",
       "    <tr>\n",
       "      <th>yoke</th>\n",
       "      <td>0</td>\n",
       "      <td>0</td>\n",
       "      <td>0</td>\n",
       "      <td>0</td>\n",
       "      <td>0</td>\n",
       "      <td>0</td>\n",
       "      <td>0</td>\n",
       "      <td>0</td>\n",
       "      <td>0</td>\n",
       "      <td>0</td>\n",
       "      <td>...</td>\n",
       "      <td>0</td>\n",
       "      <td>0</td>\n",
       "      <td>0</td>\n",
       "      <td>0</td>\n",
       "      <td>0</td>\n",
       "      <td>0</td>\n",
       "      <td>0</td>\n",
       "      <td>0</td>\n",
       "      <td>0</td>\n",
       "      <td>0</td>\n",
       "    </tr>\n",
       "    <tr>\n",
       "      <th>york</th>\n",
       "      <td>0</td>\n",
       "      <td>1</td>\n",
       "      <td>0</td>\n",
       "      <td>0</td>\n",
       "      <td>0</td>\n",
       "      <td>0</td>\n",
       "      <td>0</td>\n",
       "      <td>0</td>\n",
       "      <td>0</td>\n",
       "      <td>0</td>\n",
       "      <td>...</td>\n",
       "      <td>0</td>\n",
       "      <td>0</td>\n",
       "      <td>0</td>\n",
       "      <td>0</td>\n",
       "      <td>0</td>\n",
       "      <td>0</td>\n",
       "      <td>0</td>\n",
       "      <td>0</td>\n",
       "      <td>0</td>\n",
       "      <td>0</td>\n",
       "    </tr>\n",
       "    <tr>\n",
       "      <th>zip</th>\n",
       "      <td>0</td>\n",
       "      <td>0</td>\n",
       "      <td>0</td>\n",
       "      <td>0</td>\n",
       "      <td>0</td>\n",
       "      <td>0</td>\n",
       "      <td>0</td>\n",
       "      <td>0</td>\n",
       "      <td>0</td>\n",
       "      <td>0</td>\n",
       "      <td>...</td>\n",
       "      <td>0</td>\n",
       "      <td>0</td>\n",
       "      <td>0</td>\n",
       "      <td>0</td>\n",
       "      <td>1</td>\n",
       "      <td>0</td>\n",
       "      <td>0</td>\n",
       "      <td>0</td>\n",
       "      <td>0</td>\n",
       "      <td>0</td>\n",
       "    </tr>\n",
       "    <tr>\n",
       "      <th>zipper</th>\n",
       "      <td>0</td>\n",
       "      <td>1</td>\n",
       "      <td>0</td>\n",
       "      <td>0</td>\n",
       "      <td>0</td>\n",
       "      <td>0</td>\n",
       "      <td>0</td>\n",
       "      <td>0</td>\n",
       "      <td>0</td>\n",
       "      <td>0</td>\n",
       "      <td>...</td>\n",
       "      <td>0</td>\n",
       "      <td>0</td>\n",
       "      <td>0</td>\n",
       "      <td>0</td>\n",
       "      <td>0</td>\n",
       "      <td>0</td>\n",
       "      <td>0</td>\n",
       "      <td>0</td>\n",
       "      <td>0</td>\n",
       "      <td>0</td>\n",
       "    </tr>\n",
       "  </tbody>\n",
       "</table>\n",
       "<p>1000 rows × 61355 columns</p>\n",
       "</div>"
      ],
      "text/plain": [
       "            0      1      2      3      4      5      6      7      8      \\\n",
       "abstract        0      0      0      0      0      0      0      0      0   \n",
       "accent          0      0      0      0      0      0      0      0      0   \n",
       "accentuate      0      0      0      0      0      0      0      0      0   \n",
       "accept          0      0      0      0      0      0      0      0      0   \n",
       "accessory       0      0      0      0      0      0      0      0      0   \n",
       "...           ...    ...    ...    ...    ...    ...    ...    ...    ...   \n",
       "yellow          0      0      0      0      0      0      0      0      0   \n",
       "yoke            0      0      0      0      0      0      0      0      0   \n",
       "york            0      1      0      0      0      0      0      0      0   \n",
       "zip             0      0      0      0      0      0      0      0      0   \n",
       "zipper          0      1      0      0      0      0      0      0      0   \n",
       "\n",
       "            9      ...  61345  61346  61347  61348  61349  61350  61351  \\\n",
       "abstract        0  ...      0      0      0      0      0      0      0   \n",
       "accent          0  ...      0      0      0      0      0      0      0   \n",
       "accentuate      0  ...      0      0      0      0      0      0      0   \n",
       "accept          0  ...      0      0      0      0      0      0      0   \n",
       "accessory       0  ...      0      0      0      0      0      0      0   \n",
       "...           ...  ...    ...    ...    ...    ...    ...    ...    ...   \n",
       "yellow          0  ...      0      0      0      0      0      0      0   \n",
       "yoke            0  ...      0      0      0      0      0      0      0   \n",
       "york            0  ...      0      0      0      0      0      0      0   \n",
       "zip             0  ...      0      0      0      0      1      0      0   \n",
       "zipper          0  ...      0      0      0      0      0      0      0   \n",
       "\n",
       "            61352  61353  61354  \n",
       "abstract        0      0      0  \n",
       "accent          0      0      0  \n",
       "accentuate      0      0      0  \n",
       "accept          0      0      0  \n",
       "accessory       0      0      0  \n",
       "...           ...    ...    ...  \n",
       "yellow          0      0      0  \n",
       "yoke            0      0      0  \n",
       "york            0      0      0  \n",
       "zip             0      0      0  \n",
       "zipper          0      0      0  \n",
       "\n",
       "[1000 rows x 61355 columns]"
      ]
     },
     "execution_count": 11,
     "metadata": {},
     "output_type": "execute_result"
    }
   ],
   "source": [
    "pd.DataFrame(X_cntVec.toarray().transpose(), index=vectorizer.get_feature_names())"
   ]
  },
  {
   "cell_type": "markdown",
   "id": "social-turning",
   "metadata": {},
   "source": [
    "##### Logistic Regression"
   ]
  },
  {
   "cell_type": "code",
   "execution_count": 11,
   "id": "ruled-assurance",
   "metadata": {},
   "outputs": [
    {
     "data": {
      "text/plain": [
       "OneVsRestClassifier(estimator=LogisticRegression())"
      ]
     },
     "execution_count": 11,
     "metadata": {},
     "output_type": "execute_result"
    }
   ],
   "source": [
    "X_train, X_test, y_train, y_test = train_test_split(X_cntVec, labels, test_size=0.2, stratify = labels)\n",
    "lr = OneVsRestClassifier(LogisticRegression(penalty='l2'))\n",
    "lr.fit(X_train, y_train)"
   ]
  },
  {
   "cell_type": "code",
   "execution_count": 12,
   "id": "exterior-killer",
   "metadata": {},
   "outputs": [
    {
     "data": {
      "text/plain": [
       "0.861461983538424"
      ]
     },
     "execution_count": 12,
     "metadata": {},
     "output_type": "execute_result"
    }
   ],
   "source": [
    "lr.score(X_test,y_test)"
   ]
  },
  {
   "cell_type": "code",
   "execution_count": 15,
   "id": "opponent-accordance",
   "metadata": {},
   "outputs": [
    {
     "name": "stdout",
     "output_type": "stream",
     "text": [
      "CPU times: user 2min 17s, sys: 772 ms, total: 2min 17s\n",
      "Wall time: 2min 17s\n"
     ]
    },
    {
     "data": {
      "text/plain": [
       "0.8647542208182049"
      ]
     },
     "execution_count": 15,
     "metadata": {},
     "output_type": "execute_result"
    }
   ],
   "source": [
    "%%time\n",
    "# cross validation\n",
    "kfold = StratifiedKFold(n_splits=10, shuffle=True, random_state=10)\n",
    "lr = OneVsRestClassifier(LogisticRegression(penalty='l2'))\n",
    "cv = cross_val_score(lr,X_cntVec,labels,cv=kfold,scoring='accuracy')\n",
    "cv.mean()"
   ]
  },
  {
   "cell_type": "code",
   "execution_count": 12,
   "id": "coral-communications",
   "metadata": {},
   "outputs": [],
   "source": [
    "# use fewer features\n",
    "X_cntVec_sm = vectorizer_2.fit_transform(df_text)"
   ]
  },
  {
   "cell_type": "code",
   "execution_count": 13,
   "id": "atlantic-creation",
   "metadata": {},
   "outputs": [
    {
     "data": {
      "text/plain": [
       "0.8059652840029338"
      ]
     },
     "execution_count": 13,
     "metadata": {},
     "output_type": "execute_result"
    }
   ],
   "source": [
    "X_train, X_test, y_train, y_test = train_test_split(X_cntVec_sm, labels, test_size=0.2, stratify = labels)\n",
    "lr_sm = OneVsRestClassifier(LogisticRegression(penalty='l2'))\n",
    "lr_sm.fit(X_train, y_train)\n",
    "lr_sm.score(X_test,y_test)"
   ]
  },
  {
   "cell_type": "markdown",
   "id": "finished-skirt",
   "metadata": {},
   "source": [
    "##### Random Forest"
   ]
  },
  {
   "cell_type": "code",
   "execution_count": 16,
   "id": "impaired-surgeon",
   "metadata": {},
   "outputs": [
    {
     "name": "stdout",
     "output_type": "stream",
     "text": [
      "CPU times: user 5min 59s, sys: 1.01 s, total: 6min\n",
      "Wall time: 6min\n"
     ]
    },
    {
     "data": {
      "text/plain": [
       "0.8767011653491973"
      ]
     },
     "execution_count": 16,
     "metadata": {},
     "output_type": "execute_result"
    }
   ],
   "source": [
    "%%time\n",
    "rf = OneVsRestClassifier(RandomForestClassifier())\n",
    "rf.fit(X_train,y_train)\n",
    "rf.score(X_test,y_test)"
   ]
  },
  {
   "cell_type": "markdown",
   "id": "arbitrary-realtor",
   "metadata": {},
   "source": [
    "##### Neural Network"
   ]
  },
  {
   "cell_type": "code",
   "execution_count": 17,
   "id": "growing-intersection",
   "metadata": {},
   "outputs": [
    {
     "name": "stdout",
     "output_type": "stream",
     "text": [
      "CPU times: user 32min 50s, sys: 3min 5s, total: 35min 56s\n",
      "Wall time: 9min\n"
     ]
    },
    {
     "data": {
      "text/plain": [
       "0.8833835873196968"
      ]
     },
     "execution_count": 17,
     "metadata": {},
     "output_type": "execute_result"
    }
   ],
   "source": [
    "%%time\n",
    "nn = OneVsRestClassifier(MLPClassifier())\n",
    "nn.fit(X_train,y_train)\n",
    "nn.score(X_test,y_test)"
   ]
  },
  {
   "cell_type": "markdown",
   "id": "distant-oxford",
   "metadata": {},
   "source": [
    "#### use 'description','details', 'name', 'category' and 'attribute_pair'"
   ]
  },
  {
   "cell_type": "code",
   "execution_count": 18,
   "id": "marked-breach",
   "metadata": {},
   "outputs": [],
   "source": [
    "X_cntVec_2_1 = vectorizer_2.fit_transform(df['details'])\n",
    "X_cntVec_2_2 = vectorizer_2.fit_transform(df['attribute_pair'])\n",
    "X_cntVec_2_3 = vectorizer_2.fit_transform(df['name'])\n",
    "X_cntVec_2_4 = vectorizer_2.fit_transform(df['brand_category'])"
   ]
  },
  {
   "cell_type": "code",
   "execution_count": 19,
   "id": "bridal-independence",
   "metadata": {},
   "outputs": [],
   "source": [
    "X_cntVec_2 = np.concatenate([X_cntVec_2_1.toarray(),X_cntVec_2_2.toarray(),X_cntVec.toarray(),X_cntVec_2_3.toarray(),X_cntVec_2_4.toarray()],axis=1)"
   ]
  },
  {
   "cell_type": "code",
   "execution_count": 20,
   "id": "sweet-kernel",
   "metadata": {},
   "outputs": [
    {
     "data": {
      "text/plain": [
       "(61355, 2129)"
      ]
     },
     "execution_count": 20,
     "metadata": {},
     "output_type": "execute_result"
    }
   ],
   "source": [
    "X_cntVec_2.shape"
   ]
  },
  {
   "cell_type": "code",
   "execution_count": 21,
   "id": "amended-arrival",
   "metadata": {},
   "outputs": [],
   "source": [
    "X_train, X_test, y_train, y_test = train_test_split(X_cntVec_2, labels, test_size=0.2, stratify = labels)"
   ]
  },
  {
   "cell_type": "markdown",
   "id": "prime-canal",
   "metadata": {},
   "source": [
    "##### Logistic Regression"
   ]
  },
  {
   "cell_type": "code",
   "execution_count": 22,
   "id": "aquatic-training",
   "metadata": {},
   "outputs": [
    {
     "data": {
      "text/plain": [
       "OneVsRestClassifier(estimator=LogisticRegression())"
      ]
     },
     "execution_count": 22,
     "metadata": {},
     "output_type": "execute_result"
    }
   ],
   "source": [
    "lr = OneVsRestClassifier(LogisticRegression(penalty='l2'))\n",
    "lr.fit(X_train, y_train)"
   ]
  },
  {
   "cell_type": "code",
   "execution_count": 23,
   "id": "illegal-clearance",
   "metadata": {},
   "outputs": [
    {
     "data": {
      "text/plain": [
       "0.9484149621057778"
      ]
     },
     "execution_count": 23,
     "metadata": {},
     "output_type": "execute_result"
    }
   ],
   "source": [
    "lr.score(X_test,y_test)"
   ]
  },
  {
   "cell_type": "code",
   "execution_count": null,
   "id": "canadian-separation",
   "metadata": {},
   "outputs": [],
   "source": [
    "%%time\n",
    "# cross validation\n",
    "cv = cross_val_score(lr,X_cntVec_2,labels,cv=kfold,scoring='accuracy')\n",
    "cv.mean()"
   ]
  },
  {
   "cell_type": "markdown",
   "id": "extraordinary-boston",
   "metadata": {},
   "source": [
    "#### use the created features only"
   ]
  },
  {
   "cell_type": "code",
   "execution_count": 25,
   "id": "concerned-notebook",
   "metadata": {},
   "outputs": [
    {
     "data": {
      "text/plain": [
       "Index(['product_id', 'brand', 'brand_category', 'name', 'details',\n",
       "       'description', 'value_brand', 'bio', 'quote', 'quote_attribute',\n",
       "       'intro', 'lifestyle_copy', 'short_bio', 'listing_bio', 'attribute_pair',\n",
       "       'manuf_location', 'is_handmade', 'is_artisan_crafted', 'is_sustainable',\n",
       "       'is_emerging', 'is_vegan', 'is_BIPOC', 'is_woman_owned', 'is_beach',\n",
       "       'is_city', 'is_holiday', 'is_romance', 'is_chic', 'is_comfortable',\n",
       "       'is_weekday', 'is_asymmetrical', 'is_timeless', 'is_classic', 'is_swim',\n",
       "       'is_casual', 'is_pajama', 'is_sophisticated', 'is_modern', 'material'],\n",
       "      dtype='object')"
      ]
     },
     "execution_count": 25,
     "metadata": {},
     "output_type": "execute_result"
    }
   ],
   "source": [
    "df.columns"
   ]
  },
  {
   "cell_type": "code",
   "execution_count": 26,
   "id": "popular-session",
   "metadata": {},
   "outputs": [],
   "source": [
    "# one-hot encoding\n",
    "combined = pd.get_dummies(df[['manuf_location', 'is_beach', 'is_city', 'is_holiday',\n",
    "       'is_romance', 'is_chic', 'is_comfortable', 'is_weekday',\n",
    "       'is_asymmetrical', 'is_timeless', 'is_classic', 'is_swim', 'is_casual',\n",
    "       'is_pajama', 'is_sophisticated', 'is_modern', 'material']])"
   ]
  },
  {
   "cell_type": "code",
   "execution_count": 27,
   "id": "compound-reynolds",
   "metadata": {},
   "outputs": [
    {
     "data": {
      "text/html": [
       "<div>\n",
       "<style scoped>\n",
       "    .dataframe tbody tr th:only-of-type {\n",
       "        vertical-align: middle;\n",
       "    }\n",
       "\n",
       "    .dataframe tbody tr th {\n",
       "        vertical-align: top;\n",
       "    }\n",
       "\n",
       "    .dataframe thead th {\n",
       "        text-align: right;\n",
       "    }\n",
       "</style>\n",
       "<table border=\"1\" class=\"dataframe\">\n",
       "  <thead>\n",
       "    <tr style=\"text-align: right;\">\n",
       "      <th></th>\n",
       "      <th>is_beach</th>\n",
       "      <th>is_city</th>\n",
       "      <th>is_holiday</th>\n",
       "      <th>is_romance</th>\n",
       "      <th>is_chic</th>\n",
       "      <th>is_comfortable</th>\n",
       "      <th>is_weekday</th>\n",
       "      <th>is_asymmetrical</th>\n",
       "      <th>is_timeless</th>\n",
       "      <th>is_classic</th>\n",
       "      <th>...</th>\n",
       "      <th>material_100 watersnake</th>\n",
       "      <th>material_100 weave</th>\n",
       "      <th>material_100 white</th>\n",
       "      <th>material_100 wood</th>\n",
       "      <th>material_100 wool</th>\n",
       "      <th>material_100 woolproduct</th>\n",
       "      <th>material_100 year</th>\n",
       "      <th>material_100 yummy</th>\n",
       "      <th>material_100 ï</th>\n",
       "      <th>material_UNKNOWN_TOKEN</th>\n",
       "    </tr>\n",
       "  </thead>\n",
       "  <tbody>\n",
       "    <tr>\n",
       "      <th>0</th>\n",
       "      <td>True</td>\n",
       "      <td>True</td>\n",
       "      <td>False</td>\n",
       "      <td>False</td>\n",
       "      <td>False</td>\n",
       "      <td>False</td>\n",
       "      <td>False</td>\n",
       "      <td>False</td>\n",
       "      <td>False</td>\n",
       "      <td>False</td>\n",
       "      <td>...</td>\n",
       "      <td>0</td>\n",
       "      <td>0</td>\n",
       "      <td>0</td>\n",
       "      <td>0</td>\n",
       "      <td>0</td>\n",
       "      <td>0</td>\n",
       "      <td>0</td>\n",
       "      <td>0</td>\n",
       "      <td>0</td>\n",
       "      <td>1</td>\n",
       "    </tr>\n",
       "    <tr>\n",
       "      <th>1</th>\n",
       "      <td>False</td>\n",
       "      <td>False</td>\n",
       "      <td>False</td>\n",
       "      <td>False</td>\n",
       "      <td>False</td>\n",
       "      <td>False</td>\n",
       "      <td>False</td>\n",
       "      <td>False</td>\n",
       "      <td>False</td>\n",
       "      <td>False</td>\n",
       "      <td>...</td>\n",
       "      <td>0</td>\n",
       "      <td>0</td>\n",
       "      <td>0</td>\n",
       "      <td>0</td>\n",
       "      <td>0</td>\n",
       "      <td>0</td>\n",
       "      <td>0</td>\n",
       "      <td>0</td>\n",
       "      <td>0</td>\n",
       "      <td>0</td>\n",
       "    </tr>\n",
       "    <tr>\n",
       "      <th>2</th>\n",
       "      <td>False</td>\n",
       "      <td>False</td>\n",
       "      <td>False</td>\n",
       "      <td>False</td>\n",
       "      <td>False</td>\n",
       "      <td>False</td>\n",
       "      <td>False</td>\n",
       "      <td>False</td>\n",
       "      <td>False</td>\n",
       "      <td>False</td>\n",
       "      <td>...</td>\n",
       "      <td>0</td>\n",
       "      <td>0</td>\n",
       "      <td>0</td>\n",
       "      <td>0</td>\n",
       "      <td>0</td>\n",
       "      <td>0</td>\n",
       "      <td>0</td>\n",
       "      <td>0</td>\n",
       "      <td>0</td>\n",
       "      <td>1</td>\n",
       "    </tr>\n",
       "  </tbody>\n",
       "</table>\n",
       "<p>3 rows × 686 columns</p>\n",
       "</div>"
      ],
      "text/plain": [
       "   is_beach  is_city  is_holiday  is_romance  is_chic  is_comfortable  \\\n",
       "0      True     True       False       False    False           False   \n",
       "1     False    False       False       False    False           False   \n",
       "2     False    False       False       False    False           False   \n",
       "\n",
       "   is_weekday  is_asymmetrical  is_timeless  is_classic  ...  \\\n",
       "0       False            False        False       False  ...   \n",
       "1       False            False        False       False  ...   \n",
       "2       False            False        False       False  ...   \n",
       "\n",
       "   material_100 watersnake  material_100 weave  material_100 white  \\\n",
       "0                        0                   0                   0   \n",
       "1                        0                   0                   0   \n",
       "2                        0                   0                   0   \n",
       "\n",
       "   material_100 wood  material_100 wool  material_100 woolproduct  \\\n",
       "0                  0                  0                         0   \n",
       "1                  0                  0                         0   \n",
       "2                  0                  0                         0   \n",
       "\n",
       "   material_100 year  material_100 yummy  material_100 ï  \\\n",
       "0                  0                   0               0   \n",
       "1                  0                   0               0   \n",
       "2                  0                   0               0   \n",
       "\n",
       "   material_UNKNOWN_TOKEN  \n",
       "0                       1  \n",
       "1                       0  \n",
       "2                       1  \n",
       "\n",
       "[3 rows x 686 columns]"
      ]
     },
     "execution_count": 27,
     "metadata": {},
     "output_type": "execute_result"
    }
   ],
   "source": [
    "combined.head(3)"
   ]
  },
  {
   "cell_type": "code",
   "execution_count": 28,
   "id": "subjective-newman",
   "metadata": {},
   "outputs": [],
   "source": [
    "X_train, X_test, y_train, y_test = train_test_split(combined, labels, test_size=0.2, stratify = labels)"
   ]
  },
  {
   "cell_type": "markdown",
   "id": "accepted-simon",
   "metadata": {},
   "source": [
    "##### Logistic Regression"
   ]
  },
  {
   "cell_type": "code",
   "execution_count": 29,
   "id": "pregnant-pottery",
   "metadata": {},
   "outputs": [
    {
     "name": "stdout",
     "output_type": "stream",
     "text": [
      "CPU times: user 6min 44s, sys: 31.4 s, total: 7min 16s\n",
      "Wall time: 2min 56s\n"
     ]
    },
    {
     "data": {
      "text/plain": [
       "0.4109689511857224"
      ]
     },
     "execution_count": 29,
     "metadata": {},
     "output_type": "execute_result"
    }
   ],
   "source": [
    "%%time\n",
    "lr = OneVsRestClassifier(LogisticRegression(penalty='l2'))\n",
    "lr.fit(X_train, y_train)\n",
    "lr.score(X_test,y_test)"
   ]
  },
  {
   "cell_type": "markdown",
   "id": "intensive-tanzania",
   "metadata": {},
   "source": [
    "##### Random Forest"
   ]
  },
  {
   "cell_type": "code",
   "execution_count": 33,
   "id": "thick-rogers",
   "metadata": {},
   "outputs": [],
   "source": [
    "# %%time\n",
    "# rf = OneVsRestClassifier(RandomForestClassifier())\n",
    "# rf.fit(X_train,y_train)\n",
    "# rf.score(X_test,y_test)"
   ]
  },
  {
   "cell_type": "markdown",
   "id": "domestic-advantage",
   "metadata": {},
   "source": [
    "#### use 'description','details', 'name', 'category', 'attribute_pair' and created features"
   ]
  },
  {
   "cell_type": "code",
   "execution_count": 34,
   "id": "exposed-newcastle",
   "metadata": {},
   "outputs": [],
   "source": [
    "X_cntVec_4 = np.concatenate([X_cntVec_2,combined],axis=1)\n",
    "X_train, X_test, y_train, y_test = train_test_split(X_cntVec_4, labels, test_size=0.2, stratify = labels)"
   ]
  },
  {
   "cell_type": "code",
   "execution_count": 35,
   "id": "ultimate-canvas",
   "metadata": {},
   "outputs": [
    {
     "data": {
      "text/plain": [
       "(49084, 2815)"
      ]
     },
     "execution_count": 35,
     "metadata": {},
     "output_type": "execute_result"
    }
   ],
   "source": [
    "X_train.shape"
   ]
  },
  {
   "cell_type": "code",
   "execution_count": 36,
   "id": "drawn-clothing",
   "metadata": {},
   "outputs": [
    {
     "name": "stdout",
     "output_type": "stream",
     "text": [
      "CPU times: user 17min 44s, sys: 35.5 s, total: 18min 20s\n",
      "Wall time: 6min 55s\n"
     ]
    },
    {
     "data": {
      "text/plain": [
       "0.9515931871893081"
      ]
     },
     "execution_count": 36,
     "metadata": {},
     "output_type": "execute_result"
    }
   ],
   "source": [
    "%%time\n",
    "lr = OneVsRestClassifier(LogisticRegression(penalty='l2'))\n",
    "lr.fit(X_train, y_train)\n",
    "lr.score(X_test,y_test)"
   ]
  },
  {
   "cell_type": "markdown",
   "id": "electoral-music",
   "metadata": {},
   "source": [
    "### After TF-IDF: 92.18%"
   ]
  },
  {
   "cell_type": "markdown",
   "id": "transparent-williams",
   "metadata": {},
   "source": [
    "#### use 'description' only"
   ]
  },
  {
   "cell_type": "code",
   "execution_count": 59,
   "id": "boxed-harrison",
   "metadata": {},
   "outputs": [],
   "source": [
    "# unigram\n",
    "X_tf_idf_sm = tf_idf_sm.fit_transform(df_text)"
   ]
  },
  {
   "cell_type": "code",
   "execution_count": 60,
   "id": "blank-symposium",
   "metadata": {},
   "outputs": [
    {
     "data": {
      "text/html": [
       "<div>\n",
       "<style scoped>\n",
       "    .dataframe tbody tr th:only-of-type {\n",
       "        vertical-align: middle;\n",
       "    }\n",
       "\n",
       "    .dataframe tbody tr th {\n",
       "        vertical-align: top;\n",
       "    }\n",
       "\n",
       "    .dataframe thead th {\n",
       "        text-align: right;\n",
       "    }\n",
       "</style>\n",
       "<table border=\"1\" class=\"dataframe\">\n",
       "  <thead>\n",
       "    <tr style=\"text-align: right;\">\n",
       "      <th></th>\n",
       "      <th>0</th>\n",
       "      <th>1</th>\n",
       "      <th>2</th>\n",
       "      <th>3</th>\n",
       "      <th>4</th>\n",
       "      <th>5</th>\n",
       "      <th>6</th>\n",
       "      <th>7</th>\n",
       "      <th>8</th>\n",
       "      <th>9</th>\n",
       "      <th>...</th>\n",
       "      <th>61345</th>\n",
       "      <th>61346</th>\n",
       "      <th>61347</th>\n",
       "      <th>61348</th>\n",
       "      <th>61349</th>\n",
       "      <th>61350</th>\n",
       "      <th>61351</th>\n",
       "      <th>61352</th>\n",
       "      <th>61353</th>\n",
       "      <th>61354</th>\n",
       "    </tr>\n",
       "  </thead>\n",
       "  <tbody>\n",
       "    <tr>\n",
       "      <th>acrylic</th>\n",
       "      <td>0.0</td>\n",
       "      <td>0.000000</td>\n",
       "      <td>0.0</td>\n",
       "      <td>0.0</td>\n",
       "      <td>0.0</td>\n",
       "      <td>0.0</td>\n",
       "      <td>0.0</td>\n",
       "      <td>0.0</td>\n",
       "      <td>0.0</td>\n",
       "      <td>0.000000</td>\n",
       "      <td>...</td>\n",
       "      <td>0.0</td>\n",
       "      <td>0.0</td>\n",
       "      <td>0.0</td>\n",
       "      <td>0.0</td>\n",
       "      <td>0.000000</td>\n",
       "      <td>0.0</td>\n",
       "      <td>0.0</td>\n",
       "      <td>0.0</td>\n",
       "      <td>0.0</td>\n",
       "      <td>0.0</td>\n",
       "    </tr>\n",
       "    <tr>\n",
       "      <th>add</th>\n",
       "      <td>0.0</td>\n",
       "      <td>0.000000</td>\n",
       "      <td>0.0</td>\n",
       "      <td>0.0</td>\n",
       "      <td>0.0</td>\n",
       "      <td>0.0</td>\n",
       "      <td>0.0</td>\n",
       "      <td>0.0</td>\n",
       "      <td>0.0</td>\n",
       "      <td>0.000000</td>\n",
       "      <td>...</td>\n",
       "      <td>0.0</td>\n",
       "      <td>0.0</td>\n",
       "      <td>0.0</td>\n",
       "      <td>0.0</td>\n",
       "      <td>0.000000</td>\n",
       "      <td>0.0</td>\n",
       "      <td>0.0</td>\n",
       "      <td>0.0</td>\n",
       "      <td>0.0</td>\n",
       "      <td>0.0</td>\n",
       "    </tr>\n",
       "    <tr>\n",
       "      <th>adjustable</th>\n",
       "      <td>0.0</td>\n",
       "      <td>0.248885</td>\n",
       "      <td>0.0</td>\n",
       "      <td>0.0</td>\n",
       "      <td>0.0</td>\n",
       "      <td>0.0</td>\n",
       "      <td>0.0</td>\n",
       "      <td>0.0</td>\n",
       "      <td>0.0</td>\n",
       "      <td>0.000000</td>\n",
       "      <td>...</td>\n",
       "      <td>0.0</td>\n",
       "      <td>0.0</td>\n",
       "      <td>0.0</td>\n",
       "      <td>0.0</td>\n",
       "      <td>0.000000</td>\n",
       "      <td>0.0</td>\n",
       "      <td>0.0</td>\n",
       "      <td>0.0</td>\n",
       "      <td>0.0</td>\n",
       "      <td>0.0</td>\n",
       "    </tr>\n",
       "    <tr>\n",
       "      <th>angeles</th>\n",
       "      <td>0.0</td>\n",
       "      <td>0.000000</td>\n",
       "      <td>0.0</td>\n",
       "      <td>0.0</td>\n",
       "      <td>0.0</td>\n",
       "      <td>0.0</td>\n",
       "      <td>0.0</td>\n",
       "      <td>0.0</td>\n",
       "      <td>0.0</td>\n",
       "      <td>0.000000</td>\n",
       "      <td>...</td>\n",
       "      <td>0.0</td>\n",
       "      <td>0.0</td>\n",
       "      <td>0.0</td>\n",
       "      <td>0.0</td>\n",
       "      <td>0.000000</td>\n",
       "      <td>0.0</td>\n",
       "      <td>0.0</td>\n",
       "      <td>0.0</td>\n",
       "      <td>0.0</td>\n",
       "      <td>0.0</td>\n",
       "    </tr>\n",
       "    <tr>\n",
       "      <th>ankle</th>\n",
       "      <td>0.0</td>\n",
       "      <td>0.000000</td>\n",
       "      <td>0.0</td>\n",
       "      <td>0.0</td>\n",
       "      <td>0.0</td>\n",
       "      <td>0.0</td>\n",
       "      <td>0.0</td>\n",
       "      <td>0.0</td>\n",
       "      <td>0.0</td>\n",
       "      <td>0.000000</td>\n",
       "      <td>...</td>\n",
       "      <td>0.0</td>\n",
       "      <td>0.0</td>\n",
       "      <td>0.0</td>\n",
       "      <td>0.0</td>\n",
       "      <td>0.000000</td>\n",
       "      <td>0.0</td>\n",
       "      <td>0.0</td>\n",
       "      <td>0.0</td>\n",
       "      <td>0.0</td>\n",
       "      <td>0.0</td>\n",
       "    </tr>\n",
       "    <tr>\n",
       "      <th>...</th>\n",
       "      <td>...</td>\n",
       "      <td>...</td>\n",
       "      <td>...</td>\n",
       "      <td>...</td>\n",
       "      <td>...</td>\n",
       "      <td>...</td>\n",
       "      <td>...</td>\n",
       "      <td>...</td>\n",
       "      <td>...</td>\n",
       "      <td>...</td>\n",
       "      <td>...</td>\n",
       "      <td>...</td>\n",
       "      <td>...</td>\n",
       "      <td>...</td>\n",
       "      <td>...</td>\n",
       "      <td>...</td>\n",
       "      <td>...</td>\n",
       "      <td>...</td>\n",
       "      <td>...</td>\n",
       "      <td>...</td>\n",
       "      <td>...</td>\n",
       "    </tr>\n",
       "    <tr>\n",
       "      <th>wrap</th>\n",
       "      <td>0.0</td>\n",
       "      <td>0.000000</td>\n",
       "      <td>0.0</td>\n",
       "      <td>0.0</td>\n",
       "      <td>0.0</td>\n",
       "      <td>0.0</td>\n",
       "      <td>0.0</td>\n",
       "      <td>0.0</td>\n",
       "      <td>0.0</td>\n",
       "      <td>0.415506</td>\n",
       "      <td>...</td>\n",
       "      <td>0.0</td>\n",
       "      <td>0.0</td>\n",
       "      <td>0.0</td>\n",
       "      <td>0.0</td>\n",
       "      <td>0.000000</td>\n",
       "      <td>0.0</td>\n",
       "      <td>0.0</td>\n",
       "      <td>0.0</td>\n",
       "      <td>0.0</td>\n",
       "      <td>0.0</td>\n",
       "    </tr>\n",
       "    <tr>\n",
       "      <th>year</th>\n",
       "      <td>0.0</td>\n",
       "      <td>0.000000</td>\n",
       "      <td>0.0</td>\n",
       "      <td>0.0</td>\n",
       "      <td>0.0</td>\n",
       "      <td>0.0</td>\n",
       "      <td>0.0</td>\n",
       "      <td>0.0</td>\n",
       "      <td>0.0</td>\n",
       "      <td>0.000000</td>\n",
       "      <td>...</td>\n",
       "      <td>0.0</td>\n",
       "      <td>0.0</td>\n",
       "      <td>0.0</td>\n",
       "      <td>0.0</td>\n",
       "      <td>0.000000</td>\n",
       "      <td>0.0</td>\n",
       "      <td>0.0</td>\n",
       "      <td>0.0</td>\n",
       "      <td>0.0</td>\n",
       "      <td>0.0</td>\n",
       "    </tr>\n",
       "    <tr>\n",
       "      <th>york</th>\n",
       "      <td>0.0</td>\n",
       "      <td>0.294424</td>\n",
       "      <td>0.0</td>\n",
       "      <td>0.0</td>\n",
       "      <td>0.0</td>\n",
       "      <td>0.0</td>\n",
       "      <td>0.0</td>\n",
       "      <td>0.0</td>\n",
       "      <td>0.0</td>\n",
       "      <td>0.000000</td>\n",
       "      <td>...</td>\n",
       "      <td>0.0</td>\n",
       "      <td>0.0</td>\n",
       "      <td>0.0</td>\n",
       "      <td>0.0</td>\n",
       "      <td>0.000000</td>\n",
       "      <td>0.0</td>\n",
       "      <td>0.0</td>\n",
       "      <td>0.0</td>\n",
       "      <td>0.0</td>\n",
       "      <td>0.0</td>\n",
       "    </tr>\n",
       "    <tr>\n",
       "      <th>zip</th>\n",
       "      <td>0.0</td>\n",
       "      <td>0.000000</td>\n",
       "      <td>0.0</td>\n",
       "      <td>0.0</td>\n",
       "      <td>0.0</td>\n",
       "      <td>0.0</td>\n",
       "      <td>0.0</td>\n",
       "      <td>0.0</td>\n",
       "      <td>0.0</td>\n",
       "      <td>0.000000</td>\n",
       "      <td>...</td>\n",
       "      <td>0.0</td>\n",
       "      <td>0.0</td>\n",
       "      <td>0.0</td>\n",
       "      <td>0.0</td>\n",
       "      <td>0.251717</td>\n",
       "      <td>0.0</td>\n",
       "      <td>0.0</td>\n",
       "      <td>0.0</td>\n",
       "      <td>0.0</td>\n",
       "      <td>0.0</td>\n",
       "    </tr>\n",
       "    <tr>\n",
       "      <th>zipper</th>\n",
       "      <td>0.0</td>\n",
       "      <td>0.248951</td>\n",
       "      <td>0.0</td>\n",
       "      <td>0.0</td>\n",
       "      <td>0.0</td>\n",
       "      <td>0.0</td>\n",
       "      <td>0.0</td>\n",
       "      <td>0.0</td>\n",
       "      <td>0.0</td>\n",
       "      <td>0.000000</td>\n",
       "      <td>...</td>\n",
       "      <td>0.0</td>\n",
       "      <td>0.0</td>\n",
       "      <td>0.0</td>\n",
       "      <td>0.0</td>\n",
       "      <td>0.000000</td>\n",
       "      <td>0.0</td>\n",
       "      <td>0.0</td>\n",
       "      <td>0.0</td>\n",
       "      <td>0.0</td>\n",
       "      <td>0.0</td>\n",
       "    </tr>\n",
       "  </tbody>\n",
       "</table>\n",
       "<p>300 rows × 61355 columns</p>\n",
       "</div>"
      ],
      "text/plain": [
       "            0         1      2      3      4      5      6      7      8      \\\n",
       "acrylic       0.0  0.000000    0.0    0.0    0.0    0.0    0.0    0.0    0.0   \n",
       "add           0.0  0.000000    0.0    0.0    0.0    0.0    0.0    0.0    0.0   \n",
       "adjustable    0.0  0.248885    0.0    0.0    0.0    0.0    0.0    0.0    0.0   \n",
       "angeles       0.0  0.000000    0.0    0.0    0.0    0.0    0.0    0.0    0.0   \n",
       "ankle         0.0  0.000000    0.0    0.0    0.0    0.0    0.0    0.0    0.0   \n",
       "...           ...       ...    ...    ...    ...    ...    ...    ...    ...   \n",
       "wrap          0.0  0.000000    0.0    0.0    0.0    0.0    0.0    0.0    0.0   \n",
       "year          0.0  0.000000    0.0    0.0    0.0    0.0    0.0    0.0    0.0   \n",
       "york          0.0  0.294424    0.0    0.0    0.0    0.0    0.0    0.0    0.0   \n",
       "zip           0.0  0.000000    0.0    0.0    0.0    0.0    0.0    0.0    0.0   \n",
       "zipper        0.0  0.248951    0.0    0.0    0.0    0.0    0.0    0.0    0.0   \n",
       "\n",
       "               9      ...  61345  61346  61347  61348     61349  61350  61351  \\\n",
       "acrylic     0.000000  ...    0.0    0.0    0.0    0.0  0.000000    0.0    0.0   \n",
       "add         0.000000  ...    0.0    0.0    0.0    0.0  0.000000    0.0    0.0   \n",
       "adjustable  0.000000  ...    0.0    0.0    0.0    0.0  0.000000    0.0    0.0   \n",
       "angeles     0.000000  ...    0.0    0.0    0.0    0.0  0.000000    0.0    0.0   \n",
       "ankle       0.000000  ...    0.0    0.0    0.0    0.0  0.000000    0.0    0.0   \n",
       "...              ...  ...    ...    ...    ...    ...       ...    ...    ...   \n",
       "wrap        0.415506  ...    0.0    0.0    0.0    0.0  0.000000    0.0    0.0   \n",
       "year        0.000000  ...    0.0    0.0    0.0    0.0  0.000000    0.0    0.0   \n",
       "york        0.000000  ...    0.0    0.0    0.0    0.0  0.000000    0.0    0.0   \n",
       "zip         0.000000  ...    0.0    0.0    0.0    0.0  0.251717    0.0    0.0   \n",
       "zipper      0.000000  ...    0.0    0.0    0.0    0.0  0.000000    0.0    0.0   \n",
       "\n",
       "            61352  61353  61354  \n",
       "acrylic       0.0    0.0    0.0  \n",
       "add           0.0    0.0    0.0  \n",
       "adjustable    0.0    0.0    0.0  \n",
       "angeles       0.0    0.0    0.0  \n",
       "ankle         0.0    0.0    0.0  \n",
       "...           ...    ...    ...  \n",
       "wrap          0.0    0.0    0.0  \n",
       "year          0.0    0.0    0.0  \n",
       "york          0.0    0.0    0.0  \n",
       "zip           0.0    0.0    0.0  \n",
       "zipper        0.0    0.0    0.0  \n",
       "\n",
       "[300 rows x 61355 columns]"
      ]
     },
     "execution_count": 60,
     "metadata": {},
     "output_type": "execute_result"
    }
   ],
   "source": [
    "pd.DataFrame(X_tf_idf_sm.toarray().transpose(), index=tf_idf_sm.get_feature_names())"
   ]
  },
  {
   "cell_type": "markdown",
   "id": "intimate-champagne",
   "metadata": {},
   "source": [
    "##### Logistic Regression"
   ]
  },
  {
   "cell_type": "code",
   "execution_count": 61,
   "id": "dense-wound",
   "metadata": {},
   "outputs": [
    {
     "name": "stdout",
     "output_type": "stream",
     "text": [
      "CPU times: user 9.86 s, sys: 47.3 ms, total: 9.91 s\n",
      "Wall time: 9.92 s\n"
     ]
    },
    {
     "data": {
      "text/plain": [
       "0.7861624969440143"
      ]
     },
     "execution_count": 61,
     "metadata": {},
     "output_type": "execute_result"
    }
   ],
   "source": [
    "%%time\n",
    "X_train, X_test, y_train, y_test = train_test_split(X_tf_idf_sm, labels, test_size=0.2, stratify = labels)\n",
    "lr_sm = OneVsRestClassifier(LogisticRegression(penalty='l2'))\n",
    "lr_sm.fit(X_train, y_train)\n",
    "lr_sm.score(X_test,y_test)"
   ]
  },
  {
   "cell_type": "code",
   "execution_count": 63,
   "id": "arranged-defensive",
   "metadata": {},
   "outputs": [
    {
     "data": {
      "text/html": [
       "<div>\n",
       "<style scoped>\n",
       "    .dataframe tbody tr th:only-of-type {\n",
       "        vertical-align: middle;\n",
       "    }\n",
       "\n",
       "    .dataframe tbody tr th {\n",
       "        vertical-align: top;\n",
       "    }\n",
       "\n",
       "    .dataframe thead th {\n",
       "        text-align: right;\n",
       "    }\n",
       "</style>\n",
       "<table border=\"1\" class=\"dataframe\">\n",
       "  <thead>\n",
       "    <tr style=\"text-align: right;\">\n",
       "      <th></th>\n",
       "      <th>0</th>\n",
       "      <th>1</th>\n",
       "      <th>2</th>\n",
       "      <th>3</th>\n",
       "      <th>4</th>\n",
       "      <th>5</th>\n",
       "      <th>6</th>\n",
       "      <th>7</th>\n",
       "      <th>8</th>\n",
       "      <th>9</th>\n",
       "      <th>...</th>\n",
       "      <th>61345</th>\n",
       "      <th>61346</th>\n",
       "      <th>61347</th>\n",
       "      <th>61348</th>\n",
       "      <th>61349</th>\n",
       "      <th>61350</th>\n",
       "      <th>61351</th>\n",
       "      <th>61352</th>\n",
       "      <th>61353</th>\n",
       "      <th>61354</th>\n",
       "    </tr>\n",
       "  </thead>\n",
       "  <tbody>\n",
       "    <tr>\n",
       "      <th>acrylic origin</th>\n",
       "      <td>0.0</td>\n",
       "      <td>0.000000</td>\n",
       "      <td>0.0</td>\n",
       "      <td>0.0</td>\n",
       "      <td>0.0</td>\n",
       "      <td>0.0</td>\n",
       "      <td>0.0</td>\n",
       "      <td>0.0</td>\n",
       "      <td>0.0</td>\n",
       "      <td>0.0</td>\n",
       "      <td>...</td>\n",
       "      <td>0.0</td>\n",
       "      <td>0.0</td>\n",
       "      <td>0.0</td>\n",
       "      <td>0.0</td>\n",
       "      <td>0.0</td>\n",
       "      <td>0.0</td>\n",
       "      <td>0.0</td>\n",
       "      <td>0.0</td>\n",
       "      <td>0.0</td>\n",
       "      <td>0.0</td>\n",
       "    </tr>\n",
       "    <tr>\n",
       "      <th>additional colorway</th>\n",
       "      <td>0.0</td>\n",
       "      <td>0.000000</td>\n",
       "      <td>0.0</td>\n",
       "      <td>0.0</td>\n",
       "      <td>0.0</td>\n",
       "      <td>0.0</td>\n",
       "      <td>0.0</td>\n",
       "      <td>0.0</td>\n",
       "      <td>0.0</td>\n",
       "      <td>0.0</td>\n",
       "      <td>...</td>\n",
       "      <td>0.0</td>\n",
       "      <td>0.0</td>\n",
       "      <td>0.0</td>\n",
       "      <td>0.0</td>\n",
       "      <td>0.0</td>\n",
       "      <td>0.0</td>\n",
       "      <td>0.0</td>\n",
       "      <td>0.0</td>\n",
       "      <td>0.0</td>\n",
       "      <td>0.0</td>\n",
       "    </tr>\n",
       "    <tr>\n",
       "      <th>adjustable strap</th>\n",
       "      <td>0.0</td>\n",
       "      <td>0.477201</td>\n",
       "      <td>0.0</td>\n",
       "      <td>0.0</td>\n",
       "      <td>0.0</td>\n",
       "      <td>0.0</td>\n",
       "      <td>0.0</td>\n",
       "      <td>0.0</td>\n",
       "      <td>0.0</td>\n",
       "      <td>0.0</td>\n",
       "      <td>...</td>\n",
       "      <td>0.0</td>\n",
       "      <td>0.0</td>\n",
       "      <td>0.0</td>\n",
       "      <td>0.0</td>\n",
       "      <td>0.0</td>\n",
       "      <td>0.0</td>\n",
       "      <td>0.0</td>\n",
       "      <td>0.0</td>\n",
       "      <td>0.0</td>\n",
       "      <td>0.0</td>\n",
       "    </tr>\n",
       "    <tr>\n",
       "      <th>approximately shoulder</th>\n",
       "      <td>0.0</td>\n",
       "      <td>0.000000</td>\n",
       "      <td>0.0</td>\n",
       "      <td>0.0</td>\n",
       "      <td>0.0</td>\n",
       "      <td>0.0</td>\n",
       "      <td>0.0</td>\n",
       "      <td>0.0</td>\n",
       "      <td>0.0</td>\n",
       "      <td>0.0</td>\n",
       "      <td>...</td>\n",
       "      <td>0.0</td>\n",
       "      <td>0.0</td>\n",
       "      <td>0.0</td>\n",
       "      <td>0.0</td>\n",
       "      <td>0.0</td>\n",
       "      <td>0.0</td>\n",
       "      <td>0.0</td>\n",
       "      <td>0.0</td>\n",
       "      <td>0.0</td>\n",
       "      <td>0.0</td>\n",
       "    </tr>\n",
       "    <tr>\n",
       "      <th>approximately shoulder hem</th>\n",
       "      <td>0.0</td>\n",
       "      <td>0.000000</td>\n",
       "      <td>0.0</td>\n",
       "      <td>0.0</td>\n",
       "      <td>0.0</td>\n",
       "      <td>0.0</td>\n",
       "      <td>0.0</td>\n",
       "      <td>0.0</td>\n",
       "      <td>0.0</td>\n",
       "      <td>0.0</td>\n",
       "      <td>...</td>\n",
       "      <td>0.0</td>\n",
       "      <td>0.0</td>\n",
       "      <td>0.0</td>\n",
       "      <td>0.0</td>\n",
       "      <td>0.0</td>\n",
       "      <td>0.0</td>\n",
       "      <td>0.0</td>\n",
       "      <td>0.0</td>\n",
       "      <td>0.0</td>\n",
       "      <td>0.0</td>\n",
       "    </tr>\n",
       "    <tr>\n",
       "      <th>...</th>\n",
       "      <td>...</td>\n",
       "      <td>...</td>\n",
       "      <td>...</td>\n",
       "      <td>...</td>\n",
       "      <td>...</td>\n",
       "      <td>...</td>\n",
       "      <td>...</td>\n",
       "      <td>...</td>\n",
       "      <td>...</td>\n",
       "      <td>...</td>\n",
       "      <td>...</td>\n",
       "      <td>...</td>\n",
       "      <td>...</td>\n",
       "      <td>...</td>\n",
       "      <td>...</td>\n",
       "      <td>...</td>\n",
       "      <td>...</td>\n",
       "      <td>...</td>\n",
       "      <td>...</td>\n",
       "      <td>...</td>\n",
       "      <td>...</td>\n",
       "    </tr>\n",
       "    <tr>\n",
       "      <th>weight gram fabric</th>\n",
       "      <td>0.0</td>\n",
       "      <td>0.000000</td>\n",
       "      <td>0.0</td>\n",
       "      <td>0.0</td>\n",
       "      <td>0.0</td>\n",
       "      <td>0.0</td>\n",
       "      <td>0.0</td>\n",
       "      <td>0.0</td>\n",
       "      <td>0.0</td>\n",
       "      <td>0.0</td>\n",
       "      <td>...</td>\n",
       "      <td>0.0</td>\n",
       "      <td>0.0</td>\n",
       "      <td>0.0</td>\n",
       "      <td>0.0</td>\n",
       "      <td>0.0</td>\n",
       "      <td>0.0</td>\n",
       "      <td>0.0</td>\n",
       "      <td>0.0</td>\n",
       "      <td>0.0</td>\n",
       "      <td>0.0</td>\n",
       "    </tr>\n",
       "    <tr>\n",
       "      <th>wide leg</th>\n",
       "      <td>0.0</td>\n",
       "      <td>0.000000</td>\n",
       "      <td>0.0</td>\n",
       "      <td>0.0</td>\n",
       "      <td>0.0</td>\n",
       "      <td>0.0</td>\n",
       "      <td>0.0</td>\n",
       "      <td>0.0</td>\n",
       "      <td>0.0</td>\n",
       "      <td>0.0</td>\n",
       "      <td>...</td>\n",
       "      <td>0.0</td>\n",
       "      <td>0.0</td>\n",
       "      <td>0.0</td>\n",
       "      <td>0.0</td>\n",
       "      <td>0.0</td>\n",
       "      <td>0.0</td>\n",
       "      <td>0.0</td>\n",
       "      <td>0.0</td>\n",
       "      <td>0.0</td>\n",
       "      <td>0.0</td>\n",
       "    </tr>\n",
       "    <tr>\n",
       "      <th>york city</th>\n",
       "      <td>0.0</td>\n",
       "      <td>0.000000</td>\n",
       "      <td>0.0</td>\n",
       "      <td>0.0</td>\n",
       "      <td>0.0</td>\n",
       "      <td>0.0</td>\n",
       "      <td>0.0</td>\n",
       "      <td>0.0</td>\n",
       "      <td>0.0</td>\n",
       "      <td>0.0</td>\n",
       "      <td>...</td>\n",
       "      <td>0.0</td>\n",
       "      <td>0.0</td>\n",
       "      <td>0.0</td>\n",
       "      <td>0.0</td>\n",
       "      <td>0.0</td>\n",
       "      <td>0.0</td>\n",
       "      <td>0.0</td>\n",
       "      <td>0.0</td>\n",
       "      <td>0.0</td>\n",
       "      <td>0.0</td>\n",
       "    </tr>\n",
       "    <tr>\n",
       "      <th>zip closure</th>\n",
       "      <td>0.0</td>\n",
       "      <td>0.000000</td>\n",
       "      <td>0.0</td>\n",
       "      <td>0.0</td>\n",
       "      <td>0.0</td>\n",
       "      <td>0.0</td>\n",
       "      <td>0.0</td>\n",
       "      <td>0.0</td>\n",
       "      <td>0.0</td>\n",
       "      <td>0.0</td>\n",
       "      <td>...</td>\n",
       "      <td>0.0</td>\n",
       "      <td>0.0</td>\n",
       "      <td>0.0</td>\n",
       "      <td>0.0</td>\n",
       "      <td>0.0</td>\n",
       "      <td>0.0</td>\n",
       "      <td>0.0</td>\n",
       "      <td>0.0</td>\n",
       "      <td>0.0</td>\n",
       "      <td>0.0</td>\n",
       "    </tr>\n",
       "    <tr>\n",
       "      <th>zipper closure</th>\n",
       "      <td>0.0</td>\n",
       "      <td>0.000000</td>\n",
       "      <td>0.0</td>\n",
       "      <td>0.0</td>\n",
       "      <td>0.0</td>\n",
       "      <td>0.0</td>\n",
       "      <td>0.0</td>\n",
       "      <td>0.0</td>\n",
       "      <td>0.0</td>\n",
       "      <td>0.0</td>\n",
       "      <td>...</td>\n",
       "      <td>0.0</td>\n",
       "      <td>0.0</td>\n",
       "      <td>0.0</td>\n",
       "      <td>0.0</td>\n",
       "      <td>0.0</td>\n",
       "      <td>0.0</td>\n",
       "      <td>0.0</td>\n",
       "      <td>0.0</td>\n",
       "      <td>0.0</td>\n",
       "      <td>0.0</td>\n",
       "    </tr>\n",
       "  </tbody>\n",
       "</table>\n",
       "<p>300 rows × 61355 columns</p>\n",
       "</div>"
      ],
      "text/plain": [
       "                            0         1      2      3      4      5      \\\n",
       "acrylic origin                0.0  0.000000    0.0    0.0    0.0    0.0   \n",
       "additional colorway           0.0  0.000000    0.0    0.0    0.0    0.0   \n",
       "adjustable strap              0.0  0.477201    0.0    0.0    0.0    0.0   \n",
       "approximately shoulder        0.0  0.000000    0.0    0.0    0.0    0.0   \n",
       "approximately shoulder hem    0.0  0.000000    0.0    0.0    0.0    0.0   \n",
       "...                           ...       ...    ...    ...    ...    ...   \n",
       "weight gram fabric            0.0  0.000000    0.0    0.0    0.0    0.0   \n",
       "wide leg                      0.0  0.000000    0.0    0.0    0.0    0.0   \n",
       "york city                     0.0  0.000000    0.0    0.0    0.0    0.0   \n",
       "zip closure                   0.0  0.000000    0.0    0.0    0.0    0.0   \n",
       "zipper closure                0.0  0.000000    0.0    0.0    0.0    0.0   \n",
       "\n",
       "                            6      7      8      9      ...  61345  61346  \\\n",
       "acrylic origin                0.0    0.0    0.0    0.0  ...    0.0    0.0   \n",
       "additional colorway           0.0    0.0    0.0    0.0  ...    0.0    0.0   \n",
       "adjustable strap              0.0    0.0    0.0    0.0  ...    0.0    0.0   \n",
       "approximately shoulder        0.0    0.0    0.0    0.0  ...    0.0    0.0   \n",
       "approximately shoulder hem    0.0    0.0    0.0    0.0  ...    0.0    0.0   \n",
       "...                           ...    ...    ...    ...  ...    ...    ...   \n",
       "weight gram fabric            0.0    0.0    0.0    0.0  ...    0.0    0.0   \n",
       "wide leg                      0.0    0.0    0.0    0.0  ...    0.0    0.0   \n",
       "york city                     0.0    0.0    0.0    0.0  ...    0.0    0.0   \n",
       "zip closure                   0.0    0.0    0.0    0.0  ...    0.0    0.0   \n",
       "zipper closure                0.0    0.0    0.0    0.0  ...    0.0    0.0   \n",
       "\n",
       "                            61347  61348  61349  61350  61351  61352  61353  \\\n",
       "acrylic origin                0.0    0.0    0.0    0.0    0.0    0.0    0.0   \n",
       "additional colorway           0.0    0.0    0.0    0.0    0.0    0.0    0.0   \n",
       "adjustable strap              0.0    0.0    0.0    0.0    0.0    0.0    0.0   \n",
       "approximately shoulder        0.0    0.0    0.0    0.0    0.0    0.0    0.0   \n",
       "approximately shoulder hem    0.0    0.0    0.0    0.0    0.0    0.0    0.0   \n",
       "...                           ...    ...    ...    ...    ...    ...    ...   \n",
       "weight gram fabric            0.0    0.0    0.0    0.0    0.0    0.0    0.0   \n",
       "wide leg                      0.0    0.0    0.0    0.0    0.0    0.0    0.0   \n",
       "york city                     0.0    0.0    0.0    0.0    0.0    0.0    0.0   \n",
       "zip closure                   0.0    0.0    0.0    0.0    0.0    0.0    0.0   \n",
       "zipper closure                0.0    0.0    0.0    0.0    0.0    0.0    0.0   \n",
       "\n",
       "                            61354  \n",
       "acrylic origin                0.0  \n",
       "additional colorway           0.0  \n",
       "adjustable strap              0.0  \n",
       "approximately shoulder        0.0  \n",
       "approximately shoulder hem    0.0  \n",
       "...                           ...  \n",
       "weight gram fabric            0.0  \n",
       "wide leg                      0.0  \n",
       "york city                     0.0  \n",
       "zip closure                   0.0  \n",
       "zipper closure                0.0  \n",
       "\n",
       "[300 rows x 61355 columns]"
      ]
     },
     "execution_count": 63,
     "metadata": {},
     "output_type": "execute_result"
    }
   ],
   "source": [
    "# bigram and trigram\n",
    "X_tf_idf_lg = tf_idf_lg.fit_transform(df_text)\n",
    "pd.DataFrame(X_tf_idf_lg.toarray().transpose(), index=tf_idf_lg.get_feature_names())"
   ]
  },
  {
   "cell_type": "markdown",
   "id": "selected-third",
   "metadata": {},
   "source": [
    "##### Logistic Regression"
   ]
  },
  {
   "cell_type": "code",
   "execution_count": 64,
   "id": "requested-alias",
   "metadata": {},
   "outputs": [
    {
     "name": "stdout",
     "output_type": "stream",
     "text": [
      "CPU times: user 9.13 s, sys: 82.1 ms, total: 9.22 s\n",
      "Wall time: 9.26 s\n"
     ]
    },
    {
     "data": {
      "text/plain": [
       "0.6265992991606226"
      ]
     },
     "execution_count": 64,
     "metadata": {},
     "output_type": "execute_result"
    }
   ],
   "source": [
    "%%time\n",
    "X_train, X_test, y_train, y_test = train_test_split(X_tf_idf_lg, labels, test_size=0.2, stratify = labels)\n",
    "lr_sm = OneVsRestClassifier(LogisticRegression(penalty='l2'))\n",
    "lr_sm.fit(X_train, y_train)\n",
    "lr_sm.score(X_test,y_test)"
   ]
  },
  {
   "cell_type": "markdown",
   "id": "professional-bacteria",
   "metadata": {},
   "source": [
    "Bigram and trigram didn't perform well"
   ]
  },
  {
   "cell_type": "markdown",
   "id": "threaded-neutral",
   "metadata": {},
   "source": [
    "#### use 'description','details', 'name', 'category', 'attribute_pair' and created features"
   ]
  },
  {
   "cell_type": "code",
   "execution_count": 66,
   "id": "south-concept",
   "metadata": {},
   "outputs": [],
   "source": [
    "X_tf_idf_sm_2_1 = tf_idf_sm.fit_transform(df['details'])\n",
    "X_tf_idf_sm_2_2 = tf_idf_sm.fit_transform(df['attribute_pair'])\n",
    "X_tf_idf_sm_2_3 = tf_idf_sm.fit_transform(df['name'])\n",
    "X_tf_idf_sm_2_4 = tf_idf_sm.fit_transform(df['brand_category'])"
   ]
  },
  {
   "cell_type": "code",
   "execution_count": 67,
   "id": "parental-education",
   "metadata": {},
   "outputs": [],
   "source": [
    "X_tf_idf_sm_2 = np.concatenate([X_tf_idf_sm_2_1.toarray(),X_tf_idf_sm_2_2.toarray(),X_tf_idf_sm.toarray(),X_tf_idf_sm_2_3.toarray(),X_tf_idf_sm_2_4.toarray()],axis=1)"
   ]
  },
  {
   "cell_type": "code",
   "execution_count": 68,
   "id": "municipal-merit",
   "metadata": {},
   "outputs": [],
   "source": [
    "X_tf_idf_sm_4 = np.concatenate([X_tf_idf_sm_2,combined],axis=1)\n",
    "X_train, X_test, y_train, y_test = train_test_split(X_tf_idf_sm_4, labels, test_size=0.2, stratify = labels)"
   ]
  },
  {
   "cell_type": "code",
   "execution_count": 69,
   "id": "sixth-hurricane",
   "metadata": {},
   "outputs": [
    {
     "data": {
      "text/plain": [
       "(61355, 2114)"
      ]
     },
     "execution_count": 69,
     "metadata": {},
     "output_type": "execute_result"
    }
   ],
   "source": [
    "X_tf_idf_sm_4.shape"
   ]
  },
  {
   "cell_type": "code",
   "execution_count": 70,
   "id": "serial-investigator",
   "metadata": {},
   "outputs": [
    {
     "name": "stdout",
     "output_type": "stream",
     "text": [
      "CPU times: user 11min 39s, sys: 32.2 s, total: 12min 11s\n",
      "Wall time: 4min 28s\n"
     ]
    },
    {
     "data": {
      "text/plain": [
       "0.9218482601254991"
      ]
     },
     "execution_count": 70,
     "metadata": {},
     "output_type": "execute_result"
    }
   ],
   "source": [
    "%%time\n",
    "lr = OneVsRestClassifier(LogisticRegression(penalty='l2'))\n",
    "lr.fit(X_train, y_train)\n",
    "lr.score(X_test,y_test)"
   ]
  },
  {
   "cell_type": "markdown",
   "id": "searching-punch",
   "metadata": {},
   "source": [
    "### After word-embedding: 96.15%"
   ]
  },
  {
   "cell_type": "markdown",
   "id": "missing-letter",
   "metadata": {},
   "source": [
    "#### use 'description' only"
   ]
  },
  {
   "cell_type": "markdown",
   "id": "distinguished-rebound",
   "metadata": {},
   "source": [
    "##### RNN: 80.278%"
   ]
  },
  {
   "cell_type": "code",
   "execution_count": 166,
   "id": "meaningful-season",
   "metadata": {},
   "outputs": [
    {
     "name": "stdout",
     "output_type": "stream",
     "text": [
      "Loaded 400000 word vectors.\n"
     ]
    }
   ],
   "source": [
    "tokenizer, padded_docs, embedding_matrix, MAX_SEQUENCE_LENGTH = word_embedding(df['description'])"
   ]
  },
  {
   "cell_type": "code",
   "execution_count": 191,
   "id": "opposite-intervention",
   "metadata": {},
   "outputs": [],
   "source": [
    "def RNN(embedding_matrix,MAX_SEQUENCE_LENGTH):\n",
    "    model = Sequential()\n",
    "    model.add(Embedding(embedding_matrix.shape[0], \n",
    "                        100, \n",
    "                        weights=[embedding_matrix], \n",
    "                        input_length=MAX_SEQUENCE_LENGTH, trainable=False))\n",
    "    model.add(Masking(mask_value=0.0)) # masking layer, masks any words that don't have an embedding as 0s.\n",
    "    model.add(SimpleRNN(units=64, input_shape=(1, MAX_SEQUENCE_LENGTH)))\n",
    "    model.add(Dense(64))\n",
    "    model.add(Dense(51, activation='softmax'))\n",
    "    return model"
   ]
  },
  {
   "cell_type": "code",
   "execution_count": 192,
   "id": "neither-blank",
   "metadata": {},
   "outputs": [],
   "source": [
    "model = RNN(embedding_matrix,MAX_SEQUENCE_LENGTH)"
   ]
  },
  {
   "cell_type": "code",
   "execution_count": 149,
   "id": "greek-transparency",
   "metadata": {
    "scrolled": true
   },
   "outputs": [
    {
     "name": "stdout",
     "output_type": "stream",
     "text": [
      "Model: \"sequential_4\"\n",
      "_________________________________________________________________\n",
      "Layer (type)                 Output Shape              Param #   \n",
      "=================================================================\n",
      "embedding_3 (Embedding)      (None, 300, 100)          2877800   \n",
      "_________________________________________________________________\n",
      "masking_3 (Masking)          (None, 300, 100)          0         \n",
      "_________________________________________________________________\n",
      "simple_rnn_3 (SimpleRNN)     (None, 64)                10560     \n",
      "_________________________________________________________________\n",
      "dense_6 (Dense)              (None, 64)                4160      \n",
      "_________________________________________________________________\n",
      "dense_7 (Dense)              (None, 51)                3315      \n",
      "=================================================================\n",
      "Total params: 2,895,835\n",
      "Trainable params: 18,035\n",
      "Non-trainable params: 2,877,800\n",
      "_________________________________________________________________\n",
      "None\n"
     ]
    },
    {
     "data": {
      "image/png": "[encoded data removed]",
      "text/plain": [
       "<IPython.core.display.Image object>"
      ]
     },
     "execution_count": 149,
     "metadata": {},
     "output_type": "execute_result"
    }
   ],
   "source": [
    "# Compile the model\n",
    "model.compile(\n",
    "    optimizer='adam', loss='categorical_crossentropy', metrics=['accuracy'])\n",
    "# summarize the model\n",
    "print(model.summary())\n",
    "plot_model(model, to_file='model.png', show_shapes=True)"
   ]
  },
  {
   "cell_type": "code",
   "execution_count": 134,
   "id": "dedicated-stockholm",
   "metadata": {
    "scrolled": true
   },
   "outputs": [
    {
     "name": "stdout",
     "output_type": "stream",
     "text": [
      "Epoch 1/10\n",
      "1554/1554 [==============================] - 103s 65ms/step - loss: 2.1815 - accuracy: 0.4631 - val_loss: 1.3299 - val_accuracy: 0.6579\n",
      "Epoch 2/10\n",
      "1554/1554 [==============================] - 99s 64ms/step - loss: 1.2060 - accuracy: 0.6903 - val_loss: 1.2020 - val_accuracy: 0.7007\n",
      "Epoch 3/10\n",
      "1554/1554 [==============================] - 95s 61ms/step - loss: 1.0999 - accuracy: 0.7158 - val_loss: 1.0562 - val_accuracy: 0.7347\n",
      "Epoch 4/10\n",
      "1554/1554 [==============================] - 95s 61ms/step - loss: 0.9773 - accuracy: 0.7504 - val_loss: 1.0417 - val_accuracy: 0.7423\n",
      "Epoch 5/10\n",
      "1554/1554 [==============================] - 94s 61ms/step - loss: 0.9095 - accuracy: 0.7665 - val_loss: 1.0760 - val_accuracy: 0.7311\n",
      "Epoch 6/10\n",
      "1554/1554 [==============================] - 94s 60ms/step - loss: 0.8737 - accuracy: 0.7704 - val_loss: 0.9502 - val_accuracy: 0.7655\n",
      "Epoch 7/10\n",
      "1554/1554 [==============================] - 93s 60ms/step - loss: 0.8335 - accuracy: 0.7835 - val_loss: 0.9461 - val_accuracy: 0.7629\n",
      "Epoch 8/10\n",
      "1554/1554 [==============================] - 95s 61ms/step - loss: 0.8131 - accuracy: 0.7892 - val_loss: 0.9402 - val_accuracy: 0.7680\n",
      "Epoch 9/10\n",
      "1554/1554 [==============================] - 92s 59ms/step - loss: 0.8106 - accuracy: 0.7865 - val_loss: 0.9939 - val_accuracy: 0.7472\n",
      "Epoch 10/10\n",
      "1554/1554 [==============================] - 100s 64ms/step - loss: 0.8901 - accuracy: 0.7701 - val_loss: 0.9005 - val_accuracy: 0.7791\n",
      "CPU times: user 39min 25s, sys: 9min 24s, total: 48min 49s\n",
      "Wall time: 16min\n"
     ]
    },
    {
     "data": {
      "text/plain": [
       "<tensorflow.python.keras.callbacks.History at 0x7f8894865040>"
      ]
     },
     "execution_count": 134,
     "metadata": {},
     "output_type": "execute_result"
    }
   ],
   "source": [
    "%%time\n",
    "# fit the model\n",
    "X_train, X_test, y_train, y_test = train_test_split(padded_docs, labels_encoded, test_size=0.1)\n",
    "model.fit(X_train, y_train, validation_split = 0.1, epochs=10, verbose=1)"
   ]
  },
  {
   "cell_type": "code",
   "execution_count": 135,
   "id": "annoying-legislature",
   "metadata": {},
   "outputs": [
    {
     "name": "stdout",
     "output_type": "stream",
     "text": [
      "192/192 [==============================] - 3s 17ms/step - loss: 0.8774 - accuracy: 0.7704\n",
      "Accuracy: 77.037156\n"
     ]
    }
   ],
   "source": [
    "# evaluate the model\n",
    "loss, accuracy = model.evaluate(X_test, y_test, verbose=1)\n",
    "print('Accuracy: %f' % (accuracy*100))"
   ]
  },
  {
   "cell_type": "markdown",
   "id": "absent-organization",
   "metadata": {},
   "source": [
    "##### Logistic Regression"
   ]
  },
  {
   "cell_type": "code",
   "execution_count": 137,
   "id": "palestinian-maximum",
   "metadata": {},
   "outputs": [
    {
     "name": "stdout",
     "output_type": "stream",
     "text": [
      "CPU times: user 4min 20s, sys: 12.2 s, total: 4min 32s\n",
      "Wall time: 1min 10s\n"
     ]
    },
    {
     "data": {
      "text/plain": [
       "0.01817292804172439"
      ]
     },
     "execution_count": 137,
     "metadata": {},
     "output_type": "execute_result"
    }
   ],
   "source": [
    "%%time\n",
    "X_train, X_test, y_train, y_test = train_test_split(padded_docs, labels_encoded, test_size=0.2, stratify = labels_encoded)\n",
    "lr = OneVsRestClassifier(LogisticRegression(penalty='l2'))\n",
    "lr.fit(X_train, y_train)\n",
    "lr.score(X_test,y_test)"
   ]
  },
  {
   "cell_type": "markdown",
   "id": "mexican-recycling",
   "metadata": {},
   "source": [
    "##### LSTM"
   ]
  },
  {
   "cell_type": "code",
   "execution_count": 193,
   "id": "divine-vocabulary",
   "metadata": {},
   "outputs": [
    {
     "name": "stdout",
     "output_type": "stream",
     "text": [
      "Loaded 400000 word vectors.\n"
     ]
    }
   ],
   "source": [
    "VOCAB_SIZE = int(len(tokenizer.word_index) * 1.1)\n",
    "tokenizer, padded_docs, embedding_matrix, MAX_SEQUENCE_LENGTH = word_embedding(df['description'])"
   ]
  },
  {
   "cell_type": "code",
   "execution_count": 195,
   "id": "bound-indicator",
   "metadata": {},
   "outputs": [],
   "source": [
    "def make_lstm_classification_model(embedding_matrix,MAX_SEQUENCE_LENGTH,plot=False):\n",
    "    \n",
    "    model =  Sequential()\n",
    "    model.add(Embedding(VOCAB_SIZE, 100, weights=[embedding_matrix], input_length=MAX_SEQUENCE_LENGTH, trainable=False))\n",
    "    model.add(Masking(mask_value=0.0)) # masking layer, masks any words that don't have an embedding as 0s.\n",
    "    model.add(LSTM(units=32, input_shape=(1, MAX_SEQUENCE_LENGTH)))\n",
    "    model.add(Dense(64))\n",
    "    model.add(Dense(51, activation='softmax'))\n",
    "    \n",
    "    # Compile the model\n",
    "    model.compile(\n",
    "    optimizer='adam', loss='categorical_crossentropy', metrics=['accuracy'])\n",
    "    # summarize the model\n",
    "    model.summary()\n",
    "    \n",
    "    if plot:\n",
    "        plot_model(model, to_file='model.png', show_shapes=True)\n",
    "    return model"
   ]
  },
  {
   "cell_type": "code",
   "execution_count": 155,
   "id": "atlantic-croatia",
   "metadata": {},
   "outputs": [
    {
     "name": "stdout",
     "output_type": "stream",
     "text": [
      "Model: \"sequential_6\"\n",
      "_________________________________________________________________\n",
      "Layer (type)                 Output Shape              Param #   \n",
      "=================================================================\n",
      "embedding_5 (Embedding)      (None, 300, 100)          2877800   \n",
      "_________________________________________________________________\n",
      "masking_5 (Masking)          (None, 300, 100)          0         \n",
      "_________________________________________________________________\n",
      "lstm_1 (LSTM)                (None, 32)                17024     \n",
      "_________________________________________________________________\n",
      "dense_10 (Dense)             (None, 64)                2112      \n",
      "_________________________________________________________________\n",
      "dense_11 (Dense)             (None, 51)                3315      \n",
      "=================================================================\n",
      "Total params: 2,900,251\n",
      "Trainable params: 22,451\n",
      "Non-trainable params: 2,877,800\n",
      "_________________________________________________________________\n"
     ]
    }
   ],
   "source": [
    "lstm = make_lstm_classification_model(embedding_matrix,MAX_SEQUENCE_LENGTH,plot=True)"
   ]
  },
  {
   "cell_type": "code",
   "execution_count": 156,
   "id": "opened-template",
   "metadata": {
    "scrolled": true
   },
   "outputs": [
    {
     "name": "stdout",
     "output_type": "stream",
     "text": [
      "Epoch 1/10\n",
      "1381/1381 [==============================] - 123s 88ms/step - loss: 2.2996 - accuracy: 0.4430 - val_loss: 1.0614 - val_accuracy: 0.7315\n",
      "Epoch 2/10\n",
      "1381/1381 [==============================] - 118s 86ms/step - loss: 1.0081 - accuracy: 0.7470 - val_loss: 0.8503 - val_accuracy: 0.7900\n",
      "Epoch 3/10\n",
      "1381/1381 [==============================] - 118s 85ms/step - loss: 0.7901 - accuracy: 0.8010 - val_loss: 0.7929 - val_accuracy: 0.8000\n",
      "Epoch 4/10\n",
      "1381/1381 [==============================] - 119s 86ms/step - loss: 0.6896 - accuracy: 0.8230 - val_loss: 0.7071 - val_accuracy: 0.8213\n",
      "Epoch 5/10\n",
      "1381/1381 [==============================] - 120s 87ms/step - loss: 0.6361 - accuracy: 0.8357 - val_loss: 0.6709 - val_accuracy: 0.8291\n",
      "Epoch 6/10\n",
      "1381/1381 [==============================] - 118s 86ms/step - loss: 0.5793 - accuracy: 0.8502 - val_loss: 0.6515 - val_accuracy: 0.8340\n",
      "Epoch 7/10\n",
      "1381/1381 [==============================] - 119s 86ms/step - loss: 0.5409 - accuracy: 0.8575 - val_loss: 0.6314 - val_accuracy: 0.8421\n",
      "Epoch 8/10\n",
      "1381/1381 [==============================] - 123s 89ms/step - loss: 0.5269 - accuracy: 0.8609 - val_loss: 0.6320 - val_accuracy: 0.8425\n",
      "Epoch 9/10\n",
      "1381/1381 [==============================] - 122s 88ms/step - loss: 0.5044 - accuracy: 0.8672 - val_loss: 0.6171 - val_accuracy: 0.8464\n",
      "Epoch 10/10\n",
      "1381/1381 [==============================] - 120s 87ms/step - loss: 0.4777 - accuracy: 0.8756 - val_loss: 0.6083 - val_accuracy: 0.8448\n",
      "CPU times: user 49min 50s, sys: 13min 2s, total: 1h 2min 52s\n",
      "Wall time: 20min\n"
     ]
    },
    {
     "data": {
      "text/plain": [
       "<tensorflow.python.keras.callbacks.History at 0x7f888bea6820>"
      ]
     },
     "execution_count": 156,
     "metadata": {},
     "output_type": "execute_result"
    }
   ],
   "source": [
    "%%time\n",
    "# fit the model\n",
    "## dense=64\n",
    "X_train, X_test, y_train, y_test = train_test_split(padded_docs, labels_encoded, test_size=0.2)\n",
    "lstm.fit(X_train, y_train, validation_split = 0.1, epochs=10, verbose=1)"
   ]
  },
  {
   "cell_type": "code",
   "execution_count": 157,
   "id": "israeli-charge",
   "metadata": {},
   "outputs": [
    {
     "name": "stdout",
     "output_type": "stream",
     "text": [
      "384/384 [==============================] - 6s 16ms/step - loss: 0.6171 - accuracy: 0.8437\n",
      "Accuracy: 84.369653\n"
     ]
    }
   ],
   "source": [
    "# evaluate the model\n",
    "loss, accuracy = lstm.evaluate(X_test, y_test, verbose=1)\n",
    "print('Accuracy: %f' % (accuracy*100))"
   ]
  },
  {
   "cell_type": "markdown",
   "id": "respective-knife",
   "metadata": {},
   "source": [
    "#### use 'description','details', 'name', 'category' and 'attribute_pair'"
   ]
  },
  {
   "cell_type": "markdown",
   "id": "sporting-maine",
   "metadata": {},
   "source": [
    "##### Deep learning NN: 96.145%"
   ]
  },
  {
   "cell_type": "code",
   "execution_count": 201,
   "id": "burning-incident",
   "metadata": {},
   "outputs": [],
   "source": [
    "X = df['description']+' '+df['name']+' '+df['details']+' '+ df['attribute_pair']+' '+df['brand_category']\n",
    "# not pre_trained embedding\n",
    "tokenizer, padded_docs, MAX_SEQUENCE_LENGTH = word_embedding_2(X)\n",
    "VOCAB_SIZE = int(len(tokenizer.word_index) * 1.1)\n",
    "EMBEDDING_SIZE = 100"
   ]
  },
  {
   "cell_type": "code",
   "execution_count": 12,
   "id": "digital-extension",
   "metadata": {},
   "outputs": [],
   "source": [
    "# define the model\n",
    "def DNN(VOCAB_SIZE,EMBEDDING_SIZE,MAX_SEQUENCE_LENGTH):\n",
    "    model = Sequential()\n",
    "    model.add(Embedding(VOCAB_SIZE, EMBEDDING_SIZE, input_length=MAX_SEQUENCE_LENGTH))\n",
    "    model.add(Flatten()) \n",
    "    model.add(Dense(51, activation='sigmoid')) \n",
    "    return model"
   ]
  },
  {
   "cell_type": "code",
   "execution_count": 202,
   "id": "israeli-behavior",
   "metadata": {},
   "outputs": [],
   "source": [
    "model = DNN(VOCAB_SIZE,EMBEDDING_SIZE,MAX_SEQUENCE_LENGTH)"
   ]
  },
  {
   "cell_type": "code",
   "execution_count": 203,
   "id": "greatest-patent",
   "metadata": {},
   "outputs": [
    {
     "name": "stdout",
     "output_type": "stream",
     "text": [
      "Model: \"sequential_13\"\n",
      "_________________________________________________________________\n",
      "Layer (type)                 Output Shape              Param #   \n",
      "=================================================================\n",
      "embedding_11 (Embedding)     (None, 300, 100)          3663800   \n",
      "_________________________________________________________________\n",
      "flatten_3 (Flatten)          (None, 30000)             0         \n",
      "_________________________________________________________________\n",
      "dense_19 (Dense)             (None, 51)                1530051   \n",
      "=================================================================\n",
      "Total params: 5,193,851\n",
      "Trainable params: 5,193,851\n",
      "Non-trainable params: 0\n",
      "_________________________________________________________________\n"
     ]
    }
   ],
   "source": [
    "# compile the model\n",
    "model.compile(optimizer='adam', loss='binary_crossentropy', metrics=['acc']) # accuracy\n",
    "# summarize the model\n",
    "model.summary()"
   ]
  },
  {
   "cell_type": "code",
   "execution_count": 204,
   "id": "spare-worry",
   "metadata": {
    "scrolled": true
   },
   "outputs": [
    {
     "name": "stdout",
     "output_type": "stream",
     "text": [
      "Epoch 1/20\n",
      "1381/1381 [==============================] - 34s 24ms/step - loss: 0.0577 - acc: 0.5718 - val_loss: 0.0116 - val_acc: 0.9273\n",
      "Epoch 2/20\n",
      "1381/1381 [==============================] - 35s 25ms/step - loss: 0.0070 - acc: 0.9607 - val_loss: 0.0080 - val_acc: 0.9536\n",
      "Epoch 3/20\n",
      "1381/1381 [==============================] - 34s 25ms/step - loss: 0.0031 - acc: 0.9831 - val_loss: 0.0073 - val_acc: 0.9580\n",
      "Epoch 4/20\n",
      "1381/1381 [==============================] - 35s 25ms/step - loss: 0.0018 - acc: 0.9893 - val_loss: 0.0072 - val_acc: 0.9611\n",
      "Epoch 5/20\n",
      "1381/1381 [==============================] - 35s 25ms/step - loss: 0.0011 - acc: 0.9923 - val_loss: 0.0074 - val_acc: 0.9603\n",
      "Epoch 6/20\n",
      "1381/1381 [==============================] - 35s 25ms/step - loss: 8.3803e-04 - acc: 0.9944 - val_loss: 0.0079 - val_acc: 0.9601\n",
      "Epoch 7/20\n",
      "1381/1381 [==============================] - 35s 25ms/step - loss: 6.2315e-04 - acc: 0.9965 - val_loss: 0.0085 - val_acc: 0.9593\n",
      "Epoch 8/20\n",
      "1381/1381 [==============================] - 37s 27ms/step - loss: 5.3977e-04 - acc: 0.9960 - val_loss: 0.0081 - val_acc: 0.9605\n",
      "Epoch 9/20\n",
      "1381/1381 [==============================] - 36s 26ms/step - loss: 4.0807e-04 - acc: 0.9970 - val_loss: 0.0097 - val_acc: 0.9603\n",
      "Epoch 10/20\n",
      "1381/1381 [==============================] - 34s 25ms/step - loss: 3.5960e-04 - acc: 0.9972 - val_loss: 0.0097 - val_acc: 0.9605\n",
      "Epoch 11/20\n",
      "1381/1381 [==============================] - 34s 25ms/step - loss: 3.0683e-04 - acc: 0.9977 - val_loss: 0.0103 - val_acc: 0.9589\n",
      "Epoch 12/20\n",
      "1381/1381 [==============================] - 34s 25ms/step - loss: 2.6286e-04 - acc: 0.9979 - val_loss: 0.0112 - val_acc: 0.9597\n",
      "Epoch 13/20\n",
      "1381/1381 [==============================] - 35s 25ms/step - loss: 2.7556e-04 - acc: 0.9977 - val_loss: 0.0106 - val_acc: 0.9578\n",
      "Epoch 14/20\n",
      "1381/1381 [==============================] - 34s 25ms/step - loss: 2.9166e-04 - acc: 0.9974 - val_loss: 0.0125 - val_acc: 0.9584\n",
      "Epoch 15/20\n",
      "1381/1381 [==============================] - 34s 24ms/step - loss: 2.6395e-04 - acc: 0.9976 - val_loss: 0.0118 - val_acc: 0.9546\n",
      "Epoch 16/20\n",
      "1381/1381 [==============================] - 34s 24ms/step - loss: 2.9751e-04 - acc: 0.9970 - val_loss: 0.0125 - val_acc: 0.9568\n",
      "Epoch 17/20\n",
      "1381/1381 [==============================] - 33s 24ms/step - loss: 2.9257e-04 - acc: 0.9974 - val_loss: 0.0130 - val_acc: 0.9580\n",
      "Epoch 18/20\n",
      "1381/1381 [==============================] - 34s 24ms/step - loss: 2.5084e-04 - acc: 0.9977 - val_loss: 0.0123 - val_acc: 0.9576\n",
      "Epoch 19/20\n",
      "1381/1381 [==============================] - 34s 24ms/step - loss: 2.4916e-04 - acc: 0.9977 - val_loss: 0.0130 - val_acc: 0.9576\n",
      "Epoch 20/20\n",
      "1381/1381 [==============================] - 33s 24ms/step - loss: 2.4326e-04 - acc: 0.9977 - val_loss: 0.0134 - val_acc: 0.9582\n",
      "384/384 [==============================] - 1s 2ms/step - loss: 0.0119 - acc: 0.9615\n",
      "-----------------------\n",
      "Accuracy: 96.145386\n"
     ]
    }
   ],
   "source": [
    "X_train, X_test, y_train, y_test = train_test_split(padded_docs, labels_encoded, test_size=0.2,stratify=labels_encoded)\n",
    "# fit the model\n",
    "model.fit(X_train, y_train, validation_split = 0.1, epochs=20, verbose=1)\n",
    "# evaluate the model\n",
    "loss, accuracy = model.evaluate(X_test, y_test, verbose=1) # it's on training data\n",
    "print('-----------------------')\n",
    "print('Accuracy: %f' % (accuracy*100))"
   ]
  },
  {
   "cell_type": "code",
   "execution_count": 211,
   "id": "minor-louisville",
   "metadata": {},
   "outputs": [
    {
     "name": "stdout",
     "output_type": "stream",
     "text": [
      "Loaded 400000 word vectors.\n"
     ]
    }
   ],
   "source": [
    "## DNN: using pre_trained embeddings\n",
    "\n",
    "tokenizer, padded_docs, embedding_matrix, MAX_SEQUENCE_LENGTH = word_embedding(X)\n",
    "vocab_size = int(len(tokenizer.word_index) * 1.1)\n",
    "model = Sequential()\n",
    "e = Embedding(vocab_size, 100, weights=[embedding_matrix], input_length=MAX_SEQUENCE_LENGTH, trainable=False)\n",
    "model.add(e)\n",
    "model.add(Flatten())\n",
    "model.add(Dense(51, activation='sigmoid'))"
   ]
  },
  {
   "cell_type": "code",
   "execution_count": 212,
   "id": "final-amendment",
   "metadata": {},
   "outputs": [
    {
     "name": "stdout",
     "output_type": "stream",
     "text": [
      "Model: \"sequential_17\"\n",
      "_________________________________________________________________\n",
      "Layer (type)                 Output Shape              Param #   \n",
      "=================================================================\n",
      "embedding_15 (Embedding)     (None, 300, 100)          3663800   \n",
      "_________________________________________________________________\n",
      "flatten_4 (Flatten)          (None, 30000)             0         \n",
      "_________________________________________________________________\n",
      "dense_22 (Dense)             (None, 51)                1530051   \n",
      "=================================================================\n",
      "Total params: 5,193,851\n",
      "Trainable params: 1,530,051\n",
      "Non-trainable params: 3,663,800\n",
      "_________________________________________________________________\n",
      "None\n",
      "CPU times: user 8.43 ms, sys: 1.38 ms, total: 9.81 ms\n",
      "Wall time: 8.73 ms\n"
     ]
    }
   ],
   "source": [
    "%%time\n",
    "model.compile(optimizer='adam', loss='binary_crossentropy', metrics=['acc'])\n",
    "print(model.summary())"
   ]
  },
  {
   "cell_type": "code",
   "execution_count": 213,
   "id": "restricted-greeting",
   "metadata": {},
   "outputs": [
    {
     "name": "stdout",
     "output_type": "stream",
     "text": [
      "Epoch 1/10\n",
      "1381/1381 [==============================] - 7s 5ms/step - loss: 0.0595 - acc: 0.6057 - val_loss: 0.0234 - val_acc: 0.8387\n",
      "Epoch 2/10\n",
      "1381/1381 [==============================] - 6s 5ms/step - loss: 0.0153 - acc: 0.9130 - val_loss: 0.0208 - val_acc: 0.8609\n",
      "Epoch 3/10\n",
      "1381/1381 [==============================] - 7s 5ms/step - loss: 0.0105 - acc: 0.9461 - val_loss: 0.0205 - val_acc: 0.8713\n",
      "Epoch 4/10\n",
      "1381/1381 [==============================] - 7s 5ms/step - loss: 0.0084 - acc: 0.9587 - val_loss: 0.0209 - val_acc: 0.8753\n",
      "Epoch 5/10\n",
      "1381/1381 [==============================] - 7s 5ms/step - loss: 0.0070 - acc: 0.9671 - val_loss: 0.0218 - val_acc: 0.8725\n",
      "Epoch 6/10\n",
      "1381/1381 [==============================] - 6s 5ms/step - loss: 0.0061 - acc: 0.9727 - val_loss: 0.0224 - val_acc: 0.8776\n",
      "Epoch 7/10\n",
      "1381/1381 [==============================] - 7s 5ms/step - loss: 0.0055 - acc: 0.9750 - val_loss: 0.0229 - val_acc: 0.8808\n",
      "Epoch 8/10\n",
      "1381/1381 [==============================] - 7s 5ms/step - loss: 0.0050 - acc: 0.9762 - val_loss: 0.0235 - val_acc: 0.8768\n",
      "Epoch 9/10\n",
      "1381/1381 [==============================] - 7s 5ms/step - loss: 0.0047 - acc: 0.9780 - val_loss: 0.0244 - val_acc: 0.8790\n",
      "Epoch 10/10\n",
      "1381/1381 [==============================] - 7s 5ms/step - loss: 0.0043 - acc: 0.9810 - val_loss: 0.0264 - val_acc: 0.8766\n",
      "CPU times: user 4min 32s, sys: 11.5 s, total: 4min 44s\n",
      "Wall time: 1min 8s\n"
     ]
    },
    {
     "data": {
      "text/plain": [
       "<tensorflow.python.keras.callbacks.History at 0x7f8892c9ddf0>"
      ]
     },
     "execution_count": 213,
     "metadata": {},
     "output_type": "execute_result"
    }
   ],
   "source": [
    "%%time\n",
    "# fit the model\n",
    "X_train, X_test, y_train, y_test = train_test_split(padded_docs, labels_encoded, test_size=0.2,stratify=labels_encoded)\n",
    "model.fit(X_train, y_train, validation_split = 0.1, epochs=10, verbose=1)"
   ]
  },
  {
   "cell_type": "code",
   "execution_count": 214,
   "id": "pending-universal",
   "metadata": {},
   "outputs": [
    {
     "name": "stdout",
     "output_type": "stream",
     "text": [
      "384/384 [==============================] - 1s 2ms/step - loss: 0.0269 - acc: 0.8697\n",
      "Accuracy: 86.969274\n"
     ]
    }
   ],
   "source": [
    "# evaluate the model\n",
    "loss, accuracy = model.evaluate(X_test, y_test, verbose=1) # it's on training data\n",
    "print('Accuracy: %f' % (accuracy*100))"
   ]
  },
  {
   "cell_type": "code",
   "execution_count": 220,
   "id": "geological-rehabilitation",
   "metadata": {},
   "outputs": [
    {
     "data": {
      "text/plain": [
       "(12271, 51)"
      ]
     },
     "execution_count": 220,
     "metadata": {},
     "output_type": "execute_result"
    }
   ],
   "source": [
    "model.predict(X_test).shape"
   ]
  },
  {
   "cell_type": "markdown",
   "id": "greatest-plain",
   "metadata": {},
   "source": [
    "##### RNN: 80.278%"
   ]
  },
  {
   "cell_type": "code",
   "execution_count": 196,
   "id": "wired-drama",
   "metadata": {
    "scrolled": true
   },
   "outputs": [
    {
     "name": "stdout",
     "output_type": "stream",
     "text": [
      "Loaded 400000 word vectors.\n",
      "Model: \"sequential_12\"\n",
      "_________________________________________________________________\n",
      "Layer (type)                 Output Shape              Param #   \n",
      "=================================================================\n",
      "embedding_10 (Embedding)     (None, 300, 100)          3663800   \n",
      "_________________________________________________________________\n",
      "masking_7 (Masking)          (None, 300, 100)          0         \n",
      "_________________________________________________________________\n",
      "simple_rnn_5 (SimpleRNN)     (None, 64)                10560     \n",
      "_________________________________________________________________\n",
      "dense_17 (Dense)             (None, 64)                4160      \n",
      "_________________________________________________________________\n",
      "dense_18 (Dense)             (None, 51)                3315      \n",
      "=================================================================\n",
      "Total params: 3,681,835\n",
      "Trainable params: 18,035\n",
      "Non-trainable params: 3,663,800\n",
      "_________________________________________________________________\n",
      "None\n"
     ]
    },
    {
     "data": {
      "image/png": "[encoded data removed]",
      "text/plain": [
       "<IPython.core.display.Image object>"
      ]
     },
     "execution_count": 196,
     "metadata": {},
     "output_type": "execute_result"
    }
   ],
   "source": [
    "## using pre-trained embeddings\n",
    "tokenizer, padded_docs, embedding_matrix, MAX_SEQUENCE_LENGTH = word_embedding(X)\n",
    "model = RNN(embedding_matrix,MAX_SEQUENCE_LENGTH)\n",
    "model.compile(optimizer='adam', loss='categorical_crossentropy', metrics=['accuracy'])\n",
    "print(model.summary())\n",
    "plot_model(model, to_file='model.png', show_shapes=True)"
   ]
  },
  {
   "cell_type": "code",
   "execution_count": 198,
   "id": "constant-cooler",
   "metadata": {
    "scrolled": true
   },
   "outputs": [
    {
     "name": "stdout",
     "output_type": "stream",
     "text": [
      "Epoch 1/10\n",
      "1381/1381 [==============================] - 74s 54ms/step - loss: 1.2037 - accuracy: 0.6838 - val_loss: 1.0808 - val_accuracy: 0.7101\n",
      "Epoch 2/10\n",
      "1381/1381 [==============================] - 79s 58ms/step - loss: 1.0462 - accuracy: 0.7217 - val_loss: 0.9708 - val_accuracy: 0.7354\n",
      "Epoch 3/10\n",
      "1381/1381 [==============================] - 80s 58ms/step - loss: 0.9543 - accuracy: 0.7447 - val_loss: 0.9181 - val_accuracy: 0.7594\n",
      "Epoch 4/10\n",
      "1381/1381 [==============================] - 85s 61ms/step - loss: 0.8707 - accuracy: 0.7670 - val_loss: 0.9698 - val_accuracy: 0.7460\n",
      "Epoch 5/10\n",
      "1381/1381 [==============================] - 83s 60ms/step - loss: 0.8220 - accuracy: 0.7801 - val_loss: 0.8465 - val_accuracy: 0.7725\n",
      "Epoch 6/10\n",
      "1381/1381 [==============================] - 83s 60ms/step - loss: 0.7755 - accuracy: 0.7922 - val_loss: 0.8447 - val_accuracy: 0.7729\n",
      "Epoch 7/10\n",
      "1381/1381 [==============================] - 88s 64ms/step - loss: 0.7473 - accuracy: 0.7964 - val_loss: 0.7946 - val_accuracy: 0.7881\n",
      "Epoch 8/10\n",
      "1381/1381 [==============================] - 85s 61ms/step - loss: 0.7146 - accuracy: 0.8076 - val_loss: 0.8367 - val_accuracy: 0.7784\n",
      "Epoch 9/10\n",
      "1381/1381 [==============================] - 87s 63ms/step - loss: 0.6883 - accuracy: 0.8139 - val_loss: 0.7584 - val_accuracy: 0.8000\n",
      "Epoch 10/10\n",
      "1381/1381 [==============================] - 92s 67ms/step - loss: 0.6804 - accuracy: 0.8153 - val_loss: 0.7241 - val_accuracy: 0.8081\n",
      "CPU times: user 33min 54s, sys: 7min 52s, total: 41min 47s\n",
      "Wall time: 13min 58s\n"
     ]
    },
    {
     "data": {
      "text/plain": [
       "<tensorflow.python.keras.callbacks.History at 0x7f888bea4c10>"
      ]
     },
     "execution_count": 198,
     "metadata": {},
     "output_type": "execute_result"
    }
   ],
   "source": [
    "%%time\n",
    "# fit the model\n",
    "X_train, X_test, y_train, y_test = train_test_split(padded_docs, labels_encoded, test_size=0.2,stratify=labels_encoded)\n",
    "model.fit(X_train, y_train, validation_split = 0.1, epochs=10, verbose=1)"
   ]
  },
  {
   "cell_type": "code",
   "execution_count": 199,
   "id": "possible-kingdom",
   "metadata": {},
   "outputs": [
    {
     "name": "stdout",
     "output_type": "stream",
     "text": [
      "384/384 [==============================] - 5s 14ms/step - loss: 0.7677 - accuracy: 0.8028\n",
      "Accuracy: 80.278707\n"
     ]
    }
   ],
   "source": [
    "# evaluate the model\n",
    "loss, accuracy = model.evaluate(X_test, y_test, verbose=1) # it's on training data\n",
    "print('Accuracy: %f' % (accuracy*100))"
   ]
  },
  {
   "cell_type": "markdown",
   "id": "curious-quilt",
   "metadata": {},
   "source": [
    "##### LSTM: 92.83%"
   ]
  },
  {
   "cell_type": "code",
   "execution_count": 207,
   "id": "compressed-hughes",
   "metadata": {
    "scrolled": true
   },
   "outputs": [
    {
     "name": "stdout",
     "output_type": "stream",
     "text": [
      "Loaded 400000 word vectors.\n",
      "Model: \"sequential_15\"\n",
      "_________________________________________________________________\n",
      "Layer (type)                 Output Shape              Param #   \n",
      "=================================================================\n",
      "embedding_13 (Embedding)     (None, 300, 100)          3663800   \n",
      "_________________________________________________________________\n",
      "masking_8 (Masking)          (None, 300, 100)          0         \n",
      "_________________________________________________________________\n",
      "lstm_2 (LSTM)                (None, 32)                17024     \n",
      "_________________________________________________________________\n",
      "dense_20 (Dense)             (None, 64)                2112      \n",
      "_________________________________________________________________\n",
      "dense_21 (Dense)             (None, 51)                3315      \n",
      "=================================================================\n",
      "Total params: 3,686,251\n",
      "Trainable params: 22,451\n",
      "Non-trainable params: 3,663,800\n",
      "_________________________________________________________________\n",
      "Model: \"sequential_15\"\n",
      "_________________________________________________________________\n",
      "Layer (type)                 Output Shape              Param #   \n",
      "=================================================================\n",
      "embedding_13 (Embedding)     (None, 300, 100)          3663800   \n",
      "_________________________________________________________________\n",
      "masking_8 (Masking)          (None, 300, 100)          0         \n",
      "_________________________________________________________________\n",
      "lstm_2 (LSTM)                (None, 32)                17024     \n",
      "_________________________________________________________________\n",
      "dense_20 (Dense)             (None, 64)                2112      \n",
      "_________________________________________________________________\n",
      "dense_21 (Dense)             (None, 51)                3315      \n",
      "=================================================================\n",
      "Total params: 3,686,251\n",
      "Trainable params: 22,451\n",
      "Non-trainable params: 3,663,800\n",
      "_________________________________________________________________\n",
      "None\n"
     ]
    },
    {
     "data": {
      "image/png": "[encoded data removed]",
      "text/plain": [
       "<IPython.core.display.Image object>"
      ]
     },
     "execution_count": 207,
     "metadata": {},
     "output_type": "execute_result"
    }
   ],
   "source": [
    "tokenizer, padded_docs, embedding_matrix, MAX_SEQUENCE_LENGTH = word_embedding(X)\n",
    "lstm= make_lstm_classification_model(embedding_matrix,MAX_SEQUENCE_LENGTH,plot=False)\n",
    "lstm.compile(optimizer='adam', loss='categorical_crossentropy', metrics=['accuracy'])\n",
    "print(lstm.summary())\n",
    "plot_model(lstm, to_file='model.png', show_shapes=True)"
   ]
  },
  {
   "cell_type": "code",
   "execution_count": 208,
   "id": "nearby-frank",
   "metadata": {
    "scrolled": true
   },
   "outputs": [
    {
     "name": "stdout",
     "output_type": "stream",
     "text": [
      "Epoch 1/10\n",
      "1381/1381 [==============================] - 123s 87ms/step - loss: 2.3101 - accuracy: 0.4346 - val_loss: 0.9073 - val_accuracy: 0.7645\n",
      "Epoch 2/10\n",
      "1381/1381 [==============================] - 121s 87ms/step - loss: 0.8083 - accuracy: 0.7903 - val_loss: 0.6460 - val_accuracy: 0.8346\n",
      "Epoch 3/10\n",
      "1381/1381 [==============================] - 121s 87ms/step - loss: 0.5624 - accuracy: 0.8557 - val_loss: 0.4938 - val_accuracy: 0.8794\n",
      "Epoch 4/10\n",
      "1381/1381 [==============================] - 129s 94ms/step - loss: 0.4170 - accuracy: 0.8929 - val_loss: 0.4246 - val_accuracy: 0.8951\n",
      "Epoch 5/10\n",
      "1381/1381 [==============================] - 127s 92ms/step - loss: 0.3534 - accuracy: 0.9113 - val_loss: 0.3670 - val_accuracy: 0.9171\n",
      "Epoch 6/10\n",
      "1381/1381 [==============================] - 138s 100ms/step - loss: 0.3009 - accuracy: 0.9237 - val_loss: 0.3644 - val_accuracy: 0.9138\n",
      "Epoch 7/10\n",
      "1381/1381 [==============================] - 121s 88ms/step - loss: 0.2795 - accuracy: 0.9284 - val_loss: 0.3337 - val_accuracy: 0.9250\n",
      "Epoch 8/10\n",
      "1381/1381 [==============================] - 121s 88ms/step - loss: 0.2449 - accuracy: 0.9371 - val_loss: 0.3137 - val_accuracy: 0.9281\n",
      "Epoch 9/10\n",
      "1381/1381 [==============================] - 120s 87ms/step - loss: 0.2189 - accuracy: 0.9423 - val_loss: 0.3196 - val_accuracy: 0.9252\n",
      "Epoch 10/10\n",
      "1381/1381 [==============================] - 126s 91ms/step - loss: 0.2003 - accuracy: 0.9473 - val_loss: 0.2966 - val_accuracy: 0.9299\n",
      "CPU times: user 51min 58s, sys: 13min 42s, total: 1h 5min 41s\n",
      "Wall time: 20min 48s\n"
     ]
    },
    {
     "data": {
      "text/plain": [
       "<tensorflow.python.keras.callbacks.History at 0x7f88d073ffa0>"
      ]
     },
     "execution_count": 208,
     "metadata": {},
     "output_type": "execute_result"
    }
   ],
   "source": [
    "%%time\n",
    "# fit the model\n",
    "X_train, X_test, y_train, y_test = train_test_split(padded_docs, labels_encoded, test_size=0.2,stratify=labels_encoded)\n",
    "lstm.fit(X_train, y_train, validation_split = 0.1, epochs=10, verbose=1)"
   ]
  },
  {
   "cell_type": "code",
   "execution_count": 209,
   "id": "announced-transmission",
   "metadata": {},
   "outputs": [
    {
     "name": "stdout",
     "output_type": "stream",
     "text": [
      "384/384 [==============================] - 7s 17ms/step - loss: 0.2980 - accuracy: 0.9283\n",
      "Accuracy: 92.828619\n"
     ]
    }
   ],
   "source": [
    "# evaluate the model\n",
    "loss, accuracy = lstm.evaluate(X_test, y_test, verbose=1) # it's on training data\n",
    "print('Accuracy: %f' % (accuracy*100))"
   ]
  },
  {
   "cell_type": "markdown",
   "id": "perceived-prague",
   "metadata": {},
   "source": [
    "#### use 'description','details', 'name', 'category', 'attribute_pair' and created features"
   ]
  },
  {
   "cell_type": "code",
   "execution_count": 226,
   "id": "fuzzy-thailand",
   "metadata": {},
   "outputs": [
    {
     "data": {
      "text/html": [
       "<div>\n",
       "<style scoped>\n",
       "    .dataframe tbody tr th:only-of-type {\n",
       "        vertical-align: middle;\n",
       "    }\n",
       "\n",
       "    .dataframe tbody tr th {\n",
       "        vertical-align: top;\n",
       "    }\n",
       "\n",
       "    .dataframe thead th {\n",
       "        text-align: right;\n",
       "    }\n",
       "</style>\n",
       "<table border=\"1\" class=\"dataframe\">\n",
       "  <thead>\n",
       "    <tr style=\"text-align: right;\">\n",
       "      <th></th>\n",
       "      <th>text</th>\n",
       "      <th>is_beach</th>\n",
       "      <th>is_city</th>\n",
       "      <th>is_holiday</th>\n",
       "      <th>is_romance</th>\n",
       "      <th>is_chic</th>\n",
       "      <th>is_comfortable</th>\n",
       "      <th>is_weekday</th>\n",
       "      <th>is_asymmetrical</th>\n",
       "      <th>is_timeless</th>\n",
       "      <th>...</th>\n",
       "      <th>material_100 watersnake</th>\n",
       "      <th>material_100 weave</th>\n",
       "      <th>material_100 white</th>\n",
       "      <th>material_100 wood</th>\n",
       "      <th>material_100 wool</th>\n",
       "      <th>material_100 woolproduct</th>\n",
       "      <th>material_100 year</th>\n",
       "      <th>material_100 yummy</th>\n",
       "      <th>material_100 ï</th>\n",
       "      <th>material_UNKNOWN_TOKEN</th>\n",
       "    </tr>\n",
       "  </thead>\n",
       "  <tbody>\n",
       "    <tr>\n",
       "      <th>0</th>\n",
       "      <td>signature khadi shirt available black white ea...</td>\n",
       "      <td>True</td>\n",
       "      <td>True</td>\n",
       "      <td>False</td>\n",
       "      <td>False</td>\n",
       "      <td>False</td>\n",
       "      <td>False</td>\n",
       "      <td>False</td>\n",
       "      <td>False</td>\n",
       "      <td>False</td>\n",
       "      <td>...</td>\n",
       "      <td>0</td>\n",
       "      <td>0</td>\n",
       "      <td>0</td>\n",
       "      <td>0</td>\n",
       "      <td>0</td>\n",
       "      <td>0</td>\n",
       "      <td>0</td>\n",
       "      <td>0</td>\n",
       "      <td>0</td>\n",
       "      <td>1</td>\n",
       "    </tr>\n",
       "  </tbody>\n",
       "</table>\n",
       "<p>1 rows × 687 columns</p>\n",
       "</div>"
      ],
      "text/plain": [
       "                                                text  is_beach  is_city  \\\n",
       "0  signature khadi shirt available black white ea...      True     True   \n",
       "\n",
       "   is_holiday  is_romance  is_chic  is_comfortable  is_weekday  \\\n",
       "0       False       False    False           False       False   \n",
       "\n",
       "   is_asymmetrical  is_timeless  ...  material_100 watersnake  \\\n",
       "0            False        False  ...                        0   \n",
       "\n",
       "   material_100 weave  material_100 white  material_100 wood  \\\n",
       "0                   0                   0                  0   \n",
       "\n",
       "   material_100 wool  material_100 woolproduct  material_100 year  \\\n",
       "0                  0                         0                  0   \n",
       "\n",
       "   material_100 yummy  material_100 ï  material_UNKNOWN_TOKEN  \n",
       "0                   0               0                       1  \n",
       "\n",
       "[1 rows x 687 columns]"
      ]
     },
     "execution_count": 226,
     "metadata": {},
     "output_type": "execute_result"
    }
   ],
   "source": [
    "# combine data\n",
    "data_X = pd.concat([X,combined],axis=1).rename(columns={0:'text'})\n",
    "y = labels_encoded\n",
    "data_X.head(1)"
   ]
  },
  {
   "cell_type": "code",
   "execution_count": 244,
   "id": "objective-newspaper",
   "metadata": {},
   "outputs": [],
   "source": [
    "X_train, X_test, y_train, y_test = train_test_split(data_X, y, test_size=0.2,stratify=y,random_state=42)"
   ]
  },
  {
   "cell_type": "markdown",
   "id": "known-wrong",
   "metadata": {},
   "source": [
    "preprocess text input"
   ]
  },
  {
   "cell_type": "code",
   "execution_count": 256,
   "id": "arctic-allowance",
   "metadata": {},
   "outputs": [],
   "source": [
    "X1_train = X_train['text'].values\n",
    "X1_test = X_test['text'].values"
   ]
  },
  {
   "cell_type": "code",
   "execution_count": 257,
   "id": "emotional-bermuda",
   "metadata": {},
   "outputs": [],
   "source": [
    "tokenizer = Tokenizer(num_words=5000)\n",
    "tokenizer.fit_on_texts(X1_train)\n",
    "\n",
    "X1_train = tokenizer.texts_to_sequences(X1_train)\n",
    "X1_test = tokenizer.texts_to_sequences(X1_test)\n",
    "\n",
    "vocab_size = len(tokenizer.word_index) + 1\n",
    "\n",
    "maxlen = 200\n",
    "\n",
    "X1_train = pad_sequences(X1_train, padding='post', maxlen=maxlen)\n",
    "X1_test = pad_sequences(X1_test, padding='post', maxlen=maxlen)\n",
    "\n",
    "embeddings_dictionary = dict()\n",
    "\n",
    "glove_file = open('glove.6B.100d.txt', encoding=\"utf8\")\n",
    "\n",
    "for line in glove_file:\n",
    "    records = line.split()\n",
    "    word = records[0]\n",
    "    vector_dimensions = asarray(records[1:], dtype='float32')\n",
    "    embeddings_dictionary[word] = vector_dimensions\n",
    "\n",
    "glove_file.close()\n",
    "\n",
    "embedding_matrix = zeros((vocab_size, 100))\n",
    "for word, index in tokenizer.word_index.items():\n",
    "    embedding_vector = embeddings_dictionary.get(word)\n",
    "    if embedding_vector is not None:\n",
    "        embedding_matrix[index] = embedding_vector"
   ]
  },
  {
   "cell_type": "markdown",
   "id": "valued-container",
   "metadata": {},
   "source": [
    "preprocess categorical input"
   ]
  },
  {
   "cell_type": "code",
   "execution_count": 258,
   "id": "sealed-breast",
   "metadata": {},
   "outputs": [],
   "source": [
    "X2_train = X_train.drop(columns=['text']).values\n",
    "X2_test = X_test.drop(columns=['text']).values"
   ]
  },
  {
   "cell_type": "code",
   "execution_count": 268,
   "id": "vulnerable-theta",
   "metadata": {},
   "outputs": [],
   "source": [
    "X2_test = X2_test.astype(int)\n",
    "X2_train = X2_train.astype(int)"
   ]
  },
  {
   "cell_type": "markdown",
   "id": "hindu-democracy",
   "metadata": {},
   "source": [
    "put these 2 inputs into model"
   ]
  },
  {
   "cell_type": "code",
   "execution_count": 269,
   "id": "lucky-parent",
   "metadata": {},
   "outputs": [
    {
     "name": "stdout",
     "output_type": "stream",
     "text": [
      "Model: \"model_4\"\n",
      "__________________________________________________________________________________________________\n",
      "Layer (type)                    Output Shape         Param #     Connected to                     \n",
      "==================================================================================================\n",
      "input_11 (InputLayer)           [(None, 200)]        0                                            \n",
      "__________________________________________________________________________________________________\n",
      "input_12 (InputLayer)           [(None, 686)]        0                                            \n",
      "__________________________________________________________________________________________________\n",
      "embedding_21 (Embedding)        (None, 200, 100)     3068500     input_11[0][0]                   \n",
      "__________________________________________________________________________________________________\n",
      "dense_43 (Dense)                (None, 64)           43968       input_12[0][0]                   \n",
      "__________________________________________________________________________________________________\n",
      "lstm_8 (LSTM)                   (None, 128)          117248      embedding_21[0][0]               \n",
      "__________________________________________________________________________________________________\n",
      "dense_44 (Dense)                (None, 64)           4160        dense_43[0][0]                   \n",
      "__________________________________________________________________________________________________\n",
      "concatenate_5 (Concatenate)     (None, 192)          0           lstm_8[0][0]                     \n",
      "                                                                 dense_44[0][0]                   \n",
      "__________________________________________________________________________________________________\n",
      "dense_45 (Dense)                (None, 64)           12352       concatenate_5[0][0]              \n",
      "__________________________________________________________________________________________________\n",
      "dense_46 (Dense)                (None, 51)           3315        dense_45[0][0]                   \n",
      "==================================================================================================\n",
      "Total params: 3,249,543\n",
      "Trainable params: 181,043\n",
      "Non-trainable params: 3,068,500\n",
      "__________________________________________________________________________________________________\n",
      "None\n"
     ]
    }
   ],
   "source": [
    "input_1 = Input(shape=(maxlen,))\n",
    "input_2 = Input(shape=(686,))\n",
    "\n",
    "# 1st submodel accepting data from 1st input layer\n",
    "embedding_layer = Embedding(vocab_size, 100, weights=[embedding_matrix], trainable=False)(input_1)\n",
    "LSTM_Layer_1 = LSTM(128)(embedding_layer)\n",
    "\n",
    "# 2nd submodel accepting data from 2nd input layer\n",
    "dense_layer_1 = Dense(64, activation='relu')(input_2)\n",
    "dense_layer_2 = Dense(64, activation='relu')(dense_layer_1)\n",
    "\n",
    "# concatenate the output from the first submodel with the output from the second submodel\n",
    "concat_layer = Concatenate()([LSTM_Layer_1, dense_layer_2])\n",
    "dense_layer_3 = Dense(64, activation='relu')(concat_layer)\n",
    "output = Dense(51, activation='softmax')(dense_layer_3)\n",
    "model = Model(inputs=[input_1, input_2], outputs=output)\n",
    "\n",
    "# model summary\n",
    "model.compile(loss='categorical_crossentropy', optimizer='adam', metrics=['acc'])\n",
    "print(model.summary())"
   ]
  },
  {
   "cell_type": "code",
   "execution_count": 270,
   "id": "indonesian-composite",
   "metadata": {},
   "outputs": [
    {
     "data": {
      "image/png": "[encoded data removed]",
      "text/plain": [
       "<IPython.core.display.Image object>"
      ]
     },
     "execution_count": 270,
     "metadata": {},
     "output_type": "execute_result"
    }
   ],
   "source": [
    "plot_model(model, to_file='model_plot3.png', show_shapes=True, show_layer_names=True)"
   ]
  },
  {
   "cell_type": "code",
   "execution_count": 271,
   "id": "choice-judges",
   "metadata": {},
   "outputs": [
    {
     "name": "stdout",
     "output_type": "stream",
     "text": [
      "Epoch 1/10\n",
      "346/346 [==============================] - 101s 285ms/step - loss: 3.2367 - acc: 0.2124 - val_loss: 2.2633 - val_acc: 0.4202\n",
      "Epoch 2/10\n",
      "346/346 [==============================] - 96s 278ms/step - loss: 2.1376 - acc: 0.4506 - val_loss: 1.8601 - val_acc: 0.5005\n",
      "Epoch 3/10\n",
      "346/346 [==============================] - 105s 302ms/step - loss: 1.7841 - acc: 0.5146 - val_loss: 1.5785 - val_acc: 0.5661\n",
      "Epoch 4/10\n",
      "346/346 [==============================] - 113s 325ms/step - loss: 1.5009 - acc: 0.5824 - val_loss: 1.4585 - val_acc: 0.5745\n",
      "Epoch 5/10\n",
      "346/346 [==============================] - 101s 293ms/step - loss: 1.3182 - acc: 0.6289 - val_loss: 1.1579 - val_acc: 0.6710\n",
      "Epoch 6/10\n",
      "346/346 [==============================] - 120s 347ms/step - loss: 1.1445 - acc: 0.6841 - val_loss: 0.9410 - val_acc: 0.7362\n",
      "Epoch 7/10\n",
      "346/346 [==============================] - 115s 332ms/step - loss: 0.9445 - acc: 0.7409 - val_loss: 0.8558 - val_acc: 0.7592\n",
      "Epoch 8/10\n",
      "346/346 [==============================] - 112s 322ms/step - loss: 0.8020 - acc: 0.7799 - val_loss: 0.7193 - val_acc: 0.8012\n",
      "Epoch 9/10\n",
      "346/346 [==============================] - 112s 323ms/step - loss: 0.7128 - acc: 0.8071 - val_loss: 0.6204 - val_acc: 0.8281\n",
      "Epoch 10/10\n",
      "346/346 [==============================] - 109s 314ms/step - loss: 0.5594 - acc: 0.8506 - val_loss: 0.6117 - val_acc: 0.8399\n",
      "CPU times: user 40min 27s, sys: 14min 21s, total: 54min 49s\n",
      "Wall time: 18min 2s\n"
     ]
    }
   ],
   "source": [
    "%%time\n",
    "history = model.fit(x=[X1_train, X2_train], y=y_train, batch_size=128, epochs=10, verbose=1, validation_split=0.1)"
   ]
  },
  {
   "cell_type": "code",
   "execution_count": 272,
   "id": "pursuant-earthquake",
   "metadata": {},
   "outputs": [
    {
     "name": "stdout",
     "output_type": "stream",
     "text": [
      "384/384 [==============================] - 14s 35ms/step - loss: 0.6179 - acc: 0.8432\n",
      "Test Score: 0.6179152727127075\n",
      "Test Accuracy: 0.8432075381278992\n"
     ]
    }
   ],
   "source": [
    "score = model.evaluate(x=[X1_test, X2_test], y=y_test, verbose=1)\n",
    "\n",
    "print(\"Test Score:\", score[0])\n",
    "print(\"Test Accuracy:\", score[1])"
   ]
  },
  {
   "cell_type": "code",
   "execution_count": 273,
   "id": "manual-factor",
   "metadata": {},
   "outputs": [
    {
     "data": {
      "image/png": "[encoded data removed]",
      "text/plain": [
       "<Figure size 432x288 with 1 Axes>"
      ]
     },
     "metadata": {
      "needs_background": "light"
     },
     "output_type": "display_data"
    },
    {
     "data": {
      "image/png": "[encoded data removed]",
      "text/plain": [
       "<Figure size 432x288 with 1 Axes>"
      ]
     },
     "metadata": {
      "needs_background": "light"
     },
     "output_type": "display_data"
    }
   ],
   "source": [
    "import matplotlib.pyplot as plt\n",
    "\n",
    "plt.plot(history.history['acc'])\n",
    "plt.plot(history.history['val_acc'])\n",
    "\n",
    "plt.title('model accuracy')\n",
    "plt.ylabel('accuracy')\n",
    "plt.xlabel('epoch')\n",
    "plt.legend(['train','test'], loc='upper left')\n",
    "plt.show()\n",
    "\n",
    "plt.plot(history.history['loss'])\n",
    "plt.plot(history.history['val_loss'])\n",
    "\n",
    "plt.title('model loss')\n",
    "plt.ylabel('loss')\n",
    "plt.xlabel('epoch')\n",
    "plt.legend(['train','test'], loc='upper left')\n",
    "plt.show()"
   ]
  },
  {
   "cell_type": "markdown",
   "id": "international-stocks",
   "metadata": {},
   "source": [
    "### Final Model: 96.398%"
   ]
  },
  {
   "cell_type": "markdown",
   "id": "invalid-questionnaire",
   "metadata": {},
   "source": [
    "Based on above attempts, DNN model performs the best after word-embedding. Therefore, we decided to use it as our final model."
   ]
  },
  {
   "cell_type": "code",
   "execution_count": 13,
   "id": "controlled-writing",
   "metadata": {},
   "outputs": [
    {
     "name": "stdout",
     "output_type": "stream",
     "text": [
      "Epoch 1/20\n",
      "1381/1381 [==============================] - 34s 24ms/step - loss: 0.0580 - acc: 0.5701 - val_loss: 0.0114 - val_acc: 0.9328\n",
      "Epoch 2/20\n",
      "1381/1381 [==============================] - 33s 24ms/step - loss: 0.0071 - acc: 0.9606 - val_loss: 0.0079 - val_acc: 0.9529\n",
      "Epoch 3/20\n",
      "1381/1381 [==============================] - 34s 25ms/step - loss: 0.0031 - acc: 0.9826 - val_loss: 0.0067 - val_acc: 0.9582\n",
      "Epoch 4/20\n",
      "1381/1381 [==============================] - 34s 24ms/step - loss: 0.0019 - acc: 0.9894 - val_loss: 0.0067 - val_acc: 0.9619\n",
      "Epoch 5/20\n",
      "1381/1381 [==============================] - 33s 24ms/step - loss: 0.0013 - acc: 0.9919 - val_loss: 0.0069 - val_acc: 0.9611\n",
      "Epoch 6/20\n",
      "1381/1381 [==============================] - 33s 24ms/step - loss: 8.8483e-04 - acc: 0.9941 - val_loss: 0.0082 - val_acc: 0.9595\n",
      "Epoch 7/20\n",
      "1381/1381 [==============================] - 33s 24ms/step - loss: 6.8243e-04 - acc: 0.9952 - val_loss: 0.0077 - val_acc: 0.9603\n",
      "Epoch 8/20\n",
      "1381/1381 [==============================] - 33s 24ms/step - loss: 5.7466e-04 - acc: 0.9963 - val_loss: 0.0083 - val_acc: 0.9613\n",
      "Epoch 9/20\n",
      "1381/1381 [==============================] - 33s 24ms/step - loss: 4.3691e-04 - acc: 0.9968 - val_loss: 0.0090 - val_acc: 0.9625\n",
      "Epoch 10/20\n",
      "1381/1381 [==============================] - 33s 24ms/step - loss: 4.1597e-04 - acc: 0.9968 - val_loss: 0.0095 - val_acc: 0.9613\n",
      "Epoch 11/20\n",
      "1381/1381 [==============================] - 33s 24ms/step - loss: 4.0335e-04 - acc: 0.9971 - val_loss: 0.0099 - val_acc: 0.9605\n",
      "Epoch 12/20\n",
      "1381/1381 [==============================] - 33s 24ms/step - loss: 3.8263e-04 - acc: 0.9972 - val_loss: 0.0100 - val_acc: 0.9619\n",
      "Epoch 13/20\n",
      "1381/1381 [==============================] - 33s 24ms/step - loss: 3.1782e-04 - acc: 0.9973 - val_loss: 0.0109 - val_acc: 0.9611\n",
      "Epoch 14/20\n",
      "1381/1381 [==============================] - 33s 24ms/step - loss: 2.9238e-04 - acc: 0.9974 - val_loss: 0.0110 - val_acc: 0.9613\n",
      "Epoch 15/20\n",
      "1381/1381 [==============================] - 33s 24ms/step - loss: 2.9845e-04 - acc: 0.9972 - val_loss: 0.0112 - val_acc: 0.9582\n",
      "Epoch 16/20\n",
      "1381/1381 [==============================] - 33s 24ms/step - loss: 2.8896e-04 - acc: 0.9969 - val_loss: 0.0126 - val_acc: 0.9603\n",
      "Epoch 17/20\n",
      "1381/1381 [==============================] - 33s 24ms/step - loss: 2.6566e-04 - acc: 0.9976 - val_loss: 0.0133 - val_acc: 0.9564\n",
      "Epoch 18/20\n",
      "1381/1381 [==============================] - 33s 24ms/step - loss: 3.2439e-04 - acc: 0.9965 - val_loss: 0.0119 - val_acc: 0.9584\n",
      "Epoch 19/20\n",
      "1381/1381 [==============================] - 33s 24ms/step - loss: 2.7320e-04 - acc: 0.9974 - val_loss: 0.0124 - val_acc: 0.9589\n",
      "Epoch 20/20\n",
      "1381/1381 [==============================] - 33s 24ms/step - loss: 2.9941e-04 - acc: 0.9974 - val_loss: 0.0130 - val_acc: 0.9586\n",
      "CPU times: user 36min 10s, sys: 7min 24s, total: 43min 34s\n",
      "Wall time: 11min 10s\n"
     ]
    },
    {
     "data": {
      "text/plain": [
       "<tensorflow.python.keras.callbacks.History at 0x7fc6c5a21040>"
      ]
     },
     "execution_count": 13,
     "metadata": {},
     "output_type": "execute_result"
    }
   ],
   "source": [
    "%%time\n",
    "X = df['description']+' '+df['name']+' '+df['details']+' '+ df['attribute_pair']+' '+df['brand_category']\n",
    "\n",
    "tokenizer, padded_docs, MAX_SEQUENCE_LENGTH = word_embedding_2(X)\n",
    "VOCAB_SIZE = int(len(tokenizer.word_index) * 1.1)\n",
    "EMBEDDING_SIZE = 100\n",
    "\n",
    "final_dnn = DNN(VOCAB_SIZE,EMBEDDING_SIZE,MAX_SEQUENCE_LENGTH)\n",
    "final_dnn.compile(optimizer='adam', loss='binary_crossentropy', metrics=['acc'])\n",
    "X_train, X_test, y_train, y_test = train_test_split(padded_docs, labels_encoded, test_size=0.2,stratify=labels_encoded,random_state=2021)\n",
    "# fit the model\n",
    "final_dnn.fit(X_train, y_train, validation_split = 0.1, epochs=20, verbose=1)"
   ]
  },
  {
   "cell_type": "code",
   "execution_count": 331,
   "id": "prime-basement",
   "metadata": {},
   "outputs": [
    {
     "name": "stdout",
     "output_type": "stream",
     "text": [
      "384/384 [==============================] - 1s 2ms/step - loss: 0.0115 - acc: 0.9640\n",
      "-----------------------\n",
      "Accuracy: 96.398014\n"
     ]
    }
   ],
   "source": [
    "# evaluate the model\n",
    "loss, accuracy = final_dnn.evaluate(X_test, y_test, verbose=1) # it's on training data\n",
    "\n",
    "print('-----------------------')\n",
    "print('Accuracy: %f' % (accuracy*100))"
   ]
  },
  {
   "cell_type": "code",
   "execution_count": 15,
   "id": "honey-campbell",
   "metadata": {},
   "outputs": [],
   "source": [
    "prediction = final_dnn.predict_classes(X_test)"
   ]
  },
  {
   "cell_type": "code",
   "execution_count": 22,
   "id": "pharmaceutical-burning",
   "metadata": {},
   "outputs": [
    {
     "data": {
      "text/plain": [
       "array([16, 50,  1, ..., 21, 50, 36])"
      ]
     },
     "execution_count": 22,
     "metadata": {},
     "output_type": "execute_result"
    }
   ],
   "source": [
    "prediction"
   ]
  },
  {
   "cell_type": "code",
   "execution_count": 16,
   "id": "controversial-herald",
   "metadata": {},
   "outputs": [
    {
     "data": {
      "text/plain": [
       "array(['Chufy', 'other', '7 For All Mankind', ..., 'Cynthia Rowley',\n",
       "       'other', 'Outerknown'], dtype=object)"
      ]
     },
     "execution_count": 16,
     "metadata": {},
     "output_type": "execute_result"
    }
   ],
   "source": [
    "predict = encoder.inverse_transform(prediction)\n",
    "predict"
   ]
  },
  {
   "cell_type": "code",
   "execution_count": 17,
   "id": "loose-poverty",
   "metadata": {},
   "outputs": [],
   "source": [
    "actual = y_test.argmax(1)\n",
    "actual_brand = encoder.inverse_transform(actual)"
   ]
  },
  {
   "cell_type": "code",
   "execution_count": 18,
   "id": "fourth-fabric",
   "metadata": {},
   "outputs": [
    {
     "data": {
      "text/plain": [
       "array(['Chufy', 'other', '7 For All Mankind', ..., 'Cynthia Rowley',\n",
       "       'other', 'Outerknown'], dtype=object)"
      ]
     },
     "execution_count": 18,
     "metadata": {},
     "output_type": "execute_result"
    }
   ],
   "source": [
    "actual_brand"
   ]
  },
  {
   "cell_type": "code",
   "execution_count": 19,
   "id": "committed-brooks",
   "metadata": {},
   "outputs": [
    {
     "data": {
      "text/html": [
       "<div>\n",
       "<style scoped>\n",
       "    .dataframe tbody tr th:only-of-type {\n",
       "        vertical-align: middle;\n",
       "    }\n",
       "\n",
       "    .dataframe tbody tr th {\n",
       "        vertical-align: top;\n",
       "    }\n",
       "\n",
       "    .dataframe thead th {\n",
       "        text-align: right;\n",
       "    }\n",
       "</style>\n",
       "<table border=\"1\" class=\"dataframe\">\n",
       "  <thead>\n",
       "    <tr style=\"text-align: right;\">\n",
       "      <th></th>\n",
       "      <th>actual</th>\n",
       "      <th>predict</th>\n",
       "    </tr>\n",
       "  </thead>\n",
       "  <tbody>\n",
       "    <tr>\n",
       "      <th>0</th>\n",
       "      <td>Chufy</td>\n",
       "      <td>Chufy</td>\n",
       "    </tr>\n",
       "    <tr>\n",
       "      <th>1</th>\n",
       "      <td>other</td>\n",
       "      <td>other</td>\n",
       "    </tr>\n",
       "    <tr>\n",
       "      <th>2</th>\n",
       "      <td>7 For All Mankind</td>\n",
       "      <td>7 For All Mankind</td>\n",
       "    </tr>\n",
       "    <tr>\n",
       "      <th>3</th>\n",
       "      <td>7 For All Mankind</td>\n",
       "      <td>7 For All Mankind</td>\n",
       "    </tr>\n",
       "    <tr>\n",
       "      <th>4</th>\n",
       "      <td>7 For All Mankind</td>\n",
       "      <td>7 For All Mankind</td>\n",
       "    </tr>\n",
       "    <tr>\n",
       "      <th>...</th>\n",
       "      <td>...</td>\n",
       "      <td>...</td>\n",
       "    </tr>\n",
       "    <tr>\n",
       "      <th>12266</th>\n",
       "      <td>7 For All Mankind</td>\n",
       "      <td>7 For All Mankind</td>\n",
       "    </tr>\n",
       "    <tr>\n",
       "      <th>12267</th>\n",
       "      <td>Misa</td>\n",
       "      <td>Misa</td>\n",
       "    </tr>\n",
       "    <tr>\n",
       "      <th>12268</th>\n",
       "      <td>Cynthia Rowley</td>\n",
       "      <td>Cynthia Rowley</td>\n",
       "    </tr>\n",
       "    <tr>\n",
       "      <th>12269</th>\n",
       "      <td>other</td>\n",
       "      <td>other</td>\n",
       "    </tr>\n",
       "    <tr>\n",
       "      <th>12270</th>\n",
       "      <td>Outerknown</td>\n",
       "      <td>Outerknown</td>\n",
       "    </tr>\n",
       "  </tbody>\n",
       "</table>\n",
       "<p>12271 rows × 2 columns</p>\n",
       "</div>"
      ],
      "text/plain": [
       "                  actual            predict\n",
       "0                  Chufy              Chufy\n",
       "1                  other              other\n",
       "2      7 For All Mankind  7 For All Mankind\n",
       "3      7 For All Mankind  7 For All Mankind\n",
       "4      7 For All Mankind  7 For All Mankind\n",
       "...                  ...                ...\n",
       "12266  7 For All Mankind  7 For All Mankind\n",
       "12267               Misa               Misa\n",
       "12268     Cynthia Rowley     Cynthia Rowley\n",
       "12269              other              other\n",
       "12270         Outerknown         Outerknown\n",
       "\n",
       "[12271 rows x 2 columns]"
      ]
     },
     "execution_count": 19,
     "metadata": {},
     "output_type": "execute_result"
    }
   ],
   "source": [
    "results = pd.DataFrame({'actual':actual_brand,'predict':predict})\n",
    "results"
   ]
  },
  {
   "cell_type": "code",
   "execution_count": 20,
   "id": "amazing-carolina",
   "metadata": {},
   "outputs": [],
   "source": [
    "results['predict_true']=(results['actual']==results['predict'])"
   ]
  },
  {
   "cell_type": "code",
   "execution_count": 21,
   "id": "timely-charles",
   "metadata": {
    "scrolled": true
   },
   "outputs": [
    {
     "data": {
      "text/plain": [
       "actual\n",
       "6397                     0.953846\n",
       "7 For All Mankind        0.993896\n",
       "A.L.C.                   0.940334\n",
       "ANINE BING               0.779412\n",
       "ASTR the Label           0.958763\n",
       "ATP Atelier              1.000000\n",
       "Aesther Ekme             1.000000\n",
       "Alo Yoga                 0.961905\n",
       "Ancient Greek Sandals    0.983871\n",
       "Andrea Iyamah            0.917808\n",
       "Araks                    0.986111\n",
       "BROCHU WALKER            0.965000\n",
       "Banjanan                 0.980769\n",
       "Batsheva                 0.979381\n",
       "Cariuma                  0.969231\n",
       "Christina Lehr           0.833333\n",
       "Chufy                    0.966942\n",
       "Ciao Lucia               0.984375\n",
       "Citizens of Humanity     0.875000\n",
       "Clare V.                 0.972826\n",
       "Collina Strada           0.970000\n",
       "Cynthia Rowley           0.899628\n",
       "EMME PARSONS             0.943396\n",
       "Eleven Six               0.982143\n",
       "Esquivel                 0.881356\n",
       "Faherty                  0.946058\n",
       "Frame                    0.555556\n",
       "Gigi Burris              0.918033\n",
       "Intentionally Blank      0.905325\n",
       "Janessa Leone            0.937500\n",
       "Jenni Kayne              0.845361\n",
       "Les Girls Les Boys       0.956835\n",
       "M.M.LaFleur              0.974790\n",
       "Misa                     0.997537\n",
       "Mother Denim             0.985294\n",
       "Nili Lotan               0.881119\n",
       "Outerknown               1.000000\n",
       "Prism                    0.977444\n",
       "Rachel Comey             0.975962\n",
       "Rails                    0.991274\n",
       "Sandy Liang              0.969925\n",
       "Sea                      0.952607\n",
       "Simon Miller             0.968966\n",
       "Studio 189               0.971867\n",
       "Tanya Taylor             0.949495\n",
       "Two                      0.912281\n",
       "Varley US                0.988764\n",
       "Want Les Essentiels      0.873239\n",
       "Whit                     0.918367\n",
       "lemlem                   0.961538\n",
       "other                    0.970840\n",
       "Name: predict_true, dtype: float64"
      ]
     },
     "execution_count": 21,
     "metadata": {},
     "output_type": "execute_result"
    }
   ],
   "source": [
    "results.groupby(['actual'])['predict_true'].mean()"
   ]
  },
  {
   "cell_type": "code",
   "execution_count": null,
   "id": "regular-textbook",
   "metadata": {},
   "outputs": [],
   "source": []
  }
 ],
 "metadata": {
  "kernelspec": {
   "display_name": "Python 3",
   "language": "python",
   "name": "python3"
  },
  "language_info": {
   "codemirror_mode": {
    "name": "ipython",
    "version": 3
   },
   "file_extension": ".py",
   "mimetype": "text/x-python",
   "name": "python",
   "nbconvert_exporter": "python",
   "pygments_lexer": "ipython3",
   "version": "3.8.2"
  },
  "toc": {
   "base_numbering": 1,
   "nav_menu": {},
   "number_sections": true,
   "sideBar": true,
   "skip_h1_title": false,
   "title_cell": "Table of Contents",
   "title_sidebar": "Contents",
   "toc_cell": false,
   "toc_position": {
    "height": "576px",
    "left": "685px",
    "top": "66px",
    "width": "289px"
   },
   "toc_section_display": true,
   "toc_window_display": true
  }
 },
 "nbformat": 4,
 "nbformat_minor": 5
}
