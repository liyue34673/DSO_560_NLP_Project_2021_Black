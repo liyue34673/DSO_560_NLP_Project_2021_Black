{
 "cells": [
  {
   "cell_type": "markdown",
   "metadata": {},
   "source": [
    "# Doc2vec\n",
    "\n",
    "We tried doc2vec to find similar products. However, the results are poor.\n",
    "\n",
    "We infer that the poor results may due to :\n",
    "\n",
    "1. The data set is small. Most published work trains on tens-of-thousands to millions of documents, of dozens to thousands of words each. \n",
    "\n",
    "2. Paramenters needed beter tuning process.\n",
    "\n",
    "In conclusion, we would not use this function as our final recommendation function. "
   ]
  },
  {
   "cell_type": "code",
   "execution_count": 1,
   "metadata": {
    "ExecuteTime": {
     "end_time": "2021-05-11T05:20:28.430605Z",
     "start_time": "2021-05-11T05:20:28.403919Z"
    }
   },
   "outputs": [],
   "source": [
    "def search_doc2vec(query):\n",
    "    '''\n",
    "    This function uses Doc2Vec algorithm to vectorize and score documents,\n",
    "    and print the best outfit we can find in product and outfit files.\n",
    "    '''\n",
    "    # Input packages and dataset\n",
    "    from gensim.test.utils import common_texts\n",
    "    from gensim.models.doc2vec import Doc2Vec, TaggedDocument\n",
    "    from sklearn.metrics.pairwise import cosine_similarity\n",
    "    import pandas as pd\n",
    "    import numpy as np\n",
    "    df = pd.read_csv('processed_product.csv')\n",
    "    out_fit = pd.read_csv('outfit_combinations.csv')\n",
    "    \n",
    "    # Output is expected to be a list of dictionaries.\n",
    "    output = []\n",
    "    \n",
    "    # check if the query is a product ID\n",
    "    # If not a product ID, we would do doc2vec after.\n",
    "    # If it is a product ID, print the product name.\n",
    "    # Moreover, if the product ID is in human domain experts combos, print the combinations.\n",
    "    out_fit_products = list(out_fit['product_id'].unique())\n",
    "    if query in list(df['product_id']):\n",
    "        matched_product_name = df[df['product_id']==query]['name'].values[0]\n",
    "        print(f'Matched Product: {matched_product_name} ({query})\\n')\n",
    "        if query in out_fit_products:\n",
    "            print('WOW! The product is in a great combination(s):\\n')\n",
    "            matched_outfits = out_fit[out_fit['product_id']==query]['outfit_id'].unique()\n",
    "            for outfit in matched_outfits:\n",
    "                outfit_details = out_fit[out_fit['outfit_id']==outfit].reset_index()\n",
    "                output.append(dict(zip(outfit_details['outfit_item_type'],outfit_details['product_full_name']+'('+outfit_details['product_id']+')')))\n",
    "            combo_idx=1\n",
    "            for c in output:\n",
    "                print(f'Combo {combo_idx}:\\n')\n",
    "                combo_idx+=1\n",
    "                for i in c:\n",
    "                    print(f'{i}: {c[i]}\\n')\n",
    "        return None  \n",
    "    \n",
    "    \n",
    "    # Build 2 doc2vec models by name, description columns respectively\n",
    "    names = [TaggedDocument(doc, [i]) for i, doc in enumerate(df['name'])]\n",
    "    model_name = Doc2Vec(names, vector_size=1000, min_count=8, workers=4)\n",
    "    \n",
    "    descriptions = [TaggedDocument(doc, [i]) for i, doc in enumerate(df['description'])]\n",
    "    model_desc = Doc2Vec(descriptions, vector_size=1000, min_count=8, workers=4)\n",
    "    \n",
    "    # Fit the query with 2 models \n",
    "    query = [query]\n",
    "    query_vector_name = model_name.infer_vector(query)\n",
    "    query_vector_desc = model_desc.infer_vector(query)\n",
    "    \n",
    "    \n",
    "    # Combine vectors from 2 models together.\n",
    "    # Since there are too many noisy words in description, we weighted name and desction vector.\n",
    "    # The final vector would be 0.8 weight for name-model vectors, 0.2 weight for desc-model vector.\n",
    "    similarities_lst = []\n",
    "    for i in range(len(df)):\n",
    "        name_vector = model_name.infer_vector([df['name'][i]])\n",
    "        desc_vector = model_name.infer_vector([df['description'][i]])\n",
    "        doc_vector = np.append(0.8*name_vector,0.2*desc_vector).reshape(1,-1)\n",
    "        query_vector = np.append(0.8*query_vector_name,0.2*query_vector_desc).reshape(1,-1)\n",
    "        similarities_lst.append(cosine_similarity(doc_vector, query_vector)[0][0])\n",
    "    similarities = pd.DataFrame({'similarity':similarities_lst},index=df['product_id']).sort_values(by='similarity',ascending=False).reset_index()\n",
    "    similarities = pd.merge(similarities, df[['product_id','name','product_category']],on='product_id',how='left')\n",
    "    \n",
    "    # Find the most similar product\n",
    "    most_matched_product = similarities.loc[0,'product_id']\n",
    "    most_matched_product_name = similarities.loc[0,'name']\n",
    "    \n",
    "    # Threshold of \"good\" similarity\n",
    "    # Check if the most similar product is clothing\n",
    "    # We found there are some products in the dataset are not clothing, such as gift card, candles, etc.\n",
    "    if similarities.loc[0,'product_category']=='UNKNOWN_TOKEN':\n",
    "        print('Sorry, we do not find matched product. Please check if you are searching for clothing.')\n",
    "        return None    \n",
    "    \n",
    "    # If the most similar product in outfit dataset, print out experts recommended combos\n",
    "    if most_matched_product in out_fit_products:\n",
    "        print('WOW! The product you are searching for is in human domain experts recommended combos.\\n')\n",
    "        matched_outfits = out_fit[out_fit['product_id']==most_matched_product]['outfit_id'].unique()\n",
    "        for outfit in matched_outfits:\n",
    "            outfit_details = out_fit[out_fit['outfit_id']==outfit].reset_index()\n",
    "            output.append(dict(zip(outfit_details['outfit_item_type'],outfit_details['product_full_name']+'('+outfit_details['product_id']+')')))\n",
    "        print(f'The most recommended product is {most_matched_product_name} ({most_matched_product}).\\n')\n",
    "        print('Following are our recommended outfit combination:\\n')\n",
    "        idx = 1\n",
    "        for c in output:\n",
    "            print(f'Combo {idx}:\\n')\n",
    "            idx += 1\n",
    "            for i in c:\n",
    "                print(f'{i}: {c[i]}\\n')\n",
    "    # Otherwise, we give a recommendation by ourselves\n",
    "    # We have two format of combo: [top, bottom, shoes, accessory] or [one-piece, shoes, accessory]     \n",
    "    else:           \n",
    "        top = similarities[similarities['product_category']=='top'].iloc[0]['name']+'('+similarities[similarities['product_category']=='top'].iloc[0]['product_id']+')'        \n",
    "        bottom = similarities[similarities['product_category']=='bottom'].iloc[0]['name']+'('+similarities[similarities['product_category']=='bottom'].iloc[0]['product_id']+')'\n",
    "        onepiece = similarities[similarities['product_category']=='onepiece'].iloc[0]['name']+'('+similarities[similarities['product_category']=='onepiece'].iloc[0]['product_id']+')'\n",
    "        shoes = similarities[similarities['product_category']=='shoe'].iloc[0]['name']+'('+similarities[similarities['product_category']=='shoe'].iloc[0]['product_id']+')'\n",
    "        accessory = similarities[similarities['product_category']=='accessory'].iloc[0]['name']+'('+similarities[similarities['product_category']=='accessory'].iloc[0]['product_id']+')'\n",
    "        # if matched product is top/bottom, we recommend a combo with top, bottom, shoe, accessory\n",
    "        if similarities[similarities['product_id']==most_matched_product]['product_category'].values[0] in ['top','bottom']:\n",
    "            output.append({'top':top,'bottom':bottom,'shoe':shoes,'accessory':accessory})\n",
    "        # if matched product is onepiece, we recommend a combo with onepiece, shoe, accessory\n",
    "        elif similarities[similarities['product_id']==most_matched_product]['product_category'].values[0]=='onepiece':\n",
    "            output.append({'onepiece':onepiece,'shoe':shoes,'accessory':accessory})\n",
    "        # if matched product is shoe/accessory, we recommend 2 kinds of combos\n",
    "        else:\n",
    "            output.append({'top':top,'bottom':bottom,'shoe':shoes,'accessory':accessory})\n",
    "            output.append({'onepiece':onepiece,'shoe':shoes,'accessory':accessory})\n",
    "    \n",
    "        print(f'The most recommended product is {most_matched_product_name} ({most_matched_product}).\\n')\n",
    "        print('Following are our recommended outfit combination:\\n')\n",
    "        idx = 1\n",
    "        for c in output:\n",
    "            print(f'Combo {idx}:\\n')\n",
    "            idx += 1\n",
    "            for i in c:\n",
    "                print(f'{i}: {c[i]}\\n')"
   ]
  },
  {
   "cell_type": "code",
   "execution_count": 20,
   "metadata": {
    "ExecuteTime": {
     "end_time": "2021-05-11T05:38:22.008020Z",
     "start_time": "2021-05-11T05:35:36.447671Z"
    }
   },
   "outputs": [
    {
     "name": "stdout",
     "output_type": "stream",
     "text": [
      "Sorry, we do not find matched product. Please check if you are searching for clothing.\n"
     ]
    }
   ],
   "source": [
    "search_doc2vec('computer')"
   ]
  },
  {
   "cell_type": "code",
   "execution_count": 22,
   "metadata": {
    "ExecuteTime": {
     "end_time": "2021-05-11T06:04:10.133151Z",
     "start_time": "2021-05-11T06:04:09.173231Z"
    }
   },
   "outputs": [
    {
     "name": "stdout",
     "output_type": "stream",
     "text": [
      "Matched Product: clara (01EWTHFH4H3GP0Q34E6JBYJZNZ)\n",
      "\n"
     ]
    }
   ],
   "source": [
    "search_doc2vec('01EWTHFH4H3GP0Q34E6JBYJZNZ')"
   ]
  },
  {
   "cell_type": "code",
   "execution_count": 23,
   "metadata": {
    "ExecuteTime": {
     "end_time": "2021-05-11T06:09:40.006339Z",
     "start_time": "2021-05-11T06:09:39.040206Z"
    }
   },
   "outputs": [
    {
     "name": "stdout",
     "output_type": "stream",
     "text": [
      "Matched Product: juan embossed mules (01DVA59VHYAPT4PVX32NXW91G5)\n",
      "\n",
      "WOW! The product is in a great combination(s):\n",
      "\n",
      "Combo 1:\n",
      "\n",
      "top: Knightley Striped Cotton-Voile Shirt(01DTATDR81EZ9S7DTYW3NE1QH0)\n",
      "\n",
      "bottom: Vanessa High-Rise Straight-Leg Jeans(01DTATGN3YQGYEPCXAD0E207TP)\n",
      "\n",
      "shoe: Juan Embossed Mules(01DVA59VHYAPT4PVX32NXW91G5)\n",
      "\n"
     ]
    }
   ],
   "source": [
    "search_doc2vec('01DVA59VHYAPT4PVX32NXW91G5')"
   ]
  },
  {
   "cell_type": "code",
   "execution_count": 19,
   "metadata": {
    "ExecuteTime": {
     "end_time": "2021-05-11T05:35:36.364339Z",
     "start_time": "2021-05-11T05:33:01.906052Z"
    }
   },
   "outputs": [
    {
     "name": "stdout",
     "output_type": "stream",
     "text": [
      "The most recommended product is lost coast moleskin shirt  final sale (01F22MVY1H6FRN2JDSV0TR7SME).\n",
      "\n",
      "Following are our recommended outfit combination:\n",
      "\n",
      "Combo 1:\n",
      "\n",
      "top: lost coast moleskin shirt  final sale(01F22MVY1H6FRN2JDSV0TR7SME)\n",
      "\n",
      "bottom:    straight leg jeans(01E1JKRT9RKDNHAWNK381JGTBY)\n",
      "\n",
      "shoe: gwen flats in croc embossed leather(01DPGTHPSYZCNW17PFDX20C2B6)\n",
      "\n",
      "accessory: soko  black capped quill dangle earrings(01EC8M5W6SMAPCW5X2RDT53G9K)\n",
      "\n"
     ]
    }
   ],
   "source": [
    "search_doc2vec('slim fitting, straight leg pant')"
   ]
  },
  {
   "cell_type": "code",
   "execution_count": 21,
   "metadata": {
    "ExecuteTime": {
     "end_time": "2021-05-11T06:03:34.886019Z",
     "start_time": "2021-05-11T06:00:42.450561Z"
    }
   },
   "outputs": [
    {
     "name": "stdout",
     "output_type": "stream",
     "text": [
      "WOW! The product you are searching for is in human domain experts recommended combos.\n",
      "The most recommended product is juan embossed mules (01DVA59VHYAPT4PVX32NXW91G5).\n",
      "\n",
      "Following are our recommended outfit combination:\n",
      "\n",
      "Combo 1:\n",
      "\n",
      "top: Knightley Striped Cotton-Voile Shirt(01DTATDR81EZ9S7DTYW3NE1QH0)\n",
      "\n",
      "bottom: Vanessa High-Rise Straight-Leg Jeans(01DTATGN3YQGYEPCXAD0E207TP)\n",
      "\n",
      "shoe: Juan Embossed Mules(01DVA59VHYAPT4PVX32NXW91G5)\n",
      "\n"
     ]
    }
   ],
   "source": [
    "search_doc2vec('juan embossed mules')"
   ]
  },
  {
   "cell_type": "code",
   "execution_count": 24,
   "metadata": {
    "ExecuteTime": {
     "end_time": "2021-05-11T06:14:49.120034Z",
     "start_time": "2021-05-11T06:12:03.964859Z"
    }
   },
   "outputs": [
    {
     "name": "stdout",
     "output_type": "stream",
     "text": [
      "WOW! The product you are searching for is in human domain experts recommended combos.\n",
      "The most recommended product is high rise straight leg jeans (01DVA4XSMTZ334M7SPPW0M1EDV).\n",
      "\n",
      "Following are our recommended outfit combination:\n",
      "\n",
      "Combo 1:\n",
      "\n",
      "bottom: High-Rise Straight-Leg Jeans(01DVA4XSMTZ334M7SPPW0M1EDV)\n",
      "\n",
      "shoe: Clarita Bow-Embellished Suede Sandals(01DVA4XY7A0QMMSK3V3SBR52J9)\n",
      "\n",
      "top: Harper Cotton Eyelet Blouse(01DVA4Y85Y5VZTKZNVEKCTDJXQ)\n",
      "\n",
      "Combo 2:\n",
      "\n",
      "shoe: Doey Suede Ankle Boots(01DTATDENPZ2G048Q6YTM51C91)\n",
      "\n",
      "bottom: High-Rise Straight-Leg Jeans(01DVA4XSMTZ334M7SPPW0M1EDV)\n",
      "\n",
      "top: Drama cropped satin blouse(01DVVFWANCGCFK1E1WXKQR5ER5)\n",
      "\n"
     ]
    }
   ],
   "source": [
    "search_doc2vec('high rise straight leg jeans')"
   ]
  }
 ],
 "metadata": {
  "kernelspec": {
   "display_name": "Python 3",
   "language": "python",
   "name": "python3"
  },
  "language_info": {
   "codemirror_mode": {
    "name": "ipython",
    "version": 3
   },
   "file_extension": ".py",
   "mimetype": "text/x-python",
   "name": "python",
   "nbconvert_exporter": "python",
   "pygments_lexer": "ipython3",
   "version": "3.7.6"
  },
  "varInspector": {
   "cols": {
    "lenName": 16,
    "lenType": 16,
    "lenVar": 40
   },
   "kernels_config": {
    "python": {
     "delete_cmd_postfix": "",
     "delete_cmd_prefix": "del ",
     "library": "var_list.py",
     "varRefreshCmd": "print(var_dic_list())"
    },
    "r": {
     "delete_cmd_postfix": ") ",
     "delete_cmd_prefix": "rm(",
     "library": "var_list.r",
     "varRefreshCmd": "cat(var_dic_list()) "
    }
   },
   "types_to_exclude": [
    "module",
    "function",
    "builtin_function_or_method",
    "instance",
    "_Feature"
   ],
   "window_display": false
  }
 },
 "nbformat": 4,
 "nbformat_minor": 5
}
