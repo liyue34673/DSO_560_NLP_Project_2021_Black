{
 "cells": [
  {
   "cell_type": "code",
   "execution_count": 1,
   "metadata": {},
   "outputs": [
    {
     "name": "stderr",
     "output_type": "stream",
     "text": [
      "Using TensorFlow backend.\n"
     ]
    }
   ],
   "source": [
    "import pandas as pd\n",
    "import numpy as np\n",
    "import re\n",
    "import spacy\n",
    "from scipy.spatial.distance import cosine\n",
    "import nltk\n",
    "import string\n",
    "from nltk import word_tokenize\n",
    "from nltk.corpus import stopwords\n",
    "from sklearn.feature_extraction.text import CountVectorizer\n",
    "from keras.utils import to_categorical\n",
    "from sklearn.preprocessing import LabelEncoder\n",
    "\n",
    "from sklearn.model_selection import train_test_split\n",
    "from sklearn.linear_model import LogisticRegression\n",
    "from sklearn.multiclass import OneVsRestClassifier\n",
    "from sklearn.metrics import confusion_matrix\n",
    "\n",
    "\n",
    "import warnings\n",
    "warnings.filterwarnings('ignore')"
   ]
  },
  {
   "cell_type": "markdown",
   "metadata": {},
   "source": [
    "# 1. Load Dataset"
   ]
  },
  {
   "cell_type": "markdown",
   "metadata": {},
   "source": [
    "## 1.1 Product"
   ]
  },
  {
   "cell_type": "code",
   "execution_count": 2,
   "metadata": {},
   "outputs": [
    {
     "name": "stdout",
     "output_type": "stream",
     "text": [
      "Wall time: 11.2 s\n"
     ]
    },
    {
     "data": {
      "text/html": [
       "<div>\n",
       "<style scoped>\n",
       "    .dataframe tbody tr th:only-of-type {\n",
       "        vertical-align: middle;\n",
       "    }\n",
       "\n",
       "    .dataframe tbody tr th {\n",
       "        vertical-align: top;\n",
       "    }\n",
       "\n",
       "    .dataframe thead th {\n",
       "        text-align: right;\n",
       "    }\n",
       "</style>\n",
       "<table border=\"1\" class=\"dataframe\">\n",
       "  <thead>\n",
       "    <tr style=\"text-align: right;\">\n",
       "      <th></th>\n",
       "      <th>product_id</th>\n",
       "      <th>brand</th>\n",
       "      <th>brand_category</th>\n",
       "      <th>name</th>\n",
       "      <th>details</th>\n",
       "      <th>created_at</th>\n",
       "      <th>brand_canonical_url</th>\n",
       "      <th>description</th>\n",
       "      <th>brand_description</th>\n",
       "      <th>brand_name</th>\n",
       "      <th>product_active</th>\n",
       "    </tr>\n",
       "  </thead>\n",
       "  <tbody>\n",
       "    <tr>\n",
       "      <th>0</th>\n",
       "      <td>01EX0PN4J9WRNZH5F93YEX6QAF</td>\n",
       "      <td>Two</td>\n",
       "      <td>Unknown</td>\n",
       "      <td>Khadi Stripe Shirt-our signature shirt</td>\n",
       "      <td>NaN</td>\n",
       "      <td>2021-01-27 01:17:19.305 UTC</td>\n",
       "      <td>https://two-nyc.myshopify.com/products/white-k...</td>\n",
       "      <td>Our signature khadi shirt\\navailable in black ...</td>\n",
       "      <td>Our signature khadi shirt\\n\\navailable in blac...</td>\n",
       "      <td>Khadi Stripe Shirt-our signature shirt</td>\n",
       "      <td>True</td>\n",
       "    </tr>\n",
       "    <tr>\n",
       "      <th>1</th>\n",
       "      <td>01F0C4SKZV6YXS3265JMC39NXW</td>\n",
       "      <td>Collina Strada</td>\n",
       "      <td>Unknown</td>\n",
       "      <td>RUFFLE MARKET DRESS LOOPY PINK SISTINE TOMATO</td>\n",
       "      <td>NaN</td>\n",
       "      <td>2021-03-09 18:43:10.457 UTC</td>\n",
       "      <td>https://collina-strada-2.myshopify.com/product...</td>\n",
       "      <td>Mid-length dress with ruffles and adjustable s...</td>\n",
       "      <td>Mid-length dress with ruffles and adjustable s...</td>\n",
       "      <td>RUFFLE MARKET DRESS LOOPY PINK SISTINE TOMATO</td>\n",
       "      <td>True</td>\n",
       "    </tr>\n",
       "    <tr>\n",
       "      <th>2</th>\n",
       "      <td>01EY4Y1BW8VZW51BWG5VZY82XW</td>\n",
       "      <td>Cariuma</td>\n",
       "      <td>Unknown</td>\n",
       "      <td>IBI Slip On Raw Red Knit Sneaker Women</td>\n",
       "      <td>NaN</td>\n",
       "      <td>2021-02-10 02:58:59.591 UTC</td>\n",
       "      <td>https://cariuma.myshopify.com/products/ibi-sli...</td>\n",
       "      <td>IBI Slip On Raw Red Knit Sneaker Women</td>\n",
       "      <td>IBI Slip On Raw Red Knit Sneaker Women</td>\n",
       "      <td>IBI Slip On Raw Red Knit Sneaker Women</td>\n",
       "      <td>False</td>\n",
       "    </tr>\n",
       "  </tbody>\n",
       "</table>\n",
       "</div>"
      ],
      "text/plain": [
       "                   product_id           brand brand_category  \\\n",
       "0  01EX0PN4J9WRNZH5F93YEX6QAF             Two        Unknown   \n",
       "1  01F0C4SKZV6YXS3265JMC39NXW  Collina Strada        Unknown   \n",
       "2  01EY4Y1BW8VZW51BWG5VZY82XW         Cariuma        Unknown   \n",
       "\n",
       "                                            name details  \\\n",
       "0         Khadi Stripe Shirt-our signature shirt     NaN   \n",
       "1  RUFFLE MARKET DRESS LOOPY PINK SISTINE TOMATO     NaN   \n",
       "2         IBI Slip On Raw Red Knit Sneaker Women     NaN   \n",
       "\n",
       "                    created_at  \\\n",
       "0  2021-01-27 01:17:19.305 UTC   \n",
       "1  2021-03-09 18:43:10.457 UTC   \n",
       "2  2021-02-10 02:58:59.591 UTC   \n",
       "\n",
       "                                 brand_canonical_url  \\\n",
       "0  https://two-nyc.myshopify.com/products/white-k...   \n",
       "1  https://collina-strada-2.myshopify.com/product...   \n",
       "2  https://cariuma.myshopify.com/products/ibi-sli...   \n",
       "\n",
       "                                         description  \\\n",
       "0  Our signature khadi shirt\\navailable in black ...   \n",
       "1  Mid-length dress with ruffles and adjustable s...   \n",
       "2             IBI Slip On Raw Red Knit Sneaker Women   \n",
       "\n",
       "                                   brand_description  \\\n",
       "0  Our signature khadi shirt\\n\\navailable in blac...   \n",
       "1  Mid-length dress with ruffles and adjustable s...   \n",
       "2             IBI Slip On Raw Red Knit Sneaker Women   \n",
       "\n",
       "                                      brand_name  product_active  \n",
       "0         Khadi Stripe Shirt-our signature shirt            True  \n",
       "1  RUFFLE MARKET DRESS LOOPY PINK SISTINE TOMATO            True  \n",
       "2         IBI Slip On Raw Red Knit Sneaker Women           False  "
      ]
     },
     "execution_count": 2,
     "metadata": {},
     "output_type": "execute_result"
    }
   ],
   "source": [
    "%%time\n",
    "# load product information\n",
    "product = pd.read_excel('Behold+product+data+04262021.xlsx')\n",
    "product.head(3)"
   ]
  },
  {
   "cell_type": "code",
   "execution_count": 3,
   "metadata": {},
   "outputs": [
    {
     "name": "stdout",
     "output_type": "stream",
     "text": [
      "<class 'pandas.core.frame.DataFrame'>\n",
      "RangeIndex: 61355 entries, 0 to 61354\n",
      "Data columns (total 11 columns):\n",
      " #   Column               Non-Null Count  Dtype \n",
      "---  ------               --------------  ----- \n",
      " 0   product_id           61355 non-null  object\n",
      " 1   brand                61355 non-null  object\n",
      " 2   brand_category       60896 non-null  object\n",
      " 3   name                 61354 non-null  object\n",
      " 4   details              9200 non-null   object\n",
      " 5   created_at           61355 non-null  object\n",
      " 6   brand_canonical_url  61355 non-null  object\n",
      " 7   description          51238 non-null  object\n",
      " 8   brand_description    51234 non-null  object\n",
      " 9   brand_name           61354 non-null  object\n",
      " 10  product_active       61355 non-null  bool  \n",
      "dtypes: bool(1), object(10)\n",
      "memory usage: 4.7+ MB\n"
     ]
    }
   ],
   "source": [
    "product.info()"
   ]
  },
  {
   "cell_type": "markdown",
   "metadata": {},
   "source": [
    "## 1.2 Brand"
   ]
  },
  {
   "cell_type": "code",
   "execution_count": 4,
   "metadata": {},
   "outputs": [
    {
     "data": {
      "text/html": [
       "<div>\n",
       "<style scoped>\n",
       "    .dataframe tbody tr th:only-of-type {\n",
       "        vertical-align: middle;\n",
       "    }\n",
       "\n",
       "    .dataframe tbody tr th {\n",
       "        vertical-align: top;\n",
       "    }\n",
       "\n",
       "    .dataframe thead th {\n",
       "        text-align: right;\n",
       "    }\n",
       "</style>\n",
       "<table border=\"1\" class=\"dataframe\">\n",
       "  <thead>\n",
       "    <tr style=\"text-align: right;\">\n",
       "      <th></th>\n",
       "      <th>brand_id</th>\n",
       "      <th>brand</th>\n",
       "      <th>brand_value</th>\n",
       "      <th>bio</th>\n",
       "      <th>quote</th>\n",
       "      <th>quote_attribute</th>\n",
       "      <th>intro</th>\n",
       "      <th>lifestyle_copy</th>\n",
       "      <th>short_bio</th>\n",
       "      <th>listing_bio</th>\n",
       "    </tr>\n",
       "  </thead>\n",
       "  <tbody>\n",
       "    <tr>\n",
       "      <th>0</th>\n",
       "      <td>01ESKR0CH2KYC7KBNTN0S38EQA</td>\n",
       "      <td>Mari Giudicelli</td>\n",
       "      <td>Handmade / Artisan Crafted</td>\n",
       "      <td>NaN</td>\n",
       "      <td>NaN</td>\n",
       "      <td>NaN</td>\n",
       "      <td>NaN</td>\n",
       "      <td>NaN</td>\n",
       "      <td>NaN</td>\n",
       "      <td>Behold Mari Giudicelli! This Brazilian shoe de...</td>\n",
       "    </tr>\n",
       "    <tr>\n",
       "      <th>1</th>\n",
       "      <td>01ESKR0CH2KYC7KBNTN0S38EQA</td>\n",
       "      <td>Mari Giudicelli</td>\n",
       "      <td>Sustainable</td>\n",
       "      <td>NaN</td>\n",
       "      <td>NaN</td>\n",
       "      <td>NaN</td>\n",
       "      <td>NaN</td>\n",
       "      <td>NaN</td>\n",
       "      <td>NaN</td>\n",
       "      <td>Behold Mari Giudicelli! This Brazilian shoe de...</td>\n",
       "    </tr>\n",
       "    <tr>\n",
       "      <th>2</th>\n",
       "      <td>01ESKR0CH2KYC7KBNTN0S38EQA</td>\n",
       "      <td>Mari Giudicelli</td>\n",
       "      <td>Women Owned</td>\n",
       "      <td>NaN</td>\n",
       "      <td>NaN</td>\n",
       "      <td>NaN</td>\n",
       "      <td>NaN</td>\n",
       "      <td>NaN</td>\n",
       "      <td>NaN</td>\n",
       "      <td>Behold Mari Giudicelli! This Brazilian shoe de...</td>\n",
       "    </tr>\n",
       "  </tbody>\n",
       "</table>\n",
       "</div>"
      ],
      "text/plain": [
       "                     brand_id            brand                 brand_value  \\\n",
       "0  01ESKR0CH2KYC7KBNTN0S38EQA  Mari Giudicelli  Handmade / Artisan Crafted   \n",
       "1  01ESKR0CH2KYC7KBNTN0S38EQA  Mari Giudicelli                 Sustainable   \n",
       "2  01ESKR0CH2KYC7KBNTN0S38EQA  Mari Giudicelli                 Women Owned   \n",
       "\n",
       "   bio quote quote_attribute intro lifestyle_copy short_bio  \\\n",
       "0  NaN   NaN             NaN   NaN            NaN       NaN   \n",
       "1  NaN   NaN             NaN   NaN            NaN       NaN   \n",
       "2  NaN   NaN             NaN   NaN            NaN       NaN   \n",
       "\n",
       "                                         listing_bio  \n",
       "0  Behold Mari Giudicelli! This Brazilian shoe de...  \n",
       "1  Behold Mari Giudicelli! This Brazilian shoe de...  \n",
       "2  Behold Mari Giudicelli! This Brazilian shoe de...  "
      ]
     },
     "execution_count": 4,
     "metadata": {},
     "output_type": "execute_result"
    }
   ],
   "source": [
    "# load brand information\n",
    "brand = pd.read_csv('behold_brands.csv')\n",
    "brand.head(3)"
   ]
  },
  {
   "cell_type": "code",
   "execution_count": 5,
   "metadata": {},
   "outputs": [
    {
     "name": "stdout",
     "output_type": "stream",
     "text": [
      "<class 'pandas.core.frame.DataFrame'>\n",
      "RangeIndex: 162 entries, 0 to 161\n",
      "Data columns (total 10 columns):\n",
      " #   Column           Non-Null Count  Dtype \n",
      "---  ------           --------------  ----- \n",
      " 0   brand_id         162 non-null    object\n",
      " 1   brand            162 non-null    object\n",
      " 2   brand_value      154 non-null    object\n",
      " 3   bio              157 non-null    object\n",
      " 4   quote            157 non-null    object\n",
      " 5   quote_attribute  154 non-null    object\n",
      " 6   intro            154 non-null    object\n",
      " 7   lifestyle_copy   156 non-null    object\n",
      " 8   short_bio        157 non-null    object\n",
      " 9   listing_bio      157 non-null    object\n",
      "dtypes: object(10)\n",
      "memory usage: 12.8+ KB\n"
     ]
    }
   ],
   "source": [
    "brand.info()"
   ]
  },
  {
   "cell_type": "markdown",
   "metadata": {},
   "source": [
    "## 1.3 Outfit"
   ]
  },
  {
   "cell_type": "code",
   "execution_count": 6,
   "metadata": {},
   "outputs": [
    {
     "data": {
      "text/html": [
       "<div>\n",
       "<style scoped>\n",
       "    .dataframe tbody tr th:only-of-type {\n",
       "        vertical-align: middle;\n",
       "    }\n",
       "\n",
       "    .dataframe tbody tr th {\n",
       "        vertical-align: top;\n",
       "    }\n",
       "\n",
       "    .dataframe thead th {\n",
       "        text-align: right;\n",
       "    }\n",
       "</style>\n",
       "<table border=\"1\" class=\"dataframe\">\n",
       "  <thead>\n",
       "    <tr style=\"text-align: right;\">\n",
       "      <th></th>\n",
       "      <th>outfit_id</th>\n",
       "      <th>product_id</th>\n",
       "      <th>outfit_item_type</th>\n",
       "      <th>brand</th>\n",
       "      <th>product_full_name</th>\n",
       "    </tr>\n",
       "  </thead>\n",
       "  <tbody>\n",
       "    <tr>\n",
       "      <th>0</th>\n",
       "      <td>01DDBHC62ES5K80P0KYJ56AM2T</td>\n",
       "      <td>01DMBRYVA2P5H24WK0HTK4R0A1</td>\n",
       "      <td>bottom</td>\n",
       "      <td>Eileen Fisher</td>\n",
       "      <td>Slim Knit Skirt</td>\n",
       "    </tr>\n",
       "    <tr>\n",
       "      <th>1</th>\n",
       "      <td>01DDBHC62ES5K80P0KYJ56AM2T</td>\n",
       "      <td>01DMBRYVA2PEPWFTT7RMP5AA1T</td>\n",
       "      <td>top</td>\n",
       "      <td>Eileen Fisher</td>\n",
       "      <td>Rib Mock Neck Tank</td>\n",
       "    </tr>\n",
       "    <tr>\n",
       "      <th>2</th>\n",
       "      <td>01DDBHC62ES5K80P0KYJ56AM2T</td>\n",
       "      <td>01DMBRYVA2S5T9W793F4CY41HE</td>\n",
       "      <td>accessory1</td>\n",
       "      <td>kate spade new york</td>\n",
       "      <td>medium margaux leather satchel</td>\n",
       "    </tr>\n",
       "    <tr>\n",
       "      <th>3</th>\n",
       "      <td>01DDBHC62ES5K80P0KYJ56AM2T</td>\n",
       "      <td>01DMBRYVA2ZFDYRYY5TRQZJTBD</td>\n",
       "      <td>shoe</td>\n",
       "      <td>Tory Burch</td>\n",
       "      <td>Penelope Mid Cap Toe Pump</td>\n",
       "    </tr>\n",
       "    <tr>\n",
       "      <th>4</th>\n",
       "      <td>01DMHCX50CFX5YNG99F3Y65GQW</td>\n",
       "      <td>01DMBRYVA2P5H24WK0HTK4R0A1</td>\n",
       "      <td>bottom</td>\n",
       "      <td>Eileen Fisher</td>\n",
       "      <td>Slim Knit Skirt</td>\n",
       "    </tr>\n",
       "  </tbody>\n",
       "</table>\n",
       "</div>"
      ],
      "text/plain": [
       "                    outfit_id                  product_id outfit_item_type  \\\n",
       "0  01DDBHC62ES5K80P0KYJ56AM2T  01DMBRYVA2P5H24WK0HTK4R0A1           bottom   \n",
       "1  01DDBHC62ES5K80P0KYJ56AM2T  01DMBRYVA2PEPWFTT7RMP5AA1T              top   \n",
       "2  01DDBHC62ES5K80P0KYJ56AM2T  01DMBRYVA2S5T9W793F4CY41HE       accessory1   \n",
       "3  01DDBHC62ES5K80P0KYJ56AM2T  01DMBRYVA2ZFDYRYY5TRQZJTBD             shoe   \n",
       "4  01DMHCX50CFX5YNG99F3Y65GQW  01DMBRYVA2P5H24WK0HTK4R0A1           bottom   \n",
       "\n",
       "                 brand               product_full_name  \n",
       "0        Eileen Fisher                 Slim Knit Skirt  \n",
       "1        Eileen Fisher              Rib Mock Neck Tank  \n",
       "2  kate spade new york  medium margaux leather satchel  \n",
       "3           Tory Burch       Penelope Mid Cap Toe Pump  \n",
       "4        Eileen Fisher                 Slim Knit Skirt  "
      ]
     },
     "execution_count": 6,
     "metadata": {},
     "output_type": "execute_result"
    }
   ],
   "source": [
    "outfit = pd.read_csv('outfit_combinations.csv')\n",
    "outfit.head(5)"
   ]
  },
  {
   "cell_type": "code",
   "execution_count": 7,
   "metadata": {},
   "outputs": [
    {
     "name": "stdout",
     "output_type": "stream",
     "text": [
      "<class 'pandas.core.frame.DataFrame'>\n",
      "RangeIndex: 5291 entries, 0 to 5290\n",
      "Data columns (total 5 columns):\n",
      " #   Column             Non-Null Count  Dtype \n",
      "---  ------             --------------  ----- \n",
      " 0   outfit_id          5291 non-null   object\n",
      " 1   product_id         5291 non-null   object\n",
      " 2   outfit_item_type   5291 non-null   object\n",
      " 3   brand              5291 non-null   object\n",
      " 4   product_full_name  5291 non-null   object\n",
      "dtypes: object(5)\n",
      "memory usage: 206.8+ KB\n"
     ]
    }
   ],
   "source": [
    "outfit.info()"
   ]
  },
  {
   "cell_type": "markdown",
   "metadata": {},
   "source": [
    "## 1.3 Expert Tags"
   ]
  },
  {
   "cell_type": "code",
   "execution_count": 8,
   "metadata": {},
   "outputs": [
    {
     "data": {
      "text/html": [
       "<div>\n",
       "<style scoped>\n",
       "    .dataframe tbody tr th:only-of-type {\n",
       "        vertical-align: middle;\n",
       "    }\n",
       "\n",
       "    .dataframe tbody tr th {\n",
       "        vertical-align: top;\n",
       "    }\n",
       "\n",
       "    .dataframe thead th {\n",
       "        text-align: right;\n",
       "    }\n",
       "</style>\n",
       "<table border=\"1\" class=\"dataframe\">\n",
       "  <thead>\n",
       "    <tr style=\"text-align: right;\">\n",
       "      <th></th>\n",
       "      <th>product_id</th>\n",
       "      <th>product_color_id</th>\n",
       "      <th>attribute_name</th>\n",
       "      <th>attribute_value</th>\n",
       "    </tr>\n",
       "  </thead>\n",
       "  <tbody>\n",
       "    <tr>\n",
       "      <th>0</th>\n",
       "      <td>01E5ZXP5H0BTEZT9QD2HRZJ47A</td>\n",
       "      <td>01E5ZXP5JCREDC7WJVMWHK5Q40</td>\n",
       "      <td>materialclothing</td>\n",
       "      <td>linenblend</td>\n",
       "    </tr>\n",
       "    <tr>\n",
       "      <th>1</th>\n",
       "      <td>01E5ZXP5H0BTEZT9QD2HRZJ47A</td>\n",
       "      <td>01E5ZXP5JCREDC7WJVMWHK5Q40</td>\n",
       "      <td>materialclothing</td>\n",
       "      <td>cottonblend</td>\n",
       "    </tr>\n",
       "    <tr>\n",
       "      <th>2</th>\n",
       "      <td>01E5ZXP5H0BTEZT9QD2HRZJ47A</td>\n",
       "      <td>01E5ZXP5JCREDC7WJVMWHK5Q40</td>\n",
       "      <td>style</td>\n",
       "      <td>modern</td>\n",
       "    </tr>\n",
       "  </tbody>\n",
       "</table>\n",
       "</div>"
      ],
      "text/plain": [
       "                   product_id            product_color_id    attribute_name  \\\n",
       "0  01E5ZXP5H0BTEZT9QD2HRZJ47A  01E5ZXP5JCREDC7WJVMWHK5Q40  materialclothing   \n",
       "1  01E5ZXP5H0BTEZT9QD2HRZJ47A  01E5ZXP5JCREDC7WJVMWHK5Q40  materialclothing   \n",
       "2  01E5ZXP5H0BTEZT9QD2HRZJ47A  01E5ZXP5JCREDC7WJVMWHK5Q40             style   \n",
       "\n",
       "  attribute_value  \n",
       "0      linenblend  \n",
       "1     cottonblend  \n",
       "2          modern  "
      ]
     },
     "execution_count": 8,
     "metadata": {},
     "output_type": "execute_result"
    }
   ],
   "source": [
    "tags = pd.read_csv('usc_additional_tags.csv')\n",
    "tags.head(3)"
   ]
  },
  {
   "cell_type": "code",
   "execution_count": 9,
   "metadata": {},
   "outputs": [
    {
     "name": "stdout",
     "output_type": "stream",
     "text": [
      "<class 'pandas.core.frame.DataFrame'>\n",
      "RangeIndex: 97420 entries, 0 to 97419\n",
      "Data columns (total 4 columns):\n",
      " #   Column            Non-Null Count  Dtype \n",
      "---  ------            --------------  ----- \n",
      " 0   product_id        97420 non-null  object\n",
      " 1   product_color_id  97420 non-null  object\n",
      " 2   attribute_name    97420 non-null  object\n",
      " 3   attribute_value   97420 non-null  object\n",
      "dtypes: object(4)\n",
      "memory usage: 3.0+ MB\n"
     ]
    }
   ],
   "source": [
    "tags.info()"
   ]
  },
  {
   "cell_type": "markdown",
   "metadata": {},
   "source": [
    "# 2. EDA"
   ]
  },
  {
   "cell_type": "markdown",
   "metadata": {},
   "source": [
    "There is no duplicate product id in product.csv"
   ]
  },
  {
   "cell_type": "code",
   "execution_count": 10,
   "metadata": {},
   "outputs": [
    {
     "data": {
      "text/plain": [
       "True"
      ]
     },
     "execution_count": 10,
     "metadata": {},
     "output_type": "execute_result"
    }
   ],
   "source": [
    "len(product.product_id.unique())==len(product)"
   ]
  },
  {
   "cell_type": "markdown",
   "metadata": {},
   "source": [
    "We have more brands in product.csv compared to brand.csv and outfit.csv"
   ]
  },
  {
   "cell_type": "code",
   "execution_count": 11,
   "metadata": {},
   "outputs": [
    {
     "data": {
      "text/plain": [
       "386"
      ]
     },
     "execution_count": 11,
     "metadata": {},
     "output_type": "execute_result"
    }
   ],
   "source": [
    "# number of unique brands in product.csv\n",
    "len(product.brand.unique())"
   ]
  },
  {
   "cell_type": "code",
   "execution_count": 12,
   "metadata": {},
   "outputs": [
    {
     "data": {
      "text/plain": [
       "74"
      ]
     },
     "execution_count": 12,
     "metadata": {},
     "output_type": "execute_result"
    }
   ],
   "source": [
    "# number of unique brands in brand.csv\n",
    "len(brand.brand.unique())"
   ]
  },
  {
   "cell_type": "code",
   "execution_count": 13,
   "metadata": {},
   "outputs": [
    {
     "data": {
      "text/plain": [
       "306"
      ]
     },
     "execution_count": 13,
     "metadata": {},
     "output_type": "execute_result"
    }
   ],
   "source": [
    "# number of unique brands in outfit.csv\n",
    "len(outfit.brand.unique())"
   ]
  },
  {
   "cell_type": "markdown",
   "metadata": {},
   "source": [
    "There are 6 different brand values which could be set as a new feature later on"
   ]
  },
  {
   "cell_type": "code",
   "execution_count": 14,
   "metadata": {},
   "outputs": [
    {
     "data": {
      "text/plain": [
       "Women Owned                   47\n",
       "Emerging                      41\n",
       "Handmade / Artisan Crafted    29\n",
       "Sustainable                   27\n",
       "BIPOC Owned                    6\n",
       "Vegan                          4\n",
       "Name: brand_value, dtype: int64"
      ]
     },
     "execution_count": 14,
     "metadata": {},
     "output_type": "execute_result"
    }
   ],
   "source": [
    "brand.brand_value.value_counts()"
   ]
  },
  {
   "cell_type": "markdown",
   "metadata": {},
   "source": [
    "There are 7 different outfit item types, and five different outfit types:\n",
    "- shoe\n",
    "- accessory\n",
    "- top\n",
    "- bottom\n",
    "- onepiece"
   ]
  },
  {
   "cell_type": "code",
   "execution_count": 15,
   "metadata": {},
   "outputs": [
    {
     "data": {
      "text/plain": [
       "shoe          1149\n",
       "accessory1    1064\n",
       "accessory2     978\n",
       "top            950\n",
       "bottom         928\n",
       "onepiece       221\n",
       "accessory3       1\n",
       "Name: outfit_item_type, dtype: int64"
      ]
     },
     "execution_count": 15,
     "metadata": {},
     "output_type": "execute_result"
    }
   ],
   "source": [
    "outfit.outfit_item_type.value_counts()"
   ]
  },
  {
   "cell_type": "markdown",
   "metadata": {},
   "source": [
    "There are 86 different attribute types, each type is assocaites with several values. Attributes could be added to features for different products later on."
   ]
  },
  {
   "cell_type": "code",
   "execution_count": 16,
   "metadata": {},
   "outputs": [
    {
     "data": {
      "text/plain": [
       "86"
      ]
     },
     "execution_count": 16,
     "metadata": {},
     "output_type": "execute_result"
    }
   ],
   "source": [
    "len(tags.attribute_name.unique())"
   ]
  },
  {
   "cell_type": "code",
   "execution_count": 17,
   "metadata": {},
   "outputs": [
    {
     "data": {
      "text/plain": [
       "style               14462\n",
       "occasion            12624\n",
       "materialclothing     5589\n",
       "category             5522\n",
       "primarycolor         5466\n",
       "gender               5433\n",
       "fit                  3814\n",
       "sizing               3701\n",
       "drycleanonly         3488\n",
       "sleevelength         2619\n",
       "additionalcolor      2572\n",
       "neckline             2417\n",
       "lengthtop            1837\n",
       "pattern              1604\n",
       "subcategorytop       1387\n",
       "uppermaterial        1252\n",
       "subcategoryshoe      1246\n",
       "shoewidth            1221\n",
       "toestyle             1217\n",
       "closureshoe          1163\n",
       "Name: attribute_name, dtype: int64"
      ]
     },
     "execution_count": 17,
     "metadata": {},
     "output_type": "execute_result"
    }
   ],
   "source": [
    "tags.attribute_name.value_counts()[:20]"
   ]
  },
  {
   "cell_type": "markdown",
   "metadata": {},
   "source": [
    "# 3. Data Preprocessing"
   ]
  },
  {
   "cell_type": "code",
   "execution_count": 18,
   "metadata": {},
   "outputs": [
    {
     "name": "stdout",
     "output_type": "stream",
     "text": [
      "Wall time: 2.43 s\n"
     ]
    }
   ],
   "source": [
    "%%time\n",
    "# need to download 'en_core_web_lg' first\n",
    "nlp = spacy.load('en_core_web_lg',disable=['ner','parser'])"
   ]
  },
  {
   "cell_type": "markdown",
   "metadata": {},
   "source": [
    "### 3.1 lemmatization"
   ]
  },
  {
   "cell_type": "code",
   "execution_count": 19,
   "metadata": {},
   "outputs": [],
   "source": [
    "def spacy_lem(data, field):\n",
    "    '''\n",
    "    do lemmatization for data[field]\n",
    "    '''\n",
    "    for i in range(len(data)):\n",
    "        if type(data.loc[i,field])==str:\n",
    "            rows = []\n",
    "            doc = nlp(data.loc[i,field])\n",
    "            for token in doc:\n",
    "                rows.append(token.lemma_)\n",
    "            data.loc[i,field] = ' '.join(rows)"
   ]
  },
  {
   "cell_type": "code",
   "execution_count": 20,
   "metadata": {},
   "outputs": [
    {
     "name": "stdout",
     "output_type": "stream",
     "text": [
      "Wall time: 9min 46s\n"
     ]
    }
   ],
   "source": [
    "%%time\n",
    "# need to take ~7mins\n",
    "spacy_lem(product,'description')"
   ]
  },
  {
   "cell_type": "code",
   "execution_count": 21,
   "metadata": {},
   "outputs": [
    {
     "name": "stdout",
     "output_type": "stream",
     "text": [
      "Wall time: 1min 15s\n"
     ]
    }
   ],
   "source": [
    "%%time\n",
    "spacy_lem(product,'details')"
   ]
  },
  {
   "cell_type": "code",
   "execution_count": 22,
   "metadata": {},
   "outputs": [
    {
     "name": "stdout",
     "output_type": "stream",
     "text": [
      "Wall time: 6.35 s\n"
     ]
    }
   ],
   "source": [
    "%%time\n",
    "for field in brand.columns[2:]:\n",
    "    spacy_lem(brand,field)"
   ]
  },
  {
   "cell_type": "markdown",
   "metadata": {},
   "source": [
    "### 3.2 Regex Cleaning"
   ]
  },
  {
   "cell_type": "code",
   "execution_count": 23,
   "metadata": {},
   "outputs": [],
   "source": [
    "def removePunctuation(text, punctuations=string.punctuation+\"``\"+\"’\"+\"”\"):\n",
    "    words=nltk.word_tokenize(text)\n",
    "    newWords = [word for word in words if word.lower() not in punctuations]\n",
    "    cleanedText = \" \".join(newWords)\n",
    "    return cleanedText"
   ]
  },
  {
   "cell_type": "code",
   "execution_count": 24,
   "metadata": {},
   "outputs": [],
   "source": [
    "nltk_stopwords = set(stopwords.words(\"English\"))\n",
    "def removeStopwords(text, stopwords=nltk_stopwords):\n",
    "    words = nltk.word_tokenize(text)\n",
    "    newWords = [word for word in words if word.lower() not in stopwords]\n",
    "    cleanedText = \" \".join(newWords)\n",
    "    return cleanedText"
   ]
  },
  {
   "cell_type": "code",
   "execution_count": 25,
   "metadata": {},
   "outputs": [
    {
     "name": "stdout",
     "output_type": "stream",
     "text": [
      "Wall time: 2.33 s\n"
     ]
    }
   ],
   "source": [
    "%%time\n",
    "product = product.fillna(\"UNKNOWN_TOKEN\")\n",
    "for col in ['brand_category','name','details','description']:\n",
    "    product[col]= product[col].astype('str')\n",
    "    product[col] = product[col].str.replace('\\.|\\,|\\:|\\•|\\d|\\-|\\n|\\=',' ')\n",
    "    product[col] = product[col].str.replace('\\/',' ')\n",
    "    product[col] = product[col].str.replace('\\s\\s',' ')\n",
    "    product[col] = product[col].apply(lambda x: x.lower())\n",
    "    product[col] = product[col].str.replace('Unknown','UNKNOWN_TOKEN')"
   ]
  },
  {
   "cell_type": "markdown",
   "metadata": {},
   "source": [
    "# 4. Product Classification"
   ]
  },
  {
   "cell_type": "markdown",
   "metadata": {},
   "source": [
    "### Preprocess category values in tag file"
   ]
  },
  {
   "cell_type": "code",
   "execution_count": 26,
   "metadata": {},
   "outputs": [
    {
     "data": {
      "text/html": [
       "<div>\n",
       "<style scoped>\n",
       "    .dataframe tbody tr th:only-of-type {\n",
       "        vertical-align: middle;\n",
       "    }\n",
       "\n",
       "    .dataframe tbody tr th {\n",
       "        vertical-align: top;\n",
       "    }\n",
       "\n",
       "    .dataframe thead th {\n",
       "        text-align: right;\n",
       "    }\n",
       "</style>\n",
       "<table border=\"1\" class=\"dataframe\">\n",
       "  <thead>\n",
       "    <tr style=\"text-align: right;\">\n",
       "      <th></th>\n",
       "      <th>product_id</th>\n",
       "      <th>product_color_id</th>\n",
       "      <th>attribute_name</th>\n",
       "      <th>attribute_value</th>\n",
       "    </tr>\n",
       "  </thead>\n",
       "  <tbody>\n",
       "    <tr>\n",
       "      <th>0</th>\n",
       "      <td>01E5ZXP5H0BTEZT9QD2HRZJ47A</td>\n",
       "      <td>01E5ZXP5JCREDC7WJVMWHK5Q40</td>\n",
       "      <td>materialclothing</td>\n",
       "      <td>linenblend</td>\n",
       "    </tr>\n",
       "    <tr>\n",
       "      <th>1</th>\n",
       "      <td>01E5ZXP5H0BTEZT9QD2HRZJ47A</td>\n",
       "      <td>01E5ZXP5JCREDC7WJVMWHK5Q40</td>\n",
       "      <td>materialclothing</td>\n",
       "      <td>cottonblend</td>\n",
       "    </tr>\n",
       "    <tr>\n",
       "      <th>2</th>\n",
       "      <td>01E5ZXP5H0BTEZT9QD2HRZJ47A</td>\n",
       "      <td>01E5ZXP5JCREDC7WJVMWHK5Q40</td>\n",
       "      <td>style</td>\n",
       "      <td>modern</td>\n",
       "    </tr>\n",
       "    <tr>\n",
       "      <th>3</th>\n",
       "      <td>01E5ZXP5H0BTEZT9QD2HRZJ47A</td>\n",
       "      <td>01E5ZXP5JCREDC7WJVMWHK5Q40</td>\n",
       "      <td>style</td>\n",
       "      <td>businesscasual</td>\n",
       "    </tr>\n",
       "    <tr>\n",
       "      <th>4</th>\n",
       "      <td>01E5ZXP5H0BTEZT9QD2HRZJ47A</td>\n",
       "      <td>01E5ZXP5JCREDC7WJVMWHK5Q40</td>\n",
       "      <td>style</td>\n",
       "      <td>classic</td>\n",
       "    </tr>\n",
       "  </tbody>\n",
       "</table>\n",
       "</div>"
      ],
      "text/plain": [
       "                   product_id            product_color_id    attribute_name  \\\n",
       "0  01E5ZXP5H0BTEZT9QD2HRZJ47A  01E5ZXP5JCREDC7WJVMWHK5Q40  materialclothing   \n",
       "1  01E5ZXP5H0BTEZT9QD2HRZJ47A  01E5ZXP5JCREDC7WJVMWHK5Q40  materialclothing   \n",
       "2  01E5ZXP5H0BTEZT9QD2HRZJ47A  01E5ZXP5JCREDC7WJVMWHK5Q40             style   \n",
       "3  01E5ZXP5H0BTEZT9QD2HRZJ47A  01E5ZXP5JCREDC7WJVMWHK5Q40             style   \n",
       "4  01E5ZXP5H0BTEZT9QD2HRZJ47A  01E5ZXP5JCREDC7WJVMWHK5Q40             style   \n",
       "\n",
       "  attribute_value  \n",
       "0      linenblend  \n",
       "1     cottonblend  \n",
       "2          modern  \n",
       "3  businesscasual  \n",
       "4         classic  "
      ]
     },
     "execution_count": 26,
     "metadata": {},
     "output_type": "execute_result"
    }
   ],
   "source": [
    "# filter out category information from tag file\n",
    "tags.head()"
   ]
  },
  {
   "cell_type": "code",
   "execution_count": 27,
   "metadata": {},
   "outputs": [],
   "source": [
    "category_tag = tags[tags.attribute_name.str.contains('category')]"
   ]
  },
  {
   "cell_type": "code",
   "execution_count": 28,
   "metadata": {},
   "outputs": [
    {
     "data": {
      "text/plain": [
       "array(['top', 'tee', 'active', 'sneakersathletic', 'shoe', 'jacket',\n",
       "       'blazerscoatsjackets', 'onepiece', 'dress', 'bottom',\n",
       "       'pantsleggings', 'blazer', 'skirts', 'croptop', 'buttondown',\n",
       "       'handbags', 'accessory', 'tunic', 'sweater', 'pullover',\n",
       "       'turtleneck', 'hooded', 'sweatshirthoodie', 'boots', 'camisole',\n",
       "       'pumpsheels', 'jumpsuit', 'sandals', 'laceup', 'wrap', 'shorts',\n",
       "       'blouse', 'coat', 'cropped', 'puffsleeve', 'knit', 'mulesslides',\n",
       "       'flats', 'cardigan', 'booties', 'peplum', 'mockneck',\n",
       "       'scarveswraps', 'shell', 'tank', 'sunglasses', 'open', 'bodysuit',\n",
       "       'romper', 'vest', 'henley', 'belts', 'sportsbra', 'polo', 'poncho',\n",
       "       'sweatercoat', 'wedges', 'duster', 'oversized', 'slippers',\n",
       "       'bustier'], dtype=object)"
      ]
     },
     "execution_count": 28,
     "metadata": {},
     "output_type": "execute_result"
    }
   ],
   "source": [
    "category_tag.attribute_value.unique()"
   ]
  },
  {
   "cell_type": "code",
   "execution_count": 29,
   "metadata": {},
   "outputs": [
    {
     "data": {
      "text/plain": [
       "array(['category', 'subcategorytop', 'subcategoryshoe',\n",
       "       'subcategoryblazerscoatsandjackets', 'subcategoryonepiece',\n",
       "       'subcategorybottom', 'subcategoryaccessory', 'subcategorysweater',\n",
       "       'subcategorysweatshirtandhoodie'], dtype=object)"
      ]
     },
     "execution_count": 29,
     "metadata": {},
     "output_type": "execute_result"
    }
   ],
   "source": [
    "category_tag.attribute_name.unique()"
   ]
  },
  {
   "cell_type": "code",
   "execution_count": 30,
   "metadata": {},
   "outputs": [],
   "source": [
    "category_tag.loc[category_tag[\"attribute_name\"].str.contains(r\"\\bsubcategorytop|subcategoryblazerscoatsandjackets|subcategorysweater|subcategorysweatshirtandhoodie\\b\"),\"attribute_value\"] = \"top\"\n",
    "category_tag.loc[category_tag[\"attribute_name\"] == 'subcategoryshoe',\"attribute_value\"] = \"shoe\" \n",
    "category_tag.loc[category_tag[\"attribute_name\"] == 'subcategoryonepiece',\"attribute_value\"] = \"onepiece\" \n",
    "category_tag.loc[category_tag[\"attribute_name\"] == 'subcategorybottom',\"attribute_value\"] = \"bottom\" \n",
    "category_tag.loc[category_tag[\"attribute_name\"] == 'subcategoryaccessory',\"attribute_value\"] = \"accessory\" "
   ]
  },
  {
   "cell_type": "code",
   "execution_count": 31,
   "metadata": {},
   "outputs": [
    {
     "data": {
      "text/plain": [
       "array(['top', 'shoe', 'blazerscoatsjackets', 'onepiece', 'bottom',\n",
       "       'accessory', 'sweater', 'sweatshirthoodie'], dtype=object)"
      ]
     },
     "execution_count": 31,
     "metadata": {},
     "output_type": "execute_result"
    }
   ],
   "source": [
    "category_tag.attribute_value.unique()"
   ]
  },
  {
   "cell_type": "code",
   "execution_count": 32,
   "metadata": {},
   "outputs": [
    {
     "data": {
      "text/plain": [
       "array(['top', 'shoe', 'onepiece', 'bottom', 'accessory'], dtype=object)"
      ]
     },
     "execution_count": 32,
     "metadata": {},
     "output_type": "execute_result"
    }
   ],
   "source": [
    "category_tag.loc[category_tag[\"attribute_value\"].str.contains(r\"\\bblazerscoatsjackets|sweater|sweatshirthoodie\\b\"),\"attribute_value\"] = \"top\"\n",
    "category_tag.attribute_value.unique()"
   ]
  },
  {
   "cell_type": "markdown",
   "metadata": {},
   "source": [
    "### Preprocess category values in outfit file"
   ]
  },
  {
   "cell_type": "code",
   "execution_count": 33,
   "metadata": {},
   "outputs": [
    {
     "data": {
      "text/plain": [
       "array(['bottom', 'top', 'accessory1', 'shoe', 'onepiece', 'accessory2',\n",
       "       'accessory3'], dtype=object)"
      ]
     },
     "execution_count": 33,
     "metadata": {},
     "output_type": "execute_result"
    }
   ],
   "source": [
    "outfit.outfit_item_type.unique()"
   ]
  },
  {
   "cell_type": "code",
   "execution_count": 34,
   "metadata": {},
   "outputs": [],
   "source": [
    "outfit.product_full_name = outfit.product_full_name.str.lower()\n",
    "outfit.loc[outfit[\"outfit_item_type\"].str.contains(r\"\\baccessory1|accessory2|accessory3\\b\"),\"outfit_item_type\"] = \"accessory\""
   ]
  },
  {
   "cell_type": "markdown",
   "metadata": {},
   "source": [
    "### Classify products into their most relevant categories"
   ]
  },
  {
   "cell_type": "markdown",
   "metadata": {},
   "source": [
    "\n",
    "Now, we have created two dataframes having category information: outfit and category_tag, which we would first use to match category. Here are three steps.\n",
    "\n",
    "1): if \"product_id\" can be found in outfit dataframe, we can match \"product_category\" values with \"outfit_item_type\" in outfit.\n",
    "\n",
    "2): if product_id can be found in category_tag dataframe, we can match can match \"product_category\" values with \"attribute_value\" in category_tag.\n",
    "\n",
    "3): if both methods above do not work, we would check if \"brand_category\",\"name\",\"description\" values contain key words in clothing words lists corresponding to each category. It is needed to be mentioned that clothing words lists have been created based on information from brand websites.\n",
    "\n",
    "Admittedly, some products, like gift card, can not be reasonably classified into any clothing category, so we just fill their category value with \"UNKNOWN_TOKEN\"."
   ]
  },
  {
   "cell_type": "code",
   "execution_count": 44,
   "metadata": {},
   "outputs": [],
   "source": [
    "product['product_category'] = \"UNKNOWN_TOKEN\"\n",
    "for i in range(len(product)):\n",
    "    productid = product['product_id'].iloc[i]\n",
    "    if productid in outfit.product_id.unique():\n",
    "        product['product_category'].iloc[i] = outfit.loc[outfit[\"product_id\"]== productid,\"outfit_item_type\"].iloc[-1]\n",
    "    elif productid in category_tag.product_id.unique():\n",
    "        product['product_category'].iloc[0] = category_tag.loc[category_tag[\"product_id\"]== productid,\"attribute_value\"].iloc[-1]\n",
    "\n",
    "# \n",
    "for col in ['brand_category','name','description']:\n",
    "    product.loc[(product[\"product_category\"]==\"UNKNOWN_TOKEN\")&(product[col].str.contains(r'\\bpullovers?|croptops?|camisoles?|mockneck\\\n",
    "                |vests?|henley|sportsbra|bustiercoats?|jackets?|cardigans?|blazers?|cardi|(denim\\s?jackets?)|ponchos?\\\n",
    "                |(t?\\s?shirts?)|blouses?|tee|crewneck|polo|tunics?|sweaters?|sweatshirts?|sweat|turtleneck|\\\n",
    "                 ~(sweater\\s?(?:ponchos?|skirts?|dress(?:es)?)?)|(hood(?:ie|y|ed))\\\n",
    "                |bras?|lingeries?|tanks?|sleeves?|tops?\\b')),\"product_category\"]=\"top\"\n",
    "    product.loc[(product[\"product_category\"]==\"UNKNOWN_TOKEN\")&(product[col].str.contains(r'\\b((?:sweater)?\\s?dress(?:es)?)|archive|midi|kimono|caftan|kaftan|sleepdress\\\n",
    "                |rompers?|jumpsuits?|leotards?\\b')),\"product_category\"]=\"onepiece\"\n",
    "    product.loc[(product[\"product_category\"]==\"UNKNOWN_TOKEN\")&(product[col].str.contains(r'\\bpants?|trousers?|joggers?\\\n",
    "                |jeans?|(slim\\s?kick)|((?:faux|cln)?\\s?(?:pkt|pckt))|bootcut|skinny|(kimmie\\s?straight)|slimmy|shorts?|(cropped\\s?leg)\\\n",
    "                |skirts?|(wide\\s?leg)|tapered|(straight\\s?leg)|(skinny\\s?leg)|flared|leggings?\\b')),\"product_category\"]=\"bottom\"\n",
    "    product.loc[(product[\"product_category\"]==\"UNKNOWN_TOKEN\")&(product[col].str.contains(r'\\b(open\\s?toed)|(close\\s?toed)|(pointed\\s?toe)|slingbacks|(pumps\\s?stilettos)|pumps?\\\n",
    "                |(open\\s?toe)|(toe\\s?ring|sandals?)|(mules\\s?slides)|mules?|sneakers?|booties|boots?|blockheels?|(heel(?:s|ed)?)\\\n",
    "                |flats?|shoes?|chucks?\\b')),\"product_category\"]=\"shoe\"\n",
    "    product.loc[(product[\"product_category\"]==\"UNKNOWN_TOKEN\")&(product[col].str.contains(r'\\b(accessor(?:y|ies))|bag|tote?|clutche?|(crossbody(?:bags?)?)\\\n",
    "            |beltbags|shoulderbag?|wallet|bag?|pocket?|purse?|mask?|belt|beltbag?|ring?|necklace?|bracelet|ear\\s?cuff|collar?|jewelry|earrings?\\\n",
    "            |shawl?|scarf?|scarves?|((?:sun)?glasses)|optical|socks?|hat?|stewart\\b')),\"product_category\"]=\"accessory\""
   ]
  },
  {
   "cell_type": "code",
   "execution_count": 45,
   "metadata": {},
   "outputs": [
    {
     "data": {
      "text/plain": [
       "4217"
      ]
     },
     "execution_count": 45,
     "metadata": {},
     "output_type": "execute_result"
    }
   ],
   "source": [
    "len(product.loc[product[\"product_category\"]==\"UNKNOWN_TOKEN\"]) # 4383 products can hardly be classified into a specific category"
   ]
  },
  {
   "cell_type": "markdown",
   "metadata": {},
   "source": [
    "# 5. Export Processed Product Dataframe to csv File"
   ]
  },
  {
   "cell_type": "code",
   "execution_count": 46,
   "metadata": {},
   "outputs": [],
   "source": [
    "product.to_csv(r'C:\\Users\\Carmen\\Desktop\\DSO560\\project\\processed_product.csv', index = False)"
   ]
  }
 ],
 "metadata": {
  "kernelspec": {
   "display_name": "Python 3",
   "language": "python",
   "name": "python3"
  },
  "language_info": {
   "codemirror_mode": {
    "name": "ipython",
    "version": 3
   },
   "file_extension": ".py",
   "mimetype": "text/x-python",
   "name": "python",
   "nbconvert_exporter": "python",
   "pygments_lexer": "ipython3",
   "version": "3.7.6"
  },
  "toc": {
   "base_numbering": 1,
   "nav_menu": {},
   "number_sections": true,
   "sideBar": true,
   "skip_h1_title": false,
   "title_cell": "Table of Contents",
   "title_sidebar": "Contents",
   "toc_cell": false,
   "toc_position": {
    "height": "576px",
    "left": "685px",
    "top": "66px",
    "width": "288px"
   },
   "toc_section_display": true,
   "toc_window_display": true
  }
 },
 "nbformat": 4,
 "nbformat_minor": 5
}
