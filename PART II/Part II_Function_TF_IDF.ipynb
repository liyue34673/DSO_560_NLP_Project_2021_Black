{
 "cells": [
  {
   "cell_type": "markdown",
   "metadata": {},
   "source": [
    "# TF-IDF"
   ]
  },
  {
   "cell_type": "code",
   "execution_count": 1,
   "metadata": {},
   "outputs": [],
   "source": [
    "import pandas as pd\n",
    "import nltk\n",
    "import string\n",
    "from nltk import word_tokenize\n",
    "from nltk.corpus import stopwords\n",
    "from sklearn.feature_extraction.text import CountVectorizer\n",
    "from sklearn.feature_extraction.text import TfidfVectorizer\n",
    "from sklearn.metrics.pairwise import cosine_similarity"
   ]
  },
  {
   "cell_type": "markdown",
   "metadata": {},
   "source": [
    "Import produdct file"
   ]
  },
  {
   "cell_type": "code",
   "execution_count": 2,
   "metadata": {},
   "outputs": [],
   "source": [
    "product = pd.read_csv(\"processed_product.csv\")\n",
    "product['all'] = product['brand_category'].astype(str).replace(\"unknown_token\",\"\").replace(\"unknown\",\"\")+\" \"+\\\n",
    "                product['name'].astype(str).replace(\"unknown_token\",\"\").replace(\"unknown\",\"\")+\" \"+\\\n",
    "                product['description'].astype(str).replace(\"unknown_token\",\"\").replace(\"unknown\",\"\")\n",
    "product['all'] = product['all'].replace(\"\\s\\s\",\"\\s\")"
   ]
  },
  {
   "cell_type": "markdown",
   "metadata": {},
   "source": [
    "Import outfit file and created \"all\" column, combining \"name\",\"brand_category\",\"description\" information"
   ]
  },
  {
   "cell_type": "code",
   "execution_count": 3,
   "metadata": {},
   "outputs": [],
   "source": [
    "outfit = pd.read_csv('outfit_combinations.csv')\n",
    "outfit.product_full_name = outfit.product_full_name.str.lower()\n",
    "outfit.loc[outfit[\"outfit_item_type\"].str.contains(r\"\\baccessory1|accessory2|accessory3\\b\"),\"outfit_item_type\"] = \"accessory\"\n",
    "outfit = outfit[outfit['product_full_name'] != \"#name?\"]"
   ]
  },
  {
   "cell_type": "markdown",
   "metadata": {},
   "source": [
    "Vectorize \"all\" values in \"product\" dataframe and \"product_full_name\" values in \"outfit\" dataframe\n"
   ]
  },
  {
   "cell_type": "code",
   "execution_count": 4,
   "metadata": {},
   "outputs": [],
   "source": [
    "vectorizer_info = TfidfVectorizer(max_features=1000)\n",
    "info_vectorizer= vectorizer_info.fit_transform(product[\"all\"].values)\n",
    "info_tf_idf = pd.DataFrame(info_vectorizer.toarray(), columns=vectorizer_info.get_feature_names()) \n",
    "\n",
    "vectorizer = TfidfVectorizer(max_features=1000)\n",
    "X = vectorizer.fit_transform(outfit.product_full_name.values)\n",
    "tf_idf = pd.DataFrame(X.toarray(), columns=vectorizer.get_feature_names())"
   ]
  },
  {
   "cell_type": "markdown",
   "metadata": {},
   "source": [
    "**Logic of Recommending Outfit:**\n",
    "\n",
    "Calculate the cosine similarity scores between query and all products and find the most similar product, which has highest score.\n",
    "\n",
    "1) If the product with the highest score does not have category value, the query can hardly be assigned to a clothing category and thus we can not give any outfit recommendation.\n",
    "\n",
    "2) Else: if the max score is above good threshold, we would then check if the most similar product in the outfit dataframe. If the product already exists in the outfit, functions would return the rest of its outfit recommendations from outfit table.\n",
    "\n",
    "3) Else: if the query can match a similar product in outfit table based on cosine similarity, functions would return that product's combo in outfit table.\n",
    "\n",
    "4) Else: if the query can match two products from different categories in product table based on cosine similarity, functions would return these two products with the most similar product as outfit.\n",
    "\n",
    "Good Threshold for all cosine similarity measurements is 0.4."
   ]
  },
  {
   "cell_type": "code",
   "execution_count": 5,
   "metadata": {},
   "outputs": [],
   "source": [
    "def recommend_outfit(query):\n",
    "    \n",
    "    words = nltk.word_tokenize(query)\n",
    "    newWords = [word.lower() for word in words if (word.lower() not in string.punctuation)&(word.lower() not in stopwords.words(\"English\"))]\n",
    "    query = \" \".join(newWords)\n",
    "    vectorizer_q = TfidfVectorizer(max_features=1000)\n",
    "    query_vectorizer= vectorizer_q.fit_transform(pd.Series(query))\n",
    "    query_tf_idf = pd.DataFrame(query_vectorizer.toarray(), columns=vectorizer_q.get_feature_names()) \n",
    "    \n",
    "    info_query = pd.concat([info_tf_idf,query_tf_idf],sort=True).fillna(0)\n",
    "    score1 = []\n",
    "    for i in range(len(info_tf_idf)):\n",
    "        score1.append(cosine_similarity([info_query.iloc[i]], [info_query.iloc[-1]])[0][0])\n",
    "        \n",
    "    product_score = product.copy()\n",
    "    product_score['similarity_score'] = score1\n",
    "    product_score.sort_values(\"similarity_score\",inplace=True,ascending=False)\n",
    "    \n",
    "    productid = product_score.product_id.iloc[0]     \n",
    "    category = product_score.product_category.iloc[0]\n",
    "    \n",
    "    if category == \"UNKNOWN_TOKEN\":\n",
    "        print(\"Sorry, we cannot recommend an appropriate outfit. Maybe you can try another input.\")\n",
    "    \n",
    "    elif (productid in outfit.product_id.values) and (product_score['similarity_score'].max()>0.4):\n",
    "        best_outfit  = outfit_score[outfit_score['outfit'] == product_id].outfit_id[0].iloc[0]\n",
    "        output = outfit[outfit[\"outfit_id\"]==best_outfit].copy().drop(columns = ['outfit_id']).reset_index(drop=True)\n",
    "        print(\"Wow! You get a perfect outfit!\")\n",
    "        for i in range(len(output)):\n",
    "            print(output['outfit_item_type'].iloc[i],\":\\n\\tbrand: \",output['brand'].iloc[i],\"\\n\\tproduct: \",output['product_full_name'].iloc[i])\n",
    "        \n",
    "    else:\n",
    "        # calculate similarity scores\n",
    "        X_query = pd.concat([tf_idf,query_tf_idf],sort=True).fillna(0)\n",
    "        score2 = []\n",
    "        for i in range(len(X_query)-1):\n",
    "            score2.append(cosine_similarity([X_query.iloc[i]], [X_query.iloc[-1]])[0][0])\n",
    "\n",
    "        # find the best combo\n",
    "        outfit_score = outfit.copy()\n",
    "        outfit_score['similarity_score'] = score2\n",
    "        \n",
    "        if outfit_score['similarity_score'].max()>0.4:\n",
    "            best_outfit  = outfit_score[outfit_score['similarity_score'] == outfit_score['similarity_score'].max()].outfit_id.iloc[0]\n",
    "            output = outfit[outfit['outfit_id']==best_outfit].copy().drop(columns = ['outfit_id']).reset_index(drop=True)\n",
    "            print(\"Here is the best outfit we can recommend for you. Hope you like it~\")\n",
    "            for i in range(len(output)):\n",
    "                print(output['outfit_item_type'].iloc[i],\":\\n\\tbrand: \",output['brand'].iloc[i],\"\\n\\tproduct: \",output['product_full_name'].iloc[i])\n",
    "            \n",
    "        else:\n",
    "            \n",
    "            productid2 = product_score[(product_score.product_category!= catgory)&(product_score.product_category!=\"UNKNOWN_TOKEN\")].product_id.iloc[0]     \n",
    "            catgory2 = product_score[product_score['product_id'] == productid2].product_category.iloc[0]\n",
    "            \n",
    "            productid3 = product_score[(product_score.product_category!= catgory)&(product_score.product_category!= catgory2)\\\n",
    "                                         &(product_score.product_category!=\"UNKNOWN_TOKEN\")].product_id.iloc[0]     \n",
    "            catgory3 = product_score[product_score['product_id'] == productid2].product_category.iloc[0]\n",
    "            \n",
    "            if product_score[product_score['product_id']==productid2].similarity_score.iloc[0]>0.4 \\\n",
    "            and product_score[product_score['product_id']==productid3].similarity_score.iloc[0]>0.4:\n",
    "                output = product_score[(product_score['product_id']==productid)|(product_score['product_id']==productid2)|\\\n",
    "                                         (product_score['product_id']==productid3)]\\\n",
    "                        .rename(columns={'product_category':'outfit_item_type', 'name':'product_full_name'})\n",
    "                print(\"Here is the best outfit we can recommend for you. Hope you like it~\")\n",
    "                for i in range(len(output)):\n",
    "                    print(output['outfit_item_type'].iloc[i],\":\\n\\tbrand: \",output['brand'].iloc[i],\"\\n\\tproduct: \",output['product_full_name'].iloc[i])\n",
    "            else:\n",
    "                print(\"Sorry, we cannot recommend an appropriate outfit. Maybe you can try another input.\")          "
   ]
  },
  {
   "cell_type": "markdown",
   "metadata": {},
   "source": [
    "**Example 1**"
   ]
  },
  {
   "cell_type": "code",
   "execution_count": 6,
   "metadata": {},
   "outputs": [
    {
     "name": "stdout",
     "output_type": "stream",
     "text": [
      "Here is the best outfit we can recommend for you. Hope you like it~\n",
      "top :\n",
      "\tbrand:  Jacquemus \n",
      "\tproduct:  double-layer paneled blouse\n",
      "shoe :\n",
      "\tbrand:  COACH \n",
      "\tproduct:  heather c-chain leopard-print calf hair & leather sandals\n",
      "bottom :\n",
      "\tbrand:  Prada \n",
      "\tproduct:  cropped wool straight-leg pants\n",
      "accessory :\n",
      "\tbrand:  Chylak \n",
      "\tproduct:  croc-effect leather belt bag\n",
      "accessory :\n",
      "\tbrand:  LE 17 SEPTEMBRE \n",
      "\tproduct:  cotton-blend twill trench coat\n"
     ]
    }
   ],
   "source": [
    "recommend_outfit(\"slim fitting, straight leg pant with a center back zipper and slightly cropped leg\")"
   ]
  },
  {
   "cell_type": "markdown",
   "metadata": {},
   "source": [
    "**Example 2**"
   ]
  },
  {
   "cell_type": "code",
   "execution_count": 7,
   "metadata": {},
   "outputs": [
    {
     "name": "stdout",
     "output_type": "stream",
     "text": [
      "Here is the best outfit we can recommend for you. Hope you like it~\n",
      "bottom :\n",
      "\tbrand:  Goldsign \n",
      "\tproduct:  the high rise slim\n",
      "shoe :\n",
      "\tbrand:  GOLDEN GOOSE \n",
      "\tproduct:  superstar low top sneaker\n",
      "top :\n",
      "\tbrand:  MADEWELL \n",
      "\tproduct:  whisper cotton ribbed crewneck t-shirt\n"
     ]
    }
   ],
   "source": [
    "recommend_outfit(\"pink shirt crewneck\")"
   ]
  },
  {
   "cell_type": "markdown",
   "metadata": {},
   "source": [
    "**Example 3**"
   ]
  },
  {
   "cell_type": "code",
   "execution_count": 8,
   "metadata": {},
   "outputs": [
    {
     "name": "stdout",
     "output_type": "stream",
     "text": [
      "Here is the best outfit we can recommend for you. Hope you like it~\n",
      "bottom :\n",
      "\tbrand:  Re/done \n",
      "\tproduct:  high-rise straight-leg jeans\n",
      "shoe :\n",
      "\tbrand:  Alexandre Birman \n",
      "\tproduct:  clarita bow-embellished suede sandals\n",
      "top :\n",
      "\tbrand:  Ulla Johnson \n",
      "\tproduct:  harper cotton eyelet blouse\n"
     ]
    }
   ],
   "source": [
    "recommend_outfit(\"high rise straight leg jeans\")"
   ]
  }
 ],
 "metadata": {
  "kernelspec": {
   "display_name": "Python 3",
   "language": "python",
   "name": "python3"
  },
  "language_info": {
   "codemirror_mode": {
    "name": "ipython",
    "version": 3
   },
   "file_extension": ".py",
   "mimetype": "text/x-python",
   "name": "python",
   "nbconvert_exporter": "python",
   "pygments_lexer": "ipython3",
   "version": "3.7.6"
  }
 },
 "nbformat": 4,
 "nbformat_minor": 4
}
